{
 "cells": [
  {
   "cell_type": "code",
   "execution_count": 173,
   "metadata": {},
   "outputs": [],
   "source": [
    "import pandas as pd\n",
    "import numpy as np\n",
    "import psycopg2\n",
    "from analysys_funcs import *\n",
    "import seaborn as sns\n",
    "import matplotlib.pyplot as plt"
   ]
  },
  {
   "cell_type": "code",
   "execution_count": 154,
   "metadata": {},
   "outputs": [],
   "source": [
    "# database connection\n",
    "\n",
    "conn = psycopg2.connect(host='ep-black-pond-a2ydwdvs.eu-central-1.aws.neon.tech', database='Akademdb', user='Elizar54', password='XUpC1QOnGvA4')\n",
    "cur = conn.cursor()"
   ]
  },
  {
   "cell_type": "code",
   "execution_count": 155,
   "metadata": {},
   "outputs": [
    {
     "name": "stderr",
     "output_type": "stream",
     "text": [
      "C:\\Users\\eliza\\AppData\\Local\\Temp\\ipykernel_30676\\3676301174.py:3: UserWarning: pandas only supports SQLAlchemy connectable (engine/connection) or database string URI or sqlite3 DBAPI2 connection. Other DBAPI2 objects are not tested. Please consider using SQLAlchemy.\n",
      "  df = pd.read_sql_query('select * from flats', conn)\n"
     ]
    }
   ],
   "source": [
    "# getting data\n",
    "\n",
    "df = pd.read_sql_query('select * from flats', conn)"
   ]
  },
  {
   "cell_type": "code",
   "execution_count": 156,
   "metadata": {},
   "outputs": [],
   "source": [
    "# general preproccessing\n",
    "\n",
    "df['price'] = df['price'].apply(price_corr)\n",
    "df.drop('id', inplace=True, axis=1)\n",
    "df = df.drop_duplicates(keep=False)\n",
    "\n",
    "for column in ['total_square', 'living_sq', 'kitchen_sq']:\n",
    "    df[column] = df[column].apply(square_corr)\n",
    "\n",
    "df['floor'] = df['floor'].apply(floor_corr)\n",
    "df['ceil_height'] = df['ceil_height'].apply(lambda x: float(x.replace(',', '.').split()[0]) if x != 'None' else np.nan)\n",
    "df['entrance'] = df['entrance'].apply(lambda x: int(x) if x != 'None' else np.nan)\n",
    "\n",
    "df.drop(['warning', 'trash', 'barriers'], inplace=True, axis=1)\n",
    "\n",
    "df = df.replace('None', np.nan)\n",
    "\n",
    "df.dropna(thresh=7)\n",
    "\n",
    "df['district'] = df['address'].apply(lambda x: x.split()[4])\n",
    "\n",
    "df.drop('address', inplace=True, axis=1)\n",
    "\n",
    "df['warm'].fillna(df['warm'].mode()[0], inplace=True)\n",
    "df['home_type'].fillna(df['home_type'].mode()[0], inplace=True)\n",
    "df['metro'] = df['metro'].isna().apply(lambda x: 'Yes' if x == False  else 'No')"
   ]
  },
  {
   "cell_type": "code",
   "execution_count": 165,
   "metadata": {},
   "outputs": [],
   "source": [
    "# separating old and new flats\n",
    "\n",
    "df_new = df[df['year'].isna() == False]\n",
    "df_old = df[df['year'].isna() == True]"
   ]
  },
  {
   "cell_type": "code",
   "execution_count": 166,
   "metadata": {},
   "outputs": [],
   "source": [
    "# working with nan values and feature engineering for old flats\n",
    "\n",
    "df_old = df_old.dropna(subset=['living_sq', 'kitchen_sq'])\n",
    "df_old.drop(['decor', 'year', 'floor'], axis=1, inplace=True)\n",
    "\n",
    "df_old['elevators'] = df_old['elevators'].fillna(df_old['elevators'].mode()[0])\n",
    "df_old['balcony'] = df_old['balcony'].fillna(df_old['balcony'].mode()[0])\n",
    "df_old['toilets'] = df_old['toilets'].fillna(df_old['toilets'].mode()[0])\n",
    "df_old['window_view'] = df_old['window_view'].fillna(df_old['window_view'].mode()[0])\n",
    "df_old['ceil_height'] = df_old['ceil_height'].fillna(df_old['ceil_height'].mode()[0])\n",
    "df_old['entrance'] = df_old['entrance'].fillna(df_old['entrance'].mode()[0])\n",
    "df_old['ceil_height'] = df_old['ceil_height'].apply(lambda x: x if x != 0 else 2.7)\n",
    "\n",
    "df_old['toilets_united'] = df_old['toilets'].apply(toilet_single)\n",
    "df_old['toilets_sep'] = df_old['toilets'].apply(toilet_not_sngl)\n",
    "df_old.drop('toilets', axis=1, inplace=True)\n",
    "\n",
    "df_old['big_elev'] = df_old['elevators'].apply(big_elevators)\n",
    "df_old['little_elev'] = df_old['elevators'].apply(lit_elevators)\n",
    "df_old.drop('elevators', axis=1, inplace=True)\n",
    "\n",
    "df_old['balcon'] = df_old['balcony'].apply(lambda x: int(x.split()[0]) if 'балкон' in x else 0)\n",
    "df_old['lodgia'] = df_old['balcony'].apply(lambda x: int(x.split()[0]) if 'лоджия' in x else 0)\n",
    "df_old.drop('balcony', axis=1, inplace=True)\n",
    "\n",
    "df_old['warm'] = df_old['warm'].apply(lambda x: 'Центральное' if x == 'Нет информации' else x)\n",
    "\n",
    "df_old_dummy = pd.get_dummies(df_old, columns=['rented', 'metro', 'window_view', 'home_type', 'warm', 'district'], dtype = 'float64')"
   ]
  },
  {
   "cell_type": "code",
   "execution_count": 167,
   "metadata": {},
   "outputs": [],
   "source": [
    "df_new = df_new.dropna(subset=['living_sq', 'kitchen_sq'])\n",
    "df_new.drop(['decor', 'year', 'floor', 'entrance', 'toilets', 'balcony', 'rented', 'window_view'], axis=1, inplace=True)\n",
    "\n",
    "df_new['elevators'] = df_new['elevators'].fillna(df_new['elevators'].mode()[0])\n",
    "\n",
    "df_new['ceil_height'] = df_new['ceil_height'].fillna(df_new['ceil_height'].mode()[0])\n",
    "\n",
    "df_new['ceil_height'] = df_new['ceil_height'].apply(lambda x: x if x != 0 else 2.7)\n",
    "\n",
    "df_new['big_elev'] = df_new['elevators'].apply(big_elevators)\n",
    "df_new['little_elev'] = df_new['elevators'].apply(lit_elevators)\n",
    "df_new.drop('elevators', axis=1, inplace=True)\n",
    "\n",
    "df_new['warm'] = df_new['warm'].apply(lambda x: 'Центральное' if x == 'Нет информации' else x)\n",
    "\n",
    "df_new_dummy = pd.get_dummies(df_new, columns=['home_type', 'warm', 'district', 'metro'], dtype = 'float64')"
   ]
  },
  {
   "cell_type": "code",
   "execution_count": null,
   "metadata": {},
   "outputs": [],
   "source": [
    "# EDA (old flats)\n",
    "\n",
    "plt.figure(figsize=(10, 6))\n",
    "\n",
    "plt.xlabel('Площадь квартиры')\n",
    "plt.ylabel('Цена квартиры')\n",
    "\n",
    "sns.scatter(x=)\n"
   ]
  }
 ],
 "metadata": {
  "kernelspec": {
   "display_name": "Python 3",
   "language": "python",
   "name": "python3"
  },
  "language_info": {
   "codemirror_mode": {
    "name": "ipython",
    "version": 3
   },
   "file_extension": ".py",
   "mimetype": "text/x-python",
   "name": "python",
   "nbconvert_exporter": "python",
   "pygments_lexer": "ipython3",
   "version": "3.11.5"
  }
 },
 "nbformat": 4,
 "nbformat_minor": 2
}
