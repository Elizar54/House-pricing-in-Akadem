{
 "cells": [
  {
   "cell_type": "code",
   "execution_count": 1,
   "metadata": {
    "collapsed": true
   },
   "outputs": [],
   "source": [
    "import pandas as pd\n",
    "from sklearn.model_selection import train_test_split\n",
    "import statsmodels.api as sm\n",
    "from sklearn.metrics import mean_squared_error, mean_absolute_error, r2_score, mean_absolute_percentage_error\n",
    "import matplotlib.pyplot as plt\n",
    "import numpy as np\n",
    "import plotly.express as px\n",
    "from adjdatatools.preprocessing import AdjustedScaler\n"
   ]
  },
  {
   "cell_type": "code",
   "execution_count": 2,
   "metadata": {
    "collapsed": false
   },
   "outputs": [],
   "source": [
    "df = pd.read_excel('Kvart_Sovet.xlsx')"
   ]
  },
  {
   "cell_type": "code",
   "execution_count": null,
   "metadata": {
    "collapsed": false
   },
   "outputs": [],
   "source": [
    "for i in range(len(df['street'])):\n",
    "    if df['street'][i] == 'Академика Коптюга пр-кт' or df['street'][i] == 'Академика_Коптюга':\n",
    "        df['street'][i] = 'Академика_Коптюга_проспект'\n",
    "    elif df['street'][i] == 'Морской пр-кт':\n",
    "        df['street'][i] = 'Морской_проспект'\n",
    "    elif df['street'][i] == 'Молодeжи б-р' or df['street'][i] == 'Молодёжи б-р' or df['street'][i] == 'Молодёжи бульвар' or df['street'][i] == 'Молодежи_б-р':\n",
    "        df['street'][i] = 'Молодежи_бульвар'\n",
    "    elif df['street'][i] == 'Ученых':\n",
    "        df['street'][i] = 'Учёных'\n",
    "    elif df['street'][i] == 'Академика_Иванова':\n",
    "        df['street'][i] = 'Иванова'\n",
    "for i in range(len(df['street'])):\n",
    "    s = ''\n",
    "    a = df['street'][i].split(' ')\n",
    "    if len(a) != 1:\n",
    "        for j in range(2):\n",
    "            if j == 0:\n",
    "                s += a[j] + '_'\n",
    "            else:\n",
    "                s += a[j]\n",
    "        df['street'][i] = s"
   ]
  },
  {
   "cell_type": "code",
   "execution_count": 5,
   "metadata": {
    "collapsed": false
   },
   "outputs": [
    {
     "data": {
      "text/plain": [
       "{'40_лет',\n",
       " 'Академика_Коптюга_проспект',\n",
       " 'Академическая',\n",
       " 'Арбузова',\n",
       " 'Балтийская',\n",
       " 'Барьерная',\n",
       " 'Благовещенская',\n",
       " 'Боровая_Партия',\n",
       " 'Варшавская',\n",
       " 'Вахтангова',\n",
       " 'Весенний_проезд',\n",
       " 'Ветлужская',\n",
       " 'Вяземская',\n",
       " 'Героев_Труда',\n",
       " 'Гидромонтажная',\n",
       " 'Демакова',\n",
       " 'Детский_проезд',\n",
       " 'Динамовцев',\n",
       " 'Добровольческая',\n",
       " 'Жемчужная',\n",
       " 'Зеленая_Горка',\n",
       " 'Золотодолинская',\n",
       " 'Иванова',\n",
       " 'Ивлева',\n",
       " 'Ильича',\n",
       " 'Лесосечная',\n",
       " 'Миргородская_2-я',\n",
       " 'Молодежи_бульвар',\n",
       " 'Молодости',\n",
       " 'Морской_проспект',\n",
       " 'Мусы_Джалиля',\n",
       " 'Николаева',\n",
       " 'Новоморская',\n",
       " 'Одоевского',\n",
       " 'Печатников',\n",
       " 'Пирогова',\n",
       " 'Полевая',\n",
       " 'Правды',\n",
       " 'Приморская',\n",
       " 'Разъездная',\n",
       " 'Российская',\n",
       " 'Рубиновая',\n",
       " 'Русская',\n",
       " 'Рыбацкая',\n",
       " 'Садовый',\n",
       " 'Садовый_проезд',\n",
       " 'Сердюкова',\n",
       " 'Сиреневая',\n",
       " 'Смоленская',\n",
       " 'Солнечногорская',\n",
       " 'Софийская',\n",
       " 'Терешковой',\n",
       " 'Тружеников',\n",
       " 'Учёных',\n",
       " 'Цветной_проезд',\n",
       " 'Часовая',\n",
       " 'Шатурская',\n",
       " 'Шлюзовая',\n",
       " 'Экваторная',\n",
       " 'Энгельса'}"
      ]
     },
     "execution_count": 5,
     "metadata": {},
     "output_type": "execute_result"
    }
   ],
   "source": [
    "set(df['street'].to_list())"
   ]
  },
  {
   "cell_type": "code",
   "execution_count": 6,
   "metadata": {},
   "outputs": [],
   "source": [
    "df.loc[df.sp_kitchen == '-', 'sp_kitchen'] = np.nan\n",
    "kvart_new = df[df.sp_kitchen.notna()]"
   ]
  },
  {
   "cell_type": "code",
   "execution_count": 7,
   "metadata": {},
   "outputs": [],
   "source": [
    "kvart_new = kvart_new[(kvart_new.sp_total < 120) & (kvart_new.price <= 15000)]"
   ]
  },
  {
   "cell_type": "code",
   "execution_count": 8,
   "metadata": {},
   "outputs": [
    {
     "data": {
      "application/vnd.plotly.v1+json": {
       "config": {
        "plotlyServerURL": "https://plot.ly"
       },
       "data": [
        {
         "alignmentgroup": "True",
         "hovertemplate": "sp_total=%{y}<extra></extra>",
         "legendgroup": "",
         "marker": {
          "color": "#636efa"
         },
         "name": "",
         "notched": false,
         "offsetgroup": "",
         "orientation": "v",
         "showlegend": false,
         "type": "box",
         "x0": " ",
         "xaxis": "x",
         "y": [
          32,
          54.5,
          59.7,
          41.4,
          58.8,
          34.5,
          32.3,
          39,
          53,
          86,
          45,
          33,
          63,
          75.3,
          63,
          42,
          39,
          70.2,
          99,
          64.3,
          98.4,
          57.7,
          63.5,
          49,
          31.9,
          60.7,
          65.7,
          64.7,
          31.8,
          49.1,
          75.8,
          37.4,
          37,
          48.1,
          43.1,
          53.9,
          60.1,
          37.5,
          43.6,
          57.5,
          53.3,
          37.5,
          59,
          44.6,
          83,
          44,
          39,
          18,
          37,
          45.6,
          74.6,
          61.4,
          33.6,
          42.9,
          43.1,
          57.2,
          45.4,
          20.3,
          59.9,
          44.8,
          64.8,
          65.67,
          34.5,
          76,
          74.4,
          31.4,
          57.2,
          42.2,
          59.2,
          62,
          75,
          79,
          54,
          51,
          48,
          49.4,
          67,
          36,
          40.5,
          31,
          98,
          63,
          43.2,
          37,
          46,
          31.5,
          52.5,
          63,
          62,
          47,
          52,
          63,
          88,
          65,
          45.9,
          81,
          47,
          75,
          54,
          78,
          38.8,
          89.7,
          110,
          35.6,
          45,
          29,
          64.6,
          28.9,
          82.66,
          27.5,
          54,
          38.6,
          34,
          67,
          48,
          70.2,
          32,
          54,
          54,
          74,
          64.2,
          37.8,
          74,
          59,
          52,
          75,
          80,
          65,
          54,
          74,
          79,
          83,
          43.4,
          32.4,
          60,
          64,
          74,
          84,
          63,
          76.2,
          54,
          65.8,
          85,
          44.4,
          30,
          60.6,
          101,
          63,
          73,
          46.19,
          40.3,
          64,
          62,
          83,
          38.6,
          91,
          55.9,
          65.3,
          46.7,
          59.8,
          43.3,
          67.3,
          34,
          40.3,
          65,
          37,
          30.7,
          37.7,
          29.9,
          47.3,
          29.16,
          25.8,
          61.6,
          55,
          31,
          24.4,
          33,
          39,
          28.7,
          37.8,
          31.4,
          39.9,
          47.5,
          29.7,
          54.9,
          48.8,
          31.4,
          32.4,
          26.2,
          37.3,
          39.15,
          39.15,
          39.12,
          39.15,
          39.12,
          38.55,
          38.54,
          38.55,
          38.54,
          31.4,
          20.8,
          36.7,
          26.2,
          30.5,
          28.9,
          37.9,
          31.7,
          25.1,
          32.1,
          30.9,
          40,
          29.5,
          44.9,
          43.2,
          56,
          42.8,
          72.8,
          65.1,
          72.2,
          43.3,
          54.2,
          54.6,
          43,
          73.8,
          46.8,
          57.9,
          52,
          43.1,
          41.8,
          44.1,
          42.4,
          78.2,
          48.1,
          54,
          55.9,
          59.6,
          42.8,
          47.5,
          61.63,
          70.5,
          42.3,
          57.7,
          54.9,
          44.5,
          49.5,
          72.4,
          44,
          55.8,
          57.1,
          51.5,
          57.9,
          44,
          44.4,
          44.3,
          40.6,
          47.9,
          46.6,
          48.3,
          42,
          60.71,
          61.6,
          50.8,
          44,
          56.2,
          46,
          70.95,
          44.9,
          64.53,
          72.7,
          42.8,
          53.2,
          40.8,
          65.3,
          42.4,
          43.7,
          52.1,
          60.8,
          113.9,
          84,
          38.4,
          80,
          67.1,
          58.9,
          85.1,
          65.3,
          58.1,
          76.2,
          80,
          55.4,
          78.7,
          106.8,
          76.2,
          60.4,
          60.4,
          58.3,
          65.1,
          74,
          58.8,
          63.5,
          58,
          62.9,
          73.4,
          58.8,
          42.7,
          57.5,
          40.6,
          110.7,
          62.8,
          118.3,
          61.7,
          64.9,
          64.2,
          58.2,
          56.5,
          62.9,
          60.9,
          91.3,
          58.4,
          60.8,
          62.7,
          63.1,
          61,
          60.3,
          78.4,
          101.1,
          110.7,
          118.3,
          61,
          69.8,
          71.3,
          74.6,
          31,
          57,
          31,
          26,
          44,
          44,
          43,
          45,
          53,
          78,
          63,
          74,
          58.3,
          54,
          46,
          57,
          37.5,
          42.5,
          58.6,
          60.4,
          51.8,
          37.4,
          54,
          54,
          69.8,
          78,
          44,
          47,
          56.3,
          67.23,
          62,
          65.4,
          80,
          71,
          56.74,
          44,
          70.95,
          30.8,
          72,
          29,
          29.5,
          26,
          40.7,
          58.7,
          36,
          60.4,
          40.7,
          38.3,
          76.7,
          46.8,
          46.8,
          37,
          39,
          42.4,
          34,
          63,
          60.6,
          59,
          40.5,
          64,
          58.6,
          31.9,
          48.3,
          61,
          38.1,
          32.2,
          51.6,
          33.1,
          28.7,
          35,
          31,
          32,
          43.3,
          44.5,
          61,
          45,
          31.1,
          41.4,
          59,
          71,
          32,
          71,
          97,
          43.4,
          35.3,
          63.3,
          55.7,
          63,
          60,
          64,
          33.6,
          51.5,
          38.8,
          30.3,
          43,
          73,
          37.4,
          77.1,
          39.5,
          57.3,
          32,
          64,
          44,
          71.1,
          52,
          35,
          61.7,
          32,
          43.1,
          31,
          72
         ],
         "y0": " ",
         "yaxis": "y"
        }
       ],
       "layout": {
        "boxmode": "group",
        "legend": {
         "orientation": "h",
         "tracegroupgap": 0
        },
        "margin": {
         "t": 60
        },
        "template": {
         "data": {
          "bar": [
           {
            "error_x": {
             "color": "#2a3f5f"
            },
            "error_y": {
             "color": "#2a3f5f"
            },
            "marker": {
             "line": {
              "color": "#E5ECF6",
              "width": 0.5
             },
             "pattern": {
              "fillmode": "overlay",
              "size": 10,
              "solidity": 0.2
             }
            },
            "type": "bar"
           }
          ],
          "barpolar": [
           {
            "marker": {
             "line": {
              "color": "#E5ECF6",
              "width": 0.5
             },
             "pattern": {
              "fillmode": "overlay",
              "size": 10,
              "solidity": 0.2
             }
            },
            "type": "barpolar"
           }
          ],
          "carpet": [
           {
            "aaxis": {
             "endlinecolor": "#2a3f5f",
             "gridcolor": "white",
             "linecolor": "white",
             "minorgridcolor": "white",
             "startlinecolor": "#2a3f5f"
            },
            "baxis": {
             "endlinecolor": "#2a3f5f",
             "gridcolor": "white",
             "linecolor": "white",
             "minorgridcolor": "white",
             "startlinecolor": "#2a3f5f"
            },
            "type": "carpet"
           }
          ],
          "choropleth": [
           {
            "colorbar": {
             "outlinewidth": 0,
             "ticks": ""
            },
            "type": "choropleth"
           }
          ],
          "contour": [
           {
            "colorbar": {
             "outlinewidth": 0,
             "ticks": ""
            },
            "colorscale": [
             [
              0,
              "#0d0887"
             ],
             [
              0.1111111111111111,
              "#46039f"
             ],
             [
              0.2222222222222222,
              "#7201a8"
             ],
             [
              0.3333333333333333,
              "#9c179e"
             ],
             [
              0.4444444444444444,
              "#bd3786"
             ],
             [
              0.5555555555555556,
              "#d8576b"
             ],
             [
              0.6666666666666666,
              "#ed7953"
             ],
             [
              0.7777777777777778,
              "#fb9f3a"
             ],
             [
              0.8888888888888888,
              "#fdca26"
             ],
             [
              1,
              "#f0f921"
             ]
            ],
            "type": "contour"
           }
          ],
          "contourcarpet": [
           {
            "colorbar": {
             "outlinewidth": 0,
             "ticks": ""
            },
            "type": "contourcarpet"
           }
          ],
          "heatmap": [
           {
            "colorbar": {
             "outlinewidth": 0,
             "ticks": ""
            },
            "colorscale": [
             [
              0,
              "#0d0887"
             ],
             [
              0.1111111111111111,
              "#46039f"
             ],
             [
              0.2222222222222222,
              "#7201a8"
             ],
             [
              0.3333333333333333,
              "#9c179e"
             ],
             [
              0.4444444444444444,
              "#bd3786"
             ],
             [
              0.5555555555555556,
              "#d8576b"
             ],
             [
              0.6666666666666666,
              "#ed7953"
             ],
             [
              0.7777777777777778,
              "#fb9f3a"
             ],
             [
              0.8888888888888888,
              "#fdca26"
             ],
             [
              1,
              "#f0f921"
             ]
            ],
            "type": "heatmap"
           }
          ],
          "heatmapgl": [
           {
            "colorbar": {
             "outlinewidth": 0,
             "ticks": ""
            },
            "colorscale": [
             [
              0,
              "#0d0887"
             ],
             [
              0.1111111111111111,
              "#46039f"
             ],
             [
              0.2222222222222222,
              "#7201a8"
             ],
             [
              0.3333333333333333,
              "#9c179e"
             ],
             [
              0.4444444444444444,
              "#bd3786"
             ],
             [
              0.5555555555555556,
              "#d8576b"
             ],
             [
              0.6666666666666666,
              "#ed7953"
             ],
             [
              0.7777777777777778,
              "#fb9f3a"
             ],
             [
              0.8888888888888888,
              "#fdca26"
             ],
             [
              1,
              "#f0f921"
             ]
            ],
            "type": "heatmapgl"
           }
          ],
          "histogram": [
           {
            "marker": {
             "pattern": {
              "fillmode": "overlay",
              "size": 10,
              "solidity": 0.2
             }
            },
            "type": "histogram"
           }
          ],
          "histogram2d": [
           {
            "colorbar": {
             "outlinewidth": 0,
             "ticks": ""
            },
            "colorscale": [
             [
              0,
              "#0d0887"
             ],
             [
              0.1111111111111111,
              "#46039f"
             ],
             [
              0.2222222222222222,
              "#7201a8"
             ],
             [
              0.3333333333333333,
              "#9c179e"
             ],
             [
              0.4444444444444444,
              "#bd3786"
             ],
             [
              0.5555555555555556,
              "#d8576b"
             ],
             [
              0.6666666666666666,
              "#ed7953"
             ],
             [
              0.7777777777777778,
              "#fb9f3a"
             ],
             [
              0.8888888888888888,
              "#fdca26"
             ],
             [
              1,
              "#f0f921"
             ]
            ],
            "type": "histogram2d"
           }
          ],
          "histogram2dcontour": [
           {
            "colorbar": {
             "outlinewidth": 0,
             "ticks": ""
            },
            "colorscale": [
             [
              0,
              "#0d0887"
             ],
             [
              0.1111111111111111,
              "#46039f"
             ],
             [
              0.2222222222222222,
              "#7201a8"
             ],
             [
              0.3333333333333333,
              "#9c179e"
             ],
             [
              0.4444444444444444,
              "#bd3786"
             ],
             [
              0.5555555555555556,
              "#d8576b"
             ],
             [
              0.6666666666666666,
              "#ed7953"
             ],
             [
              0.7777777777777778,
              "#fb9f3a"
             ],
             [
              0.8888888888888888,
              "#fdca26"
             ],
             [
              1,
              "#f0f921"
             ]
            ],
            "type": "histogram2dcontour"
           }
          ],
          "mesh3d": [
           {
            "colorbar": {
             "outlinewidth": 0,
             "ticks": ""
            },
            "type": "mesh3d"
           }
          ],
          "parcoords": [
           {
            "line": {
             "colorbar": {
              "outlinewidth": 0,
              "ticks": ""
             }
            },
            "type": "parcoords"
           }
          ],
          "pie": [
           {
            "automargin": true,
            "type": "pie"
           }
          ],
          "scatter": [
           {
            "fillpattern": {
             "fillmode": "overlay",
             "size": 10,
             "solidity": 0.2
            },
            "type": "scatter"
           }
          ],
          "scatter3d": [
           {
            "line": {
             "colorbar": {
              "outlinewidth": 0,
              "ticks": ""
             }
            },
            "marker": {
             "colorbar": {
              "outlinewidth": 0,
              "ticks": ""
             }
            },
            "type": "scatter3d"
           }
          ],
          "scattercarpet": [
           {
            "marker": {
             "colorbar": {
              "outlinewidth": 0,
              "ticks": ""
             }
            },
            "type": "scattercarpet"
           }
          ],
          "scattergeo": [
           {
            "marker": {
             "colorbar": {
              "outlinewidth": 0,
              "ticks": ""
             }
            },
            "type": "scattergeo"
           }
          ],
          "scattergl": [
           {
            "marker": {
             "colorbar": {
              "outlinewidth": 0,
              "ticks": ""
             }
            },
            "type": "scattergl"
           }
          ],
          "scattermapbox": [
           {
            "marker": {
             "colorbar": {
              "outlinewidth": 0,
              "ticks": ""
             }
            },
            "type": "scattermapbox"
           }
          ],
          "scatterpolar": [
           {
            "marker": {
             "colorbar": {
              "outlinewidth": 0,
              "ticks": ""
             }
            },
            "type": "scatterpolar"
           }
          ],
          "scatterpolargl": [
           {
            "marker": {
             "colorbar": {
              "outlinewidth": 0,
              "ticks": ""
             }
            },
            "type": "scatterpolargl"
           }
          ],
          "scatterternary": [
           {
            "marker": {
             "colorbar": {
              "outlinewidth": 0,
              "ticks": ""
             }
            },
            "type": "scatterternary"
           }
          ],
          "surface": [
           {
            "colorbar": {
             "outlinewidth": 0,
             "ticks": ""
            },
            "colorscale": [
             [
              0,
              "#0d0887"
             ],
             [
              0.1111111111111111,
              "#46039f"
             ],
             [
              0.2222222222222222,
              "#7201a8"
             ],
             [
              0.3333333333333333,
              "#9c179e"
             ],
             [
              0.4444444444444444,
              "#bd3786"
             ],
             [
              0.5555555555555556,
              "#d8576b"
             ],
             [
              0.6666666666666666,
              "#ed7953"
             ],
             [
              0.7777777777777778,
              "#fb9f3a"
             ],
             [
              0.8888888888888888,
              "#fdca26"
             ],
             [
              1,
              "#f0f921"
             ]
            ],
            "type": "surface"
           }
          ],
          "table": [
           {
            "cells": {
             "fill": {
              "color": "#EBF0F8"
             },
             "line": {
              "color": "white"
             }
            },
            "header": {
             "fill": {
              "color": "#C8D4E3"
             },
             "line": {
              "color": "white"
             }
            },
            "type": "table"
           }
          ]
         },
         "layout": {
          "annotationdefaults": {
           "arrowcolor": "#2a3f5f",
           "arrowhead": 0,
           "arrowwidth": 1
          },
          "autotypenumbers": "strict",
          "coloraxis": {
           "colorbar": {
            "outlinewidth": 0,
            "ticks": ""
           }
          },
          "colorscale": {
           "diverging": [
            [
             0,
             "#8e0152"
            ],
            [
             0.1,
             "#c51b7d"
            ],
            [
             0.2,
             "#de77ae"
            ],
            [
             0.3,
             "#f1b6da"
            ],
            [
             0.4,
             "#fde0ef"
            ],
            [
             0.5,
             "#f7f7f7"
            ],
            [
             0.6,
             "#e6f5d0"
            ],
            [
             0.7,
             "#b8e186"
            ],
            [
             0.8,
             "#7fbc41"
            ],
            [
             0.9,
             "#4d9221"
            ],
            [
             1,
             "#276419"
            ]
           ],
           "sequential": [
            [
             0,
             "#0d0887"
            ],
            [
             0.1111111111111111,
             "#46039f"
            ],
            [
             0.2222222222222222,
             "#7201a8"
            ],
            [
             0.3333333333333333,
             "#9c179e"
            ],
            [
             0.4444444444444444,
             "#bd3786"
            ],
            [
             0.5555555555555556,
             "#d8576b"
            ],
            [
             0.6666666666666666,
             "#ed7953"
            ],
            [
             0.7777777777777778,
             "#fb9f3a"
            ],
            [
             0.8888888888888888,
             "#fdca26"
            ],
            [
             1,
             "#f0f921"
            ]
           ],
           "sequentialminus": [
            [
             0,
             "#0d0887"
            ],
            [
             0.1111111111111111,
             "#46039f"
            ],
            [
             0.2222222222222222,
             "#7201a8"
            ],
            [
             0.3333333333333333,
             "#9c179e"
            ],
            [
             0.4444444444444444,
             "#bd3786"
            ],
            [
             0.5555555555555556,
             "#d8576b"
            ],
            [
             0.6666666666666666,
             "#ed7953"
            ],
            [
             0.7777777777777778,
             "#fb9f3a"
            ],
            [
             0.8888888888888888,
             "#fdca26"
            ],
            [
             1,
             "#f0f921"
            ]
           ]
          },
          "colorway": [
           "#636efa",
           "#EF553B",
           "#00cc96",
           "#ab63fa",
           "#FFA15A",
           "#19d3f3",
           "#FF6692",
           "#B6E880",
           "#FF97FF",
           "#FECB52"
          ],
          "font": {
           "color": "#2a3f5f"
          },
          "geo": {
           "bgcolor": "white",
           "lakecolor": "white",
           "landcolor": "#E5ECF6",
           "showlakes": true,
           "showland": true,
           "subunitcolor": "white"
          },
          "hoverlabel": {
           "align": "left"
          },
          "hovermode": "closest",
          "mapbox": {
           "style": "light"
          },
          "paper_bgcolor": "white",
          "plot_bgcolor": "#E5ECF6",
          "polar": {
           "angularaxis": {
            "gridcolor": "white",
            "linecolor": "white",
            "ticks": ""
           },
           "bgcolor": "#E5ECF6",
           "radialaxis": {
            "gridcolor": "white",
            "linecolor": "white",
            "ticks": ""
           }
          },
          "scene": {
           "xaxis": {
            "backgroundcolor": "#E5ECF6",
            "gridcolor": "white",
            "gridwidth": 2,
            "linecolor": "white",
            "showbackground": true,
            "ticks": "",
            "zerolinecolor": "white"
           },
           "yaxis": {
            "backgroundcolor": "#E5ECF6",
            "gridcolor": "white",
            "gridwidth": 2,
            "linecolor": "white",
            "showbackground": true,
            "ticks": "",
            "zerolinecolor": "white"
           },
           "zaxis": {
            "backgroundcolor": "#E5ECF6",
            "gridcolor": "white",
            "gridwidth": 2,
            "linecolor": "white",
            "showbackground": true,
            "ticks": "",
            "zerolinecolor": "white"
           }
          },
          "shapedefaults": {
           "line": {
            "color": "#2a3f5f"
           }
          },
          "ternary": {
           "aaxis": {
            "gridcolor": "white",
            "linecolor": "white",
            "ticks": ""
           },
           "baxis": {
            "gridcolor": "white",
            "linecolor": "white",
            "ticks": ""
           },
           "bgcolor": "#E5ECF6",
           "caxis": {
            "gridcolor": "white",
            "linecolor": "white",
            "ticks": ""
           }
          },
          "title": {
           "x": 0.05
          },
          "xaxis": {
           "automargin": true,
           "gridcolor": "white",
           "linecolor": "white",
           "ticks": "",
           "title": {
            "standoff": 15
           },
           "zerolinecolor": "white",
           "zerolinewidth": 2
          },
          "yaxis": {
           "automargin": true,
           "gridcolor": "white",
           "linecolor": "white",
           "ticks": "",
           "title": {
            "standoff": 15
           },
           "zerolinecolor": "white",
           "zerolinewidth": 2
          }
         }
        },
        "title": {
         "text": "Total square of the flat in square meters"
        },
        "xaxis": {
         "anchor": "y",
         "domain": [
          0,
          1
         ]
        },
        "yaxis": {
         "anchor": "x",
         "domain": [
          0,
          1
         ],
         "title": {
          "text": "sp_total"
         }
        }
       }
      }
     },
     "metadata": {},
     "output_type": "display_data"
    }
   ],
   "source": [
    "fig = px.box(kvart_new, y='sp_total')\n",
    "fig.update_layout(title='Total square of the flat in square meters',\n",
    "                  legend_orientation='h')\n",
    "fig.show()"
   ]
  },
  {
   "cell_type": "code",
   "execution_count": 219,
   "metadata": {},
   "outputs": [
    {
     "data": {
      "text/plain": [
       "Text(0, 0.5, 'Quantity')"
      ]
     },
     "execution_count": 219,
     "metadata": {},
     "output_type": "execute_result"
    },
    {
     "data": {
      "image/png": "[encoded data removed]",
      "text/plain": [
       "<Figure size 640x480 with 1 Axes>"
      ]
     },
     "metadata": {},
     "output_type": "display_data"
    }
   ],
   "source": [
    "plt.hist(kvart_new['height'])\n",
    "plt.xlabel('Height of the building in floors')\n",
    "plt.ylabel('Quantity')"
   ]
  },
  {
   "cell_type": "code",
   "execution_count": 220,
   "metadata": {},
   "outputs": [
    {
     "data": {
      "text/plain": [
       "Text(0.5, 0, 'Floor of the flat')"
      ]
     },
     "execution_count": 220,
     "metadata": {},
     "output_type": "execute_result"
    },
    {
     "data": {
      "image/png": "[encoded data removed]",
      "text/plain": [
       "<Figure size 640x480 with 1 Axes>"
      ]
     },
     "metadata": {},
     "output_type": "display_data"
    }
   ],
   "source": [
    "plt.hist(kvart_new['floor'])\n",
    "plt.ylabel('Quantity')\n",
    "plt.xlabel('Floor of the flat')"
   ]
  },
  {
   "cell_type": "code",
   "execution_count": 222,
   "metadata": {},
   "outputs": [
    {
     "data": {
      "text/plain": [
       "Text(0.5, 0, 'Price of the flat')"
      ]
     },
     "execution_count": 222,
     "metadata": {},
     "output_type": "execute_result"
    },
    {
     "data": {
      "image/png": "[encoded data removed]",
      "text/plain": [
       "<Figure size 640x480 with 1 Axes>"
      ]
     },
     "metadata": {},
     "output_type": "display_data"
    }
   ],
   "source": [
    "plt.hist(kvart_new['price'])\n",
    "plt.ylabel('Quantity')\n",
    "plt.xlabel('Price of the flat')"
   ]
  },
  {
   "cell_type": "code",
   "execution_count": 223,
   "metadata": {},
   "outputs": [
    {
     "data": {
      "text/plain": [
       "Text(0.5, 0, 'Total square of the flat in square meters')"
      ]
     },
     "execution_count": 223,
     "metadata": {},
     "output_type": "execute_result"
    },
    {
     "data": {
      "image/png": "[encoded data removed]",
      "text/plain": [
       "<Figure size 640x480 with 1 Axes>"
      ]
     },
     "metadata": {},
     "output_type": "display_data"
    }
   ],
   "source": [
    "plt.hist(kvart_new['sp_total'])\n",
    "plt.ylabel('Quantity')\n",
    "plt.xlabel('Total square of the flat in square meters')"
   ]
  },
  {
   "cell_type": "code",
   "execution_count": 9,
   "metadata": {},
   "outputs": [],
   "source": [
    "kvart_new = kvart_new.dropna(how='all')\n"
   ]
  },
  {
   "cell_type": "code",
   "execution_count": 10,
   "metadata": {},
   "outputs": [],
   "source": [
    "new_scaler = AdjustedScaler(columns=['sp_total', 'sp_living', 'sp_kitchen', 'floor', 'height'])\n",
    "new_scaler.fit(kvart_new)\n",
    "kvart_new2 = new_scaler.transform(kvart_new)\n"
   ]
  },
  {
   "cell_type": "code",
   "execution_count": 11,
   "metadata": {},
   "outputs": [],
   "source": [
    "for i in set(kvart_new.columns.to_list()) - set(kvart_new2.columns.to_list()):\n",
    "    kvart_new2[i] = kvart_new[i]"
   ]
  },
  {
   "cell_type": "code",
   "execution_count": 12,
   "metadata": {},
   "outputs": [],
   "source": [
    "kvart_new2 = kvart_new2.drop(columns=['ID', 'city', 'district'])"
   ]
  },
  {
   "cell_type": "code",
   "execution_count": null,
   "metadata": {},
   "outputs": [],
   "source": [
    "def find_number(series):\n",
    "    c = 0\n",
    "    for i in series:\n",
    "        number = ''\n",
    "        for k in str(i):\n",
    "            if k.isdigit() and k != '/':\n",
    "                number += k\n",
    "            else:\n",
    "                break\n",
    "        series[c] = int(number)\n",
    "        c += 1\n",
    "    return series\n",
    "\n",
    "\n",
    "kvart_new2['h_number'] = find_number(kvart_new2['h_number'])"
   ]
  },
  {
   "cell_type": "code",
   "execution_count": 14,
   "metadata": {},
   "outputs": [],
   "source": [
    "side_list = []\n",
    "for i in kvart_new2['h_number']:\n",
    "    try:\n",
    "        if int(i) % 2 == 0:\n",
    "            side_list.append(1)\n",
    "        else:\n",
    "            side_list.append(0)\n",
    "    except ValueError:\n",
    "        number = ''\n",
    "        for k in str(i):\n",
    "            if k.isdigit() and k != '/':\n",
    "                number += k\n",
    "            else:\n",
    "                break\n",
    "        if int(number) % 2 == 0:\n",
    "            side_list.append(1)\n",
    "        else:\n",
    "            side_list.append(0)\n",
    "kvart_new2['side'] = side_list\n",
    "kvart_new2 = kvart_new2.drop(['h_number'], axis=1)"
   ]
  },
  {
   "cell_type": "code",
   "execution_count": 15,
   "metadata": {
    "collapsed": false
   },
   "outputs": [],
   "source": [
    "df_dummy_wd = pd.get_dummies(kvart_new2, columns=['street', 'rooms'], dtype = 'float64', drop_first = True)"
   ]
  },
  {
   "cell_type": "code",
   "execution_count": 31,
   "metadata": {
    "collapsed": false
   },
   "outputs": [],
   "source": [
    "train, test = train_test_split(df_dummy_wd, test_size=0.27)\n",
    "test_regressors = test.drop(columns=['price'])\n",
    "test_price = test.price\n",
    "train_regressors = train.drop(columns=['price'])\n",
    "regressors = train_regressors.columns.to_list()"
   ]
  },
  {
   "cell_type": "code",
   "execution_count": 32,
   "metadata": {},
   "outputs": [
    {
     "data": {
      "text/plain": [
       "((120, 68), (322, 68))"
      ]
     },
     "execution_count": 32,
     "metadata": {},
     "output_type": "execute_result"
    }
   ],
   "source": [
    "test.shape, train.shape"
   ]
  },
  {
   "cell_type": "code",
   "execution_count": 33,
   "metadata": {
    "collapsed": false
   },
   "outputs": [
    {
     "name": "stdout",
     "output_type": "stream",
     "text": [
      "Номер интерации: 1\n",
      "                            OLS Regression Results                            \n",
      "==============================================================================\n",
      "Dep. Variable:                  price   R-squared:                       0.845\n",
      "Model:                            OLS   Adj. R-squared:                  0.810\n",
      "Method:                 Least Squares   F-statistic:                     24.14\n",
      "Date:                Thu, 07 Sep 2023   Prob (F-statistic):           2.68e-77\n",
      "Time:                        23:27:05   Log-Likelihood:                -2620.1\n",
      "No. Observations:                 322   AIC:                             5360.\n",
      "Df Residuals:                     262   BIC:                             5587.\n",
      "Df Model:                          59                                         \n",
      "Covariance Type:            nonrobust                                         \n",
      "===========================================================================================\n",
      "                              coef    std err          t      P>|t|      [0.025      0.975]\n",
      "-------------------------------------------------------------------------------------------\n",
      "const                    4539.4770    174.956     25.946      0.000    4194.978    4883.976\n",
      "sp_total                 7565.1564    592.494     12.768      0.000    6398.501    8731.812\n",
      "sp_living                -526.4516    660.981     -0.796      0.426   -1827.963     775.060\n",
      "sp_kitchen                 98.4234    278.392      0.354      0.724    -449.747     646.594\n",
      "floor                     -40.7742    290.636     -0.140      0.889    -613.054     531.506\n",
      "height                    639.0489    198.713      3.216      0.001     247.771    1030.327\n",
      "side                     -169.7173    111.384     -1.524      0.129    -389.038      49.604\n",
      "street_Академическая     1591.5517    261.168      6.094      0.000    1077.297    2105.806\n",
      "street_Арбузова           -80.8098    419.308     -0.193      0.847    -906.453     744.833\n",
      "street_Балтийская       -1086.0429    262.829     -4.132      0.000   -1603.569    -568.516\n",
      "street_Барьерная        -1050.5861    373.766     -2.811      0.005   -1786.553    -314.619\n",
      "street_Благовещенская    -323.9920    651.981     -0.497      0.620   -1607.781     959.797\n",
      "street_Боровая_Партия    -576.8200    419.065     -1.376      0.170   -1401.984     248.344\n",
      "street_Варшавская       -1246.2480    648.694     -1.921      0.056   -2523.566      31.070\n",
      "street_Вахтангова        -841.9879    529.011     -1.592      0.113   -1883.641     199.666\n",
      "street_Весенний_проезд   1.778e-12   6.03e-13      2.949      0.003    5.91e-13    2.97e-12\n",
      "street_Ветлужская        -743.5263    357.908     -2.077      0.039   -1448.269     -38.783\n",
      "street_Вяземская          -50.7100    919.993     -0.055      0.956   -1862.232    1760.812\n",
      "street_Героев_Труда       498.4270    356.437      1.398      0.163    -203.419    1200.274\n",
      "street_Гидромонтажная    -511.9734    544.878     -0.940      0.348   -1584.871     560.925\n",
      "street_Демакова           265.9019    263.578      1.009      0.314    -253.099     784.902\n",
      "street_Детский_проезд    -1.16e-12   3.42e-13     -3.390      0.001   -1.83e-12   -4.86e-13\n",
      "street_Динамовцев        -670.0300    412.392     -1.625      0.105   -1482.054     141.994\n",
      "street_Добровольческая  -1.329e-12   3.98e-13     -3.341      0.001   -2.11e-12   -5.46e-13\n",
      "street_Жемчужная         1411.1136    533.027      2.647      0.009     361.552    2460.675\n",
      "street_Зеленая_Горка    -1819.4998    914.361     -1.990      0.048   -3619.931     -19.068\n",
      "street_Золотодолинская   3082.2773    463.014      6.657      0.000    2170.575    3993.980\n",
      "street_Иванова            148.7419    215.997      0.689      0.492    -276.569     574.053\n",
      "street_Ивлева            5.755e-13   5.29e-13      1.088      0.277   -4.66e-13    1.62e-12\n",
      "street_Ильича            3180.8651    472.927      6.726      0.000    2249.644    4112.086\n",
      "street_Лесосечная       -1132.1258    209.654     -5.400      0.000   -1544.948    -719.304\n",
      "street_Миргородская_2-я  -230.6658    366.670     -0.629      0.530    -952.661     491.330\n",
      "street_Молодежи_бульвар   235.6544    234.039      1.007      0.315    -225.182     696.491\n",
      "street_Молодости        -1392.9523    323.097     -4.311      0.000   -2029.149    -756.756\n",
      "street_Морской_проспект  3326.1088    294.265     11.303      0.000    2746.683    3905.535\n",
      "street_Мусы_Джалиля      1.303e-12   4.35e-13      2.992      0.003    4.45e-13    2.16e-12\n",
      "street_Николаева         -218.0785    415.802     -0.524      0.600   -1036.818     600.661\n",
      "street_Новоморская      -2.915e-13   4.36e-13     -0.668      0.505   -1.15e-12    5.67e-13\n",
      "street_Одоевского        -919.7484    925.211     -0.994      0.321   -2741.544     902.048\n",
      "street_Печатников        -804.8173    295.365     -2.725      0.007   -1386.408    -223.226\n",
      "street_Пирогова          2282.2818    665.491      3.429      0.001     971.890    3592.674\n",
      "street_Полевая            172.6218    274.343      0.629      0.530    -367.576     712.820\n",
      "street_Правды            2907.0967    529.484      5.490      0.000    1864.511    3949.682\n",
      "street_Приморская       -1540.2228    325.068     -4.738      0.000   -2180.300    -900.145\n",
      "street_Разъездная         876.3122    660.692      1.326      0.186    -424.630    2177.255\n",
      "street_Российская        1220.8732    262.455      4.652      0.000     704.084    1737.663\n",
      "street_Рубиновая           23.9344    528.970      0.045      0.964   -1017.639    1065.508\n",
      "street_Русская           -345.2122    396.926     -0.870      0.385   -1126.784     436.360\n",
      "street_Рыбацкая         -1831.2806    918.182     -1.994      0.047   -3639.235     -23.326\n",
      "street_Садовый          -1013.8990    656.484     -1.544      0.124   -2306.556     278.758\n",
      "street_Садовый_проезд    -911.1124    475.983     -1.914      0.057   -1848.352      26.127\n",
      "street_Сердюкова         1.923e-13   4.65e-13      0.414      0.679   -7.23e-13    1.11e-12\n",
      "street_Сиреневая          320.0283    487.478      0.656      0.512    -639.845    1279.902\n",
      "street_Смоленская         503.2750    914.048      0.551      0.582   -1296.541    2303.091\n",
      "street_Солнечногорская  -1278.8121    651.625     -1.962      0.051   -2561.900       4.276\n",
      "street_Софийская         -519.7032    463.741     -1.121      0.263   -1432.837     393.431\n",
      "street_Терешковой        2780.4700    379.368      7.329      0.000    2033.473    3527.467\n",
      "street_Тружеников        -771.1323    914.164     -0.844      0.400   -2571.176    1028.911\n",
      "street_Учёных            1829.9337    533.422      3.431      0.001     779.595    2880.273\n",
      "street_Цветной_проезд    1549.1673    532.691      2.908      0.004     500.268    2598.067\n",
      "street_Часовая           -454.2256    464.803     -0.977      0.329   -1369.450     460.999\n",
      "street_Шатурская          298.8236    388.646      0.769      0.443    -466.444    1064.092\n",
      "street_Шлюзовая          -318.8613    382.641     -0.833      0.405   -1072.305     434.582\n",
      "street_Экваторная        -729.6580    330.386     -2.209      0.028   -1380.207     -79.109\n",
      "street_Энгельса          -551.2489    532.323     -1.036      0.301   -1599.425     496.927\n",
      "rooms_2                  -621.9567    185.442     -3.354      0.001    -987.103    -256.811\n",
      "rooms_3                 -1242.8920    263.758     -4.712      0.000   -1762.247    -723.537\n",
      "rooms_4                 -1730.3164    403.760     -4.286      0.000   -2525.343    -935.290\n",
      "==============================================================================\n",
      "Omnibus:                      139.186   Durbin-Watson:                   2.369\n",
      "Prob(Omnibus):                  0.000   Jarque-Bera (JB):             1348.514\n",
      "Skew:                           1.510   Prob(JB):                    1.49e-293\n",
      "Kurtosis:                      12.560   Cond. No.                     1.93e+16\n",
      "==============================================================================\n",
      "\n",
      "Notes:\n",
      "[1] Standard Errors assume that the covariance matrix of the errors is correctly specified.\n",
      "[2] The smallest eigenvalue is 1.34e-30. This might indicate that there are\n",
      "strong multicollinearity problems or that the design matrix is singular.\n",
      "Регрессор с максимальным p-value: street_Рубиновая P-value: 0.9639447280334819\n",
      "-------------------------------------------------------------\n",
      "Номер интерации: 2\n",
      "                            OLS Regression Results                            \n",
      "==============================================================================\n",
      "Dep. Variable:                  price   R-squared:                       0.845\n",
      "Model:                            OLS   Adj. R-squared:                  0.810\n",
      "Method:                 Least Squares   F-statistic:                     24.14\n",
      "Date:                Thu, 07 Sep 2023   Prob (F-statistic):           2.68e-77\n",
      "Time:                        23:27:06   Log-Likelihood:                -2620.1\n",
      "No. Observations:                 322   AIC:                             5360.\n",
      "Df Residuals:                     262   BIC:                             5587.\n",
      "Df Model:                          59                                         \n",
      "Covariance Type:            nonrobust                                         \n",
      "===========================================================================================\n",
      "                              coef    std err          t      P>|t|      [0.025      0.975]\n",
      "-------------------------------------------------------------------------------------------\n",
      "const                    4563.4114    548.571      8.319      0.000    3483.242    5643.581\n",
      "sp_total                 7565.1564    592.494     12.768      0.000    6398.501    8731.812\n",
      "sp_living                -526.4516    660.981     -0.796      0.426   -1827.963     775.060\n",
      "sp_kitchen                 98.4234    278.392      0.354      0.724    -449.747     646.594\n",
      "floor                     -40.7742    290.636     -0.140      0.889    -613.054     531.506\n",
      "height                    639.0489    198.713      3.216      0.001     247.771    1030.327\n",
      "side                     -169.7173    111.384     -1.524      0.129    -389.038      49.604\n",
      "street_Академическая     1567.6173    586.497      2.673      0.008     412.770    2722.465\n",
      "street_Арбузова          -104.7442    682.535     -0.153      0.878   -1448.695    1239.207\n",
      "street_Балтийская       -1109.9773    601.370     -1.846      0.066   -2294.110      74.156\n",
      "street_Барьерная        -1074.5206    651.173     -1.650      0.100   -2356.719     207.678\n",
      "street_Благовещенская    -347.9265    844.482     -0.412      0.681   -2010.762    1314.909\n",
      "street_Боровая_Партия    -600.7545    673.535     -0.892      0.373   -1926.985     725.476\n",
      "street_Варшавская       -1270.1824    850.049     -1.494      0.136   -2943.980     403.615\n",
      "street_Вахтангова        -865.9223    756.654     -1.144      0.253   -2355.819     623.975\n",
      "street_Весенний_проезд   -1.51e-12   2.95e-12     -0.512      0.609   -7.32e-12     4.3e-12\n",
      "street_Ветлужская        -767.4607    642.178     -1.195      0.233   -2031.948     497.027\n",
      "street_Вяземская          -74.6444   1070.012     -0.070      0.944   -2181.562    2032.273\n",
      "street_Героев_Труда       474.4926    645.136      0.735      0.463    -795.818    1744.804\n",
      "street_Гидромонтажная    -535.9078    769.505     -0.696      0.487   -2051.110     979.294\n",
      "street_Демакова           241.9675    596.796      0.405      0.685    -933.160    1417.095\n",
      "street_Детский_проезд    2.642e-12   7.24e-13      3.651      0.000    1.22e-12    4.07e-12\n",
      "street_Динамовцев        -693.9645    673.253     -1.031      0.304   -2019.641     631.712\n",
      "street_Добровольческая  -3.625e-12   3.43e-13    -10.580      0.000    -4.3e-12   -2.95e-12\n",
      "street_Жемчужная         1387.1792    758.393      1.829      0.069    -106.142    2880.501\n",
      "street_Зеленая_Горка    -1843.4342   1069.437     -1.724      0.086   -3949.219     262.351\n",
      "street_Золотодолинская   3058.3428    708.415      4.317      0.000    1663.432    4453.254\n",
      "street_Иванова            124.8075    573.030      0.218      0.828   -1003.523    1253.138\n",
      "street_Ивлева           -3.147e-13   4.58e-13     -0.687      0.493   -1.22e-12    5.87e-13\n",
      "street_Ильича            3156.9306    720.306      4.383      0.000    1738.605    4575.256\n",
      "street_Лесосечная       -1156.0602    573.814     -2.015      0.045   -2285.933     -26.187\n",
      "street_Миргородская_2-я  -254.6002    654.559     -0.389      0.698   -1543.466    1034.265\n",
      "street_Молодежи_бульвар   211.7200    588.628      0.360      0.719    -947.324    1370.764\n",
      "street_Молодости        -1416.8868    632.056     -2.242      0.026   -2661.443    -172.331\n",
      "street_Морской_проспект  3302.1744    607.699      5.434      0.000    2105.579    4498.770\n",
      "street_Мусы_Джалиля      5.486e-13   3.55e-13      1.547      0.123    -1.5e-13    1.25e-12\n",
      "street_Николаева         -242.0129    681.186     -0.355      0.723   -1583.309    1099.283\n",
      "street_Новоморская      -8.318e-13   4.58e-13     -1.817      0.070   -1.73e-12    6.95e-14\n",
      "street_Одоевского        -943.6828   1084.450     -0.870      0.385   -3079.030    1191.665\n",
      "street_Печатников        -828.7517    610.600     -1.357      0.176   -2031.060     373.556\n",
      "street_Пирогова          2258.3474    865.168      2.610      0.010     554.780    3961.915\n",
      "street_Полевая            148.6874    598.258      0.249      0.804   -1029.319    1326.694\n",
      "street_Правды            2883.1623    751.361      3.837      0.000    1403.687    4362.637\n",
      "street_Приморская       -1564.1572    628.711     -2.488      0.013   -2802.128    -326.187\n",
      "street_Разъездная         852.3777    858.356      0.993      0.322    -837.776    2542.532\n",
      "street_Российская        1196.9388    597.656      2.003      0.046      20.119    2373.759\n",
      "street_Русская           -369.1466    666.615     -0.554      0.580   -1681.752     943.459\n",
      "street_Рыбацкая         -1855.2150   1072.996     -1.729      0.085   -3968.009     257.579\n",
      "street_Садовый          -1037.8334    850.131     -1.221      0.223   -2711.791     636.125\n",
      "street_Садовый_проезд    -935.0468    709.542     -1.318      0.189   -2332.178     462.084\n",
      "street_Сердюкова         9.836e-14   3.39e-13      0.290      0.772    -5.7e-13    7.67e-13\n",
      "street_Сиреневая          296.0939    732.963      0.404      0.687   -1147.153    1739.341\n",
      "street_Смоленская         479.3405   1066.552      0.449      0.653   -1620.765    2579.446\n",
      "street_Солнечногорская  -1302.7465    847.101     -1.538      0.125   -2970.738     365.246\n",
      "street_Софийская         -543.6377    705.636     -0.770      0.442   -1933.076     845.801\n",
      "street_Терешковой        2756.5356    656.209      4.201      0.000    1464.420    4048.651\n",
      "street_Тружеников        -795.0667   1073.351     -0.741      0.460   -2908.560    1318.426\n",
      "street_Учёных            1805.9993    758.779      2.380      0.018     311.919    3300.080\n",
      "street_Цветной_проезд    1525.2329    750.963      2.031      0.043      46.541    3003.924\n",
      "street_Часовая           -478.1600    709.179     -0.674      0.501   -1874.576     918.256\n",
      "street_Шатурская          274.8892    668.330      0.411      0.681   -1041.092    1590.870\n",
      "street_Шлюзовая          -342.7957    653.691     -0.524      0.600   -1629.952     944.361\n",
      "street_Экваторная        -753.5924    631.659     -1.193      0.234   -1997.366     490.181\n",
      "street_Энгельса          -575.1833    757.874     -0.759      0.449   -2067.482     917.115\n",
      "rooms_2                  -621.9567    185.442     -3.354      0.001    -987.103    -256.811\n",
      "rooms_3                 -1242.8920    263.758     -4.712      0.000   -1762.247    -723.537\n",
      "rooms_4                 -1730.3164    403.760     -4.286      0.000   -2525.343    -935.290\n",
      "==============================================================================\n",
      "Omnibus:                      139.186   Durbin-Watson:                   2.369\n",
      "Prob(Omnibus):                  0.000   Jarque-Bera (JB):             1348.514\n",
      "Skew:                           1.510   Prob(JB):                    1.49e-293\n",
      "Kurtosis:                      12.560   Cond. No.                     1.25e+16\n",
      "==============================================================================\n",
      "\n",
      "Notes:\n",
      "[1] Standard Errors assume that the covariance matrix of the errors is correctly specified.\n",
      "[2] The smallest eigenvalue is 3.21e-30. This might indicate that there are\n",
      "strong multicollinearity problems or that the design matrix is singular.\n",
      "Регрессор с максимальным p-value: street_Вяземская P-value: 0.9444376305157991\n",
      "-------------------------------------------------------------\n",
      "Номер интерации: 3\n",
      "                            OLS Regression Results                            \n",
      "==============================================================================\n",
      "Dep. Variable:                  price   R-squared:                       0.845\n",
      "Model:                            OLS   Adj. R-squared:                  0.810\n",
      "Method:                 Least Squares   F-statistic:                     24.65\n",
      "Date:                Thu, 07 Sep 2023   Prob (F-statistic):           5.37e-78\n",
      "Time:                        23:27:07   Log-Likelihood:                -2620.2\n",
      "No. Observations:                 322   AIC:                             5358.\n",
      "Df Residuals:                     263   BIC:                             5581.\n",
      "Df Model:                          58                                         \n",
      "Covariance Type:            nonrobust                                         \n",
      "===========================================================================================\n",
      "                              coef    std err          t      P>|t|      [0.025      0.975]\n",
      "-------------------------------------------------------------------------------------------\n",
      "const                    4545.8926    486.790      9.339      0.000    3587.391    5504.394\n",
      "sp_total                 7567.1240    590.701     12.810      0.000    6404.018    8730.229\n",
      "sp_living                -525.4286    659.567     -0.797      0.426   -1824.133     773.276\n",
      "sp_kitchen                 96.6327    276.681      0.349      0.727    -448.159     641.425\n",
      "floor                     -40.3716    290.029     -0.139      0.889    -611.445     530.702\n",
      "height                    639.5898    198.186      3.227      0.001     249.357    1029.822\n",
      "side                     -170.1966    110.961     -1.534      0.126    -388.681      48.288\n",
      "street_Академическая     1586.0857    522.355      3.036      0.003     557.557    2614.615\n",
      "street_Арбузова           -87.0044    632.193     -0.138      0.891   -1331.809    1157.800\n",
      "street_Балтийская       -1092.1906    543.612     -2.009      0.046   -2162.576     -21.805\n",
      "street_Барьерная        -1056.4290    596.171     -1.772      0.078   -2230.304     117.446\n",
      "street_Благовещенская    -329.4092    800.162     -0.412      0.681   -1904.948    1246.130\n",
      "street_Боровая_Партия    -582.4114    618.914     -0.941      0.348   -1801.068     636.246\n",
      "street_Варшавская       -1252.0975    808.020     -1.550      0.122   -2843.110     338.915\n",
      "street_Вахтангова        -847.4608    707.523     -1.198      0.232   -2240.591     545.669\n",
      "street_Весенний_проезд   2.175e-12   7.93e-13      2.743      0.007    6.14e-13    3.74e-12\n",
      "street_Ветлужская        -749.3582    586.301     -1.278      0.202   -1903.800     405.083\n",
      "street_Героев_Труда       492.7293    588.680      0.837      0.403    -666.397    1651.855\n",
      "street_Гидромонтажная    -517.8215    723.142     -0.716      0.475   -1941.706     906.063\n",
      "street_Демакова           260.1297    535.995      0.485      0.628    -795.259    1315.518\n",
      "street_Детский_проезд     -2.4e-12   5.56e-13     -4.313      0.000    -3.5e-12    -1.3e-12\n",
      "street_Динамовцев        -675.4983    617.859     -1.093      0.275   -1892.078     541.081\n",
      "street_Добровольческая    2.88e-13   4.82e-13      0.597      0.551   -6.62e-13    1.24e-12\n",
      "street_Жемчужная         1405.4561    710.353      1.979      0.049       6.753    2804.159\n",
      "street_Зеленая_Горка    -1824.8575   1033.791     -1.765      0.079   -3860.418     210.703\n",
      "street_Золотодолинская   3076.5270    657.467      4.679      0.000    1781.959    4371.095\n",
      "street_Иванова            142.8318    510.506      0.280      0.780    -862.367    1148.031\n",
      "street_Ивлева           -1.942e-12   4.27e-13     -4.554      0.000   -2.78e-12    -1.1e-12\n",
      "street_Ильича            3175.3002    669.179      4.745      0.000    1857.671    4492.930\n",
      "street_Лесосечная       -1138.2080    512.616     -2.220      0.027   -2147.563    -128.853\n",
      "street_Миргородская_2-я  -236.5559    600.145     -0.394      0.694   -1418.256     945.144\n",
      "street_Молодежи_бульвар   229.5796    529.034      0.434      0.665    -812.102    1271.261\n",
      "street_Молодости        -1399.4184    579.238     -2.416      0.016   -2539.953    -258.884\n",
      "street_Морской_проспект  3320.2068    548.940      6.048      0.000    2239.330    4401.084\n",
      "street_Мусы_Джалиля      5.848e-14    3.4e-13      0.172      0.863    -6.1e-13    7.27e-13\n",
      "street_Николаева         -225.2081    635.962     -0.354      0.724   -1477.434    1027.018\n",
      "street_Новоморская      -5.152e-13   3.89e-13     -1.323      0.187   -1.28e-12    2.51e-13\n",
      "street_Одоевского        -925.3809   1050.245     -0.881      0.379   -2993.339    1142.577\n",
      "street_Печатников        -810.6190    551.466     -1.470      0.143   -1896.468     275.230\n",
      "street_Пирогова          2276.3152    824.376      2.761      0.006     653.099    3899.531\n",
      "street_Полевая            167.0541    536.194      0.312      0.756    -888.725    1222.833\n",
      "street_Правды            2901.3218    703.492      4.124      0.000    1516.128    4286.515\n",
      "street_Приморская       -1545.8900    570.502     -2.710      0.007   -2669.223    -422.557\n",
      "street_Разъездная         871.2202    813.208      1.071      0.285    -730.007    2472.447\n",
      "street_Российская        1214.7687    539.225      2.253      0.025     153.022    2276.516\n",
      "street_Русская           -351.4418    615.245     -0.571      0.568   -1562.874     859.991\n",
      "street_Рыбацкая         -1837.6372   1041.016     -1.765      0.079   -3887.423     212.149\n",
      "street_Садовый          -1019.1441    805.285     -1.266      0.207   -2604.771     566.483\n",
      "street_Садовый_проезд    -917.1891    660.503     -1.389      0.166   -2217.736     383.357\n",
      "street_Сердюкова        -5.542e-14   2.33e-13     -0.238      0.812   -5.13e-13    4.03e-13\n",
      "street_Сиреневая          314.3386    683.418      0.460      0.646   -1031.328    1660.006\n",
      "street_Смоленская         498.3435   1029.226      0.484      0.629   -1528.229    2524.916\n",
      "street_Солнечногорская  -1284.5161    804.258     -1.597      0.111   -2868.120     299.088\n",
      "street_Софийская         -525.6626    655.664     -0.802      0.423   -1816.682     765.357\n",
      "street_Терешковой        2774.4974    602.443      4.605      0.000    1588.273    3960.722\n",
      "street_Тружеников        -776.9277   1039.409     -0.747      0.455   -2823.549    1269.694\n",
      "street_Учёных            1824.2611    710.843      2.566      0.011     424.594    3223.928\n",
      "street_Цветной_проезд    1543.6214    701.849      2.199      0.029     161.663    2925.580\n",
      "street_Часовая           -460.0190    658.531     -0.699      0.485   -1756.683     836.645\n",
      "street_Шатурская          292.6607    616.702      0.475      0.635    -921.642    1506.963\n",
      "street_Шлюзовая          -324.4813    597.522     -0.543      0.588   -1501.017     852.054\n",
      "street_Экваторная        -735.4073    574.270     -1.281      0.201   -1866.159     395.345\n",
      "street_Энгельса          -557.3500    712.107     -0.783      0.435   -1959.506     844.806\n",
      "rooms_2                  -622.1190    185.076     -3.361      0.001    -986.538    -257.700\n",
      "rooms_3                 -1243.4416    263.141     -4.725      0.000   -1761.573    -725.311\n",
      "rooms_4                 -1731.3290    402.734     -4.299      0.000   -2524.323    -938.335\n",
      "==============================================================================\n",
      "Omnibus:                      139.193   Durbin-Watson:                   2.369\n",
      "Prob(Omnibus):                  0.000   Jarque-Bera (JB):             1348.421\n",
      "Skew:                           1.510   Prob(JB):                    1.56e-293\n",
      "Kurtosis:                      12.559   Cond. No.                     1.25e+16\n",
      "==============================================================================\n",
      "\n",
      "Notes:\n",
      "[1] Standard Errors assume that the covariance matrix of the errors is correctly specified.\n",
      "[2] The smallest eigenvalue is 3.21e-30. This might indicate that there are\n",
      "strong multicollinearity problems or that the design matrix is singular.\n",
      "Регрессор с максимальным p-value: street_Арбузова P-value: 0.8906436529753863\n",
      "-------------------------------------------------------------\n",
      "Номер интерации: 4\n",
      "                            OLS Regression Results                            \n",
      "==============================================================================\n",
      "Dep. Variable:                  price   R-squared:                       0.845\n",
      "Model:                            OLS   Adj. R-squared:                  0.811\n",
      "Method:                 Least Squares   F-statistic:                     25.18\n",
      "Date:                Thu, 07 Sep 2023   Prob (F-statistic):           1.07e-78\n",
      "Time:                        23:27:08   Log-Likelihood:                -2620.2\n",
      "No. Observations:                 322   AIC:                             5356.\n",
      "Df Residuals:                     264   BIC:                             5575.\n",
      "Df Model:                          57                                         \n",
      "Covariance Type:            nonrobust                                         \n",
      "===========================================================================================\n",
      "                              coef    std err          t      P>|t|      [0.025      0.975]\n",
      "-------------------------------------------------------------------------------------------\n",
      "const                    4498.2091    341.295     13.180      0.000    3826.203    5170.215\n",
      "sp_total                 7565.6113    589.501     12.834      0.000    6404.890    8726.332\n",
      "sp_living                -532.2585    656.474     -0.811      0.418   -1824.850     760.333\n",
      "sp_kitchen                 97.6184    276.074      0.354      0.724    -445.969     641.205\n",
      "floor                     -42.5206    289.069     -0.147      0.883    -611.695     526.654\n",
      "height                    637.7968    197.389      3.231      0.001     249.139    1026.454\n",
      "side                     -170.0109    110.746     -1.535      0.126    -388.069      48.047\n",
      "street_Академическая     1632.5678    397.731      4.105      0.000     849.440    2415.696\n",
      "street_Балтийская       -1042.3329    404.548     -2.577      0.011   -1838.884    -245.781\n",
      "street_Барьерная        -1008.8064    484.564     -2.082      0.038   -1962.909     -54.704\n",
      "street_Благовещенская    -282.7038    723.280     -0.391      0.696   -1706.836    1141.428\n",
      "street_Боровая_Партия    -535.8339    517.217     -1.036      0.301   -1554.229     482.561\n",
      "street_Варшавская       -1203.8090    726.509     -1.657      0.099   -2634.297     226.679\n",
      "street_Вахтангова        -800.3783    618.161     -1.295      0.197   -2017.531     416.774\n",
      "street_Весенний_проезд   -3.37e-12   8.84e-13     -3.813      0.000   -5.11e-12   -1.63e-12\n",
      "street_Ветлужская        -701.3511    470.363     -1.491      0.137   -1627.491     224.789\n",
      "street_Героев_Труда       541.3191    470.175      1.151      0.251    -384.452    1467.090\n",
      "street_Гидромонтажная    -469.1210    629.471     -0.745      0.457   -1708.543     770.301\n",
      "street_Демакова           308.3921    404.599      0.762      0.447    -488.260    1105.044\n",
      "street_Детский_проезд   -2.362e-12   5.48e-13     -4.310      0.000   -3.44e-12   -1.28e-12\n",
      "street_Динамовцев        -628.8151    515.456     -1.220      0.224   -1643.742     386.112\n",
      "street_Добровольческая   1.026e-12   5.15e-13      1.990      0.048    1.07e-14    2.04e-12\n",
      "street_Жемчужная         1453.4229    617.818      2.353      0.019     236.944    2669.901\n",
      "street_Зеленая_Горка    -1778.4247    975.368     -1.823      0.069   -3698.914     142.065\n",
      "street_Золотодолинская   3124.2992    557.323      5.606      0.000    2026.935    4221.664\n",
      "street_Иванова            190.6196    373.527      0.510      0.610    -544.852     926.091\n",
      "street_Ивлева            2.314e-12   4.42e-13      5.231      0.000    1.44e-12    3.18e-12\n",
      "street_Ильича            3223.4788    569.243      5.663      0.000    2102.644    4344.313\n",
      "street_Лесосечная       -1089.4905    370.073     -2.944      0.004   -1818.161    -360.820\n",
      "street_Миргородская_2-я  -187.9239    484.178     -0.388      0.698   -1141.266     765.418\n",
      "street_Молодежи_бульвар   279.5001    384.383      0.727      0.468    -477.346    1036.346\n",
      "street_Молодости        -1349.1925    448.971     -3.005      0.003   -2233.213    -465.172\n",
      "street_Морской_проспект  3368.5231    421.211      7.997      0.000    2539.162    4197.884\n",
      "street_Мусы_Джалиля      2.627e-12      5e-13      5.256      0.000    1.64e-12    3.61e-12\n",
      "street_Николаева         -176.9557    529.597     -0.334      0.739   -1219.727     865.816\n",
      "street_Новоморская      -5.569e-13   4.37e-13     -1.274      0.204   -1.42e-12    3.04e-13\n",
      "street_Одоевского        -878.4485    991.489     -0.886      0.376   -2830.681    1073.784\n",
      "street_Печатников        -762.5317    425.850     -1.791      0.075   -1601.027      75.963\n",
      "street_Пирогова          2328.2971    731.391      3.183      0.002     888.194    3768.400\n",
      "street_Полевая            214.1566    411.983      0.520      0.604    -597.034    1025.347\n",
      "street_Правды            2948.8154    611.892      4.819      0.000    1744.007    4153.624\n",
      "street_Приморская       -1497.6844    449.476     -3.332      0.001   -2382.698    -612.671\n",
      "street_Разъездная         919.3197    732.907      1.254      0.211    -523.767    2362.406\n",
      "street_Российская        1263.5840    405.384      3.117      0.002     465.387    2061.781\n",
      "street_Русская           -302.6778    502.032     -0.603      0.547   -1291.174     685.819\n",
      "street_Рыбацкая         -1788.5988    976.315     -1.832      0.068   -3710.954     133.757\n",
      "street_Садовый           -972.9225    730.544     -1.332      0.184   -2411.356     465.511\n",
      "street_Садовый_проезд    -869.0124    559.065     -1.554      0.121   -1969.807     231.782\n",
      "street_Сердюкова         6.391e-13   2.06e-13      3.101      0.002    2.33e-13    1.04e-12\n",
      "street_Сиреневая          363.8234    580.100      0.627      0.531    -778.388    1506.035\n",
      "street_Смоленская         542.4239    976.299      0.556      0.579   -1379.900    2464.748\n",
      "street_Солнечногорская  -1237.1017    725.376     -1.705      0.089   -2665.361     191.158\n",
      "street_Софийская         -478.7654    559.114     -0.856      0.393   -1579.656     622.125\n",
      "street_Терешковой        2823.0852    487.245      5.794      0.000    1863.705    3782.465\n",
      "street_Тружеников        -728.1702    975.349     -0.747      0.456   -2648.622    1192.282\n",
      "street_Учёных            1872.1818    618.567      3.027      0.003     654.229    3090.134\n",
      "street_Цветной_проезд    1589.4702    616.593      2.578      0.010     375.405    2803.536\n",
      "street_Часовая           -412.5740    560.039     -0.737      0.462   -1515.285     690.137\n",
      "street_Шатурская          342.3195    499.192      0.686      0.493    -640.585    1325.224\n",
      "street_Шлюзовая          -277.3769    488.867     -0.567      0.571   -1239.952     685.198\n",
      "street_Экваторная        -687.1186    453.766     -1.514      0.131   -1580.580     206.343\n",
      "street_Энгельса          -509.4256    619.999     -0.822      0.412   -1730.198     711.346\n",
      "rooms_2                  -624.1512    184.143     -3.389      0.001    -986.727    -261.576\n",
      "rooms_3                 -1243.0726    262.638     -4.733      0.000   -1760.204    -725.941\n",
      "rooms_4                 -1729.8566    401.844     -4.305      0.000   -2521.083    -938.631\n",
      "==============================================================================\n",
      "Omnibus:                      139.279   Durbin-Watson:                   2.368\n",
      "Prob(Omnibus):                  0.000   Jarque-Bera (JB):             1349.297\n",
      "Skew:                           1.511   Prob(JB):                    1.01e-293\n",
      "Kurtosis:                      12.562   Cond. No.                     1.25e+16\n",
      "==============================================================================\n",
      "\n",
      "Notes:\n",
      "[1] Standard Errors assume that the covariance matrix of the errors is correctly specified.\n",
      "[2] The smallest eigenvalue is 3.21e-30. This might indicate that there are\n",
      "strong multicollinearity problems or that the design matrix is singular.\n",
      "Регрессор с максимальным p-value: floor P-value: 0.8831693977633979\n",
      "-------------------------------------------------------------\n",
      "Номер интерации: 5\n",
      "                            OLS Regression Results                            \n",
      "==============================================================================\n",
      "Dep. Variable:                  price   R-squared:                       0.845\n",
      "Model:                            OLS   Adj. R-squared:                  0.812\n",
      "Method:                 Least Squares   F-statistic:                     25.72\n",
      "Date:                Thu, 07 Sep 2023   Prob (F-statistic):           2.12e-79\n",
      "Time:                        23:27:09   Log-Likelihood:                -2620.2\n",
      "No. Observations:                 322   AIC:                             5354.\n",
      "Df Residuals:                     265   BIC:                             5569.\n",
      "Df Model:                          56                                         \n",
      "Covariance Type:            nonrobust                                         \n",
      "===========================================================================================\n",
      "                              coef    std err          t      P>|t|      [0.025      0.975]\n",
      "-------------------------------------------------------------------------------------------\n",
      "const                    4491.1205    337.251     13.317      0.000    3827.088    5155.153\n",
      "sp_total                 7565.7140    588.411     12.858      0.000    6407.159    8724.269\n",
      "sp_living                -532.8509    655.249     -0.813      0.417   -1823.007     757.306\n",
      "sp_kitchen                 97.2279    275.551      0.353      0.724    -445.320     639.776\n",
      "height                    624.1511    173.909      3.589      0.000     281.731     966.571\n",
      "side                     -168.7920    110.232     -1.531      0.127    -385.834      48.250\n",
      "street_Академическая     1634.9593    396.664      4.122      0.000     853.945    2415.974\n",
      "street_Балтийская       -1040.4953    403.608     -2.578      0.010   -1835.182    -245.809\n",
      "street_Барьерная        -1009.7536    483.626     -2.088      0.038   -1961.993     -57.514\n",
      "street_Благовещенская    -279.6109    721.639     -0.387      0.699   -1700.486    1141.265\n",
      "street_Боровая_Партия    -533.7335    516.064     -1.034      0.302   -1549.842     482.375\n",
      "street_Варшавская       -1199.3569    724.537     -1.655      0.099   -2625.938     227.224\n",
      "street_Вахтангова        -795.6977    616.200     -1.291      0.198   -2008.969     417.574\n",
      "street_Весенний_проезд  -9.384e-13   7.83e-13     -1.199      0.232   -2.48e-12    6.02e-13\n",
      "street_Ветлужская        -702.3968    469.440     -1.496      0.136   -1626.704     221.910\n",
      "street_Героев_Труда       543.9227    468.974      1.160      0.247    -379.467    1467.312\n",
      "street_Гидромонтажная    -464.3268    627.465     -0.740      0.460   -1699.778     771.125\n",
      "street_Демакова           310.1916    403.667      0.768      0.443    -484.611    1104.994\n",
      "street_Детский_проезд     1.67e-13   5.42e-13      0.308      0.758      -9e-13    1.23e-12\n",
      "street_Динамовцев        -624.0615    513.491     -1.215      0.225   -1635.103     386.980\n",
      "street_Добровольческая   8.032e-13   4.88e-13      1.647      0.101   -1.57e-13    1.76e-12\n",
      "street_Жемчужная         1454.8333    616.603      2.359      0.019     240.770    2668.897\n",
      "street_Зеленая_Горка    -1775.7857    973.401     -1.824      0.069   -3692.369     140.798\n",
      "street_Золотодолинская   3126.6666    556.062      5.623      0.000    2031.805    4221.528\n",
      "street_Иванова            193.6175    372.282      0.520      0.603    -539.389     926.624\n",
      "street_Ивлева           -4.013e-13    4.9e-13     -0.819      0.413   -1.37e-12    5.63e-13\n",
      "street_Ильича            3227.3819    567.574      5.686      0.000    2109.854    4344.910\n",
      "street_Лесосечная       -1086.5126    368.836     -2.946      0.004   -1812.735    -360.291\n",
      "street_Миргородская_2-я  -182.8442    482.053     -0.379      0.705   -1131.985     766.296\n",
      "street_Молодежи_бульвар   282.6776    383.066      0.738      0.461    -471.563    1036.918\n",
      "street_Молодости        -1348.1688    448.088     -3.009      0.003   -2230.434    -465.903\n",
      "street_Морской_проспект  3369.6566    420.363      8.016      0.000    2541.981    4197.332\n",
      "street_Мусы_Джалиля     -5.709e-13   4.79e-13     -1.191      0.235   -1.51e-12    3.73e-13\n",
      "street_Николаева         -165.2659    522.633     -0.316      0.752   -1194.307     863.775\n",
      "street_Новоморская       4.451e-13   3.18e-13      1.399      0.163   -1.81e-13    1.07e-12\n",
      "street_Одоевского        -864.6445    985.214     -0.878      0.381   -2804.488    1075.199\n",
      "street_Печатников        -758.3480    424.114     -1.788      0.075   -1593.410      76.714\n",
      "street_Пирогова          2327.0382    729.990      3.188      0.002     889.720    3764.357\n",
      "street_Полевая            221.2333    408.408      0.542      0.588    -582.905    1025.372\n",
      "street_Правды            2951.7215    610.443      4.835      0.000    1749.787    4153.656\n",
      "street_Приморская       -1492.9534    447.495     -3.336      0.001   -2374.052    -611.855\n",
      "street_Разъездная         923.7749    730.928      1.264      0.207    -515.390    2362.939\n",
      "street_Российская        1271.0925    401.414      3.167      0.002     480.726    2061.459\n",
      "street_Русская           -309.6842    498.844     -0.621      0.535   -1291.886     672.518\n",
      "street_Рыбацкая         -1783.0993    973.797     -1.831      0.068   -3700.462     134.264\n",
      "street_Садовый           -966.2203    727.774     -1.328      0.185   -2399.176     466.736\n",
      "street_Садовый_проезд    -865.2748    557.456     -1.552      0.122   -1962.881     232.331\n",
      "street_Сердюкова        -1.283e-13   1.46e-13     -0.881      0.379   -4.15e-13    1.58e-13\n",
      "street_Сиреневая          360.3546    578.549      0.623      0.534    -778.784    1499.493\n",
      "street_Смоленская         551.1190    972.708      0.567      0.571   -1364.100    2466.338\n",
      "street_Солнечногорская  -1238.8351    723.941     -1.711      0.088   -2664.243     186.572\n",
      "street_Софийская         -474.8250    557.440     -0.852      0.395   -1572.400     622.750\n",
      "street_Терешковой        2828.3889    485.011      5.832      0.000    1873.424    3783.354\n",
      "street_Тружеников        -738.4704    971.034     -0.760      0.448   -2650.394    1173.453\n",
      "street_Учёных            1872.6322    617.416      3.033      0.003     656.966    3088.298\n",
      "street_Цветной_проезд    1590.9684    615.370      2.585      0.010     379.332    2802.604\n",
      "street_Часовая           -407.6238    557.994     -0.731      0.466   -1506.289     691.042\n",
      "street_Шатурская          347.4660    497.044      0.699      0.485    -631.193    1326.125\n",
      "street_Шлюзовая          -273.4479    487.235     -0.561      0.575   -1232.792     685.897\n",
      "street_Экваторная        -679.4596    449.936     -1.510      0.132   -1565.364     206.445\n",
      "street_Энгельса          -500.8276    616.097     -0.813      0.417   -1713.896     712.240\n",
      "rooms_2                  -623.9232    183.796     -3.395      0.001    -985.810    -262.037\n",
      "rooms_3                 -1240.9973    261.774     -4.741      0.000   -1756.419    -725.576\n",
      "rooms_4                 -1728.1374    400.931     -4.310      0.000   -2517.554    -938.721\n",
      "==============================================================================\n",
      "Omnibus:                      139.286   Durbin-Watson:                   2.367\n",
      "Prob(Omnibus):                  0.000   Jarque-Bera (JB):             1347.458\n",
      "Skew:                           1.512   Prob(JB):                    2.53e-293\n",
      "Kurtosis:                      12.554   Cond. No.                     1.24e+16\n",
      "==============================================================================\n",
      "\n",
      "Notes:\n",
      "[1] Standard Errors assume that the covariance matrix of the errors is correctly specified.\n",
      "[2] The smallest eigenvalue is 3.21e-30. This might indicate that there are\n",
      "strong multicollinearity problems or that the design matrix is singular.\n",
      "Регрессор с максимальным p-value: street_Детский_проезд P-value: 0.7581096059287298\n",
      "-------------------------------------------------------------\n",
      "Номер интерации: 6\n",
      "                            OLS Regression Results                            \n",
      "==============================================================================\n",
      "Dep. Variable:                  price   R-squared:                       0.845\n",
      "Model:                            OLS   Adj. R-squared:                  0.812\n",
      "Method:                 Least Squares   F-statistic:                     25.72\n",
      "Date:                Thu, 07 Sep 2023   Prob (F-statistic):           2.12e-79\n",
      "Time:                        23:27:10   Log-Likelihood:                -2620.2\n",
      "No. Observations:                 322   AIC:                             5354.\n",
      "Df Residuals:                     265   BIC:                             5569.\n",
      "Df Model:                          56                                         \n",
      "Covariance Type:            nonrobust                                         \n",
      "===========================================================================================\n",
      "                              coef    std err          t      P>|t|      [0.025      0.975]\n",
      "-------------------------------------------------------------------------------------------\n",
      "const                    4491.1205    337.251     13.317      0.000    3827.088    5155.153\n",
      "sp_total                 7565.7140    588.411     12.858      0.000    6407.159    8724.269\n",
      "sp_living                -532.8509    655.249     -0.813      0.417   -1823.007     757.306\n",
      "sp_kitchen                 97.2279    275.551      0.353      0.724    -445.320     639.776\n",
      "height                    624.1511    173.909      3.589      0.000     281.731     966.571\n",
      "side                     -168.7920    110.232     -1.531      0.127    -385.834      48.250\n",
      "street_Академическая     1634.9593    396.664      4.122      0.000     853.945    2415.974\n",
      "street_Балтийская       -1040.4953    403.608     -2.578      0.010   -1835.182    -245.809\n",
      "street_Барьерная        -1009.7536    483.626     -2.088      0.038   -1961.993     -57.514\n",
      "street_Благовещенская    -279.6109    721.639     -0.387      0.699   -1700.486    1141.265\n",
      "street_Боровая_Партия    -533.7335    516.064     -1.034      0.302   -1549.842     482.375\n",
      "street_Варшавская       -1199.3569    724.537     -1.655      0.099   -2625.938     227.224\n",
      "street_Вахтангова        -795.6977    616.200     -1.291      0.198   -2008.969     417.574\n",
      "street_Весенний_проезд   9.213e-13   7.32e-13      1.259      0.209    -5.2e-13    2.36e-12\n",
      "street_Ветлужская        -702.3968    469.440     -1.496      0.136   -1626.704     221.910\n",
      "street_Героев_Труда       543.9227    468.974      1.160      0.247    -379.467    1467.312\n",
      "street_Гидромонтажная    -464.3268    627.465     -0.740      0.460   -1699.778     771.125\n",
      "street_Демакова           310.1916    403.667      0.768      0.443    -484.611    1104.994\n",
      "street_Динамовцев        -624.0615    513.491     -1.215      0.225   -1635.103     386.980\n",
      "street_Добровольческая  -7.907e-13    4.1e-13     -1.928      0.055    -1.6e-12    1.69e-14\n",
      "street_Жемчужная         1454.8333    616.603      2.359      0.019     240.770    2668.897\n",
      "street_Зеленая_Горка    -1775.7857    973.401     -1.824      0.069   -3692.369     140.798\n",
      "street_Золотодолинская   3126.6666    556.062      5.623      0.000    2031.805    4221.528\n",
      "street_Иванова            193.6175    372.282      0.520      0.603    -539.389     926.624\n",
      "street_Ивлева            8.354e-13   5.96e-13      1.402      0.162   -3.38e-13    2.01e-12\n",
      "street_Ильича            3227.3819    567.574      5.686      0.000    2109.854    4344.910\n",
      "street_Лесосечная       -1086.5126    368.836     -2.946      0.004   -1812.735    -360.291\n",
      "street_Миргородская_2-я  -182.8442    482.053     -0.379      0.705   -1131.985     766.296\n",
      "street_Молодежи_бульвар   282.6776    383.066      0.738      0.461    -471.563    1036.918\n",
      "street_Молодости        -1348.1688    448.088     -3.009      0.003   -2230.434    -465.903\n",
      "street_Морской_проспект  3369.6566    420.363      8.016      0.000    2541.981    4197.332\n",
      "street_Мусы_Джалиля     -2.185e-13   4.18e-13     -0.523      0.602   -1.04e-12    6.05e-13\n",
      "street_Николаева         -165.2659    522.633     -0.316      0.752   -1194.307     863.775\n",
      "street_Новоморская       3.245e-12   4.99e-13      6.504      0.000    2.26e-12    4.23e-12\n",
      "street_Одоевского        -864.6445    985.214     -0.878      0.381   -2804.488    1075.199\n",
      "street_Печатников        -758.3480    424.114     -1.788      0.075   -1593.410      76.714\n",
      "street_Пирогова          2327.0382    729.990      3.188      0.002     889.720    3764.357\n",
      "street_Полевая            221.2333    408.408      0.542      0.588    -582.905    1025.372\n",
      "street_Правды            2951.7215    610.443      4.835      0.000    1749.787    4153.656\n",
      "street_Приморская       -1492.9534    447.495     -3.336      0.001   -2374.052    -611.855\n",
      "street_Разъездная         923.7749    730.928      1.264      0.207    -515.390    2362.939\n",
      "street_Российская        1271.0925    401.414      3.167      0.002     480.726    2061.459\n",
      "street_Русская           -309.6842    498.844     -0.621      0.535   -1291.886     672.518\n",
      "street_Рыбацкая         -1783.0993    973.797     -1.831      0.068   -3700.462     134.264\n",
      "street_Садовый           -966.2203    727.774     -1.328      0.185   -2399.176     466.736\n",
      "street_Садовый_проезд    -865.2748    557.456     -1.552      0.122   -1962.881     232.331\n",
      "street_Сердюкова         1.799e-13   1.77e-13      1.018      0.310   -1.68e-13    5.28e-13\n",
      "street_Сиреневая          360.3546    578.549      0.623      0.534    -778.784    1499.493\n",
      "street_Смоленская         551.1190    972.708      0.567      0.571   -1364.100    2466.338\n",
      "street_Солнечногорская  -1238.8351    723.941     -1.711      0.088   -2664.243     186.572\n",
      "street_Софийская         -474.8250    557.440     -0.852      0.395   -1572.400     622.750\n",
      "street_Терешковой        2828.3889    485.011      5.832      0.000    1873.424    3783.354\n",
      "street_Тружеников        -738.4704    971.034     -0.760      0.448   -2650.394    1173.453\n",
      "street_Учёных            1872.6322    617.416      3.033      0.003     656.966    3088.298\n",
      "street_Цветной_проезд    1590.9684    615.370      2.585      0.010     379.332    2802.604\n",
      "street_Часовая           -407.6238    557.994     -0.731      0.466   -1506.289     691.042\n",
      "street_Шатурская          347.4660    497.044      0.699      0.485    -631.193    1326.125\n",
      "street_Шлюзовая          -273.4479    487.235     -0.561      0.575   -1232.792     685.897\n",
      "street_Экваторная        -679.4596    449.936     -1.510      0.132   -1565.364     206.445\n",
      "street_Энгельса          -500.8276    616.097     -0.813      0.417   -1713.896     712.240\n",
      "rooms_2                  -623.9232    183.796     -3.395      0.001    -985.810    -262.037\n",
      "rooms_3                 -1240.9973    261.774     -4.741      0.000   -1756.419    -725.576\n",
      "rooms_4                 -1728.1374    400.931     -4.310      0.000   -2517.554    -938.721\n",
      "==============================================================================\n",
      "Omnibus:                      139.286   Durbin-Watson:                   2.367\n",
      "Prob(Omnibus):                  0.000   Jarque-Bera (JB):             1347.458\n",
      "Skew:                           1.512   Prob(JB):                    2.53e-293\n",
      "Kurtosis:                      12.554   Cond. No.                     1.24e+16\n",
      "==============================================================================\n",
      "\n",
      "Notes:\n",
      "[1] Standard Errors assume that the covariance matrix of the errors is correctly specified.\n",
      "[2] The smallest eigenvalue is 3.21e-30. This might indicate that there are\n",
      "strong multicollinearity problems or that the design matrix is singular.\n",
      "Регрессор с максимальным p-value: street_Николаева P-value: 0.7520859422564161\n",
      "-------------------------------------------------------------\n",
      "Номер интерации: 7\n",
      "                            OLS Regression Results                            \n",
      "==============================================================================\n",
      "Dep. Variable:                  price   R-squared:                       0.845\n",
      "Model:                            OLS   Adj. R-squared:                  0.812\n",
      "Method:                 Least Squares   F-statistic:                     26.27\n",
      "Date:                Thu, 07 Sep 2023   Prob (F-statistic):           4.32e-80\n",
      "Time:                        23:27:10   Log-Likelihood:                -2620.2\n",
      "No. Observations:                 322   AIC:                             5352.\n",
      "Df Residuals:                     266   BIC:                             5564.\n",
      "Df Model:                          55                                         \n",
      "Covariance Type:            nonrobust                                         \n",
      "===========================================================================================\n",
      "                              coef    std err          t      P>|t|      [0.025      0.975]\n",
      "-------------------------------------------------------------------------------------------\n",
      "const                    4422.4591    257.616     17.167      0.000    3915.232    4929.686\n",
      "sp_total                 7535.1873    579.455     13.004      0.000    6394.285    8676.089\n",
      "sp_living                -504.2485    647.877     -0.778      0.437   -1779.868     771.371\n",
      "sp_kitchen                126.3791    259.233      0.488      0.626    -384.031     636.789\n",
      "height                    605.7012    163.553      3.703      0.000     283.679     927.724\n",
      "side                     -168.6075    110.044     -1.532      0.127    -385.275      48.060\n",
      "street_Академическая     1691.0268    354.230      4.774      0.000     993.576    2388.478\n",
      "street_Балтийская        -968.0183    331.653     -2.919      0.004   -1621.017    -315.020\n",
      "street_Барьерная         -950.3656    444.917     -2.136      0.034   -1826.372     -74.359\n",
      "street_Благовещенская    -230.6323    703.627     -0.328      0.743   -1616.020    1154.755\n",
      "street_Боровая_Партия    -480.5051    487.014     -0.987      0.325   -1439.399     478.388\n",
      "street_Варшавская       -1137.6981    696.624     -1.633      0.104   -2509.297     233.901\n",
      "street_Вахтангова        -729.6894    578.785     -1.261      0.209   -1869.272     409.893\n",
      "street_Весенний_проезд  -8.092e-13   1.13e-12     -0.715      0.475   -3.04e-12    1.42e-12\n",
      "street_Ветлужская        -644.6587    431.743     -1.493      0.137   -1494.727     205.410\n",
      "street_Героев_Труда       601.3777    431.615      1.393      0.165    -248.438    1451.194\n",
      "street_Гидромонтажная    -402.3790    595.090     -0.676      0.500   -1574.066     769.308\n",
      "street_Демакова           372.8796    351.039      1.062      0.289    -318.289    1064.048\n",
      "street_Динамовцев        -563.8101    476.024     -1.184      0.237   -1501.065     373.445\n",
      "street_Добровольческая    8.17e-14   6.53e-13      0.125      0.900    -1.2e-12    1.37e-12\n",
      "street_Жемчужная         1510.2219    590.199      2.559      0.011     348.165    2672.279\n",
      "street_Зеленая_Горка    -1730.2972    961.083     -1.800      0.073   -3622.594     162.000\n",
      "street_Золотодолинская   3182.6082    526.277      6.047      0.000    2146.409    4218.807\n",
      "street_Иванова            257.1576    312.867      0.822      0.412    -358.852     873.168\n",
      "street_Ивлева           -1.065e-12   5.42e-13     -1.964      0.051   -2.13e-12    2.53e-15\n",
      "street_Ильича            3286.3010    535.211      6.140      0.000    2232.512    4340.090\n",
      "street_Лесосечная       -1021.6917    306.108     -3.338      0.001   -1624.394    -418.990\n",
      "street_Миргородская_2-я  -112.2002    426.437     -0.263      0.793    -951.822     727.421\n",
      "street_Молодежи_бульвар   346.5930    324.850      1.067      0.287    -293.011     986.197\n",
      "street_Молодости        -1269.2642    371.552     -3.416      0.001   -2000.821    -537.707\n",
      "street_Морской_проспект  3425.6906    380.543      9.002      0.000    2676.431    4174.950\n",
      "street_Мусы_Джалиля     -2.096e-13   3.41e-13     -0.614      0.540   -8.82e-13    4.63e-13\n",
      "street_Новоморская      -2.318e-13   3.88e-13     -0.598      0.550   -9.95e-13    5.32e-13\n",
      "street_Одоевского        -781.9213    948.240     -0.825      0.410   -2648.932    1085.090\n",
      "street_Печатников        -697.3172    377.015     -1.850      0.065   -1439.631      44.997\n",
      "street_Пирогова          2378.1248    710.683      3.346      0.001     978.844    3777.405\n",
      "street_Полевая            283.6767    356.890      0.795      0.427    -419.013     986.366\n",
      "street_Правды            3005.7470    585.055      5.138      0.000    1853.820    4157.674\n",
      "street_Приморская       -1428.0348    396.951     -3.598      0.000   -2209.600    -646.469\n",
      "street_Разъездная         974.9860    711.554      1.370      0.172    -426.008    2375.980\n",
      "street_Российская        1336.7780    342.908      3.898      0.000     661.620    2011.936\n",
      "street_Русская           -239.1661    445.467     -0.537      0.592   -1116.255     637.923\n",
      "street_Рыбацкая         -1731.5312    958.419     -1.807      0.072   -3618.584     155.521\n",
      "street_Садовый           -913.7551    707.410     -1.292      0.198   -2306.590     479.080\n",
      "street_Садовый_проезд    -812.0092    530.497     -1.531      0.127   -1856.517     232.499\n",
      "street_Сердюкова         8.086e-13    2.9e-13      2.790      0.006    2.38e-13    1.38e-12\n",
      "street_Сиреневая          422.6506    543.054      0.778      0.437    -646.581    1491.882\n",
      "street_Смоленская         613.5054    950.877      0.645      0.519   -1258.698    2485.709\n",
      "street_Солнечногорская  -1188.1008    704.743     -1.686      0.093   -2575.685     199.483\n",
      "street_Софийская         -413.8621    522.156     -0.793      0.429   -1441.946     614.222\n",
      "street_Терешковой        2885.0985    449.874      6.413      0.000    1999.331    3770.866\n",
      "street_Тружеников        -677.0387    949.792     -0.713      0.477   -2547.104    1193.027\n",
      "street_Учёных            1928.8175    590.297      3.268      0.001     766.569    3091.066\n",
      "street_Цветной_проезд    1650.4705    584.903      2.822      0.005     498.842    2802.099\n",
      "street_Часовая           -347.6743    523.912     -0.664      0.508   -1379.216     683.868\n",
      "street_Шатурская          419.6055    440.850      0.952      0.342    -448.394    1287.605\n",
      "street_Шлюзовая          -213.7305    448.388     -0.477      0.634   -1096.571     669.110\n",
      "street_Экваторная        -615.2172    400.779     -1.535      0.126   -1404.320     173.886\n",
      "street_Энгельса          -441.0013    585.336     -0.753      0.452   -1593.483     711.480\n",
      "rooms_2                  -619.0902    182.849     -3.386      0.001    -979.107    -259.074\n",
      "rooms_3                 -1234.7446    260.584     -4.738      0.000   -1747.815    -721.674\n",
      "rooms_4                 -1727.5252    400.248     -4.316      0.000   -2515.582    -939.468\n",
      "==============================================================================\n",
      "Omnibus:                      139.193   Durbin-Watson:                   2.369\n",
      "Prob(Omnibus):                  0.000   Jarque-Bera (JB):             1342.947\n",
      "Skew:                           1.512   Prob(JB):                    2.41e-292\n",
      "Kurtosis:                      12.537   Cond. No.                     1.24e+16\n",
      "==============================================================================\n",
      "\n",
      "Notes:\n",
      "[1] Standard Errors assume that the covariance matrix of the errors is correctly specified.\n",
      "[2] The smallest eigenvalue is 3.21e-30. This might indicate that there are\n",
      "strong multicollinearity problems or that the design matrix is singular.\n",
      "Регрессор с максимальным p-value: street_Добровольческая P-value: 0.9004931661725358\n",
      "-------------------------------------------------------------\n",
      "Номер интерации: 8\n",
      "                            OLS Regression Results                            \n",
      "==============================================================================\n",
      "Dep. Variable:                  price   R-squared:                       0.845\n",
      "Model:                            OLS   Adj. R-squared:                  0.812\n",
      "Method:                 Least Squares   F-statistic:                     26.27\n",
      "Date:                Thu, 07 Sep 2023   Prob (F-statistic):           4.32e-80\n",
      "Time:                        23:27:11   Log-Likelihood:                -2620.2\n",
      "No. Observations:                 322   AIC:                             5352.\n",
      "Df Residuals:                     266   BIC:                             5564.\n",
      "Df Model:                          55                                         \n",
      "Covariance Type:            nonrobust                                         \n",
      "===========================================================================================\n",
      "                              coef    std err          t      P>|t|      [0.025      0.975]\n",
      "-------------------------------------------------------------------------------------------\n",
      "const                    4422.4591    257.616     17.167      0.000    3915.232    4929.686\n",
      "sp_total                 7535.1873    579.455     13.004      0.000    6394.285    8676.089\n",
      "sp_living                -504.2485    647.877     -0.778      0.437   -1779.868     771.371\n",
      "sp_kitchen                126.3791    259.233      0.488      0.626    -384.031     636.789\n",
      "height                    605.7012    163.553      3.703      0.000     283.679     927.724\n",
      "side                     -168.6075    110.044     -1.532      0.127    -385.275      48.060\n",
      "street_Академическая     1691.0268    354.230      4.774      0.000     993.576    2388.478\n",
      "street_Балтийская        -968.0183    331.653     -2.919      0.004   -1621.017    -315.020\n",
      "street_Барьерная         -950.3656    444.917     -2.136      0.034   -1826.372     -74.359\n",
      "street_Благовещенская    -230.6323    703.627     -0.328      0.743   -1616.020    1154.755\n",
      "street_Боровая_Партия    -480.5051    487.014     -0.987      0.325   -1439.399     478.388\n",
      "street_Варшавская       -1137.6981    696.624     -1.633      0.104   -2509.297     233.901\n",
      "street_Вахтангова        -729.6894    578.785     -1.261      0.209   -1869.272     409.893\n",
      "street_Весенний_проезд  -4.437e-13   7.31e-13     -0.607      0.544   -1.88e-12    9.95e-13\n",
      "street_Ветлужская        -644.6587    431.743     -1.493      0.137   -1494.727     205.410\n",
      "street_Героев_Труда       601.3777    431.615      1.393      0.165    -248.438    1451.194\n",
      "street_Гидромонтажная    -402.3790    595.090     -0.676      0.500   -1574.066     769.308\n",
      "street_Демакова           372.8796    351.039      1.062      0.289    -318.289    1064.048\n",
      "street_Динамовцев        -563.8101    476.024     -1.184      0.237   -1501.065     373.445\n",
      "street_Жемчужная         1510.2219    590.199      2.559      0.011     348.165    2672.279\n",
      "street_Зеленая_Горка    -1730.2972    961.083     -1.800      0.073   -3622.594     162.000\n",
      "street_Золотодолинская   3182.6082    526.277      6.047      0.000    2146.409    4218.807\n",
      "street_Иванова            257.1576    312.867      0.822      0.412    -358.852     873.168\n",
      "street_Ивлева           -8.584e-13   4.42e-13     -1.941      0.053   -1.73e-12    1.24e-14\n",
      "street_Ильича            3286.3010    535.211      6.140      0.000    2232.512    4340.090\n",
      "street_Лесосечная       -1021.6917    306.108     -3.338      0.001   -1624.394    -418.990\n",
      "street_Миргородская_2-я  -112.2002    426.437     -0.263      0.793    -951.822     727.421\n",
      "street_Молодежи_бульвар   346.5930    324.850      1.067      0.287    -293.011     986.197\n",
      "street_Молодости        -1269.2642    371.552     -3.416      0.001   -2000.821    -537.707\n",
      "street_Морской_проспект  3425.6906    380.543      9.002      0.000    2676.431    4174.950\n",
      "street_Мусы_Джалиля     -1.828e-13   5.89e-13     -0.310      0.757   -1.34e-12    9.77e-13\n",
      "street_Новоморская          -1e-13   3.79e-13     -0.264      0.792   -8.47e-13    6.47e-13\n",
      "street_Одоевского        -781.9213    948.240     -0.825      0.410   -2648.932    1085.090\n",
      "street_Печатников        -697.3172    377.015     -1.850      0.065   -1439.631      44.997\n",
      "street_Пирогова          2378.1248    710.683      3.346      0.001     978.844    3777.405\n",
      "street_Полевая            283.6767    356.890      0.795      0.427    -419.013     986.366\n",
      "street_Правды            3005.7470    585.055      5.138      0.000    1853.820    4157.674\n",
      "street_Приморская       -1428.0348    396.951     -3.598      0.000   -2209.600    -646.469\n",
      "street_Разъездная         974.9860    711.554      1.370      0.172    -426.008    2375.980\n",
      "street_Российская        1336.7780    342.908      3.898      0.000     661.620    2011.936\n",
      "street_Русская           -239.1661    445.467     -0.537      0.592   -1116.255     637.923\n",
      "street_Рыбацкая         -1731.5312    958.419     -1.807      0.072   -3618.584     155.521\n",
      "street_Садовый           -913.7551    707.410     -1.292      0.198   -2306.590     479.080\n",
      "street_Садовый_проезд    -812.0092    530.497     -1.531      0.127   -1856.517     232.499\n",
      "street_Сердюкова        -4.218e-13    5.8e-13     -0.727      0.468   -1.56e-12     7.2e-13\n",
      "street_Сиреневая          422.6506    543.054      0.778      0.437    -646.581    1491.882\n",
      "street_Смоленская         613.5054    950.877      0.645      0.519   -1258.698    2485.709\n",
      "street_Солнечногорская  -1188.1008    704.743     -1.686      0.093   -2575.685     199.483\n",
      "street_Софийская         -413.8621    522.156     -0.793      0.429   -1441.946     614.222\n",
      "street_Терешковой        2885.0985    449.874      6.413      0.000    1999.331    3770.866\n",
      "street_Тружеников        -677.0387    949.792     -0.713      0.477   -2547.104    1193.027\n",
      "street_Учёных            1928.8175    590.297      3.268      0.001     766.569    3091.066\n",
      "street_Цветной_проезд    1650.4705    584.903      2.822      0.005     498.842    2802.099\n",
      "street_Часовая           -347.6743    523.912     -0.664      0.508   -1379.216     683.868\n",
      "street_Шатурская          419.6055    440.850      0.952      0.342    -448.394    1287.605\n",
      "street_Шлюзовая          -213.7305    448.388     -0.477      0.634   -1096.571     669.110\n",
      "street_Экваторная        -615.2172    400.779     -1.535      0.126   -1404.320     173.886\n",
      "street_Энгельса          -441.0013    585.336     -0.753      0.452   -1593.483     711.480\n",
      "rooms_2                  -619.0902    182.849     -3.386      0.001    -979.107    -259.074\n",
      "rooms_3                 -1234.7446    260.584     -4.738      0.000   -1747.815    -721.674\n",
      "rooms_4                 -1727.5252    400.248     -4.316      0.000   -2515.582    -939.468\n",
      "==============================================================================\n",
      "Omnibus:                      139.193   Durbin-Watson:                   2.369\n",
      "Prob(Omnibus):                  0.000   Jarque-Bera (JB):             1342.947\n",
      "Skew:                           1.512   Prob(JB):                    2.41e-292\n",
      "Kurtosis:                      12.537   Cond. No.                     1.24e+16\n",
      "==============================================================================\n",
      "\n",
      "Notes:\n",
      "[1] Standard Errors assume that the covariance matrix of the errors is correctly specified.\n",
      "[2] The smallest eigenvalue is 3.21e-30. This might indicate that there are\n",
      "strong multicollinearity problems or that the design matrix is singular.\n",
      "Регрессор с максимальным p-value: street_Миргородская_2-я P-value: 0.7926687886493743\n",
      "-------------------------------------------------------------\n",
      "Номер интерации: 9\n",
      "                            OLS Regression Results                            \n",
      "==============================================================================\n",
      "Dep. Variable:                  price   R-squared:                       0.845\n",
      "Model:                            OLS   Adj. R-squared:                  0.813\n",
      "Method:                 Least Squares   F-statistic:                     26.85\n",
      "Date:                Thu, 07 Sep 2023   Prob (F-statistic):           8.57e-81\n",
      "Time:                        23:27:11   Log-Likelihood:                -2620.3\n",
      "No. Observations:                 322   AIC:                             5351.\n",
      "Df Residuals:                     267   BIC:                             5558.\n",
      "Df Model:                          54                                         \n",
      "Covariance Type:            nonrobust                                         \n",
      "===========================================================================================\n",
      "                              coef    std err          t      P>|t|      [0.025      0.975]\n",
      "-------------------------------------------------------------------------------------------\n",
      "const                    4394.1388    233.644     18.807      0.000    3934.119    4854.159\n",
      "sp_total                 7542.8305    577.717     13.056      0.000    6405.370    8680.291\n",
      "sp_living                -486.7176    643.318     -0.757      0.450   -1753.338     779.903\n",
      "sp_kitchen                109.8839    251.099      0.438      0.662    -384.503     604.270\n",
      "height                    602.0249    162.670      3.701      0.000     281.745     922.305\n",
      "side                     -167.8555    109.815     -1.529      0.128    -384.068      48.357\n",
      "street_Академическая     1721.6156    334.025      5.154      0.000    1063.958    2379.273\n",
      "street_Балтийская        -929.4929    297.061     -3.129      0.002   -1514.373    -344.612\n",
      "street_Барьерная         -919.2743    428.189     -2.147      0.033   -1762.331     -76.218\n",
      "street_Благовещенская    -196.9769    690.696     -0.285      0.776   -1556.880    1162.926\n",
      "street_Боровая_Партия    -450.0544    472.238     -0.953      0.341   -1379.838     479.729\n",
      "street_Варшавская       -1100.3850    680.847     -1.616      0.107   -2440.896     240.126\n",
      "street_Вахтангова        -694.2257    561.890     -1.236      0.218   -1800.525     412.073\n",
      "street_Весенний_проезд   -1.68e-12   9.81e-13     -1.713      0.088   -3.61e-12    2.51e-13\n",
      "street_Ветлужская        -612.8758    413.777     -1.481      0.140   -1427.557     201.805\n",
      "street_Героев_Труда       633.8460    412.877      1.535      0.126    -179.062    1446.754\n",
      "street_Гидромонтажная    -375.5622    585.274     -0.642      0.522   -1527.902     776.778\n",
      "street_Демакова           407.8528    324.333      1.258      0.210    -230.723    1046.429\n",
      "street_Динамовцев        -529.1686    456.656     -1.159      0.248   -1428.274     369.937\n",
      "street_Жемчужная         1540.5427    577.830      2.666      0.008     402.860    2678.225\n",
      "street_Зеленая_Горка    -1692.1750    948.441     -1.784      0.076   -3559.549     175.199\n",
      "street_Золотодолинская   3213.5509    512.074      6.276      0.000    2205.334    4221.768\n",
      "street_Иванова            289.5490    287.126      1.008      0.314    -275.770     854.868\n",
      "street_Ивлева            9.696e-13   3.99e-13      2.428      0.016    1.83e-13    1.76e-12\n",
      "street_Ильича            3321.5111    517.307      6.421      0.000    2302.992    4340.030\n",
      "street_Лесосечная        -987.0969    275.948     -3.577      0.000   -1530.409    -443.785\n",
      "street_Молодежи_бульвар   381.8271    295.447      1.292      0.197    -199.875     963.530\n",
      "street_Молодости        -1233.5664    345.291     -3.573      0.000   -1913.406    -553.727\n",
      "street_Морской_проспект  3455.9196    362.152      9.543      0.000    2742.882    4168.957\n",
      "street_Мусы_Джалиля      -1.01e-13   4.78e-13     -0.211      0.833   -1.04e-12    8.39e-13\n",
      "street_Новоморская      -2.829e-13   3.65e-13     -0.774      0.439      -1e-12    4.36e-13\n",
      "street_Одоевского        -745.8194    936.623     -0.796      0.427   -2589.926    1098.288\n",
      "street_Печатников        -664.8896    355.680     -1.869      0.063   -1365.184      35.404\n",
      "street_Пирогова          2415.3446    695.247      3.474      0.001    1046.480    3784.209\n",
      "street_Полевая            318.2518    331.238      0.961      0.338    -333.919     970.423\n",
      "street_Правды            3035.8777    572.737      5.301      0.000    1908.223    4163.532\n",
      "street_Приморская       -1389.9100    368.914     -3.768      0.000   -2116.261    -663.559\n",
      "street_Разъездная        1016.9227    692.263      1.469      0.143    -346.066    2379.911\n",
      "street_Российская        1371.9148    315.284      4.351      0.000     751.156    1992.674\n",
      "street_Русская           -203.8163    423.982     -0.481      0.631   -1038.590     630.957\n",
      "street_Рыбацкая         -1699.1921    948.847     -1.791      0.074   -3567.366     168.982\n",
      "street_Садовый           -880.3135    694.684     -1.267      0.206   -2248.069     487.442\n",
      "street_Садовый_проезд    -785.1753    519.693     -1.511      0.132   -1808.394     238.043\n",
      "street_Сердюкова        -1.137e-13   2.22e-13     -0.513      0.609    -5.5e-13    3.23e-13\n",
      "street_Сиреневая          466.3389    516.144      0.904      0.367    -549.892    1482.570\n",
      "street_Смоленская         643.2492    942.486      0.683      0.496   -1212.401    2498.900\n",
      "street_Солнечногорская  -1151.0257    689.307     -1.670      0.096   -2508.195     206.144\n",
      "street_Софийская         -383.1998    508.097     -0.754      0.451   -1383.586     617.187\n",
      "street_Терешковой        2917.3378    432.111      6.751      0.000    2066.560    3768.116\n",
      "street_Тружеников        -641.6120    938.559     -0.684      0.495   -2489.530    1206.306\n",
      "street_Учёных            1959.1618    577.911      3.390      0.001     821.319    3097.004\n",
      "street_Цветной_проезд    1679.0988    573.691      2.927      0.004     549.566    2808.632\n",
      "street_Часовая           -317.4843    510.301     -0.622      0.534   -1322.210     687.241\n",
      "street_Шатурская          454.3382    419.888      1.082      0.280    -372.375    1281.051\n",
      "street_Шлюзовая          -184.7972    433.936     -0.426      0.671   -1039.168     669.574\n",
      "street_Экваторная        -581.6006    379.205     -1.534      0.126   -1328.214     165.013\n",
      "street_Энгельса          -408.8023    571.402     -0.715      0.475   -1533.828     716.224\n",
      "rooms_2                  -624.1649    181.512     -3.439      0.001    -981.542    -266.788\n",
      "rooms_3                 -1244.4991    257.483     -4.833      0.000   -1751.455    -737.543\n",
      "rooms_4                 -1741.0145    396.258     -4.394      0.000   -2521.203    -960.826\n",
      "==============================================================================\n",
      "Omnibus:                      139.298   Durbin-Watson:                   2.367\n",
      "Prob(Omnibus):                  0.000   Jarque-Bera (JB):             1346.333\n",
      "Skew:                           1.513   Prob(JB):                    4.44e-293\n",
      "Kurtosis:                      12.550   Cond. No.                     1.24e+16\n",
      "==============================================================================\n",
      "\n",
      "Notes:\n",
      "[1] Standard Errors assume that the covariance matrix of the errors is correctly specified.\n",
      "[2] The smallest eigenvalue is 3.21e-30. This might indicate that there are\n",
      "strong multicollinearity problems or that the design matrix is singular.\n",
      "Регрессор с максимальным p-value: street_Мусы_Джалиля P-value: 0.8327289032355509\n",
      "-------------------------------------------------------------\n",
      "Номер интерации: 10\n",
      "                            OLS Regression Results                            \n",
      "==============================================================================\n",
      "Dep. Variable:                  price   R-squared:                       0.845\n",
      "Model:                            OLS   Adj. R-squared:                  0.813\n",
      "Method:                 Least Squares   F-statistic:                     26.85\n",
      "Date:                Thu, 07 Sep 2023   Prob (F-statistic):           8.57e-81\n",
      "Time:                        23:27:12   Log-Likelihood:                -2620.3\n",
      "No. Observations:                 322   AIC:                             5351.\n",
      "Df Residuals:                     267   BIC:                             5558.\n",
      "Df Model:                          54                                         \n",
      "Covariance Type:            nonrobust                                         \n",
      "===========================================================================================\n",
      "                              coef    std err          t      P>|t|      [0.025      0.975]\n",
      "-------------------------------------------------------------------------------------------\n",
      "const                    4394.1388    233.644     18.807      0.000    3934.119    4854.159\n",
      "sp_total                 7542.8305    577.717     13.056      0.000    6405.370    8680.291\n",
      "sp_living                -486.7176    643.318     -0.757      0.450   -1753.338     779.903\n",
      "sp_kitchen                109.8839    251.099      0.438      0.662    -384.503     604.270\n",
      "height                    602.0249    162.670      3.701      0.000     281.745     922.305\n",
      "side                     -167.8555    109.815     -1.529      0.128    -384.068      48.357\n",
      "street_Академическая     1721.6156    334.025      5.154      0.000    1063.958    2379.273\n",
      "street_Балтийская        -929.4929    297.061     -3.129      0.002   -1514.373    -344.612\n",
      "street_Барьерная         -919.2743    428.189     -2.147      0.033   -1762.331     -76.218\n",
      "street_Благовещенская    -196.9769    690.696     -0.285      0.776   -1556.880    1162.926\n",
      "street_Боровая_Партия    -450.0544    472.238     -0.953      0.341   -1379.838     479.729\n",
      "street_Варшавская       -1100.3850    680.847     -1.616      0.107   -2440.896     240.126\n",
      "street_Вахтангова        -694.2257    561.890     -1.236      0.218   -1800.525     412.073\n",
      "street_Весенний_проезд  -3.557e-12   8.28e-13     -4.297      0.000   -5.19e-12   -1.93e-12\n",
      "street_Ветлужская        -612.8758    413.777     -1.481      0.140   -1427.557     201.805\n",
      "street_Героев_Труда       633.8460    412.877      1.535      0.126    -179.062    1446.754\n",
      "street_Гидромонтажная    -375.5622    585.274     -0.642      0.522   -1527.902     776.778\n",
      "street_Демакова           407.8528    324.333      1.258      0.210    -230.723    1046.429\n",
      "street_Динамовцев        -529.1686    456.656     -1.159      0.248   -1428.274     369.937\n",
      "street_Жемчужная         1540.5427    577.830      2.666      0.008     402.860    2678.225\n",
      "street_Зеленая_Горка    -1692.1750    948.441     -1.784      0.076   -3559.549     175.199\n",
      "street_Золотодолинская   3213.5509    512.074      6.276      0.000    2205.334    4221.768\n",
      "street_Иванова            289.5490    287.126      1.008      0.314    -275.770     854.868\n",
      "street_Ивлева           -2.413e-12   4.88e-13     -4.943      0.000   -3.37e-12   -1.45e-12\n",
      "street_Ильича            3321.5111    517.307      6.421      0.000    2302.992    4340.030\n",
      "street_Лесосечная        -987.0969    275.948     -3.577      0.000   -1530.409    -443.785\n",
      "street_Молодежи_бульвар   381.8271    295.447      1.292      0.197    -199.875     963.530\n",
      "street_Молодости        -1233.5664    345.291     -3.573      0.000   -1913.406    -553.727\n",
      "street_Морской_проспект  3455.9196    362.152      9.543      0.000    2742.882    4168.957\n",
      "street_Новоморская      -8.279e-13    4.2e-13     -1.972      0.050   -1.65e-12   -1.13e-15\n",
      "street_Одоевского        -745.8194    936.623     -0.796      0.427   -2589.926    1098.288\n",
      "street_Печатников        -664.8896    355.680     -1.869      0.063   -1365.184      35.404\n",
      "street_Пирогова          2415.3446    695.247      3.474      0.001    1046.480    3784.209\n",
      "street_Полевая            318.2518    331.238      0.961      0.338    -333.919     970.423\n",
      "street_Правды            3035.8777    572.737      5.301      0.000    1908.223    4163.532\n",
      "street_Приморская       -1389.9100    368.914     -3.768      0.000   -2116.261    -663.559\n",
      "street_Разъездная        1016.9227    692.263      1.469      0.143    -346.066    2379.911\n",
      "street_Российская        1371.9148    315.284      4.351      0.000     751.156    1992.674\n",
      "street_Русская           -203.8163    423.982     -0.481      0.631   -1038.590     630.957\n",
      "street_Рыбацкая         -1699.1921    948.847     -1.791      0.074   -3567.366     168.982\n",
      "street_Садовый           -880.3135    694.684     -1.267      0.206   -2248.069     487.442\n",
      "street_Садовый_проезд    -785.1753    519.693     -1.511      0.132   -1808.394     238.043\n",
      "street_Сердюкова         4.915e-13   3.14e-13      1.565      0.119   -1.27e-13    1.11e-12\n",
      "street_Сиреневая          466.3389    516.144      0.904      0.367    -549.892    1482.570\n",
      "street_Смоленская         643.2492    942.486      0.683      0.496   -1212.401    2498.900\n",
      "street_Солнечногорская  -1151.0257    689.307     -1.670      0.096   -2508.195     206.144\n",
      "street_Софийская         -383.1998    508.097     -0.754      0.451   -1383.586     617.187\n",
      "street_Терешковой        2917.3378    432.111      6.751      0.000    2066.560    3768.116\n",
      "street_Тружеников        -641.6120    938.559     -0.684      0.495   -2489.530    1206.306\n",
      "street_Учёных            1959.1618    577.911      3.390      0.001     821.319    3097.004\n",
      "street_Цветной_проезд    1679.0988    573.691      2.927      0.004     549.566    2808.632\n",
      "street_Часовая           -317.4843    510.301     -0.622      0.534   -1322.210     687.241\n",
      "street_Шатурская          454.3382    419.888      1.082      0.280    -372.375    1281.051\n",
      "street_Шлюзовая          -184.7972    433.936     -0.426      0.671   -1039.168     669.574\n",
      "street_Экваторная        -581.6006    379.205     -1.534      0.126   -1328.214     165.013\n",
      "street_Энгельса          -408.8023    571.402     -0.715      0.475   -1533.828     716.224\n",
      "rooms_2                  -624.1649    181.512     -3.439      0.001    -981.542    -266.788\n",
      "rooms_3                 -1244.4991    257.483     -4.833      0.000   -1751.455    -737.543\n",
      "rooms_4                 -1741.0145    396.258     -4.394      0.000   -2521.203    -960.826\n",
      "==============================================================================\n",
      "Omnibus:                      139.298   Durbin-Watson:                   2.367\n",
      "Prob(Omnibus):                  0.000   Jarque-Bera (JB):             1346.333\n",
      "Skew:                           1.513   Prob(JB):                    4.44e-293\n",
      "Kurtosis:                      12.550   Cond. No.                     1.24e+16\n",
      "==============================================================================\n",
      "\n",
      "Notes:\n",
      "[1] Standard Errors assume that the covariance matrix of the errors is correctly specified.\n",
      "[2] The smallest eigenvalue is 3.21e-30. This might indicate that there are\n",
      "strong multicollinearity problems or that the design matrix is singular.\n",
      "Регрессор с максимальным p-value: street_Благовещенская P-value: 0.7757226336973385\n",
      "-------------------------------------------------------------\n",
      "Номер интерации: 11\n",
      "                            OLS Regression Results                            \n",
      "==============================================================================\n",
      "Dep. Variable:                  price   R-squared:                       0.844\n",
      "Model:                            OLS   Adj. R-squared:                  0.814\n",
      "Method:                 Least Squares   F-statistic:                     27.45\n",
      "Date:                Thu, 07 Sep 2023   Prob (F-statistic):           1.69e-81\n",
      "Time:                        23:27:12   Log-Likelihood:                -2620.3\n",
      "No. Observations:                 322   AIC:                             5349.\n",
      "Df Residuals:                     268   BIC:                             5552.\n",
      "Df Model:                          53                                         \n",
      "Covariance Type:            nonrobust                                         \n",
      "===========================================================================================\n",
      "                              coef    std err          t      P>|t|      [0.025      0.975]\n",
      "-------------------------------------------------------------------------------------------\n",
      "const                    4374.2078    222.565     19.654      0.000    3936.010    4812.405\n",
      "sp_total                 7537.7688    576.454     13.076      0.000    6402.815    8672.722\n",
      "sp_living                -482.7392    642.063     -0.752      0.453   -1746.868     781.390\n",
      "sp_kitchen                104.6508    249.998      0.419      0.676    -387.560     596.861\n",
      "height                    611.6862    158.831      3.851      0.000     298.972     924.401\n",
      "side                     -165.8767    109.407     -1.516      0.131    -381.283      49.530\n",
      "street_Академическая     1742.6049    325.257      5.358      0.000    1102.221    2382.988\n",
      "street_Балтийская        -915.8288    292.669     -3.129      0.002   -1492.052    -339.606\n",
      "street_Барьерная         -901.7495    423.030     -2.132      0.034   -1734.634     -68.865\n",
      "street_Боровая_Партия    -426.1158    463.921     -0.919      0.359   -1339.508     487.277\n",
      "street_Варшавская       -1085.0209    677.548     -1.601      0.110   -2419.014     248.972\n",
      "street_Вахтангова        -676.5785    557.514     -1.214      0.226   -1774.243     421.086\n",
      "street_Весенний_проезд   2.199e-12   4.78e-13      4.597      0.000    1.26e-12    3.14e-12\n",
      "street_Ветлужская        -594.3752    407.959     -1.457      0.146   -1397.588     208.837\n",
      "street_Героев_Труда       653.8948    406.150      1.610      0.109    -145.755    1453.544\n",
      "street_Гидромонтажная    -356.7932    580.565     -0.615      0.539   -1499.841     786.255\n",
      "street_Демакова           425.0566    318.127      1.336      0.183    -201.290    1051.403\n",
      "street_Динамовцев        -510.4289    451.129     -1.131      0.259   -1398.636     377.778\n",
      "street_Жемчужная         1561.0786    572.342      2.728      0.007     434.220    2687.937\n",
      "street_Зеленая_Горка    -1668.0542    943.042     -1.769      0.078   -3524.766     188.658\n",
      "street_Золотодолинская   3233.8999    506.209      6.388      0.000    2237.249    4230.551\n",
      "street_Иванова            308.0982    279.182      1.104      0.271    -241.571     857.767\n",
      "street_Ивлева           -2.967e-12   4.85e-13     -6.112      0.000   -3.92e-12   -2.01e-12\n",
      "street_Ильича            3339.1187    512.728      6.512      0.000    2329.631    4348.606\n",
      "street_Лесосечная        -970.2161    269.063     -3.606      0.000   -1499.962    -440.470\n",
      "street_Молодежи_бульвар   399.7192    288.214      1.387      0.167    -167.732     967.170\n",
      "street_Молодости        -1222.8669    342.658     -3.569      0.000   -1897.511    -548.223\n",
      "street_Морской_проспект  3477.6284    353.455      9.839      0.000    2781.727    4173.529\n",
      "street_Новоморская       1.995e-12   4.74e-13      4.213      0.000    1.06e-12    2.93e-12\n",
      "street_Одоевского        -736.7082    934.473     -0.788      0.431   -2576.549    1103.133\n",
      "street_Печатников        -645.8501    348.759     -1.852      0.065   -1332.506      40.805\n",
      "street_Пирогова          2436.2249    690.195      3.530      0.000    1077.330    3795.120\n",
      "street_Полевая            335.9179    324.836      1.034      0.302    -303.637     975.473\n",
      "street_Правды            3058.2847    566.349      5.400      0.000    1943.226    4173.343\n",
      "street_Приморская       -1373.8930    363.989     -3.775      0.000   -2090.534    -657.252\n",
      "street_Разъездная        1039.4309    686.569      1.514      0.131    -312.325    2391.187\n",
      "street_Российская        1388.8762    309.092      4.493      0.000     780.318    1997.434\n",
      "street_Русская           -189.5409    420.295     -0.451      0.652   -1017.040     637.958\n",
      "street_Рыбацкая         -1675.9805    943.728     -1.776      0.077   -3534.044     182.083\n",
      "street_Садовый           -854.3074    687.492     -1.243      0.215   -2207.879     499.264\n",
      "street_Садовый_проезд    -762.2549    512.560     -1.487      0.138   -1771.412     246.902\n",
      "street_Сердюкова        -6.917e-15   2.31e-13     -0.030      0.976   -4.62e-13    4.48e-13\n",
      "street_Сиреневая          484.5149    511.316      0.948      0.344    -522.192    1491.221\n",
      "street_Смоленская         662.1994    938.528      0.706      0.481   -1185.627    2510.026\n",
      "street_Солнечногорская  -1129.3494    683.929     -1.651      0.100   -2475.906     217.207\n",
      "street_Софийская         -364.5246    502.995     -0.725      0.469   -1354.849     625.800\n",
      "street_Терешковой        2936.7817    425.966      6.894      0.000    2098.116    3775.447\n",
      "street_Тружеников        -626.6310    935.480     -0.670      0.504   -2468.456    1215.194\n",
      "street_Учёных            1979.6504    572.444      3.458      0.001     852.590    3106.711\n",
      "street_Цветной_проезд    1699.7328    568.134      2.992      0.003     581.160    2818.306\n",
      "street_Часовая           -296.1292    503.911     -0.588      0.557   -1288.257     695.999\n",
      "street_Шатурская          468.7623    416.116      1.127      0.261    -350.510    1288.034\n",
      "street_Шлюзовая          -164.1223    427.103     -0.384      0.701   -1005.027     676.782\n",
      "street_Экваторная        -564.5231    373.805     -1.510      0.132   -1300.491     171.445\n",
      "street_Энгельса          -389.8346    566.544     -0.688      0.492   -1505.278     725.608\n",
      "rooms_2                  -623.4111    181.182     -3.441      0.001    -980.131    -266.691\n",
      "rooms_3                 -1240.8551    256.725     -4.833      0.000   -1746.310    -735.401\n",
      "rooms_4                 -1736.4623    395.257     -4.393      0.000   -2514.667    -958.258\n",
      "==============================================================================\n",
      "Omnibus:                      139.347   Durbin-Watson:                   2.366\n",
      "Prob(Omnibus):                  0.000   Jarque-Bera (JB):             1347.146\n",
      "Skew:                           1.513   Prob(JB):                    2.96e-293\n",
      "Kurtosis:                      12.552   Cond. No.                     1.24e+16\n",
      "==============================================================================\n",
      "\n",
      "Notes:\n",
      "[1] Standard Errors assume that the covariance matrix of the errors is correctly specified.\n",
      "[2] The smallest eigenvalue is 3.21e-30. This might indicate that there are\n",
      "strong multicollinearity problems or that the design matrix is singular.\n",
      "Регрессор с максимальным p-value: street_Сердюкова P-value: 0.9761420730295036\n",
      "-------------------------------------------------------------\n",
      "Номер интерации: 12\n",
      "                            OLS Regression Results                            \n",
      "==============================================================================\n",
      "Dep. Variable:                  price   R-squared:                       0.844\n",
      "Model:                            OLS   Adj. R-squared:                  0.814\n",
      "Method:                 Least Squares   F-statistic:                     27.45\n",
      "Date:                Thu, 07 Sep 2023   Prob (F-statistic):           1.69e-81\n",
      "Time:                        23:27:13   Log-Likelihood:                -2620.3\n",
      "No. Observations:                 322   AIC:                             5349.\n",
      "Df Residuals:                     268   BIC:                             5552.\n",
      "Df Model:                          53                                         \n",
      "Covariance Type:            nonrobust                                         \n",
      "===========================================================================================\n",
      "                              coef    std err          t      P>|t|      [0.025      0.975]\n",
      "-------------------------------------------------------------------------------------------\n",
      "const                    4374.2078    222.565     19.654      0.000    3936.010    4812.405\n",
      "sp_total                 7537.7688    576.454     13.076      0.000    6402.815    8672.722\n",
      "sp_living                -482.7392    642.063     -0.752      0.453   -1746.868     781.390\n",
      "sp_kitchen                104.6508    249.998      0.419      0.676    -387.560     596.861\n",
      "height                    611.6862    158.831      3.851      0.000     298.972     924.401\n",
      "side                     -165.8767    109.407     -1.516      0.131    -381.283      49.530\n",
      "street_Академическая     1742.6049    325.257      5.358      0.000    1102.221    2382.988\n",
      "street_Балтийская        -915.8288    292.669     -3.129      0.002   -1492.052    -339.606\n",
      "street_Барьерная         -901.7495    423.030     -2.132      0.034   -1734.634     -68.865\n",
      "street_Боровая_Партия    -426.1158    463.921     -0.919      0.359   -1339.508     487.277\n",
      "street_Варшавская       -1085.0209    677.548     -1.601      0.110   -2419.014     248.972\n",
      "street_Вахтангова        -676.5785    557.514     -1.214      0.226   -1774.243     421.086\n",
      "street_Весенний_проезд  -1.429e-12   6.86e-13     -2.083      0.038   -2.78e-12   -7.85e-14\n",
      "street_Ветлужская        -594.3752    407.959     -1.457      0.146   -1397.588     208.837\n",
      "street_Героев_Труда       653.8948    406.150      1.610      0.109    -145.755    1453.544\n",
      "street_Гидромонтажная    -356.7932    580.565     -0.615      0.539   -1499.841     786.255\n",
      "street_Демакова           425.0566    318.127      1.336      0.183    -201.290    1051.403\n",
      "street_Динамовцев        -510.4289    451.129     -1.131      0.259   -1398.636     377.778\n",
      "street_Жемчужная         1561.0786    572.342      2.728      0.007     434.220    2687.937\n",
      "street_Зеленая_Горка    -1668.0542    943.042     -1.769      0.078   -3524.766     188.658\n",
      "street_Золотодолинская   3233.8999    506.209      6.388      0.000    2237.249    4230.551\n",
      "street_Иванова            308.0982    279.182      1.104      0.271    -241.571     857.767\n",
      "street_Ивлева            1.002e-12   5.69e-13      1.762      0.079   -1.18e-13    2.12e-12\n",
      "street_Ильича            3339.1187    512.728      6.512      0.000    2329.631    4348.606\n",
      "street_Лесосечная        -970.2161    269.063     -3.606      0.000   -1499.962    -440.470\n",
      "street_Молодежи_бульвар   399.7192    288.214      1.387      0.167    -167.732     967.170\n",
      "street_Молодости        -1222.8669    342.658     -3.569      0.000   -1897.511    -548.223\n",
      "street_Морской_проспект  3477.6284    353.455      9.839      0.000    2781.727    4173.529\n",
      "street_Новоморская      -2.369e-12   5.63e-13     -4.205      0.000   -3.48e-12   -1.26e-12\n",
      "street_Одоевского        -736.7082    934.473     -0.788      0.431   -2576.549    1103.133\n",
      "street_Печатников        -645.8501    348.759     -1.852      0.065   -1332.506      40.805\n",
      "street_Пирогова          2436.2249    690.195      3.530      0.000    1077.330    3795.120\n",
      "street_Полевая            335.9179    324.836      1.034      0.302    -303.637     975.473\n",
      "street_Правды            3058.2847    566.349      5.400      0.000    1943.226    4173.343\n",
      "street_Приморская       -1373.8930    363.989     -3.775      0.000   -2090.534    -657.252\n",
      "street_Разъездная        1039.4309    686.569      1.514      0.131    -312.325    2391.187\n",
      "street_Российская        1388.8762    309.092      4.493      0.000     780.318    1997.434\n",
      "street_Русская           -189.5409    420.295     -0.451      0.652   -1017.040     637.958\n",
      "street_Рыбацкая         -1675.9805    943.728     -1.776      0.077   -3534.044     182.083\n",
      "street_Садовый           -854.3074    687.492     -1.243      0.215   -2207.879     499.264\n",
      "street_Садовый_проезд    -762.2549    512.560     -1.487      0.138   -1771.412     246.902\n",
      "street_Сиреневая          484.5149    511.316      0.948      0.344    -522.192    1491.221\n",
      "street_Смоленская         662.1994    938.528      0.706      0.481   -1185.627    2510.026\n",
      "street_Солнечногорская  -1129.3494    683.929     -1.651      0.100   -2475.906     217.207\n",
      "street_Софийская         -364.5246    502.995     -0.725      0.469   -1354.849     625.800\n",
      "street_Терешковой        2936.7817    425.966      6.894      0.000    2098.116    3775.447\n",
      "street_Тружеников        -626.6310    935.480     -0.670      0.504   -2468.456    1215.194\n",
      "street_Учёных            1979.6504    572.444      3.458      0.001     852.590    3106.711\n",
      "street_Цветной_проезд    1699.7328    568.134      2.992      0.003     581.160    2818.306\n",
      "street_Часовая           -296.1292    503.911     -0.588      0.557   -1288.257     695.999\n",
      "street_Шатурская          468.7623    416.116      1.127      0.261    -350.510    1288.034\n",
      "street_Шлюзовая          -164.1223    427.103     -0.384      0.701   -1005.027     676.782\n",
      "street_Экваторная        -564.5231    373.805     -1.510      0.132   -1300.491     171.445\n",
      "street_Энгельса          -389.8346    566.544     -0.688      0.492   -1505.278     725.608\n",
      "rooms_2                  -623.4111    181.182     -3.441      0.001    -980.131    -266.691\n",
      "rooms_3                 -1240.8551    256.725     -4.833      0.000   -1746.310    -735.401\n",
      "rooms_4                 -1736.4623    395.257     -4.393      0.000   -2514.667    -958.258\n",
      "==============================================================================\n",
      "Omnibus:                      139.347   Durbin-Watson:                   2.366\n",
      "Prob(Omnibus):                  0.000   Jarque-Bera (JB):             1347.146\n",
      "Skew:                           1.513   Prob(JB):                    2.96e-293\n",
      "Kurtosis:                      12.552   Cond. No.                     1.24e+16\n",
      "==============================================================================\n",
      "\n",
      "Notes:\n",
      "[1] Standard Errors assume that the covariance matrix of the errors is correctly specified.\n",
      "[2] The smallest eigenvalue is 3.21e-30. This might indicate that there are\n",
      "strong multicollinearity problems or that the design matrix is singular.\n",
      "Регрессор с максимальным p-value: street_Шлюзовая P-value: 0.7010841161196295\n",
      "-------------------------------------------------------------\n",
      "Номер интерации: 13\n",
      "                            OLS Regression Results                            \n",
      "==============================================================================\n",
      "Dep. Variable:                  price   R-squared:                       0.844\n",
      "Model:                            OLS   Adj. R-squared:                  0.814\n",
      "Method:                 Least Squares   F-statistic:                     28.07\n",
      "Date:                Thu, 07 Sep 2023   Prob (F-statistic):           3.40e-82\n",
      "Time:                        23:27:13   Log-Likelihood:                -2620.4\n",
      "No. Observations:                 322   AIC:                             5347.\n",
      "Df Residuals:                     269   BIC:                             5547.\n",
      "Df Model:                          52                                         \n",
      "Covariance Type:            nonrobust                                         \n",
      "===========================================================================================\n",
      "                              coef    std err          t      P>|t|      [0.025      0.975]\n",
      "-------------------------------------------------------------------------------------------\n",
      "const                    4343.0721    206.963     20.985      0.000    3935.599    4750.545\n",
      "sp_total                 7545.0317    575.230     13.117      0.000    6412.506    8677.557\n",
      "sp_living                -495.8456    640.140     -0.775      0.439   -1756.167     764.476\n",
      "sp_kitchen                108.2646    249.425      0.434      0.665    -382.809     599.338\n",
      "height                    624.7466    154.906      4.033      0.000     319.765     929.728\n",
      "side                     -169.3398    108.862     -1.556      0.121    -383.671      44.991\n",
      "street_Академическая     1782.7123    307.567      5.796      0.000    1177.168    2388.257\n",
      "street_Балтийская        -893.4564    286.365     -3.120      0.002   -1457.258    -329.655\n",
      "street_Барьерная         -864.5345    411.142     -2.103      0.036   -1674.000     -55.069\n",
      "street_Боровая_Партия    -385.1197    450.771     -0.854      0.394   -1272.608     502.368\n",
      "street_Варшавская       -1056.2484    672.330     -1.571      0.117   -2379.946     267.450\n",
      "street_Вахтангова        -645.0056    550.552     -1.172      0.242   -1728.945     438.934\n",
      "street_Весенний_проезд   2.423e-12   8.68e-13      2.790      0.006    7.13e-13    4.13e-12\n",
      "street_Ветлужская        -556.7454    395.404     -1.408      0.160   -1335.225     221.734\n",
      "street_Героев_Труда       692.8703    392.657      1.765      0.079     -80.202    1465.943\n",
      "street_Гидромонтажная    -312.8103    568.268     -0.550      0.582   -1431.628     806.008\n",
      "street_Демакова           457.1734    306.465      1.492      0.137    -146.202    1060.549\n",
      "street_Динамовцев        -477.5525    442.239     -1.080      0.281   -1348.243     393.138\n",
      "street_Жемчужная         1602.9375    560.989      2.857      0.005     498.450    2707.425\n",
      "street_Зеленая_Горка    -1632.9168    937.110     -1.743      0.083   -3477.919     212.086\n",
      "street_Золотодолинская   3273.9522    494.576      6.620      0.000    2300.220    4247.685\n",
      "street_Иванова            341.7344    264.685      1.291      0.198    -179.382     862.851\n",
      "street_Ивлева            5.076e-13   4.91e-13      1.033      0.302    -4.6e-13    1.48e-12\n",
      "street_Ильича            3373.2392    504.180      6.691      0.000    2380.598    4365.881\n",
      "street_Лесосечная        -940.1883    257.057     -3.658      0.000   -1446.288    -434.088\n",
      "street_Молодежи_бульвар   430.7223    276.252      1.559      0.120    -113.169     974.614\n",
      "street_Молодости        -1199.6077    336.735     -3.562      0.000   -1862.579    -536.637\n",
      "street_Морской_проспект  3517.9379    336.995     10.439      0.000    2854.456    4181.420\n",
      "street_Новоморская      -1.146e-12   3.33e-13     -3.443      0.001    -1.8e-12   -4.91e-13\n",
      "street_Одоевского        -713.1502    930.981     -0.766      0.444   -2546.086    1119.786\n",
      "street_Печатников        -609.8898    335.436     -1.818      0.070   -1270.304      50.525\n",
      "street_Пирогова          2467.6798    684.238      3.606      0.000    1120.538    3814.822\n",
      "street_Полевая            368.1275    313.338      1.175      0.241    -248.779     985.034\n",
      "street_Правды            3097.7054    556.097      5.570      0.000    2002.850    4192.561\n",
      "street_Приморская       -1347.0436    356.653     -3.777      0.000   -2049.230    -644.857\n",
      "street_Разъездная        1068.8494    681.206      1.569      0.118    -272.324    2410.023\n",
      "street_Российская        1417.4026    299.570      4.731      0.000     827.603    2007.202\n",
      "street_Русская           -163.4866    414.132     -0.395      0.693    -978.839     651.865\n",
      "street_Рыбацкая         -1642.8645    938.295     -1.751      0.081   -3490.200     204.471\n",
      "street_Садовый           -814.8262    678.693     -1.201      0.231   -2151.052     521.400\n",
      "street_Садовый_проезд    -722.1732    501.039     -1.441      0.151   -1708.631     264.284\n",
      "street_Сиреневая          508.4557    506.701      1.003      0.317    -489.149    1506.060\n",
      "street_Смоленская         703.0464    931.011      0.755      0.451   -1129.948    2536.041\n",
      "street_Солнечногорская  -1096.1943    677.389     -1.618      0.107   -2429.852     237.464\n",
      "street_Софийская         -328.4405    493.369     -0.666      0.506   -1299.795     642.914\n",
      "street_Терешковой        2972.5070    415.038      7.162      0.000    2155.372    3789.642\n",
      "street_Тружеников        -594.5180    930.263     -0.639      0.523   -2426.040    1237.004\n",
      "street_Учёных            2021.3996    561.149      3.602      0.000     916.598    3126.201\n",
      "street_Цветной_проезд    1739.8637    557.567      3.120      0.002     642.113    2837.614\n",
      "street_Часовая           -256.1387    492.266     -0.520      0.603   -1225.322     713.045\n",
      "street_Шатурская          496.9577    408.946      1.215      0.225    -308.185    1302.100\n",
      "street_Экваторная        -530.9225    362.858     -1.463      0.145   -1245.325     183.480\n",
      "street_Энгельса          -354.9712    558.346     -0.636      0.525   -1454.254     744.312\n",
      "rooms_2                  -625.5384    180.810     -3.460      0.001    -981.521    -269.556\n",
      "rooms_3                 -1238.2320    256.227     -4.833      0.000   -1742.698    -733.766\n",
      "rooms_4                 -1731.7721    394.443     -4.390      0.000   -2508.359    -955.185\n",
      "==============================================================================\n",
      "Omnibus:                      138.961   Durbin-Watson:                   2.365\n",
      "Prob(Omnibus):                  0.000   Jarque-Bera (JB):             1338.955\n",
      "Skew:                           1.509   Prob(JB):                    1.78e-291\n",
      "Kurtosis:                      12.523   Cond. No.                     1.24e+16\n",
      "==============================================================================\n",
      "\n",
      "Notes:\n",
      "[1] Standard Errors assume that the covariance matrix of the errors is correctly specified.\n",
      "[2] The smallest eigenvalue is 3.21e-30. This might indicate that there are\n",
      "strong multicollinearity problems or that the design matrix is singular.\n",
      "Регрессор с максимальным p-value: street_Русская P-value: 0.6933260043988869\n",
      "-------------------------------------------------------------\n",
      "Номер интерации: 14\n",
      "                            OLS Regression Results                            \n",
      "==============================================================================\n",
      "Dep. Variable:                  price   R-squared:                       0.844\n",
      "Model:                            OLS   Adj. R-squared:                  0.815\n",
      "Method:                 Least Squares   F-statistic:                     28.70\n",
      "Date:                Thu, 07 Sep 2023   Prob (F-statistic):           6.80e-83\n",
      "Time:                        23:27:13   Log-Likelihood:                -2620.5\n",
      "No. Observations:                 322   AIC:                             5345.\n",
      "Df Residuals:                     270   BIC:                             5541.\n",
      "Df Model:                          51                                         \n",
      "Covariance Type:            nonrobust                                         \n",
      "===========================================================================================\n",
      "                              coef    std err          t      P>|t|      [0.025      0.975]\n",
      "-------------------------------------------------------------------------------------------\n",
      "const                    4320.7415    198.771     21.737      0.000    3929.403    4712.080\n",
      "sp_total                 7578.5283    568.048     13.341      0.000    6460.162    8696.894\n",
      "sp_living                -512.1047    637.814     -0.803      0.423   -1767.826     743.617\n",
      "sp_kitchen                 96.9472    247.385      0.392      0.695    -390.101     583.995\n",
      "height                    617.1070    153.452      4.022      0.000     314.993     919.221\n",
      "side                     -165.5919    108.278     -1.529      0.127    -378.768      47.585\n",
      "street_Академическая     1805.4900    301.634      5.986      0.000    1211.637    2399.343\n",
      "street_Балтийская        -865.4302    276.991     -3.124      0.002   -1410.767    -320.093\n",
      "street_Барьерная         -833.8490    403.096     -2.069      0.040   -1627.459     -40.239\n",
      "street_Боровая_Партия    -363.2065    446.640     -0.813      0.417   -1242.547     516.134\n",
      "street_Варшавская       -1026.1720    666.954     -1.539      0.125   -2339.264     286.920\n",
      "street_Вахтангова        -620.0344    546.051     -1.135      0.257   -1695.093     455.024\n",
      "street_Весенний_проезд   1.939e-12   5.49e-13      3.532      0.000    8.58e-13    3.02e-12\n",
      "street_Ветлужская        -531.6588    389.653     -1.364      0.174   -1298.804     235.486\n",
      "street_Героев_Труда       715.1325    387.979      1.843      0.066     -48.716    1478.981\n",
      "street_Гидромонтажная    -295.2524    565.638     -0.522      0.602   -1408.875     818.370\n",
      "street_Демакова           485.1089    297.717      1.629      0.104    -101.033    1071.251\n",
      "street_Динамовцев        -451.3909    436.562     -1.034      0.302   -1310.889     408.107\n",
      "street_Жемчужная         1624.5792    557.431      2.914      0.004     527.116    2722.042\n",
      "street_Зеленая_Горка    -1605.4460    933.061     -1.721      0.086   -3442.445     231.553\n",
      "street_Золотодолинская   3297.0087    490.347      6.724      0.000    2331.618    4262.399\n",
      "street_Иванова            366.0770    256.999      1.424      0.155    -139.900     872.054\n",
      "street_Ивлева            1.944e-12   6.55e-13      2.966      0.003    6.53e-13    3.23e-12\n",
      "street_Ильича            3403.8102    497.418      6.843      0.000    2424.499    4383.122\n",
      "street_Лесосечная        -912.9588    247.243     -3.693      0.000   -1399.728    -426.190\n",
      "street_Молодежи_бульвар   453.1283    269.936      1.679      0.094     -78.318     984.575\n",
      "street_Молодости        -1168.0172    326.576     -3.577      0.000   -1810.977    -525.057\n",
      "street_Морской_проспект  3537.9464    332.640     10.636      0.000    2883.048    4192.845\n",
      "street_Новоморская       -2.41e-12   5.48e-13     -4.396      0.000   -3.49e-12   -1.33e-12\n",
      "street_Одоевского        -682.3658    926.258     -0.737      0.462   -2505.972    1141.241\n",
      "street_Печатников        -585.4272    329.147     -1.779      0.076   -1233.449      62.594\n",
      "street_Пирогова          2490.6767    680.687      3.659      0.000    1150.548    3830.805\n",
      "street_Полевая            393.8973    305.983      1.287      0.199    -208.519     996.313\n",
      "street_Правды            3119.9336    552.373      5.648      0.000    2032.427    4207.440\n",
      "street_Приморская       -1316.2986    347.502     -3.788      0.000   -2000.456    -632.141\n",
      "street_Разъездная        1093.8653    677.191      1.615      0.107    -239.381    2427.112\n",
      "street_Российская        1442.8984    292.067      4.940      0.000     867.879    2017.917\n",
      "street_Рыбацкая         -1621.2416    935.229     -1.734      0.084   -3462.511     220.028\n",
      "street_Садовый           -798.1497    676.317     -1.180      0.239   -2129.676     533.376\n",
      "street_Садовый_проезд    -700.8106    497.329     -1.409      0.160   -1679.947     278.326\n",
      "street_Сиреневая          538.9073    500.012      1.078      0.282    -445.510    1523.325\n",
      "street_Смоленская         727.1046    927.560      0.784      0.434   -1099.066    2553.275\n",
      "street_Солнечногорская  -1067.6892    672.476     -1.588      0.114   -2391.652     256.274\n",
      "street_Софийская         -302.0087    488.040     -0.619      0.537   -1262.856     658.838\n",
      "street_Терешковой        2999.2652    408.825      7.336      0.000    2194.376    3804.155\n",
      "street_Тружеников        -567.7030    926.328     -0.613      0.540   -2391.448    1256.042\n",
      "street_Учёных            2042.7420    557.664      3.663      0.000     944.818    3140.666\n",
      "street_Цветной_проезд    1761.8788    553.903      3.181      0.002     671.360    2852.398\n",
      "street_Часовая           -234.2808    488.377     -0.480      0.632   -1195.792     727.230\n",
      "street_Шатурская          522.9816    402.967      1.298      0.195    -270.375    1316.338\n",
      "street_Экваторная        -507.3460    357.350     -1.420      0.157   -1210.892     196.200\n",
      "street_Энгельса          -327.7338    553.199     -0.592      0.554   -1416.867     761.399\n",
      "rooms_2                  -627.1481    180.481     -3.475      0.001    -982.477    -271.819\n",
      "rooms_3                 -1248.7568    254.438     -4.908      0.000   -1749.691    -747.822\n",
      "rooms_4                 -1753.7170    389.895     -4.498      0.000   -2521.338    -986.096\n",
      "==============================================================================\n",
      "Omnibus:                      138.817   Durbin-Watson:                   2.357\n",
      "Prob(Omnibus):                  0.000   Jarque-Bera (JB):             1334.113\n",
      "Skew:                           1.508   Prob(JB):                    2.00e-290\n",
      "Kurtosis:                      12.505   Cond. No.                     1.24e+16\n",
      "==============================================================================\n",
      "\n",
      "Notes:\n",
      "[1] Standard Errors assume that the covariance matrix of the errors is correctly specified.\n",
      "[2] The smallest eigenvalue is 3.21e-30. This might indicate that there are\n",
      "strong multicollinearity problems or that the design matrix is singular.\n",
      "Регрессор с максимальным p-value: sp_kitchen P-value: 0.6954497529579745\n",
      "-------------------------------------------------------------\n",
      "Номер интерации: 15\n",
      "                            OLS Regression Results                            \n",
      "==============================================================================\n",
      "Dep. Variable:                  price   R-squared:                       0.844\n",
      "Model:                            OLS   Adj. R-squared:                  0.815\n",
      "Method:                 Least Squares   F-statistic:                     29.37\n",
      "Date:                Thu, 07 Sep 2023   Prob (F-statistic):           1.34e-83\n",
      "Time:                        23:27:14   Log-Likelihood:                -2620.6\n",
      "No. Observations:                 322   AIC:                             5343.\n",
      "Df Residuals:                     271   BIC:                             5536.\n",
      "Df Model:                          50                                         \n",
      "Covariance Type:            nonrobust                                         \n",
      "===========================================================================================\n",
      "                              coef    std err          t      P>|t|      [0.025      0.975]\n",
      "-------------------------------------------------------------------------------------------\n",
      "const                    4329.3955    197.232     21.951      0.000    3941.094    4717.697\n",
      "sp_total                 7680.8608    503.682     15.249      0.000    6689.233    8672.489\n",
      "sp_living                -523.8306    636.116     -0.823      0.411   -1776.188     728.527\n",
      "height                    609.8074    152.079      4.010      0.000     310.401     909.214\n",
      "side                     -162.9496    107.899     -1.510      0.132    -375.376      49.477\n",
      "street_Академическая     1805.9026    301.161      5.996      0.000    1212.991    2398.814\n",
      "street_Балтийская        -844.1019    271.167     -3.113      0.002   -1377.964    -310.240\n",
      "street_Барьерная         -837.3016    402.369     -2.081      0.038   -1629.469     -45.134\n",
      "street_Боровая_Партия    -363.5037    445.942     -0.815      0.416   -1241.454     514.447\n",
      "street_Варшавская       -1009.1595    664.500     -1.519      0.130   -2317.397     299.079\n",
      "street_Вахтангова        -604.0608    543.676     -1.111      0.268   -1674.427     466.305\n",
      "street_Весенний_проезд  -4.005e-13   8.36e-13     -0.479      0.632   -2.05e-12    1.25e-12\n",
      "street_Ветлужская        -534.1109    388.994     -1.373      0.171   -1299.946     231.724\n",
      "street_Героев_Труда       715.1327    387.372      1.846      0.066     -47.509    1477.775\n",
      "street_Гидромонтажная    -321.0180    560.926     -0.572      0.568   -1425.345     783.309\n",
      "street_Демакова           496.5823    295.811      1.679      0.094     -85.797    1078.962\n",
      "street_Динамовцев        -434.4355    433.734     -1.002      0.317   -1288.351     419.480\n",
      "street_Жемчужная         1617.5898    556.274      2.908      0.004     522.421    2712.759\n",
      "street_Зеленая_Горка    -1578.6572    929.099     -1.699      0.090   -3407.826     250.512\n",
      "street_Золотодолинская   3291.4531    489.376      6.726      0.000    2327.990    4254.916\n",
      "street_Иванова            365.2581    256.589      1.424      0.156    -139.903     870.419\n",
      "street_Ивлева           -2.403e-13   5.98e-13     -0.402      0.688   -1.42e-12    9.36e-13\n",
      "street_Ильича            3416.5253    495.583      6.894      0.000    2440.843    4392.208\n",
      "street_Лесосечная        -905.6870    246.160     -3.679      0.000   -1390.317    -421.057\n",
      "street_Молодежи_бульвар   457.8975    269.240      1.701      0.090     -72.170     987.965\n",
      "street_Молодости        -1159.3182    325.312     -3.564      0.000   -1799.778    -518.858\n",
      "street_Морской_проспект  3526.9014    330.926     10.658      0.000    2875.389    4178.414\n",
      "street_Новоморская      -1.021e-13   7.05e-13     -0.145      0.885   -1.49e-12    1.29e-12\n",
      "street_Одоевского        -664.8172    923.729     -0.720      0.472   -2483.414    1153.780\n",
      "street_Печатников        -584.8680    328.630     -1.780      0.076   -1231.860      62.124\n",
      "street_Пирогова          2519.1733    675.734      3.728      0.000    1188.818    3849.528\n",
      "street_Полевая            407.0069    303.674      1.340      0.181    -190.852    1004.866\n",
      "street_Правды            3118.6935    551.501      5.655      0.000    2032.922    4204.465\n",
      "street_Приморская       -1289.3089    340.076     -3.791      0.000   -1958.836    -619.782\n",
      "street_Разъездная        1143.3029    664.297      1.721      0.086    -164.536    2451.142\n",
      "street_Российская        1448.7755    291.226      4.975      0.000     875.422    2022.129\n",
      "street_Рыбацкая         -1622.5564    933.762     -1.738      0.083   -3460.905     215.793\n",
      "street_Садовый           -791.6525    675.057     -1.173      0.242   -2120.676     537.371\n",
      "street_Садовый_проезд    -708.2378    496.191     -1.427      0.155   -1685.118     268.642\n",
      "street_Сиреневая          584.0622    485.794      1.202      0.230    -372.348    1540.472\n",
      "street_Смоленская         731.2686    926.050      0.790      0.430   -1091.898    2554.435\n",
      "street_Солнечногорская  -1046.8791    669.328     -1.564      0.119   -2364.623     270.865\n",
      "street_Софийская         -307.9156    487.044     -0.632      0.528   -1266.787     650.956\n",
      "street_Терешковой        3001.0439    408.161      7.353      0.000    2197.475    3804.613\n",
      "street_Тружеников        -558.8455    924.605     -0.604      0.546   -2379.167    1261.476\n",
      "street_Учёных            2034.3770    556.385      3.656      0.000     938.991    3129.763\n",
      "street_Цветной_проезд    1755.1693    552.773      3.175      0.002     666.893    2843.445\n",
      "street_Часовая           -242.5234    487.161     -0.498      0.619   -1201.625     716.578\n",
      "street_Шатурская          528.8380    402.060      1.315      0.190    -262.720    1320.396\n",
      "street_Экваторная        -503.8200    356.678     -1.413      0.159   -1206.032     198.392\n",
      "street_Энгельса          -330.1161    552.302     -0.598      0.551   -1417.463     757.231\n",
      "rooms_2                  -634.3229    179.269     -3.538      0.000    -987.261    -281.385\n",
      "rooms_3                 -1275.6871    244.599     -5.215      0.000   -1757.244    -794.130\n",
      "rooms_4                 -1793.5208    375.845     -4.772      0.000   -2533.467   -1053.575\n",
      "==============================================================================\n",
      "Omnibus:                      139.678   Durbin-Watson:                   2.356\n",
      "Prob(Omnibus):                  0.000   Jarque-Bera (JB):             1350.681\n",
      "Skew:                           1.518   Prob(JB):                    5.05e-294\n",
      "Kurtosis:                      12.563   Cond. No.                     1.24e+16\n",
      "==============================================================================\n",
      "\n",
      "Notes:\n",
      "[1] Standard Errors assume that the covariance matrix of the errors is correctly specified.\n",
      "[2] The smallest eigenvalue is 3.21e-30. This might indicate that there are\n",
      "strong multicollinearity problems or that the design matrix is singular.\n",
      "Регрессор с максимальным p-value: street_Новоморская P-value: 0.8849160667113742\n",
      "-------------------------------------------------------------\n",
      "Номер интерации: 16\n",
      "                            OLS Regression Results                            \n",
      "==============================================================================\n",
      "Dep. Variable:                  price   R-squared:                       0.844\n",
      "Model:                            OLS   Adj. R-squared:                  0.815\n",
      "Method:                 Least Squares   F-statistic:                     29.37\n",
      "Date:                Thu, 07 Sep 2023   Prob (F-statistic):           1.34e-83\n",
      "Time:                        23:27:14   Log-Likelihood:                -2620.6\n",
      "No. Observations:                 322   AIC:                             5343.\n",
      "Df Residuals:                     271   BIC:                             5536.\n",
      "Df Model:                          50                                         \n",
      "Covariance Type:            nonrobust                                         \n",
      "===========================================================================================\n",
      "                              coef    std err          t      P>|t|      [0.025      0.975]\n",
      "-------------------------------------------------------------------------------------------\n",
      "const                    4329.3955    197.232     21.951      0.000    3941.094    4717.697\n",
      "sp_total                 7680.8608    503.682     15.249      0.000    6689.233    8672.489\n",
      "sp_living                -523.8306    636.116     -0.823      0.411   -1776.188     728.527\n",
      "height                    609.8074    152.079      4.010      0.000     310.401     909.214\n",
      "side                     -162.9496    107.899     -1.510      0.132    -375.376      49.477\n",
      "street_Академическая     1805.9026    301.161      5.996      0.000    1212.991    2398.814\n",
      "street_Балтийская        -844.1019    271.167     -3.113      0.002   -1377.964    -310.240\n",
      "street_Барьерная         -837.3016    402.369     -2.081      0.038   -1629.469     -45.134\n",
      "street_Боровая_Партия    -363.5037    445.942     -0.815      0.416   -1241.454     514.447\n",
      "street_Варшавская       -1009.1595    664.500     -1.519      0.130   -2317.397     299.079\n",
      "street_Вахтангова        -604.0608    543.676     -1.111      0.268   -1674.427     466.305\n",
      "street_Весенний_проезд  -1.064e-12   4.49e-13     -2.370      0.018   -1.95e-12    -1.8e-13\n",
      "street_Ветлужская        -534.1109    388.994     -1.373      0.171   -1299.946     231.724\n",
      "street_Героев_Труда       715.1327    387.372      1.846      0.066     -47.509    1477.775\n",
      "street_Гидромонтажная    -321.0180    560.926     -0.572      0.568   -1425.345     783.309\n",
      "street_Демакова           496.5823    295.811      1.679      0.094     -85.797    1078.962\n",
      "street_Динамовцев        -434.4355    433.734     -1.002      0.317   -1288.351     419.480\n",
      "street_Жемчужная         1617.5898    556.274      2.908      0.004     522.421    2712.759\n",
      "street_Зеленая_Горка    -1578.6572    929.099     -1.699      0.090   -3407.826     250.512\n",
      "street_Золотодолинская   3291.4531    489.376      6.726      0.000    2327.990    4254.916\n",
      "street_Иванова            365.2581    256.589      1.424      0.156    -139.903     870.419\n",
      "street_Ивлева            2.557e-12   7.59e-13      3.368      0.001    1.06e-12    4.05e-12\n",
      "street_Ильича            3416.5253    495.583      6.894      0.000    2440.843    4392.208\n",
      "street_Лесосечная        -905.6870    246.160     -3.679      0.000   -1390.317    -421.057\n",
      "street_Молодежи_бульвар   457.8975    269.240      1.701      0.090     -72.170     987.965\n",
      "street_Молодости        -1159.3182    325.312     -3.564      0.000   -1799.778    -518.858\n",
      "street_Морской_проспект  3526.9014    330.926     10.658      0.000    2875.389    4178.414\n",
      "street_Одоевского        -664.8172    923.729     -0.720      0.472   -2483.414    1153.780\n",
      "street_Печатников        -584.8680    328.630     -1.780      0.076   -1231.860      62.124\n",
      "street_Пирогова          2519.1733    675.734      3.728      0.000    1188.818    3849.528\n",
      "street_Полевая            407.0069    303.674      1.340      0.181    -190.852    1004.866\n",
      "street_Правды            3118.6935    551.501      5.655      0.000    2032.922    4204.465\n",
      "street_Приморская       -1289.3089    340.076     -3.791      0.000   -1958.836    -619.782\n",
      "street_Разъездная        1143.3029    664.297      1.721      0.086    -164.536    2451.142\n",
      "street_Российская        1448.7755    291.226      4.975      0.000     875.422    2022.129\n",
      "street_Рыбацкая         -1622.5564    933.762     -1.738      0.083   -3460.905     215.793\n",
      "street_Садовый           -791.6525    675.057     -1.173      0.242   -2120.676     537.371\n",
      "street_Садовый_проезд    -708.2378    496.191     -1.427      0.155   -1685.118     268.642\n",
      "street_Сиреневая          584.0622    485.794      1.202      0.230    -372.348    1540.472\n",
      "street_Смоленская         731.2686    926.050      0.790      0.430   -1091.898    2554.435\n",
      "street_Солнечногорская  -1046.8791    669.328     -1.564      0.119   -2364.623     270.865\n",
      "street_Софийская         -307.9156    487.044     -0.632      0.528   -1266.787     650.956\n",
      "street_Терешковой        3001.0439    408.161      7.353      0.000    2197.475    3804.613\n",
      "street_Тружеников        -558.8455    924.605     -0.604      0.546   -2379.167    1261.476\n",
      "street_Учёных            2034.3770    556.385      3.656      0.000     938.991    3129.763\n",
      "street_Цветной_проезд    1755.1693    552.773      3.175      0.002     666.893    2843.445\n",
      "street_Часовая           -242.5234    487.161     -0.498      0.619   -1201.625     716.578\n",
      "street_Шатурская          528.8380    402.060      1.315      0.190    -262.720    1320.396\n",
      "street_Экваторная        -503.8200    356.678     -1.413      0.159   -1206.032     198.392\n",
      "street_Энгельса          -330.1161    552.302     -0.598      0.551   -1417.463     757.231\n",
      "rooms_2                  -634.3229    179.269     -3.538      0.000    -987.261    -281.385\n",
      "rooms_3                 -1275.6871    244.599     -5.215      0.000   -1757.244    -794.130\n",
      "rooms_4                 -1793.5208    375.845     -4.772      0.000   -2533.467   -1053.575\n",
      "==============================================================================\n",
      "Omnibus:                      139.678   Durbin-Watson:                   2.356\n",
      "Prob(Omnibus):                  0.000   Jarque-Bera (JB):             1350.681\n",
      "Skew:                           1.518   Prob(JB):                    5.05e-294\n",
      "Kurtosis:                      12.563   Cond. No.                     1.24e+16\n",
      "==============================================================================\n",
      "\n",
      "Notes:\n",
      "[1] Standard Errors assume that the covariance matrix of the errors is correctly specified.\n",
      "[2] The smallest eigenvalue is 3.21e-30. This might indicate that there are\n",
      "strong multicollinearity problems or that the design matrix is singular.\n",
      "Регрессор с максимальным p-value: street_Часовая P-value: 0.6190075488562778\n",
      "-------------------------------------------------------------\n",
      "Номер интерации: 17\n",
      "                            OLS Regression Results                            \n",
      "==============================================================================\n",
      "Dep. Variable:                  price   R-squared:                       0.844\n",
      "Model:                            OLS   Adj. R-squared:                  0.816\n",
      "Method:                 Least Squares   F-statistic:                     30.04\n",
      "Date:                Thu, 07 Sep 2023   Prob (F-statistic):           2.74e-84\n",
      "Time:                        23:27:14   Log-Likelihood:                -2620.7\n",
      "No. Observations:                 322   AIC:                             5341.\n",
      "Df Residuals:                     272   BIC:                             5530.\n",
      "Df Model:                          49                                         \n",
      "Covariance Type:            nonrobust                                         \n",
      "===========================================================================================\n",
      "                              coef    std err          t      P>|t|      [0.025      0.975]\n",
      "-------------------------------------------------------------------------------------------\n",
      "const                    4309.7013    192.957     22.335      0.000    3929.823    4689.580\n",
      "sp_total                 7690.5527    502.610     15.301      0.000    6701.053    8680.052\n",
      "sp_living                -518.7821    635.155     -0.817      0.415   -1769.227     731.663\n",
      "height                    620.6635    150.299      4.130      0.000     324.766     916.561\n",
      "side                     -161.6659    107.719     -1.501      0.135    -373.735      50.403\n",
      "street_Академическая     1836.0267    294.611      6.232      0.000    1256.020    2416.034\n",
      "street_Балтийская        -828.3157    268.934     -3.080      0.002   -1357.773    -298.859\n",
      "street_Барьерная         -809.4661    397.914     -2.034      0.043   -1592.849     -26.083\n",
      "street_Боровая_Партия    -330.2466    440.299     -0.750      0.454   -1197.075     536.581\n",
      "street_Варшавская        -986.7085    662.050     -1.490      0.137   -2290.103     316.686\n",
      "street_Вахтангова        -580.3364    540.834     -1.073      0.284   -1645.090     484.417\n",
      "street_Весенний_проезд    3.21e-12   6.92e-13      4.637      0.000    1.85e-12    4.57e-12\n",
      "street_Ветлужская        -504.3669    383.847     -1.314      0.190   -1260.055     251.321\n",
      "street_Героев_Труда       747.9005    381.211      1.962      0.051      -2.599    1498.400\n",
      "street_Гидромонтажная    -286.5702    555.871     -0.516      0.607   -1380.928     807.787\n",
      "street_Демакова           521.3448    291.195      1.790      0.075     -51.939    1094.628\n",
      "street_Динамовцев        -411.0050    430.576     -0.955      0.341   -1258.690     436.680\n",
      "street_Жемчужная         1651.5338    551.316      2.996      0.003     566.145    2736.923\n",
      "street_Зеленая_Горка    -1547.9428    925.765     -1.672      0.096   -3370.519     274.634\n",
      "street_Золотодолинская   3324.1887    484.267      6.864      0.000    2370.800    4277.577\n",
      "street_Иванова            390.1049    251.340      1.552      0.122    -104.713     884.923\n",
      "street_Ивлева            3.854e-12   8.02e-13      4.804      0.000    2.27e-12    5.43e-12\n",
      "street_Ильича            3441.9966    492.253      6.992      0.000    2472.887    4411.107\n",
      "street_Лесосечная        -882.3557    241.323     -3.656      0.000   -1357.455    -407.256\n",
      "street_Молодежи_бульвар   482.6503    264.243      1.827      0.069     -37.571    1002.871\n",
      "street_Молодости        -1141.4510    322.879     -3.535      0.000   -1777.110    -505.792\n",
      "street_Морской_проспект  3559.6385    323.878     10.991      0.000    2922.013    4197.264\n",
      "street_Одоевского        -650.5990    922.010     -0.706      0.481   -2465.782    1164.584\n",
      "street_Печатников        -556.4108    323.172     -1.722      0.086   -1192.648      79.826\n",
      "street_Пирогова          2542.4979    673.175      3.777      0.000    1217.203    3867.793\n",
      "street_Полевая            430.0244    299.718      1.435      0.153    -160.037    1020.086\n",
      "street_Правды            3148.7323    547.432      5.752      0.000    2070.990    4226.474\n",
      "street_Приморская       -1270.2960    337.457     -3.764      0.000   -1934.656    -605.936\n",
      "street_Разъездная        1166.0673    661.805      1.762      0.079    -136.843    2468.978\n",
      "street_Российская        1469.6791    287.784      5.107      0.000     903.111    2036.247\n",
      "street_Рыбацкая         -1598.7816    931.249     -1.717      0.087   -3432.154     234.591\n",
      "street_Садовый           -760.5298    671.226     -1.133      0.258   -2081.989     560.930\n",
      "street_Садовый_проезд    -680.6838    492.412     -1.382      0.168   -1650.108     288.740\n",
      "street_Сиреневая          607.7215    482.795      1.259      0.209    -342.768    1558.211\n",
      "street_Смоленская         760.0310    922.967      0.823      0.411   -1057.036    2577.098\n",
      "street_Солнечногорская  -1018.4862    665.971     -1.529      0.127   -2329.599     292.627\n",
      "street_Софийская         -279.6131    483.046     -0.579      0.563   -1230.596     671.370\n",
      "street_Терешковой        3028.8093    403.773      7.501      0.000    2233.893    3823.726\n",
      "street_Тружеников        -535.9693    922.185     -0.581      0.562   -2351.496    1279.558\n",
      "street_Учёных            2068.4376    551.398      3.751      0.000     982.887    3153.988\n",
      "street_Цветной_проезд    1783.6092    549.053      3.249      0.001     702.676    2864.542\n",
      "street_Шатурская          550.8540    399.068      1.380      0.169    -234.800    1336.508\n",
      "street_Экваторная        -478.3335    352.496     -1.357      0.176   -1172.301     215.634\n",
      "street_Энгельса          -300.1941    548.262     -0.548      0.584   -1379.570     779.182\n",
      "rooms_2                  -644.8340    177.775     -3.627      0.000    -994.825    -294.843\n",
      "rooms_3                 -1282.1367    243.918     -5.256      0.000   -1762.344    -801.929\n",
      "rooms_4                 -1799.8957    375.107     -4.798      0.000   -2538.377   -1061.415\n",
      "==============================================================================\n",
      "Omnibus:                      139.499   Durbin-Watson:                   2.350\n",
      "Prob(Omnibus):                  0.000   Jarque-Bera (JB):             1343.868\n",
      "Skew:                           1.517   Prob(JB):                    1.52e-292\n",
      "Kurtosis:                      12.537   Cond. No.                     1.24e+16\n",
      "==============================================================================\n",
      "\n",
      "Notes:\n",
      "[1] Standard Errors assume that the covariance matrix of the errors is correctly specified.\n",
      "[2] The smallest eigenvalue is 3.21e-30. This might indicate that there are\n",
      "strong multicollinearity problems or that the design matrix is singular.\n",
      "Регрессор с максимальным p-value: street_Гидромонтажная P-value: 0.6065992608997532\n",
      "-------------------------------------------------------------\n",
      "Номер интерации: 18\n",
      "                            OLS Regression Results                            \n",
      "==============================================================================\n",
      "Dep. Variable:                  price   R-squared:                       0.844\n",
      "Model:                            OLS   Adj. R-squared:                  0.816\n",
      "Method:                 Least Squares   F-statistic:                     30.75\n",
      "Date:                Thu, 07 Sep 2023   Prob (F-statistic):           5.59e-85\n",
      "Time:                        23:27:15   Log-Likelihood:                -2620.9\n",
      "No. Observations:                 322   AIC:                             5340.\n",
      "Df Residuals:                     273   BIC:                             5525.\n",
      "Df Model:                          48                                         \n",
      "Covariance Type:            nonrobust                                         \n",
      "===========================================================================================\n",
      "                              coef    std err          t      P>|t|      [0.025      0.975]\n",
      "-------------------------------------------------------------------------------------------\n",
      "const                    4299.2315    191.627     22.435      0.000    3921.978    4676.485\n",
      "sp_total                 7706.1708    501.021     15.381      0.000    6719.815    8692.526\n",
      "sp_living                -530.2311    633.913     -0.836      0.404   -1778.210     717.748\n",
      "height                    628.0319    149.417      4.203      0.000     333.877     922.187\n",
      "side                     -168.7851    106.686     -1.582      0.115    -378.818      41.247\n",
      "street_Академическая     1861.5426    290.033      6.418      0.000    1290.558    2432.527\n",
      "street_Балтийская        -815.1047    267.350     -3.049      0.003   -1341.435    -288.775\n",
      "street_Барьерная         -784.6072    394.450     -1.989      0.048   -1561.158      -8.056\n",
      "street_Боровая_Партия    -305.7881    437.147     -0.700      0.485   -1166.396     554.819\n",
      "street_Варшавская        -967.2802    660.087     -1.465      0.144   -2266.789     332.228\n",
      "street_Вахтангова        -560.9102    538.794     -1.041      0.299   -1621.629     499.809\n",
      "street_Весенний_проезд   4.258e-13   6.01e-13      0.709      0.479   -7.57e-13    1.61e-12\n",
      "street_Ветлужская        -477.8548    379.874     -1.258      0.209   -1225.710     270.000\n",
      "street_Героев_Труда       777.4624    376.367      2.066      0.040      36.513    1518.412\n",
      "street_Демакова           542.6776    287.852      1.885      0.060     -24.015    1109.370\n",
      "street_Динамовцев        -392.2130    428.453     -0.915      0.361   -1235.705     451.279\n",
      "street_Жемчужная         1682.6691    547.261      3.075      0.002     605.282    2760.057\n",
      "street_Зеленая_Горка    -1527.4539    923.667     -1.654      0.099   -3345.870     290.962\n",
      "street_Золотодолинская   3352.6135    480.471      6.978      0.000    2406.714    4298.513\n",
      "street_Иванова            410.2824    247.939      1.655      0.099     -77.834     898.399\n",
      "street_Ивлева           -1.745e-12   3.98e-13     -4.386      0.000   -2.53e-12   -9.62e-13\n",
      "street_Ильича            3466.3168    489.328      7.084      0.000    2502.981    4429.652\n",
      "street_Лесосечная        -863.8938    238.330     -3.625      0.000   -1333.093    -394.695\n",
      "street_Молодежи_бульвар   504.8148    260.371      1.939      0.054      -7.775    1017.405\n",
      "street_Молодости        -1126.2049    321.089     -3.507      0.001   -1758.330    -494.080\n",
      "street_Морской_проспект  3587.6055    318.872     11.251      0.000    2959.844    4215.367\n",
      "street_Одоевского        -636.6033    920.370     -0.692      0.490   -2448.528    1175.321\n",
      "street_Печатников        -532.1015    319.284     -1.667      0.097   -1160.672      96.469\n",
      "street_Пирогова          2565.6052    670.777      3.825      0.000    1245.052    3886.158\n",
      "street_Полевая            449.5310    296.920      1.514      0.131    -135.013    1034.075\n",
      "street_Правды            3172.5673    544.742      5.824      0.000    2100.138    4244.996\n",
      "street_Приморская       -1254.4934    335.610     -3.738      0.000   -1915.206    -593.781\n",
      "street_Разъездная        1183.8235    660.018      1.794      0.074    -115.549    2483.196\n",
      "street_Российская        1486.6239    285.517      5.207      0.000     924.530    2048.718\n",
      "street_Рыбацкая         -1582.4426    929.457     -1.703      0.090   -3412.258     247.372\n",
      "street_Садовый           -737.2433    668.804     -1.102      0.271   -2053.911     579.425\n",
      "street_Садовый_проезд    -658.8515    489.928     -1.345      0.180   -1623.368     305.665\n",
      "street_Сиреневая          623.3505    481.194      1.295      0.196    -323.971    1570.672\n",
      "street_Смоленская         785.0196    920.453      0.853      0.394   -1027.069    2597.108\n",
      "street_Солнечногорская   -999.1815    664.023     -1.505      0.134   -2306.437     308.074\n",
      "street_Софийская         -258.2771    480.622     -0.537      0.591   -1204.473     687.919\n",
      "street_Терешковой        3052.3015    400.653      7.618      0.000    2263.539    3841.064\n",
      "street_Тружеников        -512.1767    919.790     -0.557      0.578   -2322.959    1298.606\n",
      "street_Учёных            2099.4623    547.367      3.836      0.000    1021.866    3177.059\n",
      "street_Цветной_проезд    1806.8149    546.468      3.306      0.001     730.988    2882.642\n",
      "street_Шатурская          570.3378    396.739      1.438      0.152    -210.720    1351.395\n",
      "street_Экваторная        -454.5456    348.993     -1.302      0.194   -1141.605     232.514\n",
      "street_Энгельса          -278.0724    545.844     -0.509      0.611   -1352.672     796.527\n",
      "rooms_2                  -657.5645    175.815     -3.740      0.000   -1003.690    -311.439\n",
      "rooms_3                 -1289.3551    243.188     -5.302      0.000   -1768.118    -810.593\n",
      "rooms_4                 -1805.8357    374.425     -4.823      0.000   -2542.963   -1068.708\n",
      "==============================================================================\n",
      "Omnibus:                      139.144   Durbin-Watson:                   2.350\n",
      "Prob(Omnibus):                  0.000   Jarque-Bera (JB):             1333.894\n",
      "Skew:                           1.513   Prob(JB):                    2.23e-290\n",
      "Kurtosis:                      12.501   Cond. No.                     1.24e+16\n",
      "==============================================================================\n",
      "\n",
      "Notes:\n",
      "[1] Standard Errors assume that the covariance matrix of the errors is correctly specified.\n",
      "[2] The smallest eigenvalue is 3.21e-30. This might indicate that there are\n",
      "strong multicollinearity problems or that the design matrix is singular.\n",
      "Регрессор с максимальным p-value: street_Энгельса P-value: 0.6108586376628071\n",
      "-------------------------------------------------------------\n",
      "Номер интерации: 19\n",
      "                            OLS Regression Results                            \n",
      "==============================================================================\n",
      "Dep. Variable:                  price   R-squared:                       0.844\n",
      "Model:                            OLS   Adj. R-squared:                  0.817\n",
      "Method:                 Least Squares   F-statistic:                     31.48\n",
      "Date:                Thu, 07 Sep 2023   Prob (F-statistic):           1.12e-85\n",
      "Time:                        23:27:16   Log-Likelihood:                -2621.1\n",
      "No. Observations:                 322   AIC:                             5338.\n",
      "Df Residuals:                     274   BIC:                             5519.\n",
      "Df Model:                          47                                         \n",
      "Covariance Type:            nonrobust                                         \n",
      "===========================================================================================\n",
      "                              coef    std err          t      P>|t|      [0.025      0.975]\n",
      "-------------------------------------------------------------------------------------------\n",
      "const                    4286.0591    189.617     22.604      0.000    3912.767    4659.351\n",
      "sp_total                 7719.5693    499.653     15.450      0.000    6735.922    8703.217\n",
      "sp_living                -532.6246    633.038     -0.841      0.401   -1778.861     713.612\n",
      "height                    631.8477    149.027      4.240      0.000     338.464     925.231\n",
      "side                     -165.1520    106.304     -1.554      0.121    -374.428      44.124\n",
      "street_Академическая     1882.2443    286.783      6.563      0.000    1317.665    2446.823\n",
      "street_Балтийская        -802.4017    265.825     -3.019      0.003   -1325.720    -279.083\n",
      "street_Барьерная         -760.8477    391.154     -1.945      0.053   -1530.896       9.201\n",
      "street_Боровая_Партия    -283.9312    434.448     -0.654      0.514   -1139.212     571.349\n",
      "street_Варшавская        -944.1017    657.627     -1.436      0.152   -2238.746     350.542\n",
      "street_Вахтангова        -546.4346    537.317     -1.017      0.310   -1604.228     511.359\n",
      "street_Весенний_проезд   1.161e-12   6.28e-13      1.848      0.066   -7.59e-14     2.4e-12\n",
      "street_Ветлужская        -453.5884    376.366     -1.205      0.229   -1194.525     287.348\n",
      "street_Героев_Труда       798.3033    373.631      2.137      0.034      62.752    1533.855\n",
      "street_Демакова           561.4206    285.106      1.969      0.050       0.145    1122.696\n",
      "street_Динамовцев        -374.5513    426.470     -0.878      0.381   -1214.126     465.024\n",
      "street_Жемчужная         1705.4520    544.693      3.131      0.002     633.137    2777.767\n",
      "street_Зеленая_Горка    -1500.0316    920.851     -1.629      0.104   -3312.873     312.810\n",
      "street_Золотодолинская   3376.6051    477.511      7.071      0.000    2436.549    4316.661\n",
      "street_Иванова            428.6620    244.969      1.750      0.081     -53.598     910.922\n",
      "street_Ивлева            -9.55e-13   6.97e-13     -1.370      0.172   -2.33e-12    4.17e-13\n",
      "street_Ильича            3485.3379    487.242      7.153      0.000    2526.125    4444.551\n",
      "street_Лесосечная        -844.5371    234.964     -3.594      0.000   -1307.101    -381.973\n",
      "street_Молодежи_бульвар   521.4023    257.978      2.021      0.044      13.532    1029.273\n",
      "street_Молодости        -1111.2423    319.310     -3.480      0.001   -1739.856    -482.629\n",
      "street_Морской_проспект  3609.8330    315.446     11.444      0.000    2988.827    4230.839\n",
      "street_Одоевского        -626.2693    918.902     -0.682      0.496   -2435.275    1182.736\n",
      "street_Печатников        -512.6489    316.563     -1.619      0.107   -1135.855     110.557\n",
      "street_Пирогова          2579.1366    669.345      3.853      0.000    1261.425    3896.848\n",
      "street_Полевая            467.0252    294.529      1.586      0.114    -112.801    1046.852\n",
      "street_Правды            3193.4654    542.461      5.887      0.000    2125.545    4261.386\n",
      "street_Приморская       -1239.5097    333.867     -3.713      0.000   -1896.779    -582.240\n",
      "street_Разъездная        1196.6829    658.644      1.817      0.070     -99.962    2493.328\n",
      "street_Российская        1504.1250    283.059      5.314      0.000     946.878    2061.372\n",
      "street_Рыбацкая         -1559.9787    927.155     -1.683      0.094   -3385.232     265.275\n",
      "street_Садовый           -720.7533    667.117     -1.080      0.281   -2034.079     592.572\n",
      "street_Садовый_проезд    -639.9754    487.864     -1.312      0.191   -1600.414     320.463\n",
      "street_Сиреневая          639.8136    479.458      1.334      0.183    -304.076    1583.703\n",
      "street_Смоленская         801.8891    918.614      0.873      0.383   -1006.548    2610.327\n",
      "street_Солнечногорская   -972.4757    661.055     -1.471      0.142   -2273.868     328.917\n",
      "street_Софийская         -233.5326    477.514     -0.489      0.625   -1173.596     706.531\n",
      "street_Терешковой        3074.5398    397.729      7.730      0.000    2291.546    3857.534\n",
      "street_Тружеников        -490.4121    917.555     -0.534      0.593   -2296.765    1315.941\n",
      "street_Учёных            2122.2636    544.796      3.896      0.000    1049.745    3194.782\n",
      "street_Цветной_проезд    1826.2601    544.396      3.355      0.001     754.529    2897.991\n",
      "street_Шатурская          585.0439    395.153      1.481      0.140    -192.877    1362.965\n",
      "street_Экваторная        -437.2264    346.863     -1.261      0.209   -1120.082     245.630\n",
      "rooms_2                  -664.3494    175.073     -3.795      0.000   -1009.008    -319.690\n",
      "rooms_3                 -1303.2787    241.321     -5.401      0.000   -1778.357    -828.200\n",
      "rooms_4                 -1815.1604    373.472     -4.860      0.000   -2550.399   -1079.922\n",
      "==============================================================================\n",
      "Omnibus:                      138.843   Durbin-Watson:                   2.348\n",
      "Prob(Omnibus):                  0.000   Jarque-Bera (JB):             1325.407\n",
      "Skew:                           1.511   Prob(JB):                    1.55e-288\n",
      "Kurtosis:                      12.469   Cond. No.                     1.24e+16\n",
      "==============================================================================\n",
      "\n",
      "Notes:\n",
      "[1] Standard Errors assume that the covariance matrix of the errors is correctly specified.\n",
      "[2] The smallest eigenvalue is 3.21e-30. This might indicate that there are\n",
      "strong multicollinearity problems or that the design matrix is singular.\n",
      "Регрессор с максимальным p-value: street_Софийская P-value: 0.6251913907088634\n",
      "-------------------------------------------------------------\n",
      "Номер интерации: 20\n",
      "                            OLS Regression Results                            \n",
      "==============================================================================\n",
      "Dep. Variable:                  price   R-squared:                       0.844\n",
      "Model:                            OLS   Adj. R-squared:                  0.817\n",
      "Method:                 Least Squares   F-statistic:                     32.25\n",
      "Date:                Thu, 07 Sep 2023   Prob (F-statistic):           2.20e-86\n",
      "Time:                        23:27:16   Log-Likelihood:                -2621.2\n",
      "No. Observations:                 322   AIC:                             5336.\n",
      "Df Residuals:                     275   BIC:                             5514.\n",
      "Df Model:                          46                                         \n",
      "Covariance Type:            nonrobust                                         \n",
      "===========================================================================================\n",
      "                              coef    std err          t      P>|t|      [0.025      0.975]\n",
      "-------------------------------------------------------------------------------------------\n",
      "const                    4271.9432    187.148     22.827      0.000    3903.518    4640.369\n",
      "sp_total                 7732.6912    498.242     15.520      0.000    6751.838    8713.544\n",
      "sp_living                -533.0543    632.161     -0.843      0.400   -1777.545     711.436\n",
      "height                    638.3520    148.227      4.307      0.000     346.549     930.155\n",
      "side                     -164.4893    106.148     -1.550      0.122    -373.455      44.477\n",
      "street_Академическая     1905.5021    282.421      6.747      0.000    1349.520    2461.485\n",
      "street_Балтийская        -791.1856    264.467     -2.992      0.003   -1311.823    -270.548\n",
      "street_Барьерная         -735.2594    387.102     -1.899      0.059   -1497.319      26.800\n",
      "street_Боровая_Партия    -261.2996    431.379     -0.606      0.545   -1110.523     587.924\n",
      "street_Варшавская        -920.0949    654.885     -1.405      0.161   -2209.319     369.129\n",
      "street_Вахтангова        -530.9464    535.640     -0.991      0.322   -1585.422     523.530\n",
      "street_Весенний_проезд  -2.244e-14   6.04e-13     -0.037      0.970   -1.21e-12    1.17e-12\n",
      "street_Ветлужская        -428.3896    372.306     -1.151      0.251   -1161.322     304.543\n",
      "street_Героев_Труда       817.4736    371.055      2.203      0.028      87.005    1547.942\n",
      "street_Демакова           580.1973    282.118      2.057      0.041      24.813    1135.582\n",
      "street_Динамовцев        -354.2843    423.865     -0.836      0.404   -1188.716     480.148\n",
      "street_Жемчужная         1728.1978    541.952      3.189      0.002     661.295    2795.100\n",
      "street_Зеленая_Горка    -1471.3231    917.706     -1.603      0.110   -3277.944     335.298\n",
      "street_Золотодолинская   3400.7420    474.296      7.170      0.000    2467.030    4334.454\n",
      "street_Иванова            448.0261    241.413      1.856      0.065     -27.226     923.279\n",
      "street_Ивлева            8.051e-13   3.82e-13      2.107      0.036    5.27e-14    1.56e-12\n",
      "street_Ильича            3504.9515    484.916      7.228      0.000    2550.332    4459.571\n",
      "street_Лесосечная        -825.8263    231.507     -3.567      0.000   -1281.578    -370.075\n",
      "street_Молодежи_бульвар   535.5667    255.992      2.092      0.037      31.614    1039.519\n",
      "street_Молодости        -1099.1186    317.906     -3.457      0.001   -1724.957    -473.280\n",
      "street_Морской_проспект  3631.4967    311.888     11.644      0.000    3017.505    4245.488\n",
      "street_Одоевского        -613.7688    917.275     -0.669      0.504   -2419.542    1192.004\n",
      "street_Печатников        -493.5889    313.720     -1.573      0.117   -1111.188     124.010\n",
      "street_Пирогова          2588.5268    668.143      3.874      0.000    1273.202    3903.852\n",
      "street_Полевая            486.5746    291.399      1.670      0.096     -87.082    1060.232\n",
      "street_Правды            3215.2139    539.886      5.955      0.000    2152.379    4278.049\n",
      "street_Приморская       -1224.0743    331.911     -3.688      0.000   -1877.484    -570.664\n",
      "street_Разъездная        1209.0497    657.247      1.840      0.067     -84.825    2502.924\n",
      "street_Российская        1521.3467    280.471      5.424      0.000     969.203    2073.490\n",
      "street_Рыбацкая         -1537.1693    924.700     -1.662      0.098   -3357.559     283.221\n",
      "street_Садовый           -702.8997    665.195     -1.057      0.292   -2012.421     606.622\n",
      "street_Садовый_проезд    -620.1166    485.498     -1.277      0.203   -1575.882     335.649\n",
      "street_Сиреневая          651.9840    478.149      1.364      0.174    -289.314    1593.282\n",
      "street_Смоленская         824.1396    916.216      0.900      0.369    -979.549    2627.828\n",
      "street_Солнечногорская   -945.0743    657.765     -1.437      0.152   -2239.968     349.820\n",
      "street_Терешковой        3096.3149    394.682      7.845      0.000    2319.332    3873.297\n",
      "street_Тружеников        -466.0751    914.936     -0.509      0.611   -2267.244    1335.093\n",
      "street_Учёных            2145.0565    542.048      3.957      0.000    1077.966    3212.147\n",
      "street_Цветной_проезд    1849.6745    541.536      3.416      0.001     783.591    2915.758\n",
      "street_Шатурская          597.2438    393.819      1.517      0.131    -178.039    1372.526\n",
      "street_Экваторная        -419.9566    344.584     -1.219      0.224   -1098.314     258.400\n",
      "rooms_2                  -665.3617    174.818     -3.806      0.000   -1009.514    -321.209\n",
      "rooms_3                 -1316.0390    239.574     -5.493      0.000   -1787.671    -844.407\n",
      "rooms_4                 -1822.4461    372.658     -4.890      0.000   -2556.071   -1088.821\n",
      "==============================================================================\n",
      "Omnibus:                      138.181   Durbin-Watson:                   2.346\n",
      "Prob(Omnibus):                  0.000   Jarque-Bera (JB):             1314.086\n",
      "Skew:                           1.503   Prob(JB):                    4.46e-286\n",
      "Kurtosis:                      12.429   Cond. No.                     1.24e+16\n",
      "==============================================================================\n",
      "\n",
      "Notes:\n",
      "[1] Standard Errors assume that the covariance matrix of the errors is correctly specified.\n",
      "[2] The smallest eigenvalue is 3.21e-30. This might indicate that there are\n",
      "strong multicollinearity problems or that the design matrix is singular.\n",
      "Регрессор с максимальным p-value: street_Весенний_проезд P-value: 0.9704067446067537\n",
      "-------------------------------------------------------------\n",
      "Номер интерации: 21\n",
      "                            OLS Regression Results                            \n",
      "==============================================================================\n",
      "Dep. Variable:                  price   R-squared:                       0.844\n",
      "Model:                            OLS   Adj. R-squared:                  0.817\n",
      "Method:                 Least Squares   F-statistic:                     32.25\n",
      "Date:                Thu, 07 Sep 2023   Prob (F-statistic):           2.20e-86\n",
      "Time:                        23:27:17   Log-Likelihood:                -2621.2\n",
      "No. Observations:                 322   AIC:                             5336.\n",
      "Df Residuals:                     275   BIC:                             5514.\n",
      "Df Model:                          46                                         \n",
      "Covariance Type:            nonrobust                                         \n",
      "===========================================================================================\n",
      "                              coef    std err          t      P>|t|      [0.025      0.975]\n",
      "-------------------------------------------------------------------------------------------\n",
      "const                    4271.9432    187.148     22.827      0.000    3903.518    4640.369\n",
      "sp_total                 7732.6912    498.242     15.520      0.000    6751.838    8713.544\n",
      "sp_living                -533.0543    632.161     -0.843      0.400   -1777.545     711.436\n",
      "height                    638.3520    148.227      4.307      0.000     346.549     930.155\n",
      "side                     -164.4893    106.148     -1.550      0.122    -373.455      44.477\n",
      "street_Академическая     1905.5021    282.421      6.747      0.000    1349.520    2461.485\n",
      "street_Балтийская        -791.1856    264.467     -2.992      0.003   -1311.823    -270.548\n",
      "street_Барьерная         -735.2594    387.102     -1.899      0.059   -1497.319      26.800\n",
      "street_Боровая_Партия    -261.2996    431.379     -0.606      0.545   -1110.523     587.924\n",
      "street_Варшавская        -920.0949    654.885     -1.405      0.161   -2209.319     369.129\n",
      "street_Вахтангова        -530.9464    535.640     -0.991      0.322   -1585.422     523.530\n",
      "street_Ветлужская        -428.3896    372.306     -1.151      0.251   -1161.322     304.543\n",
      "street_Героев_Труда       817.4736    371.055      2.203      0.028      87.005    1547.942\n",
      "street_Демакова           580.1973    282.118      2.057      0.041      24.813    1135.582\n",
      "street_Динамовцев        -354.2843    423.865     -0.836      0.404   -1188.716     480.148\n",
      "street_Жемчужная         1728.1978    541.952      3.189      0.002     661.295    2795.100\n",
      "street_Зеленая_Горка    -1471.3231    917.706     -1.603      0.110   -3277.944     335.298\n",
      "street_Золотодолинская   3400.7420    474.296      7.170      0.000    2467.030    4334.454\n",
      "street_Иванова            448.0261    241.413      1.856      0.065     -27.226     923.279\n",
      "street_Ивлева           -8.595e-12   1.99e-12     -4.321      0.000   -1.25e-11   -4.68e-12\n",
      "street_Ильича            3504.9515    484.916      7.228      0.000    2550.332    4459.571\n",
      "street_Лесосечная        -825.8263    231.507     -3.567      0.000   -1281.578    -370.075\n",
      "street_Молодежи_бульвар   535.5667    255.992      2.092      0.037      31.614    1039.519\n",
      "street_Молодости        -1099.1186    317.906     -3.457      0.001   -1724.957    -473.280\n",
      "street_Морской_проспект  3631.4967    311.888     11.644      0.000    3017.505    4245.488\n",
      "street_Одоевского        -613.7688    917.275     -0.669      0.504   -2419.542    1192.004\n",
      "street_Печатников        -493.5889    313.720     -1.573      0.117   -1111.188     124.010\n",
      "street_Пирогова          2588.5268    668.143      3.874      0.000    1273.202    3903.852\n",
      "street_Полевая            486.5746    291.399      1.670      0.096     -87.082    1060.232\n",
      "street_Правды            3215.2139    539.886      5.955      0.000    2152.379    4278.049\n",
      "street_Приморская       -1224.0743    331.911     -3.688      0.000   -1877.484    -570.664\n",
      "street_Разъездная        1209.0497    657.247      1.840      0.067     -84.825    2502.924\n",
      "street_Российская        1521.3467    280.471      5.424      0.000     969.203    2073.490\n",
      "street_Рыбацкая         -1537.1693    924.700     -1.662      0.098   -3357.559     283.221\n",
      "street_Садовый           -702.8997    665.195     -1.057      0.292   -2012.421     606.622\n",
      "street_Садовый_проезд    -620.1166    485.498     -1.277      0.203   -1575.882     335.649\n",
      "street_Сиреневая          651.9840    478.149      1.364      0.174    -289.314    1593.282\n",
      "street_Смоленская         824.1396    916.216      0.900      0.369    -979.549    2627.828\n",
      "street_Солнечногорская   -945.0743    657.765     -1.437      0.152   -2239.968     349.820\n",
      "street_Терешковой        3096.3149    394.682      7.845      0.000    2319.332    3873.297\n",
      "street_Тружеников        -466.0751    914.936     -0.509      0.611   -2267.244    1335.093\n",
      "street_Учёных            2145.0565    542.048      3.957      0.000    1077.966    3212.147\n",
      "street_Цветной_проезд    1849.6745    541.536      3.416      0.001     783.591    2915.758\n",
      "street_Шатурская          597.2438    393.819      1.517      0.131    -178.039    1372.526\n",
      "street_Экваторная        -419.9566    344.584     -1.219      0.224   -1098.314     258.400\n",
      "rooms_2                  -665.3617    174.818     -3.806      0.000   -1009.514    -321.209\n",
      "rooms_3                 -1316.0390    239.574     -5.493      0.000   -1787.671    -844.407\n",
      "rooms_4                 -1822.4461    372.658     -4.890      0.000   -2556.071   -1088.821\n",
      "==============================================================================\n",
      "Omnibus:                      138.181   Durbin-Watson:                   2.346\n",
      "Prob(Omnibus):                  0.000   Jarque-Bera (JB):             1314.086\n",
      "Skew:                           1.503   Prob(JB):                    4.46e-286\n",
      "Kurtosis:                      12.429   Cond. No.                     1.24e+16\n",
      "==============================================================================\n",
      "\n",
      "Notes:\n",
      "[1] Standard Errors assume that the covariance matrix of the errors is correctly specified.\n",
      "[2] The smallest eigenvalue is 3.21e-30. This might indicate that there are\n",
      "strong multicollinearity problems or that the design matrix is singular.\n",
      "Регрессор с максимальным p-value: street_Тружеников P-value: 0.6108752129455128\n",
      "-------------------------------------------------------------\n",
      "Номер интерации: 22\n",
      "                            OLS Regression Results                            \n",
      "==============================================================================\n",
      "Dep. Variable:                  price   R-squared:                       0.843\n",
      "Model:                            OLS   Adj. R-squared:                  0.818\n",
      "Method:                 Least Squares   F-statistic:                     33.05\n",
      "Date:                Thu, 07 Sep 2023   Prob (F-statistic):           4.31e-87\n",
      "Time:                        23:27:17   Log-Likelihood:                -2621.3\n",
      "No. Observations:                 322   AIC:                             5335.\n",
      "Df Residuals:                     276   BIC:                             5508.\n",
      "Df Model:                          45                                         \n",
      "Covariance Type:            nonrobust                                         \n",
      "===========================================================================================\n",
      "                              coef    std err          t      P>|t|      [0.025      0.975]\n",
      "-------------------------------------------------------------------------------------------\n",
      "const                    4268.6579    186.786     22.853      0.000    3900.951    4636.364\n",
      "sp_total                 7732.0854    497.572     15.540      0.000    6752.568    8711.603\n",
      "sp_living                -525.0549    631.118     -0.832      0.406   -1767.471     717.361\n",
      "height                    638.6039    148.027      4.314      0.000     347.198     930.009\n",
      "side                     -168.9886    105.638     -1.600      0.111    -376.947      38.970\n",
      "street_Академическая     1916.1245    281.272      6.812      0.000    1362.413    2469.836\n",
      "street_Балтийская        -782.5917    263.574     -2.969      0.003   -1301.463    -263.721\n",
      "street_Барьерная         -722.1101    385.722     -1.872      0.062   -1481.441      37.221\n",
      "street_Боровая_Партия    -253.5979    430.535     -0.589      0.556   -1101.147     593.951\n",
      "street_Варшавская        -905.3672    653.368     -1.386      0.167   -2191.585     380.851\n",
      "street_Вахтангова        -522.5676    534.669     -0.977      0.329   -1575.115     529.979\n",
      "street_Ветлужская        -415.1798    370.904     -1.119      0.264   -1145.339     314.980\n",
      "street_Героев_Труда       827.1192    370.074      2.235      0.026      98.594    1555.645\n",
      "street_Демакова           590.5903    281.001      2.102      0.036      37.413    1143.768\n",
      "street_Динамовцев        -343.9404    422.810     -0.813      0.417   -1176.282     488.401\n",
      "street_Жемчужная         1739.4563    540.774      3.217      0.001     674.890    2804.023\n",
      "street_Зеленая_Горка    -1458.4266    916.125     -1.592      0.113   -3261.907     345.054\n",
      "street_Золотодолинская   3412.3500    473.112      7.213      0.000    2480.983    4343.717\n",
      "street_Иванова            458.1114    240.277      1.907      0.058     -14.897     931.120\n",
      "street_Ивлева           -4.566e-12   1.23e-12     -3.710      0.000   -6.99e-12   -2.14e-12\n",
      "street_Ильича            3516.9698    483.692      7.271      0.000    2564.776    4469.163\n",
      "street_Лесосечная        -815.9340    230.382     -3.542      0.000   -1269.463    -362.405\n",
      "street_Молодежи_бульвар   544.8948    254.993      2.137      0.033      42.916    1046.874\n",
      "street_Молодости        -1091.4812    317.126     -3.442      0.001   -1715.774    -467.188\n",
      "street_Морской_проспект  3641.8129    310.812     11.717      0.000    3029.949    4253.677\n",
      "street_Одоевского        -604.3699    915.858     -0.660      0.510   -2407.325    1198.586\n",
      "street_Печатников        -484.1312    312.750     -1.548      0.123   -1099.810     131.547\n",
      "street_Пирогова          2594.8904    667.130      3.890      0.000    1281.582    3908.199\n",
      "street_Полевая            497.4711    290.223      1.714      0.088     -73.861    1068.803\n",
      "street_Правды            3223.8636    538.895      5.982      0.000    2162.997    4284.730\n",
      "street_Приморская       -1214.5275    330.937     -3.670      0.000   -1866.009    -563.046\n",
      "street_Разъездная        1216.2393    656.213      1.853      0.065     -75.580    2508.058\n",
      "street_Российская        1531.9398    279.324      5.484      0.000     982.064    2081.816\n",
      "street_Рыбацкая         -1526.1513    923.206     -1.653      0.099   -3343.571     291.268\n",
      "street_Садовый           -695.0516    664.124     -1.047      0.296   -2002.443     612.340\n",
      "street_Садовый_проезд    -613.7344    484.685     -1.266      0.206   -1567.884     340.415\n",
      "street_Сиреневая          658.1167    477.356      1.379      0.169    -281.604    1597.838\n",
      "street_Смоленская         833.8706    914.787      0.912      0.363    -966.976    2634.718\n",
      "street_Солнечногорская   -932.4444    656.415     -1.421      0.157   -2224.660     359.772\n",
      "street_Терешковой        3106.8434    393.612      7.893      0.000    2331.981    3881.706\n",
      "street_Учёных            2156.4344    540.860      3.987      0.000    1091.699    3221.170\n",
      "street_Цветной_проезд    1859.8636    540.440      3.441      0.001     795.955    2923.772\n",
      "street_Шатурская          604.7795    393.012      1.539      0.125    -168.903    1378.462\n",
      "street_Экваторная        -409.3811    343.496     -1.192      0.234   -1085.586     266.824\n",
      "rooms_2                  -668.0127    174.506     -3.828      0.000   -1011.545    -324.480\n",
      "rooms_3                 -1326.0191    238.451     -5.561      0.000   -1795.433    -856.605\n",
      "rooms_4                 -1829.3521    371.911     -4.919      0.000   -2561.495   -1097.209\n",
      "==============================================================================\n",
      "Omnibus:                      137.952   Durbin-Watson:                   2.350\n",
      "Prob(Omnibus):                  0.000   Jarque-Bera (JB):             1305.601\n",
      "Skew:                           1.501   Prob(JB):                    3.11e-284\n",
      "Kurtosis:                      12.397   Cond. No.                     1.24e+16\n",
      "==============================================================================\n",
      "\n",
      "Notes:\n",
      "[1] Standard Errors assume that the covariance matrix of the errors is correctly specified.\n",
      "[2] The smallest eigenvalue is 3.21e-30. This might indicate that there are\n",
      "strong multicollinearity problems or that the design matrix is singular.\n",
      "Регрессор с максимальным p-value: street_Боровая_Партия P-value: 0.5563229104144671\n",
      "-------------------------------------------------------------\n",
      "Номер интерации: 23\n",
      "                            OLS Regression Results                            \n",
      "==============================================================================\n",
      "Dep. Variable:                  price   R-squared:                       0.843\n",
      "Model:                            OLS   Adj. R-squared:                  0.818\n",
      "Method:                 Least Squares   F-statistic:                     33.87\n",
      "Date:                Thu, 07 Sep 2023   Prob (F-statistic):           8.70e-88\n",
      "Time:                        23:27:18   Log-Likelihood:                -2621.6\n",
      "No. Observations:                 322   AIC:                             5333.\n",
      "Df Residuals:                     277   BIC:                             5503.\n",
      "Df Model:                          44                                         \n",
      "Covariance Type:            nonrobust                                         \n",
      "===========================================================================================\n",
      "                              coef    std err          t      P>|t|      [0.025      0.975]\n",
      "-------------------------------------------------------------------------------------------\n",
      "const                    4243.2186    181.510     23.377      0.000    3885.904    4600.533\n",
      "sp_total                 7720.2173    496.577     15.547      0.000    6742.673    8697.762\n",
      "sp_living                -517.7706    630.252     -0.822      0.412   -1758.464     722.922\n",
      "height                    657.0484    144.506      4.547      0.000     372.578     941.519\n",
      "side                     -166.5514    105.432     -1.580      0.115    -374.102      40.999\n",
      "street_Академическая     1945.2507    276.565      7.034      0.000    1400.814    2489.687\n",
      "street_Балтийская        -771.3822    262.576     -2.938      0.004   -1288.280    -254.484\n",
      "street_Барьерная         -698.5252    383.186     -1.823      0.069   -1452.851      55.801\n",
      "street_Варшавская        -887.7612    651.914     -1.362      0.174   -2171.096     395.574\n",
      "street_Вахтангова        -502.2633    532.927     -0.942      0.347   -1551.365     546.838\n",
      "street_Ветлужская        -390.0648    368.010     -1.060      0.290   -1114.517     334.387\n",
      "street_Героев_Труда       852.9079    367.041      2.324      0.021     130.363    1575.453\n",
      "street_Демакова           610.6497    278.601      2.192      0.029      62.206    1159.094\n",
      "street_Динамовцев        -320.8076    420.485     -0.763      0.446   -1148.560     506.945\n",
      "street_Жемчужная         1767.8062    537.993      3.286      0.001     708.732    2826.881\n",
      "street_Зеленая_Горка    -1426.3236    913.424     -1.562      0.120   -3224.458     371.810\n",
      "street_Золотодолинская   3440.4797    470.141      7.318      0.000    2514.977    4365.982\n",
      "street_Иванова            481.7040    236.636      2.036      0.043      15.872     947.536\n",
      "street_Ивлева           -7.775e-12   3.73e-12     -2.087      0.038   -1.51e-11   -4.41e-13\n",
      "street_Ильича            3537.5003    481.865      7.341      0.000    2588.918    4486.083\n",
      "street_Лесосечная        -796.3040    227.690     -3.497      0.001   -1244.526    -348.082\n",
      "street_Молодежи_бульвар   564.8970    252.424      2.238      0.026      67.984    1061.810\n",
      "street_Молодости        -1083.6766    316.475     -3.424      0.001   -1706.679    -460.674\n",
      "street_Морской_проспект  3671.7703    306.261     11.989      0.000    3068.875    4274.665\n",
      "street_Одоевского        -598.2293    914.719     -0.654      0.514   -2398.913    1202.454\n",
      "street_Печатников        -459.9971    309.689     -1.485      0.139   -1069.640     149.646\n",
      "street_Пирогова          2615.9496    665.385      3.931      0.000    1306.096    3925.803\n",
      "street_Полевая            518.8573    287.603      1.804      0.072     -47.309    1085.023\n",
      "street_Правды            3254.4872    535.749      6.075      0.000    2199.831    4309.143\n",
      "street_Приморская       -1198.6250    329.445     -3.638      0.000   -1847.159    -550.091\n",
      "street_Разъездная        1239.8735    654.213      1.895      0.059     -47.987    2527.734\n",
      "street_Российская        1551.2368    277.069      5.599      0.000    1005.809    2096.665\n",
      "street_Рыбацкая         -1495.3417    920.636     -1.624      0.105   -3307.673     316.990\n",
      "street_Садовый           -660.0895    660.686     -0.999      0.319   -1960.693     640.514\n",
      "street_Садовый_проезд    -582.2422    481.159     -1.210      0.227   -1529.435     364.951\n",
      "street_Сиреневая          674.4879    475.984      1.417      0.158    -262.517    1611.493\n",
      "street_Смоленская         860.4891    912.593      0.943      0.347    -936.009    2656.987\n",
      "street_Солнечногорская   -904.2119    653.890     -1.383      0.168   -2191.438     383.014\n",
      "street_Терешковой        3131.7294    390.876      8.012      0.000    2362.264    3901.194\n",
      "street_Учёных            2184.8468    538.070      4.061      0.000    1125.622    3244.072\n",
      "street_Цветной_проезд    1889.4441    537.467      3.515      0.001     831.405    2947.483\n",
      "street_Шатурская          619.0314    391.804      1.580      0.115    -152.261    1390.324\n",
      "street_Экваторная        -389.0222    341.350     -1.140      0.255   -1060.991     282.946\n",
      "rooms_2                  -665.3293    174.241     -3.818      0.000   -1008.334    -322.324\n",
      "rooms_3                 -1320.2755    237.971     -5.548      0.000   -1788.736    -851.815\n",
      "rooms_4                 -1819.3337    371.084     -4.903      0.000   -2549.837   -1088.831\n",
      "==============================================================================\n",
      "Omnibus:                      137.454   Durbin-Watson:                   2.356\n",
      "Prob(Omnibus):                  0.000   Jarque-Bera (JB):             1297.300\n",
      "Skew:                           1.495   Prob(JB):                    1.97e-282\n",
      "Kurtosis:                      12.368   Cond. No.                     1.24e+16\n",
      "==============================================================================\n",
      "\n",
      "Notes:\n",
      "[1] Standard Errors assume that the covariance matrix of the errors is correctly specified.\n",
      "[2] The smallest eigenvalue is 3.21e-30. This might indicate that there are\n",
      "strong multicollinearity problems or that the design matrix is singular.\n",
      "Регрессор с максимальным p-value: street_Одоевского P-value: 0.5136521496977737\n",
      "-------------------------------------------------------------\n",
      "Номер интерации: 24\n",
      "                            OLS Regression Results                            \n",
      "==============================================================================\n",
      "Dep. Variable:                  price   R-squared:                       0.843\n",
      "Model:                            OLS   Adj. R-squared:                  0.819\n",
      "Method:                 Least Squares   F-statistic:                     34.72\n",
      "Date:                Thu, 07 Sep 2023   Prob (F-statistic):           1.80e-88\n",
      "Time:                        23:27:18   Log-Likelihood:                -2621.8\n",
      "No. Observations:                 322   AIC:                             5332.\n",
      "Df Residuals:                     278   BIC:                             5498.\n",
      "Df Model:                          43                                         \n",
      "Covariance Type:            nonrobust                                         \n",
      "===========================================================================================\n",
      "                              coef    std err          t      P>|t|      [0.025      0.975]\n",
      "-------------------------------------------------------------------------------------------\n",
      "const                    4236.3366    181.018     23.403      0.000    3879.996    4592.677\n",
      "sp_total                 7737.0737    495.397     15.618      0.000    6761.868    8712.280\n",
      "sp_living                -520.0687    629.594     -0.826      0.409   -1759.445     719.308\n",
      "height                    646.1161    143.389      4.506      0.000     363.851     928.381\n",
      "side                     -170.3049    105.168     -1.619      0.107    -377.331      36.721\n",
      "street_Академическая     1952.0105    276.087      7.070      0.000    1408.523    2495.498\n",
      "street_Балтийская        -756.8813    261.369     -2.896      0.004   -1271.395    -242.368\n",
      "street_Барьерная         -690.3601    382.588     -1.804      0.072   -1443.497      62.777\n",
      "street_Варшавская        -877.2255    651.044     -1.347      0.179   -2158.827     404.376\n",
      "street_Вахтангова        -489.6155    532.028     -0.920      0.358   -1536.930     557.699\n",
      "street_Ветлужская        -383.0141    367.473     -1.042      0.298   -1106.398     340.370\n",
      "street_Героев_Труда       859.3824    366.530      2.345      0.020     137.856    1580.909\n",
      "street_Демакова           620.9040    277.873      2.234      0.026      73.902    1167.906\n",
      "street_Динамовцев        -310.6603    419.766     -0.740      0.460   -1136.984     515.664\n",
      "street_Жемчужная         1773.3476    537.372      3.300      0.001     715.512    2831.183\n",
      "street_Зеленая_Горка    -1425.6031    912.482     -1.562      0.119   -3221.856     370.649\n",
      "street_Золотодолинская   3445.6606    469.590      7.338      0.000    2521.257    4370.064\n",
      "street_Иванова            489.7051    236.076      2.074      0.039      24.982     954.428\n",
      "street_Ивлева            2.099e-12   5.95e-13      3.528      0.000    9.28e-13    3.27e-12\n",
      "street_Ильича            3546.7586    481.161      7.371      0.000    2599.577    4493.941\n",
      "street_Лесосечная        -786.9264    227.004     -3.467      0.001   -1233.791    -340.062\n",
      "street_Молодежи_бульвар   572.6100    251.889      2.273      0.024      76.758    1068.461\n",
      "street_Молодости        -1065.9175    314.984     -3.384      0.001   -1685.973    -445.862\n",
      "street_Морской_проспект  3674.6627    305.914     12.012      0.000    3072.461    4276.865\n",
      "street_Печатников        -452.2750    309.145     -1.463      0.145   -1060.837     156.288\n",
      "street_Пирогова          2620.2803    664.667      3.942      0.000    1311.861    3928.700\n",
      "street_Полевая            529.6258    286.836      1.846      0.066     -35.021    1094.272\n",
      "street_Правды            3257.9746    535.170      6.088      0.000    2204.474    4311.475\n",
      "street_Приморская       -1185.8244    328.524     -3.610      0.000   -1832.536    -539.113\n",
      "street_Разъездная        1246.6609    653.457      1.908      0.057     -39.691    2533.013\n",
      "street_Российская        1559.7867    276.475      5.642      0.000    1015.536    2104.038\n",
      "street_Рыбацкая         -1497.8951    919.679     -1.629      0.105   -3308.315     312.525\n",
      "street_Садовый           -658.9115    660.003     -0.998      0.319   -1958.150     640.327\n",
      "street_Садовый_проезд    -580.0757    480.652     -1.207      0.229   -1526.256     366.105\n",
      "street_Сиреневая          685.2724    475.208      1.442      0.150    -250.191    1620.736\n",
      "street_Смоленская         874.2440    911.411      0.959      0.338    -919.899    2668.387\n",
      "street_Солнечногорская   -901.2655    653.202     -1.380      0.169   -2187.115     384.584\n",
      "street_Терешковой        3137.0054    390.390      8.036      0.000    2368.509    3905.502\n",
      "street_Учёных            2190.4221    537.448      4.076      0.000    1132.437    3248.407\n",
      "street_Цветной_проезд    1897.0858    536.787      3.534      0.000     840.402    2953.769\n",
      "street_Шатурская          632.6242    390.850      1.619      0.107    -136.777    1402.025\n",
      "street_Экваторная        -378.5994    340.626     -1.111      0.267   -1049.134     291.935\n",
      "rooms_2                  -664.5181    174.057     -3.818      0.000   -1007.156    -321.881\n",
      "rooms_3                 -1323.1982    237.684     -5.567      0.000   -1791.086    -855.310\n",
      "rooms_4                 -1826.3421    370.547     -4.929      0.000   -2555.777   -1096.907\n",
      "==============================================================================\n",
      "Omnibus:                      136.926   Durbin-Watson:                   2.356\n",
      "Prob(Omnibus):                  0.000   Jarque-Bera (JB):             1284.734\n",
      "Skew:                           1.490   Prob(JB):                    1.06e-279\n",
      "Kurtosis:                      12.321   Cond. No.                     1.24e+16\n",
      "==============================================================================\n",
      "\n",
      "Notes:\n",
      "[1] Standard Errors assume that the covariance matrix of the errors is correctly specified.\n",
      "[2] The smallest eigenvalue is 3.21e-30. This might indicate that there are\n",
      "strong multicollinearity problems or that the design matrix is singular.\n",
      "Регрессор с максимальным p-value: street_Динамовцев P-value: 0.4598763438710177\n",
      "-------------------------------------------------------------\n",
      "Номер интерации: 25\n",
      "                            OLS Regression Results                            \n",
      "==============================================================================\n",
      "Dep. Variable:                  price   R-squared:                       0.843\n",
      "Model:                            OLS   Adj. R-squared:                  0.819\n",
      "Method:                 Least Squares   F-statistic:                     35.59\n",
      "Date:                Thu, 07 Sep 2023   Prob (F-statistic):           3.92e-89\n",
      "Time:                        23:27:18   Log-Likelihood:                -2622.1\n",
      "No. Observations:                 322   AIC:                             5330.\n",
      "Df Residuals:                     279   BIC:                             5493.\n",
      "Df Model:                          42                                         \n",
      "Covariance Type:            nonrobust                                         \n",
      "===========================================================================================\n",
      "                              coef    std err          t      P>|t|      [0.025      0.975]\n",
      "-------------------------------------------------------------------------------------------\n",
      "const                    4209.4308    177.186     23.757      0.000    3860.639    4558.223\n",
      "sp_total                 7721.5923    494.554     15.613      0.000    6748.061    8695.123\n",
      "sp_living                -508.8052    628.899     -0.809      0.419   -1746.795     729.185\n",
      "height                    652.1355    143.042      4.559      0.000     370.558     933.713\n",
      "side                     -174.4698    104.932     -1.663      0.097    -381.028      32.089\n",
      "street_Академическая     1979.7164    273.316      7.243      0.000    1441.693    2517.739\n",
      "street_Балтийская        -734.1467    259.347     -2.831      0.005   -1244.672    -223.621\n",
      "street_Барьерная         -664.9101    380.730     -1.746      0.082   -1414.379      84.558\n",
      "street_Варшавская        -851.1053    649.559     -1.310      0.191   -2129.765     427.554\n",
      "street_Вахтангова        -464.5551    530.518     -0.876      0.382   -1508.882     579.772\n",
      "street_Ветлужская        -357.5341    365.560     -0.978      0.329   -1077.141     362.073\n",
      "street_Героев_Труда       880.6251    365.108      2.412      0.017     161.909    1599.341\n",
      "street_Демакова           644.6833    275.785      2.338      0.020     101.799    1187.567\n",
      "street_Жемчужная         1796.9787    535.988      3.353      0.001     741.885    2852.073\n",
      "street_Зеленая_Горка    -1396.8213    910.914     -1.533      0.126   -3189.958     396.316\n",
      "street_Золотодолинская   3469.9622    468.061      7.413      0.000    2548.584    4391.341\n",
      "street_Иванова            516.0085    233.196      2.213      0.028      56.962     975.055\n",
      "street_Ивлева            3.743e-12   1.56e-12      2.398      0.017     6.7e-13    6.82e-12\n",
      "street_Ильича            3571.0095    479.655      7.445      0.000    2626.808    4515.211\n",
      "street_Лесосечная        -763.2939    224.564     -3.399      0.001   -1205.349    -321.238\n",
      "street_Молодежи_бульвар   594.7977    249.895      2.380      0.018     102.878    1086.718\n",
      "street_Молодости        -1048.1467    313.812     -3.340      0.001   -1665.887    -430.406\n",
      "street_Морской_проспект  3699.0907    303.881     12.173      0.000    3100.899    4297.282\n",
      "street_Печатников        -428.9650    307.287     -1.396      0.164   -1033.860     175.930\n",
      "street_Пирогова          2640.9867    663.539      3.980      0.000    1334.807    3947.166\n",
      "street_Полевая            557.0852    284.196      1.960      0.051      -2.355    1116.525\n",
      "street_Правды            3284.2064    533.562      6.155      0.000    2233.887    4334.525\n",
      "street_Приморская       -1161.1072    326.557     -3.556      0.000   -1803.936    -518.278\n",
      "street_Разъездная        1272.6329    651.985      1.952      0.052     -10.801    2556.067\n",
      "street_Российская        1585.3862    274.081      5.784      0.000    1045.858    2124.915\n",
      "street_Рыбацкая         -1467.6427    918.026     -1.599      0.111   -3274.779     339.494\n",
      "street_Садовый           -629.7672    658.293     -0.957      0.340   -1925.619     666.085\n",
      "street_Садовый_проезд    -553.3263    478.903     -1.155      0.249   -1496.048     389.395\n",
      "street_Сиреневая          703.4118    474.191      1.483      0.139    -230.035    1636.858\n",
      "street_Смоленская         903.2864    909.827      0.993      0.322    -887.712    2694.284\n",
      "street_Солнечногорская   -873.9722    651.631     -1.341      0.181   -2156.710     408.765\n",
      "street_Терешковой        3160.8972    388.738      8.131      0.000    2395.666    3926.129\n",
      "street_Учёных            2214.1615    536.055      4.130      0.000    1158.936    3269.387\n",
      "street_Цветной_проезд    1926.7731    534.852      3.602      0.000     873.915    2979.631\n",
      "street_Шатурская          652.2244    389.635      1.674      0.095    -114.774    1419.223\n",
      "street_Экваторная        -354.5144    338.793     -1.046      0.296   -1021.429     312.401\n",
      "rooms_2                  -654.5930    173.399     -3.775      0.000    -995.930    -313.256\n",
      "rooms_3                 -1319.8498    237.448     -5.558      0.000   -1787.267    -852.433\n",
      "rooms_4                 -1817.8266    370.068     -4.912      0.000   -2546.307   -1089.346\n",
      "==============================================================================\n",
      "Omnibus:                      136.463   Durbin-Watson:                   2.355\n",
      "Prob(Omnibus):                  0.000   Jarque-Bera (JB):             1272.062\n",
      "Skew:                           1.485   Prob(JB):                    5.96e-277\n",
      "Kurtosis:                      12.273   Cond. No.                     1.24e+16\n",
      "==============================================================================\n",
      "\n",
      "Notes:\n",
      "[1] Standard Errors assume that the covariance matrix of the errors is correctly specified.\n",
      "[2] The smallest eigenvalue is 3.21e-30. This might indicate that there are\n",
      "strong multicollinearity problems or that the design matrix is singular.\n",
      "Регрессор с максимальным p-value: sp_living P-value: 0.4191810457998232\n",
      "-------------------------------------------------------------\n",
      "Номер интерации: 26\n",
      "                            OLS Regression Results                            \n",
      "==============================================================================\n",
      "Dep. Variable:                  price   R-squared:                       0.842\n",
      "Model:                            OLS   Adj. R-squared:                  0.819\n",
      "Method:                 Least Squares   F-statistic:                     36.49\n",
      "Date:                Thu, 07 Sep 2023   Prob (F-statistic):           8.84e-90\n",
      "Time:                        23:27:19   Log-Likelihood:                -2622.5\n",
      "No. Observations:                 322   AIC:                             5329.\n",
      "Df Residuals:                     280   BIC:                             5488.\n",
      "Df Model:                          41                                         \n",
      "Covariance Type:            nonrobust                                         \n",
      "===========================================================================================\n",
      "                              coef    std err          t      P>|t|      [0.025      0.975]\n",
      "-------------------------------------------------------------------------------------------\n",
      "const                    4239.2000    173.217     24.473      0.000    3898.228    4580.172\n",
      "sp_total                 7461.8951    375.994     19.846      0.000    6721.760    8202.030\n",
      "height                    677.6678    139.431      4.860      0.000     403.202     952.133\n",
      "side                     -178.0594    104.773     -1.699      0.090    -384.302      28.184\n",
      "street_Академическая     1978.5378    273.143      7.244      0.000    1440.863    2516.213\n",
      "street_Балтийская        -722.5810    258.793     -2.792      0.006   -1232.008    -213.154\n",
      "street_Барьерная         -677.4456    380.180     -1.782      0.076   -1425.820      70.928\n",
      "street_Варшавская        -836.2458    648.899     -1.289      0.199   -2113.586     441.094\n",
      "street_Вахтангова        -442.2913    529.477     -0.835      0.404   -1484.553     599.970\n",
      "street_Ветлужская        -359.4887    365.327     -0.984      0.326   -1078.625     359.647\n",
      "street_Героев_Труда       884.3624    364.853      2.424      0.016     166.158    1602.566\n",
      "street_Демакова           650.0049    275.537      2.359      0.019     107.619    1192.391\n",
      "street_Жемчужная         1793.6288    535.641      3.349      0.001     739.234    2848.024\n",
      "street_Зеленая_Горка    -1347.6174    908.321     -1.484      0.139   -3135.622     440.387\n",
      "street_Золотодолинская   3471.6831    467.767      7.422      0.000    2550.897    4392.469\n",
      "street_Иванова            528.6051    232.532      2.273      0.024      70.873     986.338\n",
      "street_Ивлева            -4.96e-12   9.53e-13     -5.206      0.000   -6.84e-12   -3.08e-12\n",
      "street_Ильича            3577.6663    479.288      7.465      0.000    2634.201    4521.132\n",
      "street_Лесосечная        -760.1442    224.392     -3.388      0.001   -1201.854    -318.435\n",
      "street_Молодежи_бульвар   614.5030    248.552      2.472      0.014     125.235    1103.771\n",
      "street_Молодости        -1068.9347    312.566     -3.420      0.001   -1684.211    -453.658\n",
      "street_Морской_проспект  3709.3697    303.428     12.225      0.000    3112.079    4306.660\n",
      "street_Печатников        -425.6012    307.069     -1.386      0.167   -1030.059     178.856\n",
      "street_Пирогова          2604.1652    661.568      3.936      0.000    1301.887    3906.444\n",
      "street_Полевая            566.4614    283.784      1.996      0.047       7.841    1125.082\n",
      "street_Правды            3269.7454    532.934      6.135      0.000    2220.680    4318.811\n",
      "street_Приморская       -1152.1440    326.168     -3.532      0.000   -1794.197    -510.092\n",
      "street_Разъездная        1307.8218    650.131      2.012      0.045      28.057    2587.587\n",
      "street_Российская        1604.6442    272.876      5.880      0.000    1067.494    2141.794\n",
      "street_Рыбацкая         -1460.4749    917.416     -1.592      0.113   -3266.384     345.434\n",
      "street_Садовый           -568.2385    653.482     -0.870      0.385   -1854.599     718.122\n",
      "street_Садовый_проезд    -615.0571    472.494     -1.302      0.194   -1545.148     315.033\n",
      "street_Сиреневая          746.3659    470.919      1.585      0.114    -180.624    1673.356\n",
      "street_Смоленская         898.3549    909.246      0.988      0.324    -891.470    2688.180\n",
      "street_Солнечногорская   -843.3309    650.128     -1.297      0.196   -2123.090     436.428\n",
      "street_Терешковой        3144.5868    387.975      8.105      0.000    2380.868    3908.305\n",
      "street_Учёных            2217.5020    535.708      4.139      0.000    1162.975    3272.029\n",
      "street_Цветной_проезд    1923.1440    534.503      3.598      0.000     870.989    2975.299\n",
      "street_Шатурская          646.5584    389.332      1.661      0.098    -119.831    1412.948\n",
      "street_Экваторная        -346.5288    338.440     -1.024      0.307   -1012.739     319.681\n",
      "rooms_2                  -686.6001    168.722     -4.069      0.000   -1018.724    -354.476\n",
      "rooms_3                 -1381.1246    224.906     -6.141      0.000   -1823.846    -938.403\n",
      "rooms_4                 -1916.9317    348.991     -5.493      0.000   -2603.910   -1229.953\n",
      "==============================================================================\n",
      "Omnibus:                      138.046   Durbin-Watson:                   2.349\n",
      "Prob(Omnibus):                  0.000   Jarque-Bera (JB):             1297.419\n",
      "Skew:                           1.505   Prob(JB):                    1.86e-282\n",
      "Kurtosis:                      12.362   Cond. No.                     1.25e+16\n",
      "==============================================================================\n",
      "\n",
      "Notes:\n",
      "[1] Standard Errors assume that the covariance matrix of the errors is correctly specified.\n",
      "[2] The smallest eigenvalue is 3.19e-30. This might indicate that there are\n",
      "strong multicollinearity problems or that the design matrix is singular.\n",
      "Регрессор с максимальным p-value: street_Вахтангова P-value: 0.4042409403768654\n",
      "-------------------------------------------------------------\n",
      "Номер интерации: 27\n",
      "                            OLS Regression Results                            \n",
      "==============================================================================\n",
      "Dep. Variable:                  price   R-squared:                       0.842\n",
      "Model:                            OLS   Adj. R-squared:                  0.819\n",
      "Method:                 Least Squares   F-statistic:                     37.42\n",
      "Date:                Thu, 07 Sep 2023   Prob (F-statistic):           2.01e-90\n",
      "Time:                        23:27:19   Log-Likelihood:                -2622.9\n",
      "No. Observations:                 322   AIC:                             5328.\n",
      "Df Residuals:                     281   BIC:                             5483.\n",
      "Df Model:                          40                                         \n",
      "Covariance Type:            nonrobust                                         \n",
      "===========================================================================================\n",
      "                              coef    std err          t      P>|t|      [0.025      0.975]\n",
      "-------------------------------------------------------------------------------------------\n",
      "const                    4218.0656    171.267     24.629      0.000    3880.937    4555.194\n",
      "sp_total                 7459.7447    375.783     19.851      0.000    6720.037    8199.452\n",
      "height                    675.9640    139.341      4.851      0.000     401.680     950.248\n",
      "side                     -181.4367    104.639     -1.734      0.084    -387.412      24.539\n",
      "street_Академическая     1997.5469    272.047      7.343      0.000    1462.038    2533.056\n",
      "street_Балтийская        -700.9241    257.352     -2.724      0.007   -1207.507    -194.341\n",
      "street_Барьерная         -661.4844    379.495     -1.743      0.082   -1408.499      85.530\n",
      "street_Варшавская        -820.2567    648.268     -1.265      0.207   -2096.334     455.821\n",
      "street_Ветлужская        -342.9769    364.596     -0.941      0.348   -1060.662     374.708\n",
      "street_Героев_Труда       903.4217    363.943      2.482      0.014     187.020    1619.823\n",
      "street_Демакова           669.0548    274.444      2.438      0.015     128.829    1209.281\n",
      "street_Жемчужная         1811.7754    534.913      3.387      0.001     758.831    2864.720\n",
      "street_Зеленая_Горка    -1334.4818    907.696     -1.470      0.143   -3121.229     452.265\n",
      "street_Золотодолинская   3488.6255    467.076      7.469      0.000    2569.214    4408.037\n",
      "street_Иванова            547.6411    231.288      2.368      0.019      92.364    1002.918\n",
      "street_Ивлева           -6.549e-12   2.22e-12     -2.946      0.003   -1.09e-11   -2.17e-12\n",
      "street_Ильича            3596.0576    478.525      7.515      0.000    2654.109    4538.006\n",
      "street_Лесосечная        -741.9324    223.210     -3.324      0.001   -1181.309    -302.556\n",
      "street_Молодежи_бульвар   634.4697    247.267      2.566      0.011     147.739    1121.201\n",
      "street_Молодости        -1047.8559    311.378     -3.365      0.001   -1660.785    -434.927\n",
      "street_Морской_проспект  3726.9212    302.537     12.319      0.000    3131.394    4322.448\n",
      "street_Печатников        -406.5347    306.055     -1.328      0.185   -1008.986     195.917\n",
      "street_Пирогова          2625.2834    660.729      3.973      0.000    1324.676    3925.891\n",
      "street_Полевая            586.4810    282.618      2.075      0.039      30.164    1142.798\n",
      "street_Правды            3287.8143    532.208      6.178      0.000    2240.193    4335.435\n",
      "street_Приморская       -1131.6757    325.071     -3.481      0.001   -1771.560    -491.792\n",
      "street_Разъездная        1329.6376    649.257      2.048      0.041      51.613    2607.662\n",
      "street_Российская        1623.2922    271.815      5.972      0.000    1088.239    2158.345\n",
      "street_Рыбацкая         -1446.2269    916.764     -1.578      0.116   -3250.825     358.371\n",
      "street_Садовый           -547.7414    652.670     -0.839      0.402   -1832.484     737.001\n",
      "street_Садовый_проезд    -596.2958    471.706     -1.264      0.207   -1524.821     332.229\n",
      "street_Сиреневая          766.1781    470.068      1.630      0.104    -159.124    1691.480\n",
      "street_Смоленская         921.1510    908.347      1.014      0.311    -866.878    2709.180\n",
      "street_Солнечногорская   -829.8516    649.578     -1.278      0.202   -2108.508     448.805\n",
      "street_Терешковой        3161.1756    387.258      8.163      0.000    2398.880    3923.471\n",
      "street_Учёных            2235.6398    534.980      4.179      0.000    1182.562    3288.717\n",
      "street_Цветной_проезд    1942.8665    533.694      3.640      0.000     892.320    2993.413\n",
      "street_Шатурская          668.2222    388.258      1.721      0.086     -96.042    1432.486\n",
      "street_Экваторная        -326.0214    337.367     -0.966      0.335    -990.109     338.066\n",
      "rooms_2                  -683.8960    168.600     -4.056      0.000   -1015.775    -352.017\n",
      "rooms_3                 -1373.8034    224.614     -6.116      0.000   -1815.944    -931.663\n",
      "rooms_4                 -1911.2329    348.736     -5.480      0.000   -2597.700   -1224.766\n",
      "==============================================================================\n",
      "Omnibus:                      137.560   Durbin-Watson:                   2.348\n",
      "Prob(Omnibus):                  0.000   Jarque-Bera (JB):             1282.783\n",
      "Skew:                           1.501   Prob(JB):                    2.80e-279\n",
      "Kurtosis:                      12.306   Cond. No.                     1.24e+16\n",
      "==============================================================================\n",
      "\n",
      "Notes:\n",
      "[1] Standard Errors assume that the covariance matrix of the errors is correctly specified.\n",
      "[2] The smallest eigenvalue is 3.21e-30. This might indicate that there are\n",
      "strong multicollinearity problems or that the design matrix is singular.\n",
      "Регрессор с максимальным p-value: street_Садовый P-value: 0.40205231801816654\n",
      "-------------------------------------------------------------\n",
      "Номер интерации: 28\n",
      "                            OLS Regression Results                            \n",
      "==============================================================================\n",
      "Dep. Variable:                  price   R-squared:                       0.842\n",
      "Model:                            OLS   Adj. R-squared:                  0.820\n",
      "Method:                 Least Squares   F-statistic:                     38.41\n",
      "Date:                Thu, 07 Sep 2023   Prob (F-statistic):           4.54e-91\n",
      "Time:                        23:27:19   Log-Likelihood:                -2623.3\n",
      "No. Observations:                 322   AIC:                             5327.\n",
      "Df Residuals:                     282   BIC:                             5478.\n",
      "Df Model:                          39                                         \n",
      "Covariance Type:            nonrobust                                         \n",
      "===========================================================================================\n",
      "                              coef    std err          t      P>|t|      [0.025      0.975]\n",
      "-------------------------------------------------------------------------------------------\n",
      "const                    4190.4535    167.989     24.945      0.000    3859.783    4521.124\n",
      "sp_total                 7416.7767    372.084     19.933      0.000    6684.362    8149.191\n",
      "height                    694.3109    137.543      5.048      0.000     423.569     965.052\n",
      "side                     -182.7671    104.572     -1.748      0.082    -388.608      23.074\n",
      "street_Академическая     2018.5725    270.749      7.456      0.000    1485.627    2551.518\n",
      "street_Балтийская        -689.2288    256.840     -2.683      0.008   -1194.796    -183.662\n",
      "street_Барьерная         -649.5984    379.032     -1.714      0.088   -1395.690      96.493\n",
      "street_Варшавская        -812.4378    647.861     -1.254      0.211   -2087.695     462.819\n",
      "street_Ветлужская        -328.5652    364.000     -0.903      0.367   -1045.067     387.936\n",
      "street_Героев_Труда       921.8316    363.091      2.539      0.012     207.118    1636.545\n",
      "street_Демакова           682.6324    273.823      2.493      0.013     143.637    1221.628\n",
      "street_Жемчужная         1831.0132    534.141      3.428      0.001     779.604    2882.423\n",
      "street_Зеленая_Горка    -1313.9283    906.890     -1.449      0.148   -3099.061     471.204\n",
      "street_Золотодолинская   3506.5421    466.343      7.519      0.000    2588.587    4424.497\n",
      "street_Иванова            566.6247    230.059      2.463      0.014     113.775    1019.475\n",
      "street_Ивлева            1.388e-11   2.48e-12      5.590      0.000    8.99e-12    1.88e-11\n",
      "street_Ильича            3610.5514    477.962      7.554      0.000    2669.725    4551.378\n",
      "street_Лесосечная        -728.1130    222.485     -3.273      0.001   -1166.056    -290.170\n",
      "street_Молодежи_бульвар   654.1238    246.026      2.659      0.008     169.842    1138.405\n",
      "street_Молодости        -1045.8756    311.206     -3.361      0.001   -1658.456    -433.295\n",
      "street_Морской_проспект  3750.6683    301.053     12.458      0.000    3158.072    4343.265\n",
      "street_Печатников        -388.7813    305.163     -1.274      0.204    -989.468     211.905\n",
      "street_Пирогова          2654.8171    659.445      4.026      0.000    1356.757    3952.877\n",
      "street_Полевая            602.7430    281.805      2.139      0.033      48.034    1157.452\n",
      "street_Правды            3313.1568    531.072      6.239      0.000    2267.788    4358.525\n",
      "street_Приморская       -1118.6892    324.532     -3.447      0.001   -1757.503    -479.876\n",
      "street_Разъездная        1356.7596    648.112      2.093      0.037      81.008    2632.511\n",
      "street_Российская        1640.7910    270.872      6.057      0.000    1107.603    2173.979\n",
      "street_Рыбацкая         -1413.9259    915.476     -1.544      0.124   -3215.959     388.107\n",
      "street_Садовый_проезд    -565.3155    470.012     -1.203      0.230   -1490.493     359.862\n",
      "street_Сиреневая          777.4876    469.628      1.656      0.099    -146.934    1701.910\n",
      "street_Смоленская         936.7689    907.680      1.032      0.303    -849.920    2723.457\n",
      "street_Солнечногорская   -812.9089    648.924     -1.253      0.211   -2090.258     464.440\n",
      "street_Терешковой        3179.4854    386.440      8.228      0.000    2418.812    3940.159\n",
      "street_Учёных            2254.7017    534.217      4.221      0.000    1203.142    3306.262\n",
      "street_Цветной_проезд    1964.8054    532.774      3.688      0.000     916.087    3013.524\n",
      "street_Шатурская          679.4194    387.825      1.752      0.081     -83.981    1442.819\n",
      "street_Экваторная        -309.9376    336.646     -0.921      0.358    -972.595     352.720\n",
      "rooms_2                  -673.0444    168.015     -4.006      0.000   -1003.767    -342.322\n",
      "rooms_3                 -1348.8490    222.521     -6.062      0.000   -1786.862    -910.836\n",
      "rooms_4                 -1879.3881    346.484     -5.424      0.000   -2561.411   -1197.365\n",
      "==============================================================================\n",
      "Omnibus:                      137.382   Durbin-Watson:                   2.344\n",
      "Prob(Omnibus):                  0.000   Jarque-Bera (JB):             1272.990\n",
      "Skew:                           1.501   Prob(JB):                    3.75e-277\n",
      "Kurtosis:                      12.267   Cond. No.                     1.24e+16\n",
      "==============================================================================\n",
      "\n",
      "Notes:\n",
      "[1] Standard Errors assume that the covariance matrix of the errors is correctly specified.\n",
      "[2] The smallest eigenvalue is 3.21e-30. This might indicate that there are\n",
      "strong multicollinearity problems or that the design matrix is singular.\n",
      "Регрессор с максимальным p-value: street_Ветлужская P-value: 0.3674809689027225\n",
      "-------------------------------------------------------------\n",
      "Номер интерации: 29\n",
      "                            OLS Regression Results                            \n",
      "==============================================================================\n",
      "Dep. Variable:                  price   R-squared:                       0.841\n",
      "Model:                            OLS   Adj. R-squared:                  0.820\n",
      "Method:                 Least Squares   F-statistic:                     39.42\n",
      "Date:                Thu, 07 Sep 2023   Prob (F-statistic):           1.07e-91\n",
      "Time:                        23:27:19   Log-Likelihood:                -2623.8\n",
      "No. Observations:                 322   AIC:                             5326.\n",
      "Df Residuals:                     283   BIC:                             5473.\n",
      "Df Model:                          38                                         \n",
      "Covariance Type:            nonrobust                                         \n",
      "===========================================================================================\n",
      "                              coef    std err          t      P>|t|      [0.025      0.975]\n",
      "-------------------------------------------------------------------------------------------\n",
      "const                    4180.9609    167.604     24.945      0.000    3851.052    4510.870\n",
      "sp_total                 7445.7824    370.572     20.093      0.000    6716.354    8175.211\n",
      "height                    702.7634    137.179      5.123      0.000     432.743     972.784\n",
      "side                     -189.4369    104.276     -1.817      0.070    -394.693      15.819\n",
      "street_Академическая     2056.5567    267.371      7.692      0.000    1530.268    2582.846\n",
      "street_Балтийская        -671.4032    255.996     -2.623      0.009   -1175.301    -167.505\n",
      "street_Барьерная         -603.8940    375.512     -1.608      0.109   -1343.045     135.257\n",
      "street_Варшавская        -769.0430    645.863     -1.191      0.235   -2040.349     502.262\n",
      "street_Героев_Труда       959.5298    360.563      2.661      0.008     249.803    1669.256\n",
      "street_Демакова           715.3827    271.319      2.637      0.009     181.323    1249.443\n",
      "street_Жемчужная         1874.6903    531.771      3.525      0.000     827.963    2921.418\n",
      "street_Зеленая_Горка    -1268.3277    905.185     -1.401      0.162   -3050.078     513.422\n",
      "street_Золотодолинская   3550.7721    463.610      7.659      0.000    2638.211    4463.333\n",
      "street_Иванова            597.6757    227.398      2.628      0.009     150.070    1045.281\n",
      "street_Ивлева           -1.512e-11   2.93e-12     -5.153      0.000   -2.09e-11   -9.35e-12\n",
      "street_Ильича            3648.0093    476.002      7.664      0.000    2711.056    4584.962\n",
      "street_Лесосечная        -697.3201    219.782     -3.173      0.002   -1129.936    -264.704\n",
      "street_Молодежи_бульвар   681.5881    244.058      2.793      0.006     201.189    1161.987\n",
      "street_Молодости        -1024.8716    310.233     -3.304      0.001   -1635.528    -414.215\n",
      "street_Морской_проспект  3789.9585    297.792     12.727      0.000    3203.790    4376.127\n",
      "street_Печатников        -355.3172    302.804     -1.173      0.242    -951.350     240.716\n",
      "street_Пирогова          2673.8515    658.893      4.058      0.000    1376.899    3970.804\n",
      "street_Полевая            633.9887    279.580      2.268      0.024      83.669    1184.308\n",
      "street_Правды            3346.7967    529.589      6.320      0.000    2304.362    4389.231\n",
      "street_Приморская       -1094.4641    323.315     -3.385      0.001   -1730.872    -458.057\n",
      "street_Разъездная        1374.4154    647.605      2.122      0.035      99.682    2649.149\n",
      "street_Российская        1669.1919    268.951      6.206      0.000    1139.794    2198.590\n",
      "street_Рыбацкая         -1380.4230    914.424     -1.510      0.132   -3180.358     419.512\n",
      "street_Садовый_проезд    -538.5305    468.921     -1.148      0.252   -1461.546     384.485\n",
      "street_Сиреневая          796.7648    468.989      1.699      0.090    -126.385    1719.914\n",
      "street_Смоленская         970.2612    906.625      1.070      0.285    -814.322    2754.845\n",
      "street_Солнечногорская   -769.0383    646.889     -1.189      0.236   -2042.364     504.287\n",
      "street_Терешковой        3217.3420    384.032      8.378      0.000    2461.420    3973.264\n",
      "street_Учёных            2298.4976    531.835      4.322      0.000    1251.642    3345.353\n",
      "street_Цветной_проезд    1999.8720    531.182      3.765      0.000     954.303    3045.441\n",
      "street_Шатурская          701.5344    386.924      1.813      0.071     -60.080    1463.149\n",
      "street_Экваторная        -277.7073    334.637     -0.830      0.407    -936.401     380.986\n",
      "rooms_2                  -690.5505    166.837     -4.139      0.000   -1018.950    -362.151\n",
      "rooms_3                 -1384.5351    218.909     -6.325      0.000   -1815.432    -953.639\n",
      "rooms_4                 -1905.9489    345.119     -5.523      0.000   -2585.276   -1226.622\n",
      "==============================================================================\n",
      "Omnibus:                      136.356   Durbin-Watson:                   2.348\n",
      "Prob(Omnibus):                  0.000   Jarque-Bera (JB):             1246.205\n",
      "Skew:                           1.491   Prob(JB):                    2.45e-271\n",
      "Kurtosis:                      12.165   Cond. No.                     1.24e+16\n",
      "==============================================================================\n",
      "\n",
      "Notes:\n",
      "[1] Standard Errors assume that the covariance matrix of the errors is correctly specified.\n",
      "[2] The smallest eigenvalue is 3.21e-30. This might indicate that there are\n",
      "strong multicollinearity problems or that the design matrix is singular.\n",
      "Регрессор с максимальным p-value: street_Экваторная P-value: 0.40730838378417156\n",
      "-------------------------------------------------------------\n",
      "Номер интерации: 30\n",
      "                            OLS Regression Results                            \n",
      "==============================================================================\n",
      "Dep. Variable:                  price   R-squared:                       0.841\n",
      "Model:                            OLS   Adj. R-squared:                  0.820\n",
      "Method:                 Least Squares   F-statistic:                     40.51\n",
      "Date:                Thu, 07 Sep 2023   Prob (F-statistic):           2.33e-92\n",
      "Time:                        23:27:20   Log-Likelihood:                -2624.2\n",
      "No. Observations:                 322   AIC:                             5324.\n",
      "Df Residuals:                     284   BIC:                             5468.\n",
      "Df Model:                          37                                         \n",
      "Covariance Type:            nonrobust                                         \n",
      "===========================================================================================\n",
      "                              coef    std err          t      P>|t|      [0.025      0.975]\n",
      "-------------------------------------------------------------------------------------------\n",
      "const                    4161.0605    165.789     25.099      0.000    3834.730    4487.392\n",
      "sp_total                 7438.9675    370.278     20.090      0.000    6710.129    8167.806\n",
      "height                    699.6121    137.051      5.105      0.000     429.847     969.377\n",
      "side                     -197.5372    103.762     -1.904      0.058    -401.777       6.702\n",
      "street_Академическая     2081.9454    265.470      7.842      0.000    1559.407    2604.483\n",
      "street_Балтийская        -641.2690    253.269     -2.532      0.012   -1139.791    -142.747\n",
      "street_Барьерная         -578.3936    374.047     -1.546      0.123   -1314.651     157.864\n",
      "street_Варшавская        -741.3911    644.650     -1.150      0.251   -2010.288     527.506\n",
      "street_Героев_Труда       990.3030    358.455      2.763      0.006     284.738    1695.868\n",
      "street_Демакова           743.2494    269.086      2.762      0.006     213.594    1272.905\n",
      "street_Жемчужная         1904.4001    530.273      3.591      0.000     860.635    2948.165\n",
      "street_Зеленая_Горка    -1246.8435    904.319     -1.379      0.169   -3026.861     533.174\n",
      "street_Золотодолинская   3578.4669    462.153      7.743      0.000    2668.786    4488.147\n",
      "street_Иванова            624.1487    225.026      2.774      0.006     181.219    1067.078\n",
      "street_Ивлева            4.999e-12   2.82e-12      1.773      0.077    -5.5e-13    1.05e-11\n",
      "street_Ильича            3677.6042    474.404      7.752      0.000    2743.811    4611.397\n",
      "street_Лесосечная        -670.6035    217.293     -3.086      0.002   -1098.312    -242.895\n",
      "street_Молодежи_бульвар   714.0534    240.770      2.966      0.003     240.133    1187.974\n",
      "street_Молодости         -995.9884    308.105     -3.233      0.001   -1602.448    -389.529\n",
      "street_Морской_проспект  3818.5932    295.624     12.917      0.000    3236.700    4400.486\n",
      "street_Печатников        -327.3264    300.754     -1.088      0.277    -919.317     264.664\n",
      "street_Пирогова          2709.1034    657.161      4.122      0.000    1415.578    4002.628\n",
      "street_Полевая            660.7386    277.563      2.381      0.018     114.397    1207.080\n",
      "street_Правды            3371.4473    528.466      6.380      0.000    2331.240    4411.654\n",
      "street_Приморская       -1067.0373    321.445     -3.320      0.001   -1699.754    -434.320\n",
      "street_Разъездная        1403.5823    646.296      2.172      0.031     131.444    2675.720\n",
      "street_Российская        1697.5308    266.628      6.367      0.000    1172.713    2222.348\n",
      "street_Рыбацкая         -1355.8634    913.444     -1.484      0.139   -3153.842     442.115\n",
      "street_Садовый_проезд    -515.0209    467.808     -1.101      0.272   -1435.832     405.790\n",
      "street_Сиреневая          824.3002    467.557      1.763      0.079     -96.017    1744.618\n",
      "street_Смоленская         993.7241    905.687      1.097      0.273    -788.987    2776.435\n",
      "street_Солнечногорская   -746.9145    645.985     -1.156      0.249   -2018.441     524.612\n",
      "street_Терешковой        3244.1756    382.459      8.482      0.000    2491.362    3996.989\n",
      "street_Учёных            2328.1795    530.340      4.390      0.000    1284.283    3372.076\n",
      "street_Цветной_проезд    2023.2149    530.146      3.816      0.000     979.701    3066.729\n",
      "street_Шатурская          732.1978    384.945      1.902      0.058     -25.509    1489.904\n",
      "rooms_2                  -699.0224    166.433     -4.200      0.000   -1026.622    -371.423\n",
      "rooms_3                 -1386.9173    218.770     -6.340      0.000   -1817.534    -956.301\n",
      "rooms_4                 -1906.4693    344.930     -5.527      0.000   -2585.412   -1227.526\n",
      "==============================================================================\n",
      "Omnibus:                      135.684   Durbin-Watson:                   2.356\n",
      "Prob(Omnibus):                  0.000   Jarque-Bera (JB):             1231.915\n",
      "Skew:                           1.484   Prob(JB):                    3.11e-268\n",
      "Kurtosis:                      12.111   Cond. No.                     1.24e+16\n",
      "==============================================================================\n",
      "\n",
      "Notes:\n",
      "[1] Standard Errors assume that the covariance matrix of the errors is correctly specified.\n",
      "[2] The smallest eigenvalue is 3.21e-30. This might indicate that there are\n",
      "strong multicollinearity problems or that the design matrix is singular.\n",
      "Регрессор с максимальным p-value: street_Печатников P-value: 0.2773624879603752\n",
      "-------------------------------------------------------------\n",
      "Номер интерации: 31\n",
      "                            OLS Regression Results                            \n",
      "==============================================================================\n",
      "Dep. Variable:                  price   R-squared:                       0.840\n",
      "Model:                            OLS   Adj. R-squared:                  0.820\n",
      "Method:                 Least Squares   F-statistic:                     41.58\n",
      "Date:                Thu, 07 Sep 2023   Prob (F-statistic):           6.37e-93\n",
      "Time:                        23:27:20   Log-Likelihood:                -2624.8\n",
      "No. Observations:                 322   AIC:                             5324.\n",
      "Df Residuals:                     285   BIC:                             5463.\n",
      "Df Model:                          36                                         \n",
      "Covariance Type:            nonrobust                                         \n",
      "===========================================================================================\n",
      "                              coef    std err          t      P>|t|      [0.025      0.975]\n",
      "-------------------------------------------------------------------------------------------\n",
      "const                    4133.2107    163.855     25.225      0.000    3810.691    4455.731\n",
      "sp_total                 7438.4010    370.398     20.082      0.000    6709.339    8167.463\n",
      "height                    706.2852    136.958      5.157      0.000     436.707     975.863\n",
      "side                     -199.3431    103.782     -1.921      0.056    -403.619       4.933\n",
      "street_Академическая     2118.3748    263.436      8.041      0.000    1599.847    2636.903\n",
      "street_Балтийская        -611.7958    251.898     -2.429      0.016   -1107.613    -115.979\n",
      "street_Барьерная         -534.2709    371.964     -1.436      0.152   -1266.417     197.875\n",
      "street_Варшавская        -708.8366    644.164     -1.100      0.272   -1976.758     559.085\n",
      "street_Героев_Труда      1032.3098    356.486      2.896      0.004     330.630    1733.990\n",
      "street_Демакова           780.8107    266.950      2.925      0.004     255.368    1306.254\n",
      "street_Жемчужная         1946.4050    529.038      3.679      0.000     905.087    2987.723\n",
      "street_Зеленая_Горка    -1210.5134    903.995     -1.339      0.182   -2989.867     568.840\n",
      "street_Золотодолинская   3618.7097    460.821      7.853      0.000    2711.666    4525.754\n",
      "street_Иванова            660.1612    222.652      2.965      0.003     221.911    1098.411\n",
      "street_Ивлева            8.844e-13   1.39e-12      0.635      0.526   -1.86e-12    3.63e-12\n",
      "street_Ильича            3723.9241    472.644      7.879      0.000    2793.609    4654.239\n",
      "street_Лесосечная        -636.3667    215.073     -2.959      0.003   -1059.700    -213.033\n",
      "street_Молодежи_бульвар   752.0103    238.308      3.156      0.002     282.943    1221.077\n",
      "street_Молодости         -964.3218    306.828     -3.143      0.002   -1568.258    -360.386\n",
      "street_Морской_проспект  3860.0444    293.256     13.163      0.000    3282.823    4437.266\n",
      "street_Пирогова          2749.3372    656.333      4.189      0.000    1457.462    4041.212\n",
      "street_Полевая            692.7383    276.091      2.509      0.013     149.303    1236.174\n",
      "street_Правды            3408.7935    527.521      6.462      0.000    2370.461    4447.126\n",
      "street_Приморская       -1032.4599    319.975     -3.227      0.001   -1662.273    -402.646\n",
      "street_Разъездная        1438.2128    645.721      2.227      0.027     167.226    2709.200\n",
      "street_Российская        1731.7683    264.851      6.539      0.000    1210.456    2253.081\n",
      "street_Рыбацкая         -1320.6647    913.166     -1.446      0.149   -3118.071     476.741\n",
      "street_Садовый_проезд    -479.1781    466.798     -1.027      0.306   -1397.988     439.632\n",
      "street_Сиреневая          858.5237    466.650      1.840      0.067     -59.993    1777.041\n",
      "street_Смоленская        1025.7766    905.501      1.133      0.258    -756.541    2808.095\n",
      "street_Солнечногорская   -711.9183    645.393     -1.103      0.271   -1982.261     558.424\n",
      "street_Терешковой        3284.7849    380.757      8.627      0.000    2535.332    4034.238\n",
      "street_Учёных            2370.1820    529.106      4.480      0.000    1328.731    3411.632\n",
      "street_Цветной_проезд    2056.9693    529.409      3.885      0.000    1014.921    3099.017\n",
      "street_Шатурская          766.2246    383.797      1.996      0.047      10.788    1521.661\n",
      "rooms_2                  -711.3084    166.104     -4.282      0.000   -1038.254    -384.362\n",
      "rooms_3                 -1391.3028    218.804     -6.359      0.000   -1821.979    -960.626\n",
      "rooms_4                 -1929.8303    344.372     -5.604      0.000   -2607.666   -1251.994\n",
      "==============================================================================\n",
      "Omnibus:                      134.886   Durbin-Watson:                   2.353\n",
      "Prob(Omnibus):                  0.000   Jarque-Bera (JB):             1208.852\n",
      "Skew:                           1.477   Prob(JB):                    3.17e-263\n",
      "Kurtosis:                      12.021   Cond. No.                     1.24e+16\n",
      "==============================================================================\n",
      "\n",
      "Notes:\n",
      "[1] Standard Errors assume that the covariance matrix of the errors is correctly specified.\n",
      "[2] The smallest eigenvalue is 3.21e-30. This might indicate that there are\n",
      "strong multicollinearity problems or that the design matrix is singular.\n",
      "Регрессор с максимальным p-value: street_Ивлева P-value: 0.5262444550773706\n",
      "-------------------------------------------------------------\n",
      "Номер интерации: 32\n",
      "                            OLS Regression Results                            \n",
      "==============================================================================\n",
      "Dep. Variable:                  price   R-squared:                       0.840\n",
      "Model:                            OLS   Adj. R-squared:                  0.820\n",
      "Method:                 Least Squares   F-statistic:                     41.58\n",
      "Date:                Thu, 07 Sep 2023   Prob (F-statistic):           6.37e-93\n",
      "Time:                        23:27:20   Log-Likelihood:                -2624.8\n",
      "No. Observations:                 322   AIC:                             5324.\n",
      "Df Residuals:                     285   BIC:                             5463.\n",
      "Df Model:                          36                                         \n",
      "Covariance Type:            nonrobust                                         \n",
      "===========================================================================================\n",
      "                              coef    std err          t      P>|t|      [0.025      0.975]\n",
      "-------------------------------------------------------------------------------------------\n",
      "const                    4133.2107    163.855     25.225      0.000    3810.691    4455.731\n",
      "sp_total                 7438.4010    370.398     20.082      0.000    6709.339    8167.463\n",
      "height                    706.2852    136.958      5.157      0.000     436.707     975.863\n",
      "side                     -199.3431    103.782     -1.921      0.056    -403.619       4.933\n",
      "street_Академическая     2118.3748    263.436      8.041      0.000    1599.847    2636.903\n",
      "street_Балтийская        -611.7958    251.898     -2.429      0.016   -1107.613    -115.979\n",
      "street_Барьерная         -534.2709    371.964     -1.436      0.152   -1266.417     197.875\n",
      "street_Варшавская        -708.8366    644.164     -1.100      0.272   -1976.758     559.085\n",
      "street_Героев_Труда      1032.3098    356.486      2.896      0.004     330.630    1733.990\n",
      "street_Демакова           780.8107    266.950      2.925      0.004     255.368    1306.254\n",
      "street_Жемчужная         1946.4050    529.038      3.679      0.000     905.087    2987.723\n",
      "street_Зеленая_Горка    -1210.5134    903.995     -1.339      0.182   -2989.867     568.840\n",
      "street_Золотодолинская   3618.7097    460.821      7.853      0.000    2711.666    4525.754\n",
      "street_Иванова            660.1612    222.652      2.965      0.003     221.911    1098.411\n",
      "street_Ильича            3723.9241    472.644      7.879      0.000    2793.609    4654.239\n",
      "street_Лесосечная        -636.3667    215.073     -2.959      0.003   -1059.700    -213.033\n",
      "street_Молодежи_бульвар   752.0103    238.308      3.156      0.002     282.943    1221.077\n",
      "street_Молодости         -964.3218    306.828     -3.143      0.002   -1568.258    -360.386\n",
      "street_Морской_проспект  3860.0444    293.256     13.163      0.000    3282.823    4437.266\n",
      "street_Пирогова          2749.3372    656.333      4.189      0.000    1457.462    4041.212\n",
      "street_Полевая            692.7383    276.091      2.509      0.013     149.303    1236.174\n",
      "street_Правды            3408.7935    527.521      6.462      0.000    2370.461    4447.126\n",
      "street_Приморская       -1032.4599    319.975     -3.227      0.001   -1662.273    -402.646\n",
      "street_Разъездная        1438.2128    645.721      2.227      0.027     167.226    2709.200\n",
      "street_Российская        1731.7683    264.851      6.539      0.000    1210.456    2253.081\n",
      "street_Рыбацкая         -1320.6647    913.166     -1.446      0.149   -3118.071     476.741\n",
      "street_Садовый_проезд    -479.1781    466.798     -1.027      0.306   -1397.988     439.632\n",
      "street_Сиреневая          858.5237    466.650      1.840      0.067     -59.993    1777.041\n",
      "street_Смоленская        1025.7766    905.501      1.133      0.258    -756.541    2808.095\n",
      "street_Солнечногорская   -711.9183    645.393     -1.103      0.271   -1982.261     558.424\n",
      "street_Терешковой        3284.7849    380.757      8.627      0.000    2535.332    4034.238\n",
      "street_Учёных            2370.1820    529.106      4.480      0.000    1328.731    3411.632\n",
      "street_Цветной_проезд    2056.9693    529.409      3.885      0.000    1014.921    3099.017\n",
      "street_Шатурская          766.2246    383.797      1.996      0.047      10.788    1521.661\n",
      "rooms_2                  -711.3084    166.104     -4.282      0.000   -1038.254    -384.362\n",
      "rooms_3                 -1391.3028    218.804     -6.359      0.000   -1821.979    -960.626\n",
      "rooms_4                 -1929.8303    344.372     -5.604      0.000   -2607.666   -1251.994\n",
      "==============================================================================\n",
      "Omnibus:                      134.886   Durbin-Watson:                   2.353\n",
      "Prob(Omnibus):                  0.000   Jarque-Bera (JB):             1208.852\n",
      "Skew:                           1.477   Prob(JB):                    3.17e-263\n",
      "Kurtosis:                      12.021   Cond. No.                         23.3\n",
      "==============================================================================\n",
      "\n",
      "Notes:\n",
      "[1] Standard Errors assume that the covariance matrix of the errors is correctly specified.\n",
      "Регрессор с максимальным p-value: street_Садовый_проезд P-value: 0.3055167715039428\n",
      "-------------------------------------------------------------\n",
      "Номер интерации: 33\n",
      "                            OLS Regression Results                            \n",
      "==============================================================================\n",
      "Dep. Variable:                  price   R-squared:                       0.839\n",
      "Model:                            OLS   Adj. R-squared:                  0.820\n",
      "Method:                 Least Squares   F-statistic:                     42.73\n",
      "Date:                Thu, 07 Sep 2023   Prob (F-statistic):           1.62e-93\n",
      "Time:                        23:27:21   Log-Likelihood:                -2625.4\n",
      "No. Observations:                 322   AIC:                             5323.\n",
      "Df Residuals:                     286   BIC:                             5459.\n",
      "Df Model:                          35                                         \n",
      "Covariance Type:            nonrobust                                         \n",
      "===========================================================================================\n",
      "                              coef    std err          t      P>|t|      [0.025      0.975]\n",
      "-------------------------------------------------------------------------------------------\n",
      "const                    4091.9413    158.862     25.758      0.000    3779.255    4404.627\n",
      "sp_total                 7374.2875    365.128     20.196      0.000    6655.608    8092.967\n",
      "height                    730.0570    134.999      5.408      0.000     464.339     995.775\n",
      "side                     -194.6424    103.691     -1.877      0.062    -398.736       9.451\n",
      "street_Академическая     2142.8835    262.377      8.167      0.000    1626.449    2659.318\n",
      "street_Балтийская        -597.1608    251.518     -2.374      0.018   -1092.222    -102.100\n",
      "street_Барьерная         -521.5937    371.794     -1.403      0.162   -1253.394     210.206\n",
      "street_Варшавская        -698.3176    644.143     -1.084      0.279   -1966.179     569.544\n",
      "street_Героев_Труда      1049.2416    356.138      2.946      0.003     348.258    1750.225\n",
      "street_Демакова           795.6300    266.584      2.985      0.003     270.914    1320.346\n",
      "street_Жемчужная         1964.8748    528.782      3.716      0.000     924.077    3005.672\n",
      "street_Зеленая_Горка    -1180.1729    903.597     -1.306      0.193   -2958.716     598.370\n",
      "street_Золотодолинская   3637.8652    460.486      7.900      0.000    2731.493    4544.237\n",
      "street_Иванова            683.7505    221.483      3.087      0.002     247.806    1119.695\n",
      "street_Ильича            3737.6589    472.499      7.910      0.000    2807.643    4667.675\n",
      "street_Лесосечная        -618.6464    214.399     -2.885      0.004   -1040.647    -196.646\n",
      "street_Молодежи_бульвар   773.6301    237.398      3.259      0.001     306.362    1240.898\n",
      "street_Молодости         -964.2596    306.857     -3.142      0.002   -1568.243    -360.276\n",
      "street_Морской_проспект  3886.9250    292.112     13.306      0.000    3311.964    4461.886\n",
      "street_Пирогова          2783.7212    655.539      4.246      0.000    1493.427    4074.015\n",
      "street_Полевая            712.7113    275.430      2.588      0.010     170.584    1254.838\n",
      "street_Правды            3440.9176    526.642      6.534      0.000    2404.332    4477.503\n",
      "street_Приморская       -1016.5598    319.630     -3.180      0.002   -1645.685    -387.435\n",
      "street_Разъездная        1472.1130    644.937      2.283      0.023     202.689    2741.537\n",
      "street_Российская        1754.8707    263.918      6.649      0.000    1235.403    2274.339\n",
      "street_Рыбацкая         -1272.0746    912.024     -1.395      0.164   -3067.206     523.057\n",
      "street_Сиреневая          871.7867    466.515      1.869      0.063     -46.451    1790.024\n",
      "street_Смоленская        1041.0219    905.464      1.150      0.251    -741.197    2823.241\n",
      "street_Солнечногорская   -686.2447    644.969     -1.064      0.288   -1955.733     583.244\n",
      "street_Терешковой        3307.1507    380.169      8.699      0.000    2558.866    4055.435\n",
      "street_Учёных            2388.3893    528.858      4.516      0.000    1347.442    3429.337\n",
      "street_Цветной_проезд    2084.1031    528.799      3.941      0.000    1043.273    3124.934\n",
      "street_Шатурская          776.5862    383.700      2.024      0.044      21.351    1531.821\n",
      "rooms_2                  -688.1661    164.582     -4.181      0.000   -1012.112    -364.220\n",
      "rooms_3                 -1355.8334    216.079     -6.275      0.000   -1781.140    -930.527\n",
      "rooms_4                 -1880.2749    341.004     -5.514      0.000   -2551.471   -1209.079\n",
      "==============================================================================\n",
      "Omnibus:                      134.582   Durbin-Watson:                   2.358\n",
      "Prob(Omnibus):                  0.000   Jarque-Bera (JB):             1196.742\n",
      "Skew:                           1.476   Prob(JB):                    1.35e-260\n",
      "Kurtosis:                      11.971   Cond. No.                         23.2\n",
      "==============================================================================\n",
      "\n",
      "Notes:\n",
      "[1] Standard Errors assume that the covariance matrix of the errors is correctly specified.\n",
      "Регрессор с максимальным p-value: street_Солнечногорская P-value: 0.28822800628367756\n",
      "-------------------------------------------------------------\n",
      "Номер интерации: 34\n",
      "                            OLS Regression Results                            \n",
      "==============================================================================\n",
      "Dep. Variable:                  price   R-squared:                       0.839\n",
      "Model:                            OLS   Adj. R-squared:                  0.820\n",
      "Method:                 Least Squares   F-statistic:                     43.93\n",
      "Date:                Thu, 07 Sep 2023   Prob (F-statistic):           4.20e-94\n",
      "Time:                        23:27:21   Log-Likelihood:                -2626.1\n",
      "No. Observations:                 322   AIC:                             5322.\n",
      "Df Residuals:                     287   BIC:                             5454.\n",
      "Df Model:                          34                                         \n",
      "Covariance Type:            nonrobust                                         \n",
      "===========================================================================================\n",
      "                              coef    std err          t      P>|t|      [0.025      0.975]\n",
      "-------------------------------------------------------------------------------------------\n",
      "const                    4079.8528    158.491     25.742      0.000    3767.900    4391.805\n",
      "sp_total                 7372.7626    365.210     20.188      0.000    6653.934    8091.591\n",
      "height                    736.9553    134.874      5.464      0.000     471.487    1002.424\n",
      "side                     -188.4317    103.550     -1.820      0.070    -392.246      15.382\n",
      "street_Академическая     2159.2574    261.985      8.242      0.000    1643.601    2674.914\n",
      "street_Балтийская        -589.4916    251.473     -2.344      0.020   -1084.456     -94.527\n",
      "street_Барьерная         -500.9332    371.372     -1.349      0.178   -1231.892     230.025\n",
      "street_Варшавская        -675.4045    643.931     -1.049      0.295   -1942.830     592.021\n",
      "street_Героев_Труда      1061.5076    356.033      2.981      0.003     360.740    1762.275\n",
      "street_Демакова           809.0903    266.345      3.038      0.003     284.853    1333.328\n",
      "street_Жемчужная         1980.7291    528.693      3.746      0.000     940.121    3021.337\n",
      "street_Зеленая_Горка    -1149.3059    903.339     -1.272      0.204   -2927.315     628.703\n",
      "street_Золотодолинская   3657.1018    460.237      7.946      0.000    2751.234    4562.970\n",
      "street_Иванова            698.9450    221.073      3.162      0.002     263.814    1134.076\n",
      "street_Ильича            3751.2296    472.435      7.940      0.000    2821.353    4681.107\n",
      "street_Лесосечная        -602.5254    213.913     -2.817      0.005   -1023.562    -181.489\n",
      "street_Молодежи_бульвар   784.5243    237.231      3.307      0.001     317.590    1251.458\n",
      "street_Молодости         -958.2424    306.875     -3.123      0.002   -1562.253    -354.231\n",
      "street_Морской_проспект  3904.7290    291.699     13.386      0.000    3330.588    4478.870\n",
      "street_Пирогова          2791.8386    655.646      4.258      0.000    1501.354    4082.323\n",
      "street_Полевая            726.6983    275.179      2.641      0.009     185.073    1268.324\n",
      "street_Правды            3459.0656    526.487      6.570      0.000    2422.801    4495.330\n",
      "street_Приморская       -1006.0387    319.550     -3.148      0.002   -1634.998    -377.080\n",
      "street_Разъездная        1480.7562    645.034      2.296      0.022     211.159    2750.353\n",
      "street_Российская        1770.8732    263.550      6.719      0.000    1252.138    2289.609\n",
      "street_Рыбацкая         -1242.0401    911.797     -1.362      0.174   -3036.698     552.618\n",
      "street_Сиреневая          880.6616    466.547      1.888      0.060     -37.627    1798.950\n",
      "street_Смоленская        1048.9256    905.642      1.158      0.248    -733.617    2831.468\n",
      "street_Терешковой        3326.8161    379.807      8.759      0.000    2579.256    4074.377\n",
      "street_Учёных            2404.2374    528.770      4.547      0.000    1363.479    3444.996\n",
      "street_Цветной_проезд    2100.0354    528.708      3.972      0.000    1059.398    3140.673\n",
      "street_Шатурская          782.2739    383.751      2.038      0.042      26.950    1537.598\n",
      "rooms_2                  -687.8078    164.620     -4.178      0.000   -1011.823    -363.793\n",
      "rooms_3                 -1370.2286    215.704     -6.352      0.000   -1794.792    -945.666\n",
      "rooms_4                 -1882.5870    341.076     -5.520      0.000   -2553.914   -1211.260\n",
      "==============================================================================\n",
      "Omnibus:                      133.748   Durbin-Watson:                   2.364\n",
      "Prob(Omnibus):                  0.000   Jarque-Bera (JB):             1172.880\n",
      "Skew:                           1.469   Prob(JB):                    2.05e-255\n",
      "Kurtosis:                      11.876   Cond. No.                         23.1\n",
      "==============================================================================\n",
      "\n",
      "Notes:\n",
      "[1] Standard Errors assume that the covariance matrix of the errors is correctly specified.\n",
      "Регрессор с максимальным p-value: street_Варшавская P-value: 0.29511686775011\n",
      "-------------------------------------------------------------\n",
      "Номер интерации: 35\n",
      "                            OLS Regression Results                            \n",
      "==============================================================================\n",
      "Dep. Variable:                  price   R-squared:                       0.838\n",
      "Model:                            OLS   Adj. R-squared:                  0.820\n",
      "Method:                 Least Squares   F-statistic:                     45.21\n",
      "Date:                Thu, 07 Sep 2023   Prob (F-statistic):           1.06e-94\n",
      "Time:                        23:27:22   Log-Likelihood:                -2626.7\n",
      "No. Observations:                 322   AIC:                             5321.\n",
      "Df Residuals:                     288   BIC:                             5450.\n",
      "Df Model:                          33                                         \n",
      "Covariance Type:            nonrobust                                         \n",
      "===========================================================================================\n",
      "                              coef    std err          t      P>|t|      [0.025      0.975]\n",
      "-------------------------------------------------------------------------------------------\n",
      "const                    4076.3923    158.484     25.721      0.000    3764.458    4388.327\n",
      "sp_total                 7385.4088    365.074     20.230      0.000    6666.858    8103.960\n",
      "height                    729.2838    134.699      5.414      0.000     464.164     994.404\n",
      "side                     -190.3512    103.552     -1.838      0.067    -394.166      13.463\n",
      "street_Академическая     2171.2720    261.780      8.294      0.000    1656.027    2686.517\n",
      "street_Балтийская        -574.2909    251.098     -2.287      0.023   -1068.511     -80.070\n",
      "street_Барьерная         -480.6337    370.932     -1.296      0.196   -1210.715     249.448\n",
      "street_Героев_Труда      1072.7811    355.933      3.014      0.003     372.222    1773.340\n",
      "street_Демакова           824.5832    265.981      3.100      0.002     301.069    1348.097\n",
      "street_Жемчужная         1994.0811    528.632      3.772      0.000     953.609    3034.553\n",
      "street_Зеленая_Горка    -1129.1612    903.291     -1.250      0.212   -2907.051     648.729\n",
      "street_Золотодолинская   3672.7513    460.075      7.983      0.000    2767.215    4578.287\n",
      "street_Иванова            712.5166    220.733      3.228      0.001     278.063    1146.970\n",
      "street_Ильича            3767.6348    472.258      7.978      0.000    2838.120    4697.150\n",
      "street_Лесосечная        -585.8158    213.356     -2.746      0.006   -1005.750    -165.882\n",
      "street_Молодежи_бульвар   797.0939    236.970      3.364      0.001     330.682    1263.506\n",
      "street_Молодости         -941.5477    306.515     -3.072      0.002   -1544.842    -338.254\n",
      "street_Морской_проспект  3916.6704    291.527     13.435      0.000    3342.876    4490.465\n",
      "street_Пирогова          2798.7780    655.726      4.268      0.000    1508.154    4089.402\n",
      "street_Полевая            741.8686    274.847      2.699      0.007     200.905    1282.832\n",
      "street_Правды            3469.0012    526.493      6.589      0.000    2432.739    4505.263\n",
      "street_Приморская        -991.1407    319.290     -3.104      0.002   -1619.578    -362.703\n",
      "street_Разъездная        1486.9041    645.119      2.305      0.022     217.158    2756.651\n",
      "street_Российская        1787.6179    263.112      6.794      0.000    1269.752    2305.483\n",
      "street_Рыбацкая         -1224.8986    911.809     -1.343      0.180   -3019.554     569.756\n",
      "street_Сиреневая          891.7968    466.508      1.912      0.057     -26.400    1809.994\n",
      "street_Смоленская        1057.3186    905.764      1.167      0.244    -725.438    2840.075\n",
      "street_Терешковой        3343.0150    379.559      8.808      0.000    2595.954    4090.076\n",
      "street_Учёных            2417.6412    528.707      4.573      0.000    1377.021    3458.261\n",
      "street_Цветной_проезд    2110.8938    528.699      3.993      0.000    1070.291    3151.497\n",
      "street_Шатурская          794.4043    383.644      2.071      0.039      39.303    1549.505\n",
      "rooms_2                  -693.5497    164.557     -4.215      0.000   -1017.437    -369.662\n",
      "rooms_3                 -1393.5428    214.593     -6.494      0.000   -1815.913    -971.173\n",
      "rooms_4                 -1898.1967    340.810     -5.570      0.000   -2568.991   -1227.402\n",
      "==============================================================================\n",
      "Omnibus:                      132.930   Durbin-Watson:                   2.371\n",
      "Prob(Omnibus):                  0.000   Jarque-Bera (JB):             1148.173\n",
      "Skew:                           1.463   Prob(JB):                    4.76e-250\n",
      "Kurtosis:                      11.776   Cond. No.                         23.1\n",
      "==============================================================================\n",
      "\n",
      "Notes:\n",
      "[1] Standard Errors assume that the covariance matrix of the errors is correctly specified.\n",
      "Регрессор с максимальным p-value: street_Смоленская P-value: 0.24404580661686473\n",
      "-------------------------------------------------------------\n",
      "Номер интерации: 36\n",
      "                            OLS Regression Results                            \n",
      "==============================================================================\n",
      "Dep. Variable:                  price   R-squared:                       0.837\n",
      "Model:                            OLS   Adj. R-squared:                  0.819\n",
      "Method:                 Least Squares   F-statistic:                     46.52\n",
      "Date:                Thu, 07 Sep 2023   Prob (F-statistic):           2.99e-95\n",
      "Time:                        23:27:22   Log-Likelihood:                -2627.4\n",
      "No. Observations:                 322   AIC:                             5321.\n",
      "Df Residuals:                     289   BIC:                             5445.\n",
      "Df Model:                          32                                         \n",
      "Covariance Type:            nonrobust                                         \n",
      "===========================================================================================\n",
      "                              coef    std err          t      P>|t|      [0.025      0.975]\n",
      "-------------------------------------------------------------------------------------------\n",
      "const                    4081.9346    158.513     25.751      0.000    3769.949    4393.920\n",
      "sp_total                 7354.2042    364.322     20.186      0.000    6637.143    8071.266\n",
      "height                    722.6189    134.663      5.366      0.000     457.575     987.663\n",
      "side                     -183.2204    103.436     -1.771      0.078    -386.804      20.364\n",
      "street_Академическая     2154.2610    261.538      8.237      0.000    1639.499    2669.023\n",
      "street_Балтийская        -574.3987    251.256     -2.286      0.023   -1068.922     -79.876\n",
      "street_Барьерная         -494.3456    370.979     -1.333      0.184   -1224.508     235.817\n",
      "street_Героев_Труда      1063.3803    356.065      2.986      0.003     362.571    1764.189\n",
      "street_Демакова           815.8137    266.042      3.066      0.002     292.188    1339.439\n",
      "street_Жемчужная         1980.9877    528.844      3.746      0.000     940.113    3021.863\n",
      "street_Зеленая_Горка    -1136.2377    903.838     -1.257      0.210   -2915.177     642.701\n",
      "street_Золотодолинская   3660.9631    460.253      7.954      0.000    2755.091    4566.835\n",
      "street_Иванова            703.6601    220.741      3.188      0.002     269.197    1138.123\n",
      "street_Ильича            3758.2932    472.486      7.954      0.000    2828.342    4688.244\n",
      "street_Лесосечная        -590.6493    213.449     -2.767      0.006   -1010.761    -170.537\n",
      "street_Молодежи_бульвар   797.1737    237.118      3.362      0.001     330.476    1263.871\n",
      "street_Молодости         -945.0841    306.692     -3.082      0.002   -1548.718    -341.450\n",
      "street_Морской_проспект  3908.6449    291.629     13.403      0.000    3334.659    4482.631\n",
      "street_Пирогова          2806.6728    656.103      4.278      0.000    1515.327    4098.019\n",
      "street_Полевая            729.9372    274.829      2.656      0.008     189.017    1270.857\n",
      "street_Правды            3458.6762    526.749      6.566      0.000    2421.926    4495.427\n",
      "street_Приморская        -997.7194    319.440     -3.123      0.002   -1626.444    -368.995\n",
      "street_Разъездная        1484.5027    645.521      2.300      0.022     213.985    2755.021\n",
      "street_Российская        1786.0186    263.273      6.784      0.000    1267.843    2304.194\n",
      "street_Рыбацкая         -1219.4459    912.369     -1.337      0.182   -3015.177     576.285\n",
      "street_Сиреневая          892.7293    466.800      1.912      0.057     -26.029    1811.487\n",
      "street_Терешковой        3337.2208    379.764      8.788      0.000    2589.766    4084.676\n",
      "street_Учёных            2404.4201    528.917      4.546      0.000    1363.401    3445.439\n",
      "street_Цветной_проезд    2091.0340    528.756      3.955      0.000    1050.333    3131.736\n",
      "street_Шатурская          790.2822    383.868      2.059      0.040      34.750    1545.814\n",
      "rooms_2                  -698.7608    164.600     -4.245      0.000   -1022.728    -374.794\n",
      "rooms_3                 -1391.0056    214.717     -6.478      0.000   -1813.613    -968.398\n",
      "rooms_4                 -1891.3282    340.973     -5.547      0.000   -2562.433   -1220.223\n",
      "==============================================================================\n",
      "Omnibus:                      132.728   Durbin-Watson:                   2.363\n",
      "Prob(Omnibus):                  0.000   Jarque-Bera (JB):             1132.043\n",
      "Skew:                           1.464   Prob(JB):                    1.51e-246\n",
      "Kurtosis:                      11.706   Cond. No.                         23.1\n",
      "==============================================================================\n",
      "\n",
      "Notes:\n",
      "[1] Standard Errors assume that the covariance matrix of the errors is correctly specified.\n",
      "Регрессор с максимальным p-value: street_Зеленая_Горка P-value: 0.20972305655330786\n",
      "-------------------------------------------------------------\n",
      "Номер интерации: 37\n",
      "                            OLS Regression Results                            \n",
      "==============================================================================\n",
      "Dep. Variable:                  price   R-squared:                       0.837\n",
      "Model:                            OLS   Adj. R-squared:                  0.819\n",
      "Method:                 Least Squares   F-statistic:                     47.88\n",
      "Date:                Thu, 07 Sep 2023   Prob (F-statistic):           9.27e-96\n",
      "Time:                        23:27:22   Log-Likelihood:                -2628.3\n",
      "No. Observations:                 322   AIC:                             5321.\n",
      "Df Residuals:                     290   BIC:                             5441.\n",
      "Df Model:                          31                                         \n",
      "Covariance Type:            nonrobust                                         \n",
      "===========================================================================================\n",
      "                              coef    std err          t      P>|t|      [0.025      0.975]\n",
      "-------------------------------------------------------------------------------------------\n",
      "const                    4071.4584    158.452     25.695      0.000    3759.597    4383.320\n",
      "sp_total                 7348.8912    364.662     20.153      0.000    6631.171    8066.611\n",
      "height                    733.3866    134.524      5.452      0.000     468.619     998.154\n",
      "side                     -178.4193    103.469     -1.724      0.086    -382.065      25.226\n",
      "street_Академическая     2168.9828    261.537      8.293      0.000    1654.231    2683.735\n",
      "street_Балтийская        -571.6073    251.497     -2.273      0.024   -1066.599     -76.616\n",
      "street_Барьерная         -477.7022    371.113     -1.287      0.199   -1208.119     252.714\n",
      "street_Героев_Труда      1073.5034    356.330      3.013      0.003     372.183    1774.824\n",
      "street_Демакова           825.5814    266.195      3.101      0.002     301.663    1349.500\n",
      "street_Жемчужная         1994.8256    529.259      3.769      0.000     953.150    3036.501\n",
      "street_Золотодолинская   3677.3401    460.528      7.985      0.000    2770.938    4583.742\n",
      "street_Иванова            715.9104    220.746      3.243      0.001     281.443    1150.378\n",
      "street_Ильича            3768.6195    472.888      7.969      0.000    2837.893    4699.346\n",
      "street_Лесосечная        -579.0132    213.462     -2.712      0.007    -999.144    -158.883\n",
      "street_Молодежи_бульвар   804.8471    237.277      3.392      0.001     337.844    1271.850\n",
      "street_Молодости         -944.9235    306.999     -3.078      0.002   -1549.153    -340.694\n",
      "street_Морской_проспект  3924.4731    291.649     13.456      0.000    3350.457    4498.489\n",
      "street_Пирогова          2812.9123    656.740      4.283      0.000    1520.331    4105.494\n",
      "street_Полевая            740.7012    274.970      2.694      0.007     199.511    1281.892\n",
      "street_Правды            3475.1630    527.112      6.593      0.000    2437.713    4512.613\n",
      "street_Приморская        -991.2109    319.718     -3.100      0.002   -1620.472    -361.949\n",
      "street_Разъездная        1491.6522    646.141      2.309      0.022     219.932    2763.373\n",
      "street_Российская        1797.7251    263.371      6.826      0.000    1279.363    2316.087\n",
      "street_Рыбацкая         -1193.1831    913.042     -1.307      0.192   -2990.213     603.846\n",
      "street_Сиреневая          897.0401    467.254      1.920      0.056     -22.598    1816.679\n",
      "street_Терешковой        3353.2765    379.929      8.826      0.000    2605.508    4101.045\n",
      "street_Учёных            2418.2362    529.332      4.568      0.000    1376.416    3460.056\n",
      "street_Цветной_проезд    2105.6837    529.157      3.979      0.000    1064.209    3147.158\n",
      "street_Шатурская          792.0853    384.249      2.061      0.040      35.814    1548.356\n",
      "rooms_2                  -696.7024    164.756     -4.229      0.000   -1020.972    -372.432\n",
      "rooms_3                 -1399.7271    214.819     -6.516      0.000   -1822.530    -976.924\n",
      "rooms_4                 -1889.2632    341.310     -5.535      0.000   -2561.022   -1217.504\n",
      "==============================================================================\n",
      "Omnibus:                      131.316   Durbin-Watson:                   2.361\n",
      "Prob(Omnibus):                  0.000   Jarque-Bera (JB):             1101.803\n",
      "Skew:                           1.450   Prob(JB):                    5.58e-240\n",
      "Kurtosis:                      11.585   Cond. No.                         22.9\n",
      "==============================================================================\n",
      "\n",
      "Notes:\n",
      "[1] Standard Errors assume that the covariance matrix of the errors is correctly specified.\n",
      "Регрессор с максимальным p-value: street_Барьерная P-value: 0.19904582160095718\n",
      "-------------------------------------------------------------\n",
      "Номер интерации: 38\n",
      "                            OLS Regression Results                            \n",
      "==============================================================================\n",
      "Dep. Variable:                  price   R-squared:                       0.836\n",
      "Model:                            OLS   Adj. R-squared:                  0.819\n",
      "Method:                 Least Squares   F-statistic:                     49.31\n",
      "Date:                Thu, 07 Sep 2023   Prob (F-statistic):           2.94e-96\n",
      "Time:                        23:27:22   Log-Likelihood:                -2629.2\n",
      "No. Observations:                 322   AIC:                             5320.\n",
      "Df Residuals:                     291   BIC:                             5437.\n",
      "Df Model:                          30                                         \n",
      "Covariance Type:            nonrobust                                         \n",
      "===========================================================================================\n",
      "                              coef    std err          t      P>|t|      [0.025      0.975]\n",
      "-------------------------------------------------------------------------------------------\n",
      "const                    4072.4815    158.628     25.673      0.000    3760.277    4384.686\n",
      "sp_total                 7403.1814    362.623     20.416      0.000    6689.484    8116.879\n",
      "height                    739.8085    134.583      5.497      0.000     474.928    1004.689\n",
      "side                     -186.4546    103.397     -1.803      0.072    -389.956      17.047\n",
      "street_Академическая     2202.6510    260.520      8.455      0.000    1689.909    2715.393\n",
      "street_Балтийская        -563.6123    251.704     -2.239      0.026   -1059.004     -68.221\n",
      "street_Героев_Труда      1101.4379    356.069      3.093      0.002     400.640    1802.236\n",
      "street_Демакова           865.6012    264.671      3.270      0.001     344.689    1386.513\n",
      "street_Жемчужная         2031.2406    529.098      3.839      0.000     989.896    3072.585\n",
      "street_Золотодолинская   3715.4105    460.096      8.075      0.000    2809.872    4620.949\n",
      "street_Иванова            748.6390    219.524      3.410      0.001     316.583    1180.695\n",
      "street_Ильича            3843.5089    469.824      8.181      0.000    2918.824    4768.194\n",
      "street_Лесосечная        -551.4008    212.621     -2.593      0.010    -969.870    -132.931\n",
      "street_Молодежи_бульвар   818.7449    237.298      3.450      0.001     351.706    1285.784\n",
      "street_Молодости         -922.2617    306.840     -3.006      0.003   -1526.168    -318.355\n",
      "street_Морской_проспект  3953.5561    291.100     13.581      0.000    3380.628    4526.485\n",
      "street_Пирогова          2810.7660    657.479      4.275      0.000    1516.749    4104.783\n",
      "street_Полевая            767.2972    274.502      2.795      0.006     227.036    1307.559\n",
      "street_Правды            3500.3303    527.344      6.638      0.000    2462.439    4538.221\n",
      "street_Приморская        -954.0864    318.774     -2.993      0.003   -1581.480    -326.692\n",
      "street_Разъездная        1495.0699    646.865      2.311      0.022     221.944    2768.196\n",
      "street_Российская        1823.0036    262.935      6.933      0.000    1305.509    2340.498\n",
      "street_Рыбацкая         -1173.3292    913.942     -1.284      0.200   -2972.103     625.445\n",
      "street_Сиреневая          904.6992    467.743      1.934      0.054     -15.889    1825.287\n",
      "street_Терешковой        3397.7116    378.785      8.970      0.000    2652.207    4143.216\n",
      "street_Учёных            2454.8734    529.163      4.639      0.000    1413.402    3496.345\n",
      "street_Цветной_проезд    2138.0944    529.153      4.041      0.000    1096.641    3179.547\n",
      "street_Шатурская          804.4238    384.563      2.092      0.037      47.546    1561.302\n",
      "rooms_2                  -711.3005    164.551     -4.323      0.000   -1035.162    -387.439\n",
      "rooms_3                 -1446.2173    212.000     -6.822      0.000   -1863.466   -1028.969\n",
      "rooms_4                 -2015.3153    327.329     -6.157      0.000   -2659.548   -1371.083\n",
      "==============================================================================\n",
      "Omnibus:                      128.820   Durbin-Watson:                   2.360\n",
      "Prob(Omnibus):                  0.000   Jarque-Bera (JB):             1052.288\n",
      "Skew:                           1.425   Prob(JB):                    3.15e-229\n",
      "Kurtosis:                      11.385   Cond. No.                         22.9\n",
      "==============================================================================\n",
      "\n",
      "Notes:\n",
      "[1] Standard Errors assume that the covariance matrix of the errors is correctly specified.\n",
      "Регрессор с максимальным p-value: street_Рыбацкая P-value: 0.20022907537695173\n",
      "-------------------------------------------------------------\n",
      "Номер интерации: 39\n",
      "                            OLS Regression Results                            \n",
      "==============================================================================\n",
      "Dep. Variable:                  price   R-squared:                       0.835\n",
      "Model:                            OLS   Adj. R-squared:                  0.818\n",
      "Method:                 Least Squares   F-statistic:                     50.84\n",
      "Date:                Thu, 07 Sep 2023   Prob (F-statistic):           9.13e-97\n",
      "Time:                        23:27:22   Log-Likelihood:                -2630.1\n",
      "No. Observations:                 322   AIC:                             5320.\n",
      "Df Residuals:                     292   BIC:                             5434.\n",
      "Df Model:                          29                                         \n",
      "Covariance Type:            nonrobust                                         \n",
      "===========================================================================================\n",
      "                              coef    std err          t      P>|t|      [0.025      0.975]\n",
      "-------------------------------------------------------------------------------------------\n",
      "const                    4045.5196    157.407     25.701      0.000    3735.724    4355.315\n",
      "sp_total                 7333.6766    358.957     20.431      0.000    6627.206    8040.147\n",
      "height                    752.1724    134.387      5.597      0.000     487.682    1016.663\n",
      "side                     -181.3913    103.437     -1.754      0.081    -384.967      22.184\n",
      "street_Академическая     2213.0965    260.682      8.490      0.000    1700.044    2726.149\n",
      "street_Балтийская        -549.9130    251.757     -2.184      0.030   -1045.401     -54.425\n",
      "street_Героев_Труда      1107.4963    356.433      3.107      0.002     405.993    1809.000\n",
      "street_Демакова           874.0129    264.883      3.300      0.001     352.690    1395.335\n",
      "street_Жемчужная         2038.2383    529.657      3.848      0.000     995.809    3080.668\n",
      "street_Золотодолинская   3725.1878    460.543      8.089      0.000    2818.782    4631.593\n",
      "street_Иванова            763.9488    219.443      3.481      0.001     332.058    1195.840\n",
      "street_Ильича            3851.4341    470.305      8.189      0.000    2925.817    4777.051\n",
      "street_Лесосечная        -537.5936    212.584     -2.529      0.012    -955.985    -119.202\n",
      "street_Молодежи_бульвар   836.0114    237.180      3.525      0.000     369.213    1302.810\n",
      "street_Молодости         -923.5882    307.178     -3.007      0.003   -1528.152    -319.024\n",
      "street_Морской_проспект  3969.9751    291.142     13.636      0.000    3396.973    4542.977\n",
      "street_Пирогова          2840.3121    657.805      4.318      0.000    1545.672    4134.952\n",
      "street_Полевая            779.2471    274.649      2.837      0.005     238.705    1319.789\n",
      "street_Правды            3519.4459    527.718      6.669      0.000    2480.833    4558.059\n",
      "street_Приморская        -943.0181    319.010     -2.956      0.003   -1570.869    -315.167\n",
      "street_Разъездная        1518.7403    647.319      2.346      0.020     244.738    2792.743\n",
      "street_Российская        1844.0826    262.712      7.019      0.000    1327.033    2361.133\n",
      "street_Сиреневая          913.0136    468.217      1.950      0.052      -8.494    1834.521\n",
      "street_Терешковой        3414.3847    378.982      9.009      0.000    2668.503    4160.267\n",
      "street_Учёных            2461.5866    529.724      4.647      0.000    1419.026    3504.147\n",
      "street_Цветной_проезд    2149.1372    529.670      4.057      0.000    1106.682    3191.593\n",
      "street_Шатурская          809.0525    384.973      2.102      0.036      51.379    1566.726\n",
      "rooms_2                  -694.2334    164.195     -4.228      0.000   -1017.389    -371.077\n",
      "rooms_3                 -1426.0255    211.651     -6.738      0.000   -1842.580   -1009.471\n",
      "rooms_4                 -1974.7221    326.160     -6.054      0.000   -2616.644   -1332.800\n",
      "==============================================================================\n",
      "Omnibus:                      128.253   Durbin-Watson:                   2.378\n",
      "Prob(Omnibus):                  0.000   Jarque-Bera (JB):             1033.738\n",
      "Skew:                           1.422   Prob(JB):                    3.36e-225\n",
      "Kurtosis:                      11.304   Cond. No.                         17.4\n",
      "==============================================================================\n",
      "\n",
      "Notes:\n",
      "[1] Standard Errors assume that the covariance matrix of the errors is correctly specified.\n",
      "Регрессор с максимальным p-value: side P-value: 0.08054012634219056\n",
      "-------------------------------------------------------------\n",
      "Номер интерации: 40\n",
      "                            OLS Regression Results                            \n",
      "==============================================================================\n",
      "Dep. Variable:                  price   R-squared:                       0.833\n",
      "Model:                            OLS   Adj. R-squared:                  0.817\n",
      "Method:                 Least Squares   F-statistic:                     52.17\n",
      "Date:                Thu, 07 Sep 2023   Prob (F-statistic):           5.62e-97\n",
      "Time:                        23:27:22   Log-Likelihood:                -2631.8\n",
      "No. Observations:                 322   AIC:                             5322.\n",
      "Df Residuals:                     293   BIC:                             5431.\n",
      "Df Model:                          28                                         \n",
      "Covariance Type:            nonrobust                                         \n",
      "===========================================================================================\n",
      "                              coef    std err          t      P>|t|      [0.025      0.975]\n",
      "-------------------------------------------------------------------------------------------\n",
      "const                    3951.4855    148.515     26.607      0.000    3659.195    4243.776\n",
      "sp_total                 7347.0867    360.144     20.400      0.000    6638.289    8055.884\n",
      "height                    732.1542    134.375      5.449      0.000     467.692     996.617\n",
      "street_Академическая     2174.1455    260.652      8.341      0.000    1661.158    2687.132\n",
      "street_Балтийская        -540.7131    252.592     -2.141      0.033   -1037.838     -43.589\n",
      "street_Героев_Труда      1086.2117    357.486      3.038      0.003     382.646    1789.777\n",
      "street_Демакова           861.5610    265.724      3.242      0.001     338.591    1384.531\n",
      "street_Жемчужная         1992.6868    530.890      3.753      0.000     947.846    3037.528\n",
      "street_Золотодолинская   3707.1437    462.056      8.023      0.000    2797.774    4616.513\n",
      "street_Иванова            755.3216    220.164      3.431      0.001     322.019    1188.624\n",
      "street_Ильича            3794.4632    470.840      8.059      0.000    2867.806    4721.121\n",
      "street_Лесосечная        -511.0304    212.793     -2.402      0.017    -929.828     -92.233\n",
      "street_Молодежи_бульвар   827.7532    237.971      3.478      0.001     359.403    1296.103\n",
      "street_Молодости         -884.2732    307.442     -2.876      0.004   -1489.348    -279.198\n",
      "street_Морской_проспект  3960.7824    292.124     13.559      0.000    3385.856    4535.709\n",
      "street_Пирогова          2837.8499    660.129      4.299      0.000    1538.655    4137.045\n",
      "street_Полевая            743.5959    274.864      2.705      0.007     202.639    1284.553\n",
      "street_Правды            3534.8320    529.510      6.676      0.000    2492.706    4576.958\n",
      "street_Приморская        -951.6101    320.100     -2.973      0.003   -1581.598    -321.623\n",
      "street_Разъездная        1519.3777    649.607      2.339      0.020     240.890    2797.866\n",
      "street_Российская        1849.0502    263.626      7.014      0.000    1330.210    2367.891\n",
      "street_Сиреневая         1012.5455    466.407      2.171      0.031      94.613    1930.478\n",
      "street_Терешковой        3427.7279    380.245      9.015      0.000    2679.370    4176.085\n",
      "street_Учёных            2416.0900    530.958      4.550      0.000    1371.114    3461.066\n",
      "street_Цветной_проезд    2107.7776    531.016      3.969      0.000    1062.689    3152.866\n",
      "street_Шатурская          818.8799    386.293      2.120      0.035      58.620    1579.140\n",
      "rooms_2                  -690.0678    164.758     -4.188      0.000   -1014.328    -365.808\n",
      "rooms_3                 -1405.7116    212.081     -6.628      0.000   -1823.106    -988.317\n",
      "rooms_4                 -1968.7563    327.295     -6.015      0.000   -2612.903   -1324.609\n",
      "==============================================================================\n",
      "Omnibus:                      128.489   Durbin-Watson:                   2.388\n",
      "Prob(Omnibus):                  0.000   Jarque-Bera (JB):             1039.221\n",
      "Skew:                           1.424   Prob(JB):                    2.17e-226\n",
      "Kurtosis:                      11.328   Cond. No.                         15.8\n",
      "==============================================================================\n",
      "\n",
      "Notes:\n",
      "[1] Standard Errors assume that the covariance matrix of the errors is correctly specified.\n",
      "Регрессор с максимальным p-value: street_Шатурская P-value: 0.0348598573129891\n",
      "-------------------------------------------------------------\n",
      "Итоговая модель: \n",
      "                        Results: Ordinary least squares\n",
      "================================================================================\n",
      "Model:                   OLS                  Adj. R-squared:         0.817     \n",
      "Dependent Variable:      price                AIC:                    5321.6435 \n",
      "Date:                    2023-09-07 23:27     BIC:                    5431.1055 \n",
      "No. Observations:        322                  Log-Likelihood:         -2631.8   \n",
      "Df Model:                28                   F-statistic:            52.17     \n",
      "Df Residuals:            293                  Prob (F-statistic):     5.62e-97  \n",
      "R-squared:               0.833                Scale:                  8.0873e+05\n",
      "--------------------------------------------------------------------------------\n",
      "                          Coef.    Std.Err.    t    P>|t|    [0.025     0.975]  \n",
      "--------------------------------------------------------------------------------\n",
      "const                    3951.4855 148.5147 26.6067 0.0000  3659.1947  4243.7764\n",
      "sp_total                 7347.0867 360.1441 20.4004 0.0000  6638.2894  8055.8841\n",
      "height                    732.1542 134.3750  5.4486 0.0000   467.6916   996.6167\n",
      "street_Академическая     2174.1455 260.6517  8.3412 0.0000  1661.1585  2687.1324\n",
      "street_Балтийская        -540.7131 252.5919 -2.1407 0.0331 -1037.8376   -43.5885\n",
      "street_Героев_Труда      1086.2117 357.4857  3.0385 0.0026   382.6464  1789.7770\n",
      "street_Демакова           861.5610 265.7242  3.2423 0.0013   338.5909  1384.5311\n",
      "street_Жемчужная         1992.6868 530.8900  3.7535 0.0002   947.8457  3037.5278\n",
      "street_Золотодолинская   3707.1437 462.0562  8.0231 0.0000  2797.7739  4616.5134\n",
      "street_Иванова            755.3216 220.1636  3.4307 0.0007   322.0191  1188.6241\n",
      "street_Ильича            3794.4632 470.8402  8.0589 0.0000  2867.8057  4721.1208\n",
      "street_Лесосечная        -511.0304 212.7933 -2.4015 0.0169  -929.8276   -92.2332\n",
      "street_Молодежи_бульвар   827.7532 237.9713  3.4784 0.0006   359.4034  1296.1031\n",
      "street_Молодости         -884.2732 307.4422 -2.8762 0.0043 -1489.3482  -279.1983\n",
      "street_Морской_проспект  3960.7824 292.1235 13.5586 0.0000  3385.8561  4535.7088\n",
      "street_Пирогова          2837.8499 660.1289  4.2989 0.0000  1538.6546  4137.0452\n",
      "street_Полевая            743.5959 274.8635  2.7053 0.0072   202.6389  1284.5530\n",
      "street_Правды            3534.8320 529.5105  6.6757 0.0000  2492.7058  4576.9581\n",
      "street_Приморская        -951.6101 320.1004 -2.9728 0.0032 -1581.5975  -321.6226\n",
      "street_Разъездная        1519.3777 649.6073  2.3389 0.0200   240.8898  2797.8656\n",
      "street_Российская        1849.0502 263.6259  7.0139 0.0000  1330.2098  2367.8906\n",
      "street_Сиреневая         1012.5455 466.4072  2.1709 0.0307    94.6125  1930.4785\n",
      "street_Терешковой        3427.7279 380.2449  9.0145 0.0000  2679.3705  4176.0853\n",
      "street_Учёных            2416.0900 530.9584  4.5504 0.0000  1371.1142  3461.0659\n",
      "street_Цветной_проезд    2107.7776 531.0157  3.9693 0.0001  1062.6891  3152.8660\n",
      "street_Шатурская          818.8799 386.2928  2.1198 0.0349    58.6196  1579.1403\n",
      "rooms_2                  -690.0678 164.7583 -4.1884 0.0000 -1014.3277  -365.8080\n",
      "rooms_3                 -1405.7116 212.0806 -6.6282 0.0000 -1823.1060  -988.3172\n",
      "rooms_4                 -1968.7563 327.2949 -6.0152 0.0000 -2612.9031 -1324.6094\n",
      "--------------------------------------------------------------------------------\n",
      "Omnibus:                  128.489           Durbin-Watson:              2.388   \n",
      "Prob(Omnibus):            0.000             Jarque-Bera (JB):           1039.221\n",
      "Skew:                     1.424             Prob(JB):                   0.000   \n",
      "Kurtosis:                 11.328            Condition No.:              16      \n",
      "================================================================================\n",
      "Notes:\n",
      "[1] Standard Errors assume that the covariance matrix of the errors is correctly\n",
      "specified.\n"
     ]
    }
   ],
   "source": [
    "maxpvalue = 1\n",
    "n = 1\n",
    "\n",
    "while maxpvalue > 0.05:\n",
    "    x = train[regressors]\n",
    "    y = train['price']\n",
    "    x1 = sm.add_constant(x)\n",
    "    model = sm.OLS(y, x1.astype(float)).fit()\n",
    "    pv = model.pvalues.to_list()\n",
    "    maxpv = max(pv[1:])\n",
    "    max_index = pv.index(maxpv)\n",
    "    print('Номер интерации: '+ str(n))\n",
    "    print('Регрессор с максимальным p-value: '+ str(regressors[max_index-1]) + ' P-value: '+ str(maxpv))\n",
    "    print('-------------------------------------------------------------')\n",
    "\n",
    "    if maxpv > 0.05:\n",
    "        regressors.pop(max_index - 1)\n",
    "        maxpvalue = maxpv\n",
    "        n += 1\n",
    "    else:\n",
    "        maxpvalue = 0\n",
    "\n",
    "print('Итоговая модель: ')\n",
    "y = train['price']\n",
    "x = train[regressors]\n",
    "x1 = sm.add_constant(x)\n",
    "model = sm.OLS(y, x1.astype(float)).fit()\n",
    "print(model.summary2())"
   ]
  },
  {
   "cell_type": "code",
   "execution_count": 35,
   "metadata": {
    "collapsed": false
   },
   "outputs": [
    {
     "name": "stdout",
     "output_type": "stream",
     "text": [
      "45     3232.370691\n",
      "417    2173.888475\n",
      "405    3220.117097\n",
      "163    2083.525737\n",
      "29     3570.505118\n",
      "          ...     \n",
      "0      1528.670337\n",
      "426    3619.577064\n",
      "437    3350.309949\n",
      "413    3701.125822\n",
      "198    2085.348816\n",
      "Length: 120, dtype: float64\n"
     ]
    }
   ],
   "source": [
    "test_1 = test_regressors[model.params.index.to_list()[1:]]\n",
    "test_1 = sm.add_constant(test_1)\n",
    "pred = model.predict(test_1)\n",
    "print(pred)"
   ]
  },
  {
   "cell_type": "code",
   "execution_count": 34,
   "metadata": {},
   "outputs": [
    {
     "data": {
      "text/plain": [
       "const                      3951.485530\n",
       "sp_total                   7347.086724\n",
       "height                      732.154184\n",
       "street_Академическая       2174.145455\n",
       "street_Балтийская          -540.713055\n",
       "street_Героев_Труда        1086.211678\n",
       "street_Демакова             861.560980\n",
       "street_Жемчужная           1992.686775\n",
       "street_Золотодолинская     3707.143655\n",
       "street_Иванова              755.321613\n",
       "street_Ильича              3794.463212\n",
       "street_Лесосечная          -511.030361\n",
       "street_Молодежи_бульвар     827.753240\n",
       "street_Молодости           -884.273235\n",
       "street_Морской_проспект    3960.782442\n",
       "street_Пирогова            2837.849934\n",
       "street_Полевая              743.595945\n",
       "street_Правды              3534.831959\n",
       "street_Приморская          -951.610095\n",
       "street_Разъездная          1519.377690\n",
       "street_Российская          1849.050175\n",
       "street_Сиреневая           1012.545519\n",
       "street_Терешковой          3427.727903\n",
       "street_Учёных              2416.090041\n",
       "street_Цветной_проезд      2107.777570\n",
       "street_Шатурская            818.879934\n",
       "rooms_2                    -690.067847\n",
       "rooms_3                   -1405.711620\n",
       "rooms_4                   -1968.756284\n",
       "dtype: float64"
      ]
     },
     "execution_count": 34,
     "metadata": {},
     "output_type": "execute_result"
    }
   ],
   "source": [
    "model.params"
   ]
  },
  {
   "cell_type": "code",
   "execution_count": 36,
   "metadata": {
    "collapsed": false
   },
   "outputs": [
    {
     "name": "stdout",
     "output_type": "stream",
     "text": [
      "     real    predicted\n",
      "45   2890  3232.370691\n",
      "417  2600  2173.888475\n",
      "405  2850  3220.117097\n",
      "163  2300  2083.525737\n",
      "29   3490  3570.505118\n",
      "..    ...          ...\n",
      "0    1790  1528.670337\n",
      "426  2650  3619.577064\n",
      "437  2790  3350.309949\n",
      "413  2850  3701.125822\n",
      "198  2345  2085.348816\n",
      "\n",
      "[120 rows x 2 columns]\n"
     ]
    }
   ],
   "source": [
    "predictions_compare = pd.DataFrame({'real': test_price.to_list(),\n",
    "                                    'predicted': pred})\n",
    "print(predictions_compare)"
   ]
  },
  {
   "cell_type": "code",
   "execution_count": 37,
   "metadata": {},
   "outputs": [
    {
     "name": "stdout",
     "output_type": "stream",
     "text": [
      "MAE: 602.3931200666542\n",
      "MAPE: 0.1848319011832265\n"
     ]
    }
   ],
   "source": [
    "print('MAE:', mean_absolute_error(test_price, pred))\n",
    "print('MAPE:', mean_absolute_percentage_error(test_price, pred))"
   ]
  },
  {
   "cell_type": "code",
   "execution_count": 38,
   "metadata": {
    "collapsed": false
   },
   "outputs": [
    {
     "name": "stdout",
     "output_type": "stream",
     "text": [
      "0.9999999997059613\n",
      "0.25269314709464724\n",
      "We accept the first hypothesis.\n"
     ]
    }
   ],
   "source": [
    "#Chow\n",
    "\n",
    "df_dummy_wd = sm.add_constant(df_dummy_wd)\n",
    "\n",
    "y = df_dummy_wd.price\n",
    "X = df_dummy_wd.drop('price', axis=1)\n",
    "\n",
    "X_one = X[(X.rooms_2 == 0) & (X.rooms_3 == 0) & (X.rooms_4 == 0)].drop(['rooms_2', 'rooms_3', 'rooms_4'], axis=1)\n",
    "y_one = df_dummy_wd.price[(X.rooms_2 == 0) & (X.rooms_3 == 0) & (X.rooms_4 == 0)]\n",
    "\n",
    "X_many = X[(X.rooms_2 != 0) | (X.rooms_3 != 0) | (X.rooms_4 != 0)].drop(['rooms_2', 'rooms_3', 'rooms_4'], axis=1)\n",
    "y_many = df_dummy_wd.price[(X.rooms_2 != 0) | (X.rooms_3 != 0) | (X.rooms_4 != 0)]\n",
    "\n",
    "J = X.shape[1]\n",
    "k = X_one.shape[1]\n",
    "N1 = X_one.shape[0]\n",
    "N2 = X_many.shape[0]\n",
    "\n",
    "model_dummy = sm.OLS(y,X.astype(float)).fit()\n",
    "RSSd = model_dummy.ssr\n",
    "\n",
    "model_many = sm.OLS(y_many,X_many.astype(float)).fit()\n",
    "RSS_many = model_many.ssr\n",
    "\n",
    "model_one = sm.OLS(y_one,X_one.astype(float)).fit()\n",
    "RSS_one = model_one.ssr\n",
    "\n",
    "chow = ((RSSd - (RSS_many+RSS_one))/J)/((RSS_one+RSS_many)/(N1+N2 -2*k))\n",
    "import scipy\n",
    "pvalue = (1 - scipy.stats.f.cdf(chow,J, N1+N2 - 2*k))\n",
    "print(pvalue)\n",
    "print(chow)\n",
    "if pvalue < 0.05:\n",
    "    print('We reject the first hypothesis, coefficients are not the same.')\n",
    "else:\n",
    "    print('We accept the first hypothesis.')"
   ]
  },
  {
   "cell_type": "code",
   "execution_count": 41,
   "metadata": {
    "collapsed": false
   },
   "outputs": [
    {
     "data": {
      "application/vnd.plotly.v1+json": {
       "config": {
        "plotlyServerURL": "https://plot.ly"
       },
       "data": [
        {
         "name": "WCSS",
         "type": "scatter",
         "x": [
          1,
          2,
          3,
          4,
          5,
          6,
          7,
          8,
          9,
          10
         ],
         "y": [
          1326.0000000000002,
          840.669586744157,
          595.2293207448765,
          430.1244123326602,
          364.75413066797626,
          320.5782345425634,
          286.9286843545876,
          257.0792999951441,
          229.75534477618237,
          209.9282688615025
         ]
        }
       ],
       "layout": {
        "template": {
         "data": {
          "bar": [
           {
            "error_x": {
             "color": "#2a3f5f"
            },
            "error_y": {
             "color": "#2a3f5f"
            },
            "marker": {
             "line": {
              "color": "#E5ECF6",
              "width": 0.5
             },
             "pattern": {
              "fillmode": "overlay",
              "size": 10,
              "solidity": 0.2
             }
            },
            "type": "bar"
           }
          ],
          "barpolar": [
           {
            "marker": {
             "line": {
              "color": "#E5ECF6",
              "width": 0.5
             },
             "pattern": {
              "fillmode": "overlay",
              "size": 10,
              "solidity": 0.2
             }
            },
            "type": "barpolar"
           }
          ],
          "carpet": [
           {
            "aaxis": {
             "endlinecolor": "#2a3f5f",
             "gridcolor": "white",
             "linecolor": "white",
             "minorgridcolor": "white",
             "startlinecolor": "#2a3f5f"
            },
            "baxis": {
             "endlinecolor": "#2a3f5f",
             "gridcolor": "white",
             "linecolor": "white",
             "minorgridcolor": "white",
             "startlinecolor": "#2a3f5f"
            },
            "type": "carpet"
           }
          ],
          "choropleth": [
           {
            "colorbar": {
             "outlinewidth": 0,
             "ticks": ""
            },
            "type": "choropleth"
           }
          ],
          "contour": [
           {
            "colorbar": {
             "outlinewidth": 0,
             "ticks": ""
            },
            "colorscale": [
             [
              0,
              "#0d0887"
             ],
             [
              0.1111111111111111,
              "#46039f"
             ],
             [
              0.2222222222222222,
              "#7201a8"
             ],
             [
              0.3333333333333333,
              "#9c179e"
             ],
             [
              0.4444444444444444,
              "#bd3786"
             ],
             [
              0.5555555555555556,
              "#d8576b"
             ],
             [
              0.6666666666666666,
              "#ed7953"
             ],
             [
              0.7777777777777778,
              "#fb9f3a"
             ],
             [
              0.8888888888888888,
              "#fdca26"
             ],
             [
              1,
              "#f0f921"
             ]
            ],
            "type": "contour"
           }
          ],
          "contourcarpet": [
           {
            "colorbar": {
             "outlinewidth": 0,
             "ticks": ""
            },
            "type": "contourcarpet"
           }
          ],
          "heatmap": [
           {
            "colorbar": {
             "outlinewidth": 0,
             "ticks": ""
            },
            "colorscale": [
             [
              0,
              "#0d0887"
             ],
             [
              0.1111111111111111,
              "#46039f"
             ],
             [
              0.2222222222222222,
              "#7201a8"
             ],
             [
              0.3333333333333333,
              "#9c179e"
             ],
             [
              0.4444444444444444,
              "#bd3786"
             ],
             [
              0.5555555555555556,
              "#d8576b"
             ],
             [
              0.6666666666666666,
              "#ed7953"
             ],
             [
              0.7777777777777778,
              "#fb9f3a"
             ],
             [
              0.8888888888888888,
              "#fdca26"
             ],
             [
              1,
              "#f0f921"
             ]
            ],
            "type": "heatmap"
           }
          ],
          "heatmapgl": [
           {
            "colorbar": {
             "outlinewidth": 0,
             "ticks": ""
            },
            "colorscale": [
             [
              0,
              "#0d0887"
             ],
             [
              0.1111111111111111,
              "#46039f"
             ],
             [
              0.2222222222222222,
              "#7201a8"
             ],
             [
              0.3333333333333333,
              "#9c179e"
             ],
             [
              0.4444444444444444,
              "#bd3786"
             ],
             [
              0.5555555555555556,
              "#d8576b"
             ],
             [
              0.6666666666666666,
              "#ed7953"
             ],
             [
              0.7777777777777778,
              "#fb9f3a"
             ],
             [
              0.8888888888888888,
              "#fdca26"
             ],
             [
              1,
              "#f0f921"
             ]
            ],
            "type": "heatmapgl"
           }
          ],
          "histogram": [
           {
            "marker": {
             "pattern": {
              "fillmode": "overlay",
              "size": 10,
              "solidity": 0.2
             }
            },
            "type": "histogram"
           }
          ],
          "histogram2d": [
           {
            "colorbar": {
             "outlinewidth": 0,
             "ticks": ""
            },
            "colorscale": [
             [
              0,
              "#0d0887"
             ],
             [
              0.1111111111111111,
              "#46039f"
             ],
             [
              0.2222222222222222,
              "#7201a8"
             ],
             [
              0.3333333333333333,
              "#9c179e"
             ],
             [
              0.4444444444444444,
              "#bd3786"
             ],
             [
              0.5555555555555556,
              "#d8576b"
             ],
             [
              0.6666666666666666,
              "#ed7953"
             ],
             [
              0.7777777777777778,
              "#fb9f3a"
             ],
             [
              0.8888888888888888,
              "#fdca26"
             ],
             [
              1,
              "#f0f921"
             ]
            ],
            "type": "histogram2d"
           }
          ],
          "histogram2dcontour": [
           {
            "colorbar": {
             "outlinewidth": 0,
             "ticks": ""
            },
            "colorscale": [
             [
              0,
              "#0d0887"
             ],
             [
              0.1111111111111111,
              "#46039f"
             ],
             [
              0.2222222222222222,
              "#7201a8"
             ],
             [
              0.3333333333333333,
              "#9c179e"
             ],
             [
              0.4444444444444444,
              "#bd3786"
             ],
             [
              0.5555555555555556,
              "#d8576b"
             ],
             [
              0.6666666666666666,
              "#ed7953"
             ],
             [
              0.7777777777777778,
              "#fb9f3a"
             ],
             [
              0.8888888888888888,
              "#fdca26"
             ],
             [
              1,
              "#f0f921"
             ]
            ],
            "type": "histogram2dcontour"
           }
          ],
          "mesh3d": [
           {
            "colorbar": {
             "outlinewidth": 0,
             "ticks": ""
            },
            "type": "mesh3d"
           }
          ],
          "parcoords": [
           {
            "line": {
             "colorbar": {
              "outlinewidth": 0,
              "ticks": ""
             }
            },
            "type": "parcoords"
           }
          ],
          "pie": [
           {
            "automargin": true,
            "type": "pie"
           }
          ],
          "scatter": [
           {
            "fillpattern": {
             "fillmode": "overlay",
             "size": 10,
             "solidity": 0.2
            },
            "type": "scatter"
           }
          ],
          "scatter3d": [
           {
            "line": {
             "colorbar": {
              "outlinewidth": 0,
              "ticks": ""
             }
            },
            "marker": {
             "colorbar": {
              "outlinewidth": 0,
              "ticks": ""
             }
            },
            "type": "scatter3d"
           }
          ],
          "scattercarpet": [
           {
            "marker": {
             "colorbar": {
              "outlinewidth": 0,
              "ticks": ""
             }
            },
            "type": "scattercarpet"
           }
          ],
          "scattergeo": [
           {
            "marker": {
             "colorbar": {
              "outlinewidth": 0,
              "ticks": ""
             }
            },
            "type": "scattergeo"
           }
          ],
          "scattergl": [
           {
            "marker": {
             "colorbar": {
              "outlinewidth": 0,
              "ticks": ""
             }
            },
            "type": "scattergl"
           }
          ],
          "scattermapbox": [
           {
            "marker": {
             "colorbar": {
              "outlinewidth": 0,
              "ticks": ""
             }
            },
            "type": "scattermapbox"
           }
          ],
          "scatterpolar": [
           {
            "marker": {
             "colorbar": {
              "outlinewidth": 0,
              "ticks": ""
             }
            },
            "type": "scatterpolar"
           }
          ],
          "scatterpolargl": [
           {
            "marker": {
             "colorbar": {
              "outlinewidth": 0,
              "ticks": ""
             }
            },
            "type": "scatterpolargl"
           }
          ],
          "scatterternary": [
           {
            "marker": {
             "colorbar": {
              "outlinewidth": 0,
              "ticks": ""
             }
            },
            "type": "scatterternary"
           }
          ],
          "surface": [
           {
            "colorbar": {
             "outlinewidth": 0,
             "ticks": ""
            },
            "colorscale": [
             [
              0,
              "#0d0887"
             ],
             [
              0.1111111111111111,
              "#46039f"
             ],
             [
              0.2222222222222222,
              "#7201a8"
             ],
             [
              0.3333333333333333,
              "#9c179e"
             ],
             [
              0.4444444444444444,
              "#bd3786"
             ],
             [
              0.5555555555555556,
              "#d8576b"
             ],
             [
              0.6666666666666666,
              "#ed7953"
             ],
             [
              0.7777777777777778,
              "#fb9f3a"
             ],
             [
              0.8888888888888888,
              "#fdca26"
             ],
             [
              1,
              "#f0f921"
             ]
            ],
            "type": "surface"
           }
          ],
          "table": [
           {
            "cells": {
             "fill": {
              "color": "#EBF0F8"
             },
             "line": {
              "color": "white"
             }
            },
            "header": {
             "fill": {
              "color": "#C8D4E3"
             },
             "line": {
              "color": "white"
             }
            },
            "type": "table"
           }
          ]
         },
         "layout": {
          "annotationdefaults": {
           "arrowcolor": "#2a3f5f",
           "arrowhead": 0,
           "arrowwidth": 1
          },
          "autotypenumbers": "strict",
          "coloraxis": {
           "colorbar": {
            "outlinewidth": 0,
            "ticks": ""
           }
          },
          "colorscale": {
           "diverging": [
            [
             0,
             "#8e0152"
            ],
            [
             0.1,
             "#c51b7d"
            ],
            [
             0.2,
             "#de77ae"
            ],
            [
             0.3,
             "#f1b6da"
            ],
            [
             0.4,
             "#fde0ef"
            ],
            [
             0.5,
             "#f7f7f7"
            ],
            [
             0.6,
             "#e6f5d0"
            ],
            [
             0.7,
             "#b8e186"
            ],
            [
             0.8,
             "#7fbc41"
            ],
            [
             0.9,
             "#4d9221"
            ],
            [
             1,
             "#276419"
            ]
           ],
           "sequential": [
            [
             0,
             "#0d0887"
            ],
            [
             0.1111111111111111,
             "#46039f"
            ],
            [
             0.2222222222222222,
             "#7201a8"
            ],
            [
             0.3333333333333333,
             "#9c179e"
            ],
            [
             0.4444444444444444,
             "#bd3786"
            ],
            [
             0.5555555555555556,
             "#d8576b"
            ],
            [
             0.6666666666666666,
             "#ed7953"
            ],
            [
             0.7777777777777778,
             "#fb9f3a"
            ],
            [
             0.8888888888888888,
             "#fdca26"
            ],
            [
             1,
             "#f0f921"
            ]
           ],
           "sequentialminus": [
            [
             0,
             "#0d0887"
            ],
            [
             0.1111111111111111,
             "#46039f"
            ],
            [
             0.2222222222222222,
             "#7201a8"
            ],
            [
             0.3333333333333333,
             "#9c179e"
            ],
            [
             0.4444444444444444,
             "#bd3786"
            ],
            [
             0.5555555555555556,
             "#d8576b"
            ],
            [
             0.6666666666666666,
             "#ed7953"
            ],
            [
             0.7777777777777778,
             "#fb9f3a"
            ],
            [
             0.8888888888888888,
             "#fdca26"
            ],
            [
             1,
             "#f0f921"
            ]
           ]
          },
          "colorway": [
           "#636efa",
           "#EF553B",
           "#00cc96",
           "#ab63fa",
           "#FFA15A",
           "#19d3f3",
           "#FF6692",
           "#B6E880",
           "#FF97FF",
           "#FECB52"
          ],
          "font": {
           "color": "#2a3f5f"
          },
          "geo": {
           "bgcolor": "white",
           "lakecolor": "white",
           "landcolor": "#E5ECF6",
           "showlakes": true,
           "showland": true,
           "subunitcolor": "white"
          },
          "hoverlabel": {
           "align": "left"
          },
          "hovermode": "closest",
          "mapbox": {
           "style": "light"
          },
          "paper_bgcolor": "white",
          "plot_bgcolor": "#E5ECF6",
          "polar": {
           "angularaxis": {
            "gridcolor": "white",
            "linecolor": "white",
            "ticks": ""
           },
           "bgcolor": "#E5ECF6",
           "radialaxis": {
            "gridcolor": "white",
            "linecolor": "white",
            "ticks": ""
           }
          },
          "scene": {
           "xaxis": {
            "backgroundcolor": "#E5ECF6",
            "gridcolor": "white",
            "gridwidth": 2,
            "linecolor": "white",
            "showbackground": true,
            "ticks": "",
            "zerolinecolor": "white"
           },
           "yaxis": {
            "backgroundcolor": "#E5ECF6",
            "gridcolor": "white",
            "gridwidth": 2,
            "linecolor": "white",
            "showbackground": true,
            "ticks": "",
            "zerolinecolor": "white"
           },
           "zaxis": {
            "backgroundcolor": "#E5ECF6",
            "gridcolor": "white",
            "gridwidth": 2,
            "linecolor": "white",
            "showbackground": true,
            "ticks": "",
            "zerolinecolor": "white"
           }
          },
          "shapedefaults": {
           "line": {
            "color": "#2a3f5f"
           }
          },
          "ternary": {
           "aaxis": {
            "gridcolor": "white",
            "linecolor": "white",
            "ticks": ""
           },
           "baxis": {
            "gridcolor": "white",
            "linecolor": "white",
            "ticks": ""
           },
           "bgcolor": "#E5ECF6",
           "caxis": {
            "gridcolor": "white",
            "linecolor": "white",
            "ticks": ""
           }
          },
          "title": {
           "x": 0.05
          },
          "xaxis": {
           "automargin": true,
           "gridcolor": "white",
           "linecolor": "white",
           "ticks": "",
           "title": {
            "standoff": 15
           },
           "zerolinecolor": "white",
           "zerolinewidth": 2
          },
          "yaxis": {
           "automargin": true,
           "gridcolor": "white",
           "linecolor": "white",
           "ticks": "",
           "title": {
            "standoff": 15
           },
           "zerolinecolor": "white",
           "zerolinewidth": 2
          }
         }
        }
       }
      }
     },
     "metadata": {},
     "output_type": "display_data"
    }
   ],
   "source": [
    "#Clustering\n",
    "from sklearn.cluster import KMeans\n",
    "from sklearn.preprocessing import StandardScaler\n",
    "import plotly.graph_objects as go\n",
    "scaler = StandardScaler()\n",
    "cluster_df = df_dummy_wd[['price', 'sp_total', 'height']]\n",
    "cluster_df_scaled = scaler.fit_transform(cluster_df)\n",
    "wcss = []\n",
    "\n",
    "for i in range(1, 11):\n",
    "    kmeans = KMeans(n_clusters = i, init = 'k-means++', max_iter = 300, n_init = 10, random_state = 42)\n",
    "    kmeans.fit(cluster_df_scaled)\n",
    "    wcss.append(kmeans.inertia_)\n",
    "\n",
    "fig = go.Figure()\n",
    "fig.add_trace(go.Scatter(x=list(x for x in range(1, 11)), y=wcss, name='WCSS'))\n",
    "fig.show()\n",
    "\n",
    "kmeans = KMeans(n_clusters = 4, init = 'k-means++', max_iter = 300, n_init = 10, random_state = 42)\n",
    "predicted = kmeans.fit_predict(cluster_df_scaled)\n"
   ]
  },
  {
   "cell_type": "code",
   "execution_count": 43,
   "metadata": {
    "collapsed": false
   },
   "outputs": [
    {
     "data": {
      "text/plain": [
       "Text(0.5, 0.5, 'Цена квартиры')"
      ]
     },
     "execution_count": 43,
     "metadata": {},
     "output_type": "execute_result"
    },
    {
     "data": {
      "image/png": "[encoded data removed]",
      "text/plain": [
       "<Figure size 640x480 with 1 Axes>"
      ]
     },
     "metadata": {},
     "output_type": "display_data"
    }
   ],
   "source": [
    "kmeans = KMeans(n_clusters = 4, init = 'k-means++', max_iter = 300, n_init = 10, random_state = 42)\n",
    "predicted = kmeans.fit_predict(cluster_df_scaled)\n",
    "yaxis = kvart_new2.price.to_list()\n",
    "xaxis = kvart_new.sp_total.to_list()\n",
    "zaxis = kvart_new.height.to_list()\n",
    "\n",
    "fig = plt.figure()\n",
    "ax = plt.axes(projection='3d')\n",
    "ax.scatter(xaxis, yaxis, zaxis, c=predicted)\n",
    "\n",
    "plt.xlabel('Общая площадь')\n",
    "plt.ylabel('Цена квартиры')\n"
   ]
  },
  {
   "cell_type": "code",
   "execution_count": 44,
   "metadata": {},
   "outputs": [],
   "source": [
    "df_dummy_wd['class'] = predicted"
   ]
  },
  {
   "cell_type": "code",
   "execution_count": 45,
   "metadata": {},
   "outputs": [
    {
     "data": {
      "text/html": [
       "<div>\n",
       "<style scoped>\n",
       "    .dataframe tbody tr th:only-of-type {\n",
       "        vertical-align: middle;\n",
       "    }\n",
       "\n",
       "    .dataframe tbody tr th {\n",
       "        vertical-align: top;\n",
       "    }\n",
       "\n",
       "    .dataframe thead tr th {\n",
       "        text-align: left;\n",
       "    }\n",
       "\n",
       "    .dataframe thead tr:last-of-type th {\n",
       "        text-align: right;\n",
       "    }\n",
       "</style>\n",
       "<table border=\"1\" class=\"dataframe\">\n",
       "  <thead>\n",
       "    <tr>\n",
       "      <th></th>\n",
       "      <th colspan=\"8\" halign=\"left\">price</th>\n",
       "      <th colspan=\"8\" halign=\"left\">sp_total</th>\n",
       "    </tr>\n",
       "    <tr>\n",
       "      <th></th>\n",
       "      <th>count</th>\n",
       "      <th>mean</th>\n",
       "      <th>std</th>\n",
       "      <th>min</th>\n",
       "      <th>25%</th>\n",
       "      <th>50%</th>\n",
       "      <th>75%</th>\n",
       "      <th>max</th>\n",
       "      <th>count</th>\n",
       "      <th>mean</th>\n",
       "      <th>std</th>\n",
       "      <th>min</th>\n",
       "      <th>25%</th>\n",
       "      <th>50%</th>\n",
       "      <th>75%</th>\n",
       "      <th>max</th>\n",
       "    </tr>\n",
       "    <tr>\n",
       "      <th>class</th>\n",
       "      <th></th>\n",
       "      <th></th>\n",
       "      <th></th>\n",
       "      <th></th>\n",
       "      <th></th>\n",
       "      <th></th>\n",
       "      <th></th>\n",
       "      <th></th>\n",
       "      <th></th>\n",
       "      <th></th>\n",
       "      <th></th>\n",
       "      <th></th>\n",
       "      <th></th>\n",
       "      <th></th>\n",
       "      <th></th>\n",
       "      <th></th>\n",
       "    </tr>\n",
       "  </thead>\n",
       "  <tbody>\n",
       "    <tr>\n",
       "      <th>0</th>\n",
       "      <td>50.0</td>\n",
       "      <td>3270.720000</td>\n",
       "      <td>1032.265174</td>\n",
       "      <td>1480.0</td>\n",
       "      <td>2812.50</td>\n",
       "      <td>3353.0</td>\n",
       "      <td>3572.5</td>\n",
       "      <td>6250.0</td>\n",
       "      <td>50.0</td>\n",
       "      <td>-0.137119</td>\n",
       "      <td>0.159646</td>\n",
       "      <td>-0.384038</td>\n",
       "      <td>-0.228854</td>\n",
       "      <td>-0.181446</td>\n",
       "      <td>-0.056958</td>\n",
       "      <td>0.300819</td>\n",
       "    </tr>\n",
       "    <tr>\n",
       "      <th>1</th>\n",
       "      <td>40.0</td>\n",
       "      <td>8588.700000</td>\n",
       "      <td>1732.342377</td>\n",
       "      <td>5900.0</td>\n",
       "      <td>7396.75</td>\n",
       "      <td>8550.0</td>\n",
       "      <td>9550.0</td>\n",
       "      <td>12900.0</td>\n",
       "      <td>40.0</td>\n",
       "      <td>0.444679</td>\n",
       "      <td>0.218498</td>\n",
       "      <td>0.010232</td>\n",
       "      <td>0.289222</td>\n",
       "      <td>0.385402</td>\n",
       "      <td>0.611869</td>\n",
       "      <td>0.887449</td>\n",
       "    </tr>\n",
       "    <tr>\n",
       "      <th>2</th>\n",
       "      <td>156.0</td>\n",
       "      <td>4289.185897</td>\n",
       "      <td>1065.290642</td>\n",
       "      <td>1600.0</td>\n",
       "      <td>3400.00</td>\n",
       "      <td>4199.5</td>\n",
       "      <td>5000.0</td>\n",
       "      <td>7190.0</td>\n",
       "      <td>156.0</td>\n",
       "      <td>0.155161</td>\n",
       "      <td>0.118192</td>\n",
       "      <td>-0.052524</td>\n",
       "      <td>0.074011</td>\n",
       "      <td>0.133015</td>\n",
       "      <td>0.233799</td>\n",
       "      <td>0.652797</td>\n",
       "    </tr>\n",
       "    <tr>\n",
       "      <th>3</th>\n",
       "      <td>196.0</td>\n",
       "      <td>2629.137755</td>\n",
       "      <td>745.402405</td>\n",
       "      <td>1050.0</td>\n",
       "      <td>2150.00</td>\n",
       "      <td>2525.0</td>\n",
       "      <td>3000.0</td>\n",
       "      <td>5000.0</td>\n",
       "      <td>196.0</td>\n",
       "      <td>-0.165326</td>\n",
       "      <td>0.120710</td>\n",
       "      <td>-0.480900</td>\n",
       "      <td>-0.268076</td>\n",
       "      <td>-0.154843</td>\n",
       "      <td>-0.112551</td>\n",
       "      <td>0.160300</td>\n",
       "    </tr>\n",
       "  </tbody>\n",
       "</table>\n",
       "</div>"
      ],
      "text/plain": [
       "       price                                                             \\\n",
       "       count         mean          std     min      25%     50%     75%   \n",
       "class                                                                     \n",
       "0       50.0  3270.720000  1032.265174  1480.0  2812.50  3353.0  3572.5   \n",
       "1       40.0  8588.700000  1732.342377  5900.0  7396.75  8550.0  9550.0   \n",
       "2      156.0  4289.185897  1065.290642  1600.0  3400.00  4199.5  5000.0   \n",
       "3      196.0  2629.137755   745.402405  1050.0  2150.00  2525.0  3000.0   \n",
       "\n",
       "               sp_total                                                    \\\n",
       "           max    count      mean       std       min       25%       50%   \n",
       "class                                                                       \n",
       "0       6250.0     50.0 -0.137119  0.159646 -0.384038 -0.228854 -0.181446   \n",
       "1      12900.0     40.0  0.444679  0.218498  0.010232  0.289222  0.385402   \n",
       "2       7190.0    156.0  0.155161  0.118192 -0.052524  0.074011  0.133015   \n",
       "3       5000.0    196.0 -0.165326  0.120710 -0.480900 -0.268076 -0.154843   \n",
       "\n",
       "                           \n",
       "            75%       max  \n",
       "class                      \n",
       "0     -0.056958  0.300819  \n",
       "1      0.611869  0.887449  \n",
       "2      0.233799  0.652797  \n",
       "3     -0.112551  0.160300  "
      ]
     },
     "execution_count": 45,
     "metadata": {},
     "output_type": "execute_result"
    }
   ],
   "source": [
    "df_dummy_wd.groupby('class').describe()[['price', 'sp_total']]"
   ]
  },
  {
   "cell_type": "code",
   "execution_count": 46,
   "metadata": {
    "collapsed": false
   },
   "outputs": [],
   "source": [
    "# Random forest\n",
    "from sklearn.model_selection import RandomizedSearchCV\n",
    "from sklearn.ensemble import RandomForestRegressor\n"
   ]
  },
  {
   "cell_type": "code",
   "execution_count": null,
   "metadata": {},
   "outputs": [],
   "source": [
    "\n",
    "train, test = train_test_split(df_dummy_wd, test_size=0.2)\n",
    "df_train, price_train = train.drop('price', axis=1), train['price']\n",
    "df_test, price_test = test.drop('price', axis=1), test['price']\n",
    "\n",
    "param_grid = {\n",
    "    'n_estimators': np.linspace(100, 1200, num=12).astype(int),\n",
    "    'max_depth': [None] + list(np.linspace(5, 50).astype(int)),\n",
    "    'max_features': ['auto', 'sqrt', None],\n",
    "    'max_leaf_nodes': list(np.linspace(10, 50, 500).astype(int)),\n",
    "    'min_samples_split': [2, 5, 10, 15],\n",
    "    'min_samples_leaf': [1, 2, 5, 10],\n",
    "    'bootstrap': [True, False]\n",
    "}\n",
    "estimator = RandomForestRegressor(random_state=50, oob_score=True)\n",
    "rs = RandomizedSearchCV(estimator, param_grid, n_jobs = -1, scoring='neg_mean_squared_error', n_iter=200,\n",
    "                        cv = 4,\n",
    "                        verbose = 2)\n",
    "rs.fit(df_train, price_train)"
   ]
  },
  {
   "cell_type": "code",
   "execution_count": 58,
   "metadata": {},
   "outputs": [
    {
     "data": {
      "text/plain": [
       "{'n_estimators': 700,\n",
       " 'min_samples_split': 5,\n",
       " 'min_samples_leaf': 1,\n",
       " 'max_leaf_nodes': 47,\n",
       " 'max_features': None,\n",
       " 'max_depth': 44,\n",
       " 'bootstrap': True}"
      ]
     },
     "execution_count": 58,
     "metadata": {},
     "output_type": "execute_result"
    }
   ],
   "source": [
    "rs.best_params_"
   ]
  },
  {
   "cell_type": "code",
   "execution_count": 59,
   "metadata": {},
   "outputs": [],
   "source": [
    "best_model = rs.best_estimator_\n",
    "train_predict = best_model.predict(df_train)\n",
    "\n",
    "test_predictions = best_model.predict(df_test)"
   ]
  },
  {
   "cell_type": "code",
   "execution_count": 64,
   "metadata": {},
   "outputs": [
    {
     "name": "stdout",
     "output_type": "stream",
     "text": [
      "train MAPE: 0.09716758913346059\n",
      "test MAPE: 0.11749502550125421\n",
      "test MAE: 452.21368712431104\n"
     ]
    }
   ],
   "source": [
    "print('train MAPE:', mean_absolute_percentage_error(train_predict, price_train))\n",
    "print('test MAPE:', mean_absolute_percentage_error(price_test, test_predictions))\n",
    "print('test MAE:', mean_absolute_error(price_test, test_predictions))\n",
    "compare = pd.DataFrame({'real price': price_test, 'predicted price': test_predictions})\n"
   ]
  }
 ],
 "metadata": {
  "kernelspec": {
   "display_name": "Python 3",
   "language": "python",
   "name": "python3"
  },
  "language_info": {
   "codemirror_mode": {
    "name": "ipython",
    "version": 3
   },
   "file_extension": ".py",
   "mimetype": "text/x-python",
   "name": "python",
   "nbconvert_exporter": "python",
   "pygments_lexer": "ipython3",
   "version": "3.11.5"
  }
 },
 "nbformat": 4,
 "nbformat_minor": 0
}
