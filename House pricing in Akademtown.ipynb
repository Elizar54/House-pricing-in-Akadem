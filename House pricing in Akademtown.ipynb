{
 "cells": [
  {
   "cell_type": "code",
   "execution_count": 1,
   "metadata": {
    "collapsed": true
   },
   "outputs": [],
   "source": [
    "import pandas as pd\n",
    "from sklearn.model_selection import train_test_split\n",
    "import statsmodels.api as sm\n",
    "from sklearn.metrics import mean_squared_error, mean_absolute_error, r2_score, mean_absolute_percentage_error\n",
    "import matplotlib.pyplot as plt\n",
    "import numpy as np\n",
    "import plotly.express as px\n"
   ]
  },
  {
   "cell_type": "code",
   "execution_count": 2,
   "metadata": {
    "collapsed": false
   },
   "outputs": [],
   "source": [
    "df = pd.read_excel('Kvart_Sovet.xlsx')"
   ]
  },
  {
   "cell_type": "code",
   "execution_count": 4,
   "metadata": {
    "collapsed": false
   },
   "outputs": [
    {
     "name": "stderr",
     "output_type": "stream",
     "text": [
      "C:\\Users\\eliza\\AppData\\Local\\Temp\\ipykernel_17528\\1621019402.py:3: SettingWithCopyWarning: \n",
      "A value is trying to be set on a copy of a slice from a DataFrame\n",
      "\n",
      "See the caveats in the documentation: https://pandas.pydata.org/pandas-docs/stable/user_guide/indexing.html#returning-a-view-versus-a-copy\n",
      "  df['street'][i] = 'Академика_Коптюга_проспект'\n",
      "C:\\Users\\eliza\\AppData\\Local\\Temp\\ipykernel_17528\\1621019402.py:3: SettingWithCopyWarning: \n",
      "A value is trying to be set on a copy of a slice from a DataFrame\n",
      "\n",
      "See the caveats in the documentation: https://pandas.pydata.org/pandas-docs/stable/user_guide/indexing.html#returning-a-view-versus-a-copy\n",
      "  df['street'][i] = 'Академика_Коптюга_проспект'\n",
      "C:\\Users\\eliza\\AppData\\Local\\Temp\\ipykernel_17528\\1621019402.py:3: SettingWithCopyWarning: \n",
      "A value is trying to be set on a copy of a slice from a DataFrame\n",
      "\n",
      "See the caveats in the documentation: https://pandas.pydata.org/pandas-docs/stable/user_guide/indexing.html#returning-a-view-versus-a-copy\n",
      "  df['street'][i] = 'Академика_Коптюга_проспект'\n",
      "C:\\Users\\eliza\\AppData\\Local\\Temp\\ipykernel_17528\\1621019402.py:11: SettingWithCopyWarning: \n",
      "A value is trying to be set on a copy of a slice from a DataFrame\n",
      "\n",
      "See the caveats in the documentation: https://pandas.pydata.org/pandas-docs/stable/user_guide/indexing.html#returning-a-view-versus-a-copy\n",
      "  df['street'][i] = 'Иванова'\n",
      "C:\\Users\\eliza\\AppData\\Local\\Temp\\ipykernel_17528\\1621019402.py:7: SettingWithCopyWarning: \n",
      "A value is trying to be set on a copy of a slice from a DataFrame\n",
      "\n",
      "See the caveats in the documentation: https://pandas.pydata.org/pandas-docs/stable/user_guide/indexing.html#returning-a-view-versus-a-copy\n",
      "  df['street'][i] = 'Молодежи_бульвар'\n",
      "C:\\Users\\eliza\\AppData\\Local\\Temp\\ipykernel_17528\\1621019402.py:7: SettingWithCopyWarning: \n",
      "A value is trying to be set on a copy of a slice from a DataFrame\n",
      "\n",
      "See the caveats in the documentation: https://pandas.pydata.org/pandas-docs/stable/user_guide/indexing.html#returning-a-view-versus-a-copy\n",
      "  df['street'][i] = 'Молодежи_бульвар'\n",
      "C:\\Users\\eliza\\AppData\\Local\\Temp\\ipykernel_17528\\1621019402.py:7: SettingWithCopyWarning: \n",
      "A value is trying to be set on a copy of a slice from a DataFrame\n",
      "\n",
      "See the caveats in the documentation: https://pandas.pydata.org/pandas-docs/stable/user_guide/indexing.html#returning-a-view-versus-a-copy\n",
      "  df['street'][i] = 'Молодежи_бульвар'\n",
      "C:\\Users\\eliza\\AppData\\Local\\Temp\\ipykernel_17528\\1621019402.py:7: SettingWithCopyWarning: \n",
      "A value is trying to be set on a copy of a slice from a DataFrame\n",
      "\n",
      "See the caveats in the documentation: https://pandas.pydata.org/pandas-docs/stable/user_guide/indexing.html#returning-a-view-versus-a-copy\n",
      "  df['street'][i] = 'Молодежи_бульвар'\n",
      "C:\\Users\\eliza\\AppData\\Local\\Temp\\ipykernel_17528\\1621019402.py:7: SettingWithCopyWarning: \n",
      "A value is trying to be set on a copy of a slice from a DataFrame\n",
      "\n",
      "See the caveats in the documentation: https://pandas.pydata.org/pandas-docs/stable/user_guide/indexing.html#returning-a-view-versus-a-copy\n",
      "  df['street'][i] = 'Молодежи_бульвар'\n",
      "C:\\Users\\eliza\\AppData\\Local\\Temp\\ipykernel_17528\\1621019402.py:7: SettingWithCopyWarning: \n",
      "A value is trying to be set on a copy of a slice from a DataFrame\n",
      "\n",
      "See the caveats in the documentation: https://pandas.pydata.org/pandas-docs/stable/user_guide/indexing.html#returning-a-view-versus-a-copy\n",
      "  df['street'][i] = 'Молодежи_бульвар'\n",
      "C:\\Users\\eliza\\AppData\\Local\\Temp\\ipykernel_17528\\1621019402.py:7: SettingWithCopyWarning: \n",
      "A value is trying to be set on a copy of a slice from a DataFrame\n",
      "\n",
      "See the caveats in the documentation: https://pandas.pydata.org/pandas-docs/stable/user_guide/indexing.html#returning-a-view-versus-a-copy\n",
      "  df['street'][i] = 'Молодежи_бульвар'\n",
      "C:\\Users\\eliza\\AppData\\Local\\Temp\\ipykernel_17528\\1621019402.py:7: SettingWithCopyWarning: \n",
      "A value is trying to be set on a copy of a slice from a DataFrame\n",
      "\n",
      "See the caveats in the documentation: https://pandas.pydata.org/pandas-docs/stable/user_guide/indexing.html#returning-a-view-versus-a-copy\n",
      "  df['street'][i] = 'Молодежи_бульвар'\n",
      "C:\\Users\\eliza\\AppData\\Local\\Temp\\ipykernel_17528\\1621019402.py:7: SettingWithCopyWarning: \n",
      "A value is trying to be set on a copy of a slice from a DataFrame\n",
      "\n",
      "See the caveats in the documentation: https://pandas.pydata.org/pandas-docs/stable/user_guide/indexing.html#returning-a-view-versus-a-copy\n",
      "  df['street'][i] = 'Молодежи_бульвар'\n",
      "C:\\Users\\eliza\\AppData\\Local\\Temp\\ipykernel_17528\\1621019402.py:7: SettingWithCopyWarning: \n",
      "A value is trying to be set on a copy of a slice from a DataFrame\n",
      "\n",
      "See the caveats in the documentation: https://pandas.pydata.org/pandas-docs/stable/user_guide/indexing.html#returning-a-view-versus-a-copy\n",
      "  df['street'][i] = 'Молодежи_бульвар'\n",
      "C:\\Users\\eliza\\AppData\\Local\\Temp\\ipykernel_17528\\1621019402.py:7: SettingWithCopyWarning: \n",
      "A value is trying to be set on a copy of a slice from a DataFrame\n",
      "\n",
      "See the caveats in the documentation: https://pandas.pydata.org/pandas-docs/stable/user_guide/indexing.html#returning-a-view-versus-a-copy\n",
      "  df['street'][i] = 'Молодежи_бульвар'\n",
      "C:\\Users\\eliza\\AppData\\Local\\Temp\\ipykernel_17528\\1621019402.py:7: SettingWithCopyWarning: \n",
      "A value is trying to be set on a copy of a slice from a DataFrame\n",
      "\n",
      "See the caveats in the documentation: https://pandas.pydata.org/pandas-docs/stable/user_guide/indexing.html#returning-a-view-versus-a-copy\n",
      "  df['street'][i] = 'Молодежи_бульвар'\n",
      "C:\\Users\\eliza\\AppData\\Local\\Temp\\ipykernel_17528\\1621019402.py:7: SettingWithCopyWarning: \n",
      "A value is trying to be set on a copy of a slice from a DataFrame\n",
      "\n",
      "See the caveats in the documentation: https://pandas.pydata.org/pandas-docs/stable/user_guide/indexing.html#returning-a-view-versus-a-copy\n",
      "  df['street'][i] = 'Молодежи_бульвар'\n",
      "C:\\Users\\eliza\\AppData\\Local\\Temp\\ipykernel_17528\\1621019402.py:7: SettingWithCopyWarning: \n",
      "A value is trying to be set on a copy of a slice from a DataFrame\n",
      "\n",
      "See the caveats in the documentation: https://pandas.pydata.org/pandas-docs/stable/user_guide/indexing.html#returning-a-view-versus-a-copy\n",
      "  df['street'][i] = 'Молодежи_бульвар'\n",
      "C:\\Users\\eliza\\AppData\\Local\\Temp\\ipykernel_17528\\1621019402.py:7: SettingWithCopyWarning: \n",
      "A value is trying to be set on a copy of a slice from a DataFrame\n",
      "\n",
      "See the caveats in the documentation: https://pandas.pydata.org/pandas-docs/stable/user_guide/indexing.html#returning-a-view-versus-a-copy\n",
      "  df['street'][i] = 'Молодежи_бульвар'\n",
      "C:\\Users\\eliza\\AppData\\Local\\Temp\\ipykernel_17528\\1621019402.py:7: SettingWithCopyWarning: \n",
      "A value is trying to be set on a copy of a slice from a DataFrame\n",
      "\n",
      "See the caveats in the documentation: https://pandas.pydata.org/pandas-docs/stable/user_guide/indexing.html#returning-a-view-versus-a-copy\n",
      "  df['street'][i] = 'Молодежи_бульвар'\n"
     ]
    }
   ],
   "source": [
    "for i in range(len(df['street'])):\n",
    "    if df['street'][i] == 'Академика Коптюга пр-кт' or df['street'][i] == 'Академика_Коптюга':\n",
    "        df['street'][i] = 'Академика_Коптюга_проспект'\n",
    "    elif df['street'][i] == 'Морской пр-кт':\n",
    "        df['street'][i] = 'Морской_проспект'\n",
    "    elif df['street'][i] == 'Молодeжи б-р' or df['street'][i] == 'Молодёжи б-р' or df['street'][i] == 'Молодёжи бульвар' or df['street'][i] == 'Молодежи_б-р':\n",
    "        df['street'][i] = 'Молодежи_бульвар'\n",
    "    elif df['street'][i] == 'Ученых':\n",
    "        df['street'][i] = 'Учёных'\n",
    "    elif df['street'][i] == 'Академика_Иванова':\n",
    "        df['street'][i] = 'Иванова'\n",
    "for i in range(len(df['street'])):\n",
    "    s = ''\n",
    "    a = df['street'][i].split(' ')\n",
    "    if len(a) != 1:\n",
    "        for j in range(2):\n",
    "            if j == 0:\n",
    "                s += a[j] + '_'\n",
    "            else:\n",
    "                s += a[j]\n",
    "        df['street'][i] = s"
   ]
  },
  {
   "cell_type": "code",
   "execution_count": 6,
   "metadata": {},
   "outputs": [],
   "source": [
    "df.loc[df.sp_kitchen == '-', 'sp_kitchen'] = np.nan\n",
    "kvart_new = df[df.sp_kitchen.notna()]"
   ]
  },
  {
   "cell_type": "code",
   "execution_count": 7,
   "metadata": {},
   "outputs": [],
   "source": [
    "kvart_new = kvart_new[(kvart_new.sp_total < 120) & (kvart_new.price <= 15000)]"
   ]
  },
  {
   "cell_type": "code",
   "execution_count": 8,
   "metadata": {},
   "outputs": [
    {
     "data": {
      "application/vnd.plotly.v1+json": {
       "config": {
        "plotlyServerURL": "https://plot.ly"
       },
       "data": [
        {
         "alignmentgroup": "True",
         "hovertemplate": "sp_total=%{y}<extra></extra>",
         "legendgroup": "",
         "marker": {
          "color": "#636efa"
         },
         "name": "",
         "notched": false,
         "offsetgroup": "",
         "orientation": "v",
         "showlegend": false,
         "type": "box",
         "x0": " ",
         "xaxis": "x",
         "y": [
          32,
          54.5,
          59.7,
          41.4,
          58.8,
          34.5,
          32.3,
          39,
          53,
          86,
          45,
          33,
          63,
          75.3,
          63,
          42,
          39,
          70.2,
          99,
          64.3,
          98.4,
          57.7,
          63.5,
          49,
          31.9,
          60.7,
          65.7,
          64.7,
          31.8,
          49.1,
          75.8,
          37.4,
          37,
          48.1,
          43.1,
          53.9,
          60.1,
          37.5,
          43.6,
          57.5,
          53.3,
          37.5,
          59,
          44.6,
          83,
          44,
          39,
          18,
          37,
          45.6,
          74.6,
          61.4,
          33.6,
          42.9,
          43.1,
          57.2,
          45.4,
          20.3,
          59.9,
          44.8,
          64.8,
          65.67,
          34.5,
          76,
          74.4,
          31.4,
          57.2,
          42.2,
          59.2,
          62,
          75,
          79,
          54,
          51,
          48,
          49.4,
          67,
          36,
          40.5,
          31,
          98,
          63,
          43.2,
          37,
          46,
          31.5,
          52.5,
          63,
          62,
          47,
          52,
          63,
          88,
          65,
          45.9,
          81,
          47,
          75,
          54,
          78,
          38.8,
          89.7,
          110,
          35.6,
          45,
          29,
          64.6,
          28.9,
          82.66,
          27.5,
          54,
          38.6,
          34,
          67,
          48,
          70.2,
          32,
          54,
          54,
          74,
          64.2,
          37.8,
          74,
          59,
          52,
          75,
          80,
          65,
          54,
          74,
          79,
          83,
          43.4,
          32.4,
          60,
          64,
          74,
          84,
          63,
          76.2,
          54,
          65.8,
          85,
          44.4,
          30,
          60.6,
          101,
          63,
          73,
          46.19,
          40.3,
          64,
          62,
          83,
          38.6,
          91,
          55.9,
          65.3,
          46.7,
          59.8,
          43.3,
          67.3,
          34,
          40.3,
          65,
          37,
          30.7,
          37.7,
          29.9,
          47.3,
          29.16,
          25.8,
          61.6,
          55,
          31,
          24.4,
          33,
          39,
          28.7,
          37.8,
          31.4,
          39.9,
          47.5,
          29.7,
          54.9,
          48.8,
          31.4,
          32.4,
          26.2,
          37.3,
          39.15,
          39.15,
          39.12,
          39.15,
          39.12,
          38.55,
          38.54,
          38.55,
          38.54,
          31.4,
          20.8,
          36.7,
          26.2,
          30.5,
          28.9,
          37.9,
          31.7,
          25.1,
          32.1,
          30.9,
          40,
          29.5,
          44.9,
          43.2,
          56,
          42.8,
          72.8,
          65.1,
          72.2,
          43.3,
          54.2,
          54.6,
          43,
          73.8,
          46.8,
          57.9,
          52,
          43.1,
          41.8,
          44.1,
          42.4,
          78.2,
          48.1,
          54,
          55.9,
          59.6,
          42.8,
          47.5,
          61.63,
          70.5,
          42.3,
          57.7,
          54.9,
          44.5,
          49.5,
          72.4,
          44,
          55.8,
          57.1,
          51.5,
          57.9,
          44,
          44.4,
          44.3,
          40.6,
          47.9,
          46.6,
          48.3,
          42,
          60.71,
          61.6,
          50.8,
          44,
          56.2,
          46,
          70.95,
          44.9,
          64.53,
          72.7,
          42.8,
          53.2,
          40.8,
          65.3,
          42.4,
          43.7,
          52.1,
          60.8,
          113.9,
          84,
          38.4,
          80,
          67.1,
          58.9,
          85.1,
          65.3,
          58.1,
          76.2,
          80,
          55.4,
          78.7,
          106.8,
          76.2,
          60.4,
          60.4,
          58.3,
          65.1,
          74,
          58.8,
          63.5,
          58,
          62.9,
          73.4,
          58.8,
          42.7,
          57.5,
          40.6,
          110.7,
          62.8,
          118.3,
          61.7,
          64.9,
          64.2,
          58.2,
          56.5,
          62.9,
          60.9,
          91.3,
          58.4,
          60.8,
          62.7,
          63.1,
          61,
          60.3,
          78.4,
          101.1,
          110.7,
          118.3,
          61,
          69.8,
          71.3,
          74.6,
          31,
          57,
          31,
          26,
          44,
          44,
          43,
          45,
          53,
          78,
          63,
          74,
          58.3,
          54,
          46,
          57,
          37.5,
          42.5,
          58.6,
          60.4,
          51.8,
          37.4,
          54,
          54,
          69.8,
          78,
          44,
          47,
          56.3,
          67.23,
          62,
          65.4,
          80,
          71,
          56.74,
          44,
          70.95,
          30.8,
          72,
          29,
          29.5,
          26,
          40.7,
          58.7,
          36,
          60.4,
          40.7,
          38.3,
          76.7,
          46.8,
          46.8,
          37,
          39,
          42.4,
          34,
          63,
          60.6,
          59,
          40.5,
          64,
          58.6,
          31.9,
          48.3,
          61,
          38.1,
          32.2,
          51.6,
          33.1,
          28.7,
          35,
          31,
          32,
          43.3,
          44.5,
          61,
          45,
          31.1,
          41.4,
          59,
          71,
          32,
          71,
          97,
          43.4,
          35.3,
          63.3,
          55.7,
          63,
          60,
          64,
          33.6,
          51.5,
          38.8,
          30.3,
          43,
          73,
          37.4,
          77.1,
          39.5,
          57.3,
          32,
          64,
          44,
          71.1,
          52,
          35,
          61.7,
          32,
          43.1,
          31,
          72
         ],
         "y0": " ",
         "yaxis": "y"
        }
       ],
       "layout": {
        "boxmode": "group",
        "legend": {
         "orientation": "h",
         "tracegroupgap": 0
        },
        "margin": {
         "t": 60
        },
        "template": {
         "data": {
          "bar": [
           {
            "error_x": {
             "color": "#2a3f5f"
            },
            "error_y": {
             "color": "#2a3f5f"
            },
            "marker": {
             "line": {
              "color": "#E5ECF6",
              "width": 0.5
             },
             "pattern": {
              "fillmode": "overlay",
              "size": 10,
              "solidity": 0.2
             }
            },
            "type": "bar"
           }
          ],
          "barpolar": [
           {
            "marker": {
             "line": {
              "color": "#E5ECF6",
              "width": 0.5
             },
             "pattern": {
              "fillmode": "overlay",
              "size": 10,
              "solidity": 0.2
             }
            },
            "type": "barpolar"
           }
          ],
          "carpet": [
           {
            "aaxis": {
             "endlinecolor": "#2a3f5f",
             "gridcolor": "white",
             "linecolor": "white",
             "minorgridcolor": "white",
             "startlinecolor": "#2a3f5f"
            },
            "baxis": {
             "endlinecolor": "#2a3f5f",
             "gridcolor": "white",
             "linecolor": "white",
             "minorgridcolor": "white",
             "startlinecolor": "#2a3f5f"
            },
            "type": "carpet"
           }
          ],
          "choropleth": [
           {
            "colorbar": {
             "outlinewidth": 0,
             "ticks": ""
            },
            "type": "choropleth"
           }
          ],
          "contour": [
           {
            "colorbar": {
             "outlinewidth": 0,
             "ticks": ""
            },
            "colorscale": [
             [
              0,
              "#0d0887"
             ],
             [
              0.1111111111111111,
              "#46039f"
             ],
             [
              0.2222222222222222,
              "#7201a8"
             ],
             [
              0.3333333333333333,
              "#9c179e"
             ],
             [
              0.4444444444444444,
              "#bd3786"
             ],
             [
              0.5555555555555556,
              "#d8576b"
             ],
             [
              0.6666666666666666,
              "#ed7953"
             ],
             [
              0.7777777777777778,
              "#fb9f3a"
             ],
             [
              0.8888888888888888,
              "#fdca26"
             ],
             [
              1,
              "#f0f921"
             ]
            ],
            "type": "contour"
           }
          ],
          "contourcarpet": [
           {
            "colorbar": {
             "outlinewidth": 0,
             "ticks": ""
            },
            "type": "contourcarpet"
           }
          ],
          "heatmap": [
           {
            "colorbar": {
             "outlinewidth": 0,
             "ticks": ""
            },
            "colorscale": [
             [
              0,
              "#0d0887"
             ],
             [
              0.1111111111111111,
              "#46039f"
             ],
             [
              0.2222222222222222,
              "#7201a8"
             ],
             [
              0.3333333333333333,
              "#9c179e"
             ],
             [
              0.4444444444444444,
              "#bd3786"
             ],
             [
              0.5555555555555556,
              "#d8576b"
             ],
             [
              0.6666666666666666,
              "#ed7953"
             ],
             [
              0.7777777777777778,
              "#fb9f3a"
             ],
             [
              0.8888888888888888,
              "#fdca26"
             ],
             [
              1,
              "#f0f921"
             ]
            ],
            "type": "heatmap"
           }
          ],
          "heatmapgl": [
           {
            "colorbar": {
             "outlinewidth": 0,
             "ticks": ""
            },
            "colorscale": [
             [
              0,
              "#0d0887"
             ],
             [
              0.1111111111111111,
              "#46039f"
             ],
             [
              0.2222222222222222,
              "#7201a8"
             ],
             [
              0.3333333333333333,
              "#9c179e"
             ],
             [
              0.4444444444444444,
              "#bd3786"
             ],
             [
              0.5555555555555556,
              "#d8576b"
             ],
             [
              0.6666666666666666,
              "#ed7953"
             ],
             [
              0.7777777777777778,
              "#fb9f3a"
             ],
             [
              0.8888888888888888,
              "#fdca26"
             ],
             [
              1,
              "#f0f921"
             ]
            ],
            "type": "heatmapgl"
           }
          ],
          "histogram": [
           {
            "marker": {
             "pattern": {
              "fillmode": "overlay",
              "size": 10,
              "solidity": 0.2
             }
            },
            "type": "histogram"
           }
          ],
          "histogram2d": [
           {
            "colorbar": {
             "outlinewidth": 0,
             "ticks": ""
            },
            "colorscale": [
             [
              0,
              "#0d0887"
             ],
             [
              0.1111111111111111,
              "#46039f"
             ],
             [
              0.2222222222222222,
              "#7201a8"
             ],
             [
              0.3333333333333333,
              "#9c179e"
             ],
             [
              0.4444444444444444,
              "#bd3786"
             ],
             [
              0.5555555555555556,
              "#d8576b"
             ],
             [
              0.6666666666666666,
              "#ed7953"
             ],
             [
              0.7777777777777778,
              "#fb9f3a"
             ],
             [
              0.8888888888888888,
              "#fdca26"
             ],
             [
              1,
              "#f0f921"
             ]
            ],
            "type": "histogram2d"
           }
          ],
          "histogram2dcontour": [
           {
            "colorbar": {
             "outlinewidth": 0,
             "ticks": ""
            },
            "colorscale": [
             [
              0,
              "#0d0887"
             ],
             [
              0.1111111111111111,
              "#46039f"
             ],
             [
              0.2222222222222222,
              "#7201a8"
             ],
             [
              0.3333333333333333,
              "#9c179e"
             ],
             [
              0.4444444444444444,
              "#bd3786"
             ],
             [
              0.5555555555555556,
              "#d8576b"
             ],
             [
              0.6666666666666666,
              "#ed7953"
             ],
             [
              0.7777777777777778,
              "#fb9f3a"
             ],
             [
              0.8888888888888888,
              "#fdca26"
             ],
             [
              1,
              "#f0f921"
             ]
            ],
            "type": "histogram2dcontour"
           }
          ],
          "mesh3d": [
           {
            "colorbar": {
             "outlinewidth": 0,
             "ticks": ""
            },
            "type": "mesh3d"
           }
          ],
          "parcoords": [
           {
            "line": {
             "colorbar": {
              "outlinewidth": 0,
              "ticks": ""
             }
            },
            "type": "parcoords"
           }
          ],
          "pie": [
           {
            "automargin": true,
            "type": "pie"
           }
          ],
          "scatter": [
           {
            "fillpattern": {
             "fillmode": "overlay",
             "size": 10,
             "solidity": 0.2
            },
            "type": "scatter"
           }
          ],
          "scatter3d": [
           {
            "line": {
             "colorbar": {
              "outlinewidth": 0,
              "ticks": ""
             }
            },
            "marker": {
             "colorbar": {
              "outlinewidth": 0,
              "ticks": ""
             }
            },
            "type": "scatter3d"
           }
          ],
          "scattercarpet": [
           {
            "marker": {
             "colorbar": {
              "outlinewidth": 0,
              "ticks": ""
             }
            },
            "type": "scattercarpet"
           }
          ],
          "scattergeo": [
           {
            "marker": {
             "colorbar": {
              "outlinewidth": 0,
              "ticks": ""
             }
            },
            "type": "scattergeo"
           }
          ],
          "scattergl": [
           {
            "marker": {
             "colorbar": {
              "outlinewidth": 0,
              "ticks": ""
             }
            },
            "type": "scattergl"
           }
          ],
          "scattermapbox": [
           {
            "marker": {
             "colorbar": {
              "outlinewidth": 0,
              "ticks": ""
             }
            },
            "type": "scattermapbox"
           }
          ],
          "scatterpolar": [
           {
            "marker": {
             "colorbar": {
              "outlinewidth": 0,
              "ticks": ""
             }
            },
            "type": "scatterpolar"
           }
          ],
          "scatterpolargl": [
           {
            "marker": {
             "colorbar": {
              "outlinewidth": 0,
              "ticks": ""
             }
            },
            "type": "scatterpolargl"
           }
          ],
          "scatterternary": [
           {
            "marker": {
             "colorbar": {
              "outlinewidth": 0,
              "ticks": ""
             }
            },
            "type": "scatterternary"
           }
          ],
          "surface": [
           {
            "colorbar": {
             "outlinewidth": 0,
             "ticks": ""
            },
            "colorscale": [
             [
              0,
              "#0d0887"
             ],
             [
              0.1111111111111111,
              "#46039f"
             ],
             [
              0.2222222222222222,
              "#7201a8"
             ],
             [
              0.3333333333333333,
              "#9c179e"
             ],
             [
              0.4444444444444444,
              "#bd3786"
             ],
             [
              0.5555555555555556,
              "#d8576b"
             ],
             [
              0.6666666666666666,
              "#ed7953"
             ],
             [
              0.7777777777777778,
              "#fb9f3a"
             ],
             [
              0.8888888888888888,
              "#fdca26"
             ],
             [
              1,
              "#f0f921"
             ]
            ],
            "type": "surface"
           }
          ],
          "table": [
           {
            "cells": {
             "fill": {
              "color": "#EBF0F8"
             },
             "line": {
              "color": "white"
             }
            },
            "header": {
             "fill": {
              "color": "#C8D4E3"
             },
             "line": {
              "color": "white"
             }
            },
            "type": "table"
           }
          ]
         },
         "layout": {
          "annotationdefaults": {
           "arrowcolor": "#2a3f5f",
           "arrowhead": 0,
           "arrowwidth": 1
          },
          "autotypenumbers": "strict",
          "coloraxis": {
           "colorbar": {
            "outlinewidth": 0,
            "ticks": ""
           }
          },
          "colorscale": {
           "diverging": [
            [
             0,
             "#8e0152"
            ],
            [
             0.1,
             "#c51b7d"
            ],
            [
             0.2,
             "#de77ae"
            ],
            [
             0.3,
             "#f1b6da"
            ],
            [
             0.4,
             "#fde0ef"
            ],
            [
             0.5,
             "#f7f7f7"
            ],
            [
             0.6,
             "#e6f5d0"
            ],
            [
             0.7,
             "#b8e186"
            ],
            [
             0.8,
             "#7fbc41"
            ],
            [
             0.9,
             "#4d9221"
            ],
            [
             1,
             "#276419"
            ]
           ],
           "sequential": [
            [
             0,
             "#0d0887"
            ],
            [
             0.1111111111111111,
             "#46039f"
            ],
            [
             0.2222222222222222,
             "#7201a8"
            ],
            [
             0.3333333333333333,
             "#9c179e"
            ],
            [
             0.4444444444444444,
             "#bd3786"
            ],
            [
             0.5555555555555556,
             "#d8576b"
            ],
            [
             0.6666666666666666,
             "#ed7953"
            ],
            [
             0.7777777777777778,
             "#fb9f3a"
            ],
            [
             0.8888888888888888,
             "#fdca26"
            ],
            [
             1,
             "#f0f921"
            ]
           ],
           "sequentialminus": [
            [
             0,
             "#0d0887"
            ],
            [
             0.1111111111111111,
             "#46039f"
            ],
            [
             0.2222222222222222,
             "#7201a8"
            ],
            [
             0.3333333333333333,
             "#9c179e"
            ],
            [
             0.4444444444444444,
             "#bd3786"
            ],
            [
             0.5555555555555556,
             "#d8576b"
            ],
            [
             0.6666666666666666,
             "#ed7953"
            ],
            [
             0.7777777777777778,
             "#fb9f3a"
            ],
            [
             0.8888888888888888,
             "#fdca26"
            ],
            [
             1,
             "#f0f921"
            ]
           ]
          },
          "colorway": [
           "#636efa",
           "#EF553B",
           "#00cc96",
           "#ab63fa",
           "#FFA15A",
           "#19d3f3",
           "#FF6692",
           "#B6E880",
           "#FF97FF",
           "#FECB52"
          ],
          "font": {
           "color": "#2a3f5f"
          },
          "geo": {
           "bgcolor": "white",
           "lakecolor": "white",
           "landcolor": "#E5ECF6",
           "showlakes": true,
           "showland": true,
           "subunitcolor": "white"
          },
          "hoverlabel": {
           "align": "left"
          },
          "hovermode": "closest",
          "mapbox": {
           "style": "light"
          },
          "paper_bgcolor": "white",
          "plot_bgcolor": "#E5ECF6",
          "polar": {
           "angularaxis": {
            "gridcolor": "white",
            "linecolor": "white",
            "ticks": ""
           },
           "bgcolor": "#E5ECF6",
           "radialaxis": {
            "gridcolor": "white",
            "linecolor": "white",
            "ticks": ""
           }
          },
          "scene": {
           "xaxis": {
            "backgroundcolor": "#E5ECF6",
            "gridcolor": "white",
            "gridwidth": 2,
            "linecolor": "white",
            "showbackground": true,
            "ticks": "",
            "zerolinecolor": "white"
           },
           "yaxis": {
            "backgroundcolor": "#E5ECF6",
            "gridcolor": "white",
            "gridwidth": 2,
            "linecolor": "white",
            "showbackground": true,
            "ticks": "",
            "zerolinecolor": "white"
           },
           "zaxis": {
            "backgroundcolor": "#E5ECF6",
            "gridcolor": "white",
            "gridwidth": 2,
            "linecolor": "white",
            "showbackground": true,
            "ticks": "",
            "zerolinecolor": "white"
           }
          },
          "shapedefaults": {
           "line": {
            "color": "#2a3f5f"
           }
          },
          "ternary": {
           "aaxis": {
            "gridcolor": "white",
            "linecolor": "white",
            "ticks": ""
           },
           "baxis": {
            "gridcolor": "white",
            "linecolor": "white",
            "ticks": ""
           },
           "bgcolor": "#E5ECF6",
           "caxis": {
            "gridcolor": "white",
            "linecolor": "white",
            "ticks": ""
           }
          },
          "title": {
           "x": 0.05
          },
          "xaxis": {
           "automargin": true,
           "gridcolor": "white",
           "linecolor": "white",
           "ticks": "",
           "title": {
            "standoff": 15
           },
           "zerolinecolor": "white",
           "zerolinewidth": 2
          },
          "yaxis": {
           "automargin": true,
           "gridcolor": "white",
           "linecolor": "white",
           "ticks": "",
           "title": {
            "standoff": 15
           },
           "zerolinecolor": "white",
           "zerolinewidth": 2
          }
         }
        },
        "title": {
         "text": "Total square of the flat in square meters"
        },
        "xaxis": {
         "anchor": "y",
         "domain": [
          0,
          1
         ]
        },
        "yaxis": {
         "anchor": "x",
         "domain": [
          0,
          1
         ],
         "title": {
          "text": "sp_total"
         }
        }
       }
      }
     },
     "metadata": {},
     "output_type": "display_data"
    }
   ],
   "source": [
    "fig = px.box(kvart_new, y='sp_total')\n",
    "fig.update_layout(title='Total square of the flat in square meters',\n",
    "                  legend_orientation='h')\n",
    "fig.show()"
   ]
  },
  {
   "cell_type": "code",
   "execution_count": 219,
   "metadata": {},
   "outputs": [
    {
     "data": {
      "text/plain": [
       "Text(0, 0.5, 'Quantity')"
      ]
     },
     "execution_count": 219,
     "metadata": {},
     "output_type": "execute_result"
    },
    {
     "data": {
      "image/png": "[encoded data removed]",
      "text/plain": [
       "<Figure size 640x480 with 1 Axes>"
      ]
     },
     "metadata": {},
     "output_type": "display_data"
    }
   ],
   "source": [
    "plt.hist(kvart_new['height'])\n",
    "plt.xlabel('Height of the building in floors')\n",
    "plt.ylabel('Quantity')"
   ]
  },
  {
   "cell_type": "code",
   "execution_count": 220,
   "metadata": {},
   "outputs": [
    {
     "data": {
      "text/plain": [
       "Text(0.5, 0, 'Floor of the flat')"
      ]
     },
     "execution_count": 220,
     "metadata": {},
     "output_type": "execute_result"
    },
    {
     "data": {
      "image/png": "[encoded data removed]",
      "text/plain": [
       "<Figure size 640x480 with 1 Axes>"
      ]
     },
     "metadata": {},
     "output_type": "display_data"
    }
   ],
   "source": [
    "plt.hist(kvart_new['floor'])\n",
    "plt.ylabel('Quantity')\n",
    "plt.xlabel('Floor of the flat')"
   ]
  },
  {
   "cell_type": "code",
   "execution_count": 222,
   "metadata": {},
   "outputs": [
    {
     "data": {
      "text/plain": [
       "Text(0.5, 0, 'Price of the flat')"
      ]
     },
     "execution_count": 222,
     "metadata": {},
     "output_type": "execute_result"
    },
    {
     "data": {
      "image/png": "[encoded data removed]",
      "text/plain": [
       "<Figure size 640x480 with 1 Axes>"
      ]
     },
     "metadata": {},
     "output_type": "display_data"
    }
   ],
   "source": [
    "plt.hist(kvart_new['price'])\n",
    "plt.ylabel('Quantity')\n",
    "plt.xlabel('Price of the flat')"
   ]
  },
  {
   "cell_type": "code",
   "execution_count": 223,
   "metadata": {},
   "outputs": [
    {
     "data": {
      "text/plain": [
       "Text(0.5, 0, 'Total square of the flat in square meters')"
      ]
     },
     "execution_count": 223,
     "metadata": {},
     "output_type": "execute_result"
    },
    {
     "data": {
      "image/png": "[encoded data removed]",
      "text/plain": [
       "<Figure size 640x480 with 1 Axes>"
      ]
     },
     "metadata": {},
     "output_type": "display_data"
    }
   ],
   "source": [
    "plt.hist(kvart_new['sp_total'])\n",
    "plt.ylabel('Quantity')\n",
    "plt.xlabel('Total square of the flat in square meters')"
   ]
  },
  {
   "cell_type": "code",
   "execution_count": 8,
   "metadata": {},
   "outputs": [],
   "source": [
    "kvart_new = kvart_new.dropna(how='all')\n"
   ]
  },
  {
   "cell_type": "code",
   "execution_count": 9,
   "metadata": {},
   "outputs": [],
   "source": [
    "kvart_new = kvart_new.drop(columns=['ID', 'city', 'district'])"
   ]
  },
  {
   "cell_type": "code",
   "execution_count": 11,
   "metadata": {},
   "outputs": [
    {
     "name": "stderr",
     "output_type": "stream",
     "text": [
      "C:\\Users\\eliza\\AppData\\Local\\Temp\\ipykernel_26748\\3255133131.py:10: SettingWithCopyWarning: \n",
      "A value is trying to be set on a copy of a slice from a DataFrame\n",
      "\n",
      "See the caveats in the documentation: https://pandas.pydata.org/pandas-docs/stable/user_guide/indexing.html#returning-a-view-versus-a-copy\n",
      "  series[c] = int(number)\n",
      "C:\\Users\\eliza\\AppData\\Local\\Temp\\ipykernel_26748\\3255133131.py:10: SettingWithCopyWarning: \n",
      "A value is trying to be set on a copy of a slice from a DataFrame\n",
      "\n",
      "See the caveats in the documentation: https://pandas.pydata.org/pandas-docs/stable/user_guide/indexing.html#returning-a-view-versus-a-copy\n",
      "  series[c] = int(number)\n",
      "C:\\Users\\eliza\\AppData\\Local\\Temp\\ipykernel_26748\\3255133131.py:10: SettingWithCopyWarning: \n",
      "A value is trying to be set on a copy of a slice from a DataFrame\n",
      "\n",
      "See the caveats in the documentation: https://pandas.pydata.org/pandas-docs/stable/user_guide/indexing.html#returning-a-view-versus-a-copy\n",
      "  series[c] = int(number)\n",
      "C:\\Users\\eliza\\AppData\\Local\\Temp\\ipykernel_26748\\3255133131.py:10: SettingWithCopyWarning: \n",
      "A value is trying to be set on a copy of a slice from a DataFrame\n",
      "\n",
      "See the caveats in the documentation: https://pandas.pydata.org/pandas-docs/stable/user_guide/indexing.html#returning-a-view-versus-a-copy\n",
      "  series[c] = int(number)\n",
      "C:\\Users\\eliza\\AppData\\Local\\Temp\\ipykernel_26748\\3255133131.py:10: SettingWithCopyWarning: \n",
      "A value is trying to be set on a copy of a slice from a DataFrame\n",
      "\n",
      "See the caveats in the documentation: https://pandas.pydata.org/pandas-docs/stable/user_guide/indexing.html#returning-a-view-versus-a-copy\n",
      "  series[c] = int(number)\n",
      "C:\\Users\\eliza\\AppData\\Local\\Temp\\ipykernel_26748\\3255133131.py:10: SettingWithCopyWarning: \n",
      "A value is trying to be set on a copy of a slice from a DataFrame\n",
      "\n",
      "See the caveats in the documentation: https://pandas.pydata.org/pandas-docs/stable/user_guide/indexing.html#returning-a-view-versus-a-copy\n",
      "  series[c] = int(number)\n"
     ]
    }
   ],
   "source": [
    "def find_number(series):\n",
    "    c = 0\n",
    "    for i in series:\n",
    "        number = ''\n",
    "        for k in str(i):\n",
    "            if k.isdigit() and k != '/':\n",
    "                number += k\n",
    "            else:\n",
    "                break\n",
    "        series[c] = int(number)\n",
    "        c += 1\n",
    "    return series\n",
    "\n",
    "\n",
    "kvart_new['h_number'] = find_number(kvart_new['h_number'])"
   ]
  },
  {
   "cell_type": "code",
   "execution_count": 12,
   "metadata": {},
   "outputs": [],
   "source": [
    "side_list = []\n",
    "\n",
    "for i in kvart_new['h_number']:\n",
    "    try:\n",
    "        if int(i) % 2 == 0:\n",
    "            side_list.append(1)\n",
    "        else:\n",
    "            side_list.append(0)\n",
    "            \n",
    "    except ValueError:\n",
    "        number = ''\n",
    "\n",
    "        for k in str(i):\n",
    "            if k.isdigit() and k != '/':\n",
    "                number += k\n",
    "            else:\n",
    "                break\n",
    "\n",
    "        if int(number) % 2 == 0:\n",
    "            side_list.append(1)\n",
    "        else:\n",
    "            side_list.append(0)\n",
    "\n",
    "kvart_new['side'] = side_list\n",
    "kvart_new2 = kvart_new.drop(['h_number'], axis=1)"
   ]
  },
  {
   "cell_type": "code",
   "execution_count": 13,
   "metadata": {
    "collapsed": false
   },
   "outputs": [],
   "source": [
    "df_dummy_wd = pd.get_dummies(kvart_new2, columns=['street', 'rooms'], dtype = 'float64', drop_first = True)"
   ]
  },
  {
   "cell_type": "code",
   "execution_count": 14,
   "metadata": {
    "collapsed": false
   },
   "outputs": [],
   "source": [
    "train, test = train_test_split(df_dummy_wd, test_size=0.27)\n",
    "test_regressors = test.drop(columns=['price'])\n",
    "test_price = test.price\n",
    "train_regressors = train.drop(columns=['price'])\n",
    "regressors = train_regressors.columns.to_list()"
   ]
  },
  {
   "cell_type": "code",
   "execution_count": 32,
   "metadata": {},
   "outputs": [
    {
     "data": {
      "text/plain": [
       "((120, 68), (322, 68))"
      ]
     },
     "execution_count": 32,
     "metadata": {},
     "output_type": "execute_result"
    }
   ],
   "source": [
    "test.shape, train.shape"
   ]
  },
  {
   "cell_type": "code",
   "execution_count": 15,
   "metadata": {
    "collapsed": false
   },
   "outputs": [
    {
     "name": "stdout",
     "output_type": "stream",
     "text": [
      "Номер интерации: 1\n",
      "Регрессор с максимальным p-value: street_Русская P-value: 0.9635544941820553\n",
      "-------------------------------------------------------------\n",
      "Номер интерации: 2\n",
      "Регрессор с максимальным p-value: street_Добровольческая P-value: 0.9499432616491726\n",
      "-------------------------------------------------------------\n",
      "Номер интерации: 3\n",
      "Регрессор с максимальным p-value: street_Рыбацкая P-value: 0.9490889663398233\n",
      "-------------------------------------------------------------\n",
      "Номер интерации: 4\n",
      "Регрессор с максимальным p-value: floor P-value: 0.899596576200161\n",
      "-------------------------------------------------------------\n",
      "Номер интерации: 5\n",
      "Регрессор с максимальным p-value: street_Энгельса P-value: 0.8819350759728335\n",
      "-------------------------------------------------------------\n",
      "Номер интерации: 6\n",
      "Регрессор с максимальным p-value: street_Гидромонтажная P-value: 0.8709766075020272\n",
      "-------------------------------------------------------------\n",
      "Номер интерации: 7\n",
      "Регрессор с максимальным p-value: street_Садовый P-value: 0.8817781610357868\n",
      "-------------------------------------------------------------\n",
      "Номер интерации: 8\n",
      "Регрессор с максимальным p-value: street_Часовая P-value: 0.8826681763361768\n",
      "-------------------------------------------------------------\n",
      "Номер интерации: 9\n",
      "Регрессор с максимальным p-value: street_Боровая_Партия P-value: 0.8929338401027971\n",
      "-------------------------------------------------------------\n",
      "Номер интерации: 10\n",
      "Регрессор с максимальным p-value: street_Вахтангова P-value: 0.8170526203978901\n",
      "-------------------------------------------------------------\n",
      "Номер интерации: 11\n",
      "Регрессор с максимальным p-value: sp_living P-value: 0.8085805385208197\n",
      "-------------------------------------------------------------\n",
      "Номер интерации: 12\n",
      "Регрессор с максимальным p-value: street_Софийская P-value: 0.7343412026146553\n",
      "-------------------------------------------------------------\n",
      "Номер интерации: 13\n",
      "Регрессор с максимальным p-value: street_Новоморская P-value: 0.6976745409416132\n",
      "-------------------------------------------------------------\n",
      "Номер интерации: 14\n",
      "Регрессор с максимальным p-value: street_Садовый_проезд P-value: 0.6691698471422873\n",
      "-------------------------------------------------------------\n",
      "Номер интерации: 15\n",
      "Регрессор с максимальным p-value: street_Ветлужская P-value: 0.6858302569360103\n",
      "-------------------------------------------------------------\n",
      "Номер интерации: 16\n",
      "Регрессор с максимальным p-value: street_Динамовцев P-value: 0.6464597838795346\n",
      "-------------------------------------------------------------\n",
      "Номер интерации: 17\n",
      "Регрессор с максимальным p-value: street_Вяземская P-value: 0.602378383571673\n",
      "-------------------------------------------------------------\n",
      "Номер интерации: 18\n",
      "Регрессор с максимальным p-value: street_Одоевского P-value: 0.7253294736465264\n",
      "-------------------------------------------------------------\n",
      "Номер интерации: 19\n",
      "Регрессор с максимальным p-value: street_Благовещенская P-value: 0.5718085071299623\n",
      "-------------------------------------------------------------\n",
      "Номер интерации: 20\n",
      "Регрессор с максимальным p-value: street_Шлюзовая P-value: 0.4630454510456158\n",
      "-------------------------------------------------------------\n",
      "Номер интерации: 21\n",
      "Регрессор с максимальным p-value: street_Миргородская_2-я P-value: 0.44190423591289196\n",
      "-------------------------------------------------------------\n",
      "Номер интерации: 22\n",
      "Регрессор с максимальным p-value: sp_kitchen P-value: 0.38889049561978506\n",
      "-------------------------------------------------------------\n",
      "Номер интерации: 23\n",
      "Регрессор с максимальным p-value: street_Николаева P-value: 0.5289670201762589\n",
      "-------------------------------------------------------------\n",
      "Номер интерации: 24\n",
      "Регрессор с максимальным p-value: street_Тружеников P-value: 0.944474970722885\n",
      "-------------------------------------------------------------\n",
      "Номер интерации: 25\n",
      "Регрессор с максимальным p-value: street_Варшавская P-value: 0.3403891653715956\n",
      "-------------------------------------------------------------\n",
      "Номер интерации: 26\n",
      "Регрессор с максимальным p-value: street_Смоленская P-value: 0.313557527252991\n",
      "-------------------------------------------------------------\n",
      "Номер интерации: 27\n",
      "Регрессор с максимальным p-value: street_Экваторная P-value: 0.2691645916682452\n",
      "-------------------------------------------------------------\n",
      "Номер интерации: 28\n",
      "Регрессор с максимальным p-value: street_Печатников P-value: 0.3067027806660425\n",
      "-------------------------------------------------------------\n",
      "Номер интерации: 29\n",
      "Регрессор с максимальным p-value: street_Солнечногорская P-value: 0.2521884392575613\n",
      "-------------------------------------------------------------\n",
      "Номер интерации: 30\n",
      "Регрессор с максимальным p-value: street_Мусы_Джалиля P-value: 0.18522564861917262\n",
      "-------------------------------------------------------------\n",
      "Номер интерации: 31\n",
      "Регрессор с максимальным p-value: street_Арбузова P-value: 0.17695763710408563\n",
      "-------------------------------------------------------------\n",
      "Номер интерации: 32\n",
      "Регрессор с максимальным p-value: street_Рубиновая P-value: 0.16310188756219474\n",
      "-------------------------------------------------------------\n",
      "Номер интерации: 33\n",
      "Регрессор с максимальным p-value: street_Шатурская P-value: 0.08047056301672707\n",
      "-------------------------------------------------------------\n",
      "Номер интерации: 34\n",
      "Регрессор с максимальным p-value: side P-value: 0.08096717663778222\n",
      "-------------------------------------------------------------\n",
      "Номер интерации: 35\n",
      "Регрессор с максимальным p-value: street_Барьерная P-value: 0.03765810848030866\n",
      "-------------------------------------------------------------\n",
      "Итоговая модель: \n",
      "                        Results: Ordinary least squares\n",
      "================================================================================\n",
      "Model:                   OLS                  Adj. R-squared:         0.814     \n",
      "Dependent Variable:      price                AIC:                    5284.3800 \n",
      "Date:                    2023-12-31 17:21     BIC:                    5412.7148 \n",
      "No. Observations:        322                  Log-Likelihood:         -2608.2   \n",
      "Df Model:                33                   F-statistic:            43.60     \n",
      "Df Residuals:            288                  Prob (F-statistic):     7.61e-93  \n",
      "R-squared:               0.833                Scale:                  7.1045e+05\n",
      "--------------------------------------------------------------------------------\n",
      "                          Coef.    Std.Err.    t    P>|t|    [0.025     0.975]  \n",
      "--------------------------------------------------------------------------------\n",
      "const                   -1657.9518 204.3435 -8.1136 0.0000 -2060.1478 -1255.7557\n",
      "sp_total                   90.8498   4.8969 18.5524 0.0000    81.2115   100.4881\n",
      "height                     77.9262  13.6433  5.7117 0.0000    51.0729   104.7795\n",
      "street_Академическая     1865.2091 285.0210  6.5441 0.0000  1304.2207  2426.1974\n",
      "street_Балтийская        -531.0582 246.7195 -2.1525 0.0322 -1016.6602   -45.4562\n",
      "street_Барьерная         -683.9166 327.5149 -2.0882 0.0377 -1328.5430   -39.2902\n",
      "street_Весенний_проезд   1970.1466 851.2598  2.3144 0.0213   294.6672  3645.6261\n",
      "street_Героев_Труда       688.9517 299.1556  2.3030 0.0220   100.1431  1277.7603\n",
      "street_Демакова           617.5159 270.2673  2.2848 0.0230    85.5664  1149.4655\n",
      "street_Детский_проезд    1852.0419 851.2971  2.1756 0.0304   176.4890  3527.5948\n",
      "street_Жемчужная         2075.6728 852.8798  2.4337 0.0156   397.0047  3754.3409\n",
      "street_Зеленая_Горка    -1293.4902 618.8761 -2.0901 0.0375 -2511.5839   -75.3965\n",
      "street_Золотодолинская   3550.0807 434.2993  8.1743 0.0000  2695.2775  4404.8839\n",
      "street_Иванова            568.9480 192.8374  2.9504 0.0034   189.3986   948.4975\n",
      "street_Ивлева           -1824.3655 854.6139 -2.1347 0.0336 -3506.4466  -142.2845\n",
      "street_Ильича            2296.9628 502.3955  4.5720 0.0000  1308.1304  3285.7952\n",
      "street_Лесосечная        -594.3755 196.0518 -3.0317 0.0027  -980.2516  -208.4995\n",
      "street_Молодежи_бульвар   977.2779 237.5371  4.1142 0.0001   509.7490  1444.8069\n",
      "street_Молодости        -1213.4267 356.1430 -3.4071 0.0008 -1914.3999  -512.4535\n",
      "street_Морской_проспект  3604.8347 275.7440 13.0731 0.0000  3062.1057  4147.5638\n",
      "street_Пирогова          3276.8198 859.1262  3.8141 0.0002  1585.8574  4967.7822\n",
      "street_Полевая            680.8067 268.9709  2.5312 0.0119   151.4088  1210.2046\n",
      "street_Правды            4676.5857 854.2491  5.4745 0.0000  2995.2225  6357.9489\n",
      "street_Приморская        -891.1711 246.3032 -3.6182 0.0004 -1375.9537  -406.3886\n",
      "street_Разъездная        1718.1773 503.8842  3.4099 0.0007   726.4146  2709.9400\n",
      "street_Российская        1721.8372 247.2969  6.9626 0.0000  1235.0987  2208.5757\n",
      "street_Сердюкова        -1882.5091 879.7250 -2.1399 0.0332 -3614.0148  -151.0035\n",
      "street_Сиреневая         1198.8430 441.0968  2.7179 0.0070   330.6608  2067.0252\n",
      "street_Терешковой        2183.2491 298.5769  7.3122 0.0000  1595.5795  2770.9188\n",
      "street_Учёных            2329.3341 607.6170  3.8336 0.0002  1133.4008  3525.2673\n",
      "street_Цветной_проезд    2111.5542 498.2928  4.2376 0.0000  1130.7967  3092.3116\n",
      "rooms_2                  -580.5114 154.0079 -3.7694 0.0002  -883.6352  -277.3876\n",
      "rooms_3                 -1053.2249 211.0534 -4.9903 0.0000 -1468.6277  -637.8221\n",
      "rooms_4                 -1242.7876 332.1788 -3.7413 0.0002 -1896.5935  -588.9817\n",
      "--------------------------------------------------------------------------------\n",
      "Omnibus:                  150.284           Durbin-Watson:              1.990   \n",
      "Prob(Omnibus):            0.000             Jarque-Bera (JB):           1672.136\n",
      "Skew:                     1.619             Prob(JB):                   0.000   \n",
      "Kurtosis:                 13.684            Condition No.:              1096    \n",
      "================================================================================\n",
      "Notes:\n",
      "[1] Standard Errors assume that the covariance matrix of the errors is correctly\n",
      "specified.\n",
      "[2] The condition number is large, 1.1e+03. This might indicate\n",
      "that there are strong multicollinearity or other numerical\n",
      "problems.\n"
     ]
    }
   ],
   "source": [
    "maxpvalue = 1\n",
    "n = 1\n",
    "\n",
    "while maxpvalue > 0.05:\n",
    "    x = train[regressors]\n",
    "    y = train['price']\n",
    "    x1 = sm.add_constant(x)\n",
    "    model = sm.OLS(y, x1.astype(float)).fit()\n",
    "    pv = model.pvalues.to_list()\n",
    "    maxpv = max(pv[1:])\n",
    "    max_index = pv.index(maxpv)\n",
    "    print('Номер интерации: '+ str(n))\n",
    "    print('Регрессор с максимальным p-value: '+ str(regressors[max_index-1]) + ' P-value: '+ str(maxpv))\n",
    "    print('-------------------------------------------------------------')\n",
    "\n",
    "    if maxpv > 0.05:\n",
    "        regressors.pop(max_index - 1)\n",
    "        maxpvalue = maxpv\n",
    "        n += 1\n",
    "    else:\n",
    "        maxpvalue = 0\n",
    "\n",
    "print('Итоговая модель: ')\n",
    "y = train['price']\n",
    "x = train[regressors]\n",
    "x1 = sm.add_constant(x)\n",
    "model = sm.OLS(y, x1.astype(float)).fit()\n",
    "print(model.summary2())"
   ]
  },
  {
   "cell_type": "code",
   "execution_count": 16,
   "metadata": {
    "collapsed": false
   },
   "outputs": [
    {
     "name": "stdout",
     "output_type": "stream",
     "text": [
      "214    3301.489521\n",
      "284    3646.558099\n",
      "198    2070.077151\n",
      "206    3491.279693\n",
      "366    2148.559512\n",
      "          ...     \n",
      "65     2041.970743\n",
      "367    2148.559512\n",
      "466    3426.156046\n",
      "256    3910.913294\n",
      "86     4723.970668\n",
      "Length: 120, dtype: float64\n"
     ]
    }
   ],
   "source": [
    "test_1 = test_regressors[model.params.index.to_list()[1:]]\n",
    "test_1 = sm.add_constant(test_1)\n",
    "pred = model.predict(test_1)\n",
    "print(pred)"
   ]
  },
  {
   "cell_type": "code",
   "execution_count": 17,
   "metadata": {},
   "outputs": [
    {
     "data": {
      "text/plain": [
       "const                     -1657.951777\n",
       "sp_total                     90.849815\n",
       "height                       77.926170\n",
       "street_Академическая       1865.209077\n",
       "street_Балтийская          -531.058199\n",
       "street_Барьерная           -683.916572\n",
       "street_Весенний_проезд     1970.146639\n",
       "street_Героев_Труда         688.951732\n",
       "street_Демакова             617.515942\n",
       "street_Детский_проезд      1852.041880\n",
       "street_Жемчужная           2075.672824\n",
       "street_Зеленая_Горка      -1293.490199\n",
       "street_Золотодолинская     3550.080689\n",
       "street_Иванова              568.948030\n",
       "street_Ивлева             -1824.365548\n",
       "street_Ильича              2296.962806\n",
       "street_Лесосечная          -594.375539\n",
       "street_Молодежи_бульвар     977.277910\n",
       "street_Молодости          -1213.426723\n",
       "street_Морской_проспект    3604.834723\n",
       "street_Пирогова            3276.819811\n",
       "street_Полевая              680.806720\n",
       "street_Правды              4676.585679\n",
       "street_Приморская          -891.171148\n",
       "street_Разъездная          1718.177303\n",
       "street_Российская          1721.837196\n",
       "street_Сердюкова          -1882.509122\n",
       "street_Сиреневая           1198.843037\n",
       "street_Терешковой          2183.249150\n",
       "street_Учёных              2329.334056\n",
       "street_Цветной_проезд      2111.554154\n",
       "rooms_2                    -580.511402\n",
       "rooms_3                   -1053.224860\n",
       "rooms_4                   -1242.787608\n",
       "dtype: float64"
      ]
     },
     "execution_count": 17,
     "metadata": {},
     "output_type": "execute_result"
    }
   ],
   "source": [
    "model.params"
   ]
  },
  {
   "cell_type": "code",
   "execution_count": 18,
   "metadata": {
    "collapsed": false
   },
   "outputs": [
    {
     "name": "stdout",
     "output_type": "stream",
     "text": [
      "     real    predicted\n",
      "214  3412  3301.489521\n",
      "284  3260  3646.558099\n",
      "198  2345  2070.077151\n",
      "206  3400  3491.279693\n",
      "366  2100  2148.559512\n",
      "..    ...          ...\n",
      "65   1900  2041.970743\n",
      "367  2200  2148.559512\n",
      "466  3950  3426.156046\n",
      "256  3300  3910.913294\n",
      "86   4450  4723.970668\n",
      "\n",
      "[120 rows x 2 columns]\n"
     ]
    }
   ],
   "source": [
    "predictions_compare = pd.DataFrame({'real': test_price.to_list(),\n",
    "                                    'predicted': pred})\n",
    "print(predictions_compare)"
   ]
  },
  {
   "cell_type": "code",
   "execution_count": 19,
   "metadata": {},
   "outputs": [
    {
     "name": "stdout",
     "output_type": "stream",
     "text": [
      "MAE: 588.1361220714646\n",
      "MAPE: 0.1508444678435591\n"
     ]
    }
   ],
   "source": [
    "print('MAE:', mean_absolute_error(test_price, pred))\n",
    "print('MAPE:', mean_absolute_percentage_error(test_price, pred))"
   ]
  },
  {
   "cell_type": "code",
   "execution_count": 38,
   "metadata": {
    "collapsed": false
   },
   "outputs": [
    {
     "name": "stdout",
     "output_type": "stream",
     "text": [
      "0.9999999997059613\n",
      "0.25269314709464724\n",
      "We accept the first hypothesis.\n"
     ]
    }
   ],
   "source": [
    "#Chow\n",
    "\n",
    "df_dummy_wd = sm.add_constant(df_dummy_wd)\n",
    "\n",
    "y = df_dummy_wd.price\n",
    "X = df_dummy_wd.drop('price', axis=1)\n",
    "\n",
    "X_one = X[(X.rooms_2 == 0) & (X.rooms_3 == 0) & (X.rooms_4 == 0)].drop(['rooms_2', 'rooms_3', 'rooms_4'], axis=1)\n",
    "y_one = df_dummy_wd.price[(X.rooms_2 == 0) & (X.rooms_3 == 0) & (X.rooms_4 == 0)]\n",
    "\n",
    "X_many = X[(X.rooms_2 != 0) | (X.rooms_3 != 0) | (X.rooms_4 != 0)].drop(['rooms_2', 'rooms_3', 'rooms_4'], axis=1)\n",
    "y_many = df_dummy_wd.price[(X.rooms_2 != 0) | (X.rooms_3 != 0) | (X.rooms_4 != 0)]\n",
    "\n",
    "J = X.shape[1]\n",
    "k = X_one.shape[1]\n",
    "N1 = X_one.shape[0]\n",
    "N2 = X_many.shape[0]\n",
    "\n",
    "model_dummy = sm.OLS(y,X.astype(float)).fit()\n",
    "RSSd = model_dummy.ssr\n",
    "\n",
    "model_many = sm.OLS(y_many,X_many.astype(float)).fit()\n",
    "RSS_many = model_many.ssr\n",
    "\n",
    "model_one = sm.OLS(y_one,X_one.astype(float)).fit()\n",
    "RSS_one = model_one.ssr\n",
    "\n",
    "chow = ((RSSd - (RSS_many+RSS_one))/J)/((RSS_one+RSS_many)/(N1+N2 -2*k))\n",
    "import scipy\n",
    "pvalue = (1 - scipy.stats.f.cdf(chow,J, N1+N2 - 2*k))\n",
    "print(pvalue)\n",
    "print(chow)\n",
    "if pvalue < 0.05:\n",
    "    print('We reject the first hypothesis, coefficients are not the same.')\n",
    "else:\n",
    "    print('We accept the first hypothesis.')"
   ]
  },
  {
   "cell_type": "code",
   "execution_count": 41,
   "metadata": {
    "collapsed": false
   },
   "outputs": [
    {
     "data": {
      "application/vnd.plotly.v1+json": {
       "config": {
        "plotlyServerURL": "https://plot.ly"
       },
       "data": [
        {
         "name": "WCSS",
         "type": "scatter",
         "x": [
          1,
          2,
          3,
          4,
          5,
          6,
          7,
          8,
          9,
          10
         ],
         "y": [
          1326.0000000000002,
          840.669586744157,
          595.2293207448765,
          430.1244123326602,
          364.75413066797626,
          320.5782345425634,
          286.9286843545876,
          257.0792999951441,
          229.75534477618237,
          209.9282688615025
         ]
        }
       ],
       "layout": {
        "template": {
         "data": {
          "bar": [
           {
            "error_x": {
             "color": "#2a3f5f"
            },
            "error_y": {
             "color": "#2a3f5f"
            },
            "marker": {
             "line": {
              "color": "#E5ECF6",
              "width": 0.5
             },
             "pattern": {
              "fillmode": "overlay",
              "size": 10,
              "solidity": 0.2
             }
            },
            "type": "bar"
           }
          ],
          "barpolar": [
           {
            "marker": {
             "line": {
              "color": "#E5ECF6",
              "width": 0.5
             },
             "pattern": {
              "fillmode": "overlay",
              "size": 10,
              "solidity": 0.2
             }
            },
            "type": "barpolar"
           }
          ],
          "carpet": [
           {
            "aaxis": {
             "endlinecolor": "#2a3f5f",
             "gridcolor": "white",
             "linecolor": "white",
             "minorgridcolor": "white",
             "startlinecolor": "#2a3f5f"
            },
            "baxis": {
             "endlinecolor": "#2a3f5f",
             "gridcolor": "white",
             "linecolor": "white",
             "minorgridcolor": "white",
             "startlinecolor": "#2a3f5f"
            },
            "type": "carpet"
           }
          ],
          "choropleth": [
           {
            "colorbar": {
             "outlinewidth": 0,
             "ticks": ""
            },
            "type": "choropleth"
           }
          ],
          "contour": [
           {
            "colorbar": {
             "outlinewidth": 0,
             "ticks": ""
            },
            "colorscale": [
             [
              0,
              "#0d0887"
             ],
             [
              0.1111111111111111,
              "#46039f"
             ],
             [
              0.2222222222222222,
              "#7201a8"
             ],
             [
              0.3333333333333333,
              "#9c179e"
             ],
             [
              0.4444444444444444,
              "#bd3786"
             ],
             [
              0.5555555555555556,
              "#d8576b"
             ],
             [
              0.6666666666666666,
              "#ed7953"
             ],
             [
              0.7777777777777778,
              "#fb9f3a"
             ],
             [
              0.8888888888888888,
              "#fdca26"
             ],
             [
              1,
              "#f0f921"
             ]
            ],
            "type": "contour"
           }
          ],
          "contourcarpet": [
           {
            "colorbar": {
             "outlinewidth": 0,
             "ticks": ""
            },
            "type": "contourcarpet"
           }
          ],
          "heatmap": [
           {
            "colorbar": {
             "outlinewidth": 0,
             "ticks": ""
            },
            "colorscale": [
             [
              0,
              "#0d0887"
             ],
             [
              0.1111111111111111,
              "#46039f"
             ],
             [
              0.2222222222222222,
              "#7201a8"
             ],
             [
              0.3333333333333333,
              "#9c179e"
             ],
             [
              0.4444444444444444,
              "#bd3786"
             ],
             [
              0.5555555555555556,
              "#d8576b"
             ],
             [
              0.6666666666666666,
              "#ed7953"
             ],
             [
              0.7777777777777778,
              "#fb9f3a"
             ],
             [
              0.8888888888888888,
              "#fdca26"
             ],
             [
              1,
              "#f0f921"
             ]
            ],
            "type": "heatmap"
           }
          ],
          "heatmapgl": [
           {
            "colorbar": {
             "outlinewidth": 0,
             "ticks": ""
            },
            "colorscale": [
             [
              0,
              "#0d0887"
             ],
             [
              0.1111111111111111,
              "#46039f"
             ],
             [
              0.2222222222222222,
              "#7201a8"
             ],
             [
              0.3333333333333333,
              "#9c179e"
             ],
             [
              0.4444444444444444,
              "#bd3786"
             ],
             [
              0.5555555555555556,
              "#d8576b"
             ],
             [
              0.6666666666666666,
              "#ed7953"
             ],
             [
              0.7777777777777778,
              "#fb9f3a"
             ],
             [
              0.8888888888888888,
              "#fdca26"
             ],
             [
              1,
              "#f0f921"
             ]
            ],
            "type": "heatmapgl"
           }
          ],
          "histogram": [
           {
            "marker": {
             "pattern": {
              "fillmode": "overlay",
              "size": 10,
              "solidity": 0.2
             }
            },
            "type": "histogram"
           }
          ],
          "histogram2d": [
           {
            "colorbar": {
             "outlinewidth": 0,
             "ticks": ""
            },
            "colorscale": [
             [
              0,
              "#0d0887"
             ],
             [
              0.1111111111111111,
              "#46039f"
             ],
             [
              0.2222222222222222,
              "#7201a8"
             ],
             [
              0.3333333333333333,
              "#9c179e"
             ],
             [
              0.4444444444444444,
              "#bd3786"
             ],
             [
              0.5555555555555556,
              "#d8576b"
             ],
             [
              0.6666666666666666,
              "#ed7953"
             ],
             [
              0.7777777777777778,
              "#fb9f3a"
             ],
             [
              0.8888888888888888,
              "#fdca26"
             ],
             [
              1,
              "#f0f921"
             ]
            ],
            "type": "histogram2d"
           }
          ],
          "histogram2dcontour": [
           {
            "colorbar": {
             "outlinewidth": 0,
             "ticks": ""
            },
            "colorscale": [
             [
              0,
              "#0d0887"
             ],
             [
              0.1111111111111111,
              "#46039f"
             ],
             [
              0.2222222222222222,
              "#7201a8"
             ],
             [
              0.3333333333333333,
              "#9c179e"
             ],
             [
              0.4444444444444444,
              "#bd3786"
             ],
             [
              0.5555555555555556,
              "#d8576b"
             ],
             [
              0.6666666666666666,
              "#ed7953"
             ],
             [
              0.7777777777777778,
              "#fb9f3a"
             ],
             [
              0.8888888888888888,
              "#fdca26"
             ],
             [
              1,
              "#f0f921"
             ]
            ],
            "type": "histogram2dcontour"
           }
          ],
          "mesh3d": [
           {
            "colorbar": {
             "outlinewidth": 0,
             "ticks": ""
            },
            "type": "mesh3d"
           }
          ],
          "parcoords": [
           {
            "line": {
             "colorbar": {
              "outlinewidth": 0,
              "ticks": ""
             }
            },
            "type": "parcoords"
           }
          ],
          "pie": [
           {
            "automargin": true,
            "type": "pie"
           }
          ],
          "scatter": [
           {
            "fillpattern": {
             "fillmode": "overlay",
             "size": 10,
             "solidity": 0.2
            },
            "type": "scatter"
           }
          ],
          "scatter3d": [
           {
            "line": {
             "colorbar": {
              "outlinewidth": 0,
              "ticks": ""
             }
            },
            "marker": {
             "colorbar": {
              "outlinewidth": 0,
              "ticks": ""
             }
            },
            "type": "scatter3d"
           }
          ],
          "scattercarpet": [
           {
            "marker": {
             "colorbar": {
              "outlinewidth": 0,
              "ticks": ""
             }
            },
            "type": "scattercarpet"
           }
          ],
          "scattergeo": [
           {
            "marker": {
             "colorbar": {
              "outlinewidth": 0,
              "ticks": ""
             }
            },
            "type": "scattergeo"
           }
          ],
          "scattergl": [
           {
            "marker": {
             "colorbar": {
              "outlinewidth": 0,
              "ticks": ""
             }
            },
            "type": "scattergl"
           }
          ],
          "scattermapbox": [
           {
            "marker": {
             "colorbar": {
              "outlinewidth": 0,
              "ticks": ""
             }
            },
            "type": "scattermapbox"
           }
          ],
          "scatterpolar": [
           {
            "marker": {
             "colorbar": {
              "outlinewidth": 0,
              "ticks": ""
             }
            },
            "type": "scatterpolar"
           }
          ],
          "scatterpolargl": [
           {
            "marker": {
             "colorbar": {
              "outlinewidth": 0,
              "ticks": ""
             }
            },
            "type": "scatterpolargl"
           }
          ],
          "scatterternary": [
           {
            "marker": {
             "colorbar": {
              "outlinewidth": 0,
              "ticks": ""
             }
            },
            "type": "scatterternary"
           }
          ],
          "surface": [
           {
            "colorbar": {
             "outlinewidth": 0,
             "ticks": ""
            },
            "colorscale": [
             [
              0,
              "#0d0887"
             ],
             [
              0.1111111111111111,
              "#46039f"
             ],
             [
              0.2222222222222222,
              "#7201a8"
             ],
             [
              0.3333333333333333,
              "#9c179e"
             ],
             [
              0.4444444444444444,
              "#bd3786"
             ],
             [
              0.5555555555555556,
              "#d8576b"
             ],
             [
              0.6666666666666666,
              "#ed7953"
             ],
             [
              0.7777777777777778,
              "#fb9f3a"
             ],
             [
              0.8888888888888888,
              "#fdca26"
             ],
             [
              1,
              "#f0f921"
             ]
            ],
            "type": "surface"
           }
          ],
          "table": [
           {
            "cells": {
             "fill": {
              "color": "#EBF0F8"
             },
             "line": {
              "color": "white"
             }
            },
            "header": {
             "fill": {
              "color": "#C8D4E3"
             },
             "line": {
              "color": "white"
             }
            },
            "type": "table"
           }
          ]
         },
         "layout": {
          "annotationdefaults": {
           "arrowcolor": "#2a3f5f",
           "arrowhead": 0,
           "arrowwidth": 1
          },
          "autotypenumbers": "strict",
          "coloraxis": {
           "colorbar": {
            "outlinewidth": 0,
            "ticks": ""
           }
          },
          "colorscale": {
           "diverging": [
            [
             0,
             "#8e0152"
            ],
            [
             0.1,
             "#c51b7d"
            ],
            [
             0.2,
             "#de77ae"
            ],
            [
             0.3,
             "#f1b6da"
            ],
            [
             0.4,
             "#fde0ef"
            ],
            [
             0.5,
             "#f7f7f7"
            ],
            [
             0.6,
             "#e6f5d0"
            ],
            [
             0.7,
             "#b8e186"
            ],
            [
             0.8,
             "#7fbc41"
            ],
            [
             0.9,
             "#4d9221"
            ],
            [
             1,
             "#276419"
            ]
           ],
           "sequential": [
            [
             0,
             "#0d0887"
            ],
            [
             0.1111111111111111,
             "#46039f"
            ],
            [
             0.2222222222222222,
             "#7201a8"
            ],
            [
             0.3333333333333333,
             "#9c179e"
            ],
            [
             0.4444444444444444,
             "#bd3786"
            ],
            [
             0.5555555555555556,
             "#d8576b"
            ],
            [
             0.6666666666666666,
             "#ed7953"
            ],
            [
             0.7777777777777778,
             "#fb9f3a"
            ],
            [
             0.8888888888888888,
             "#fdca26"
            ],
            [
             1,
             "#f0f921"
            ]
           ],
           "sequentialminus": [
            [
             0,
             "#0d0887"
            ],
            [
             0.1111111111111111,
             "#46039f"
            ],
            [
             0.2222222222222222,
             "#7201a8"
            ],
            [
             0.3333333333333333,
             "#9c179e"
            ],
            [
             0.4444444444444444,
             "#bd3786"
            ],
            [
             0.5555555555555556,
             "#d8576b"
            ],
            [
             0.6666666666666666,
             "#ed7953"
            ],
            [
             0.7777777777777778,
             "#fb9f3a"
            ],
            [
             0.8888888888888888,
             "#fdca26"
            ],
            [
             1,
             "#f0f921"
            ]
           ]
          },
          "colorway": [
           "#636efa",
           "#EF553B",
           "#00cc96",
           "#ab63fa",
           "#FFA15A",
           "#19d3f3",
           "#FF6692",
           "#B6E880",
           "#FF97FF",
           "#FECB52"
          ],
          "font": {
           "color": "#2a3f5f"
          },
          "geo": {
           "bgcolor": "white",
           "lakecolor": "white",
           "landcolor": "#E5ECF6",
           "showlakes": true,
           "showland": true,
           "subunitcolor": "white"
          },
          "hoverlabel": {
           "align": "left"
          },
          "hovermode": "closest",
          "mapbox": {
           "style": "light"
          },
          "paper_bgcolor": "white",
          "plot_bgcolor": "#E5ECF6",
          "polar": {
           "angularaxis": {
            "gridcolor": "white",
            "linecolor": "white",
            "ticks": ""
           },
           "bgcolor": "#E5ECF6",
           "radialaxis": {
            "gridcolor": "white",
            "linecolor": "white",
            "ticks": ""
           }
          },
          "scene": {
           "xaxis": {
            "backgroundcolor": "#E5ECF6",
            "gridcolor": "white",
            "gridwidth": 2,
            "linecolor": "white",
            "showbackground": true,
            "ticks": "",
            "zerolinecolor": "white"
           },
           "yaxis": {
            "backgroundcolor": "#E5ECF6",
            "gridcolor": "white",
            "gridwidth": 2,
            "linecolor": "white",
            "showbackground": true,
            "ticks": "",
            "zerolinecolor": "white"
           },
           "zaxis": {
            "backgroundcolor": "#E5ECF6",
            "gridcolor": "white",
            "gridwidth": 2,
            "linecolor": "white",
            "showbackground": true,
            "ticks": "",
            "zerolinecolor": "white"
           }
          },
          "shapedefaults": {
           "line": {
            "color": "#2a3f5f"
           }
          },
          "ternary": {
           "aaxis": {
            "gridcolor": "white",
            "linecolor": "white",
            "ticks": ""
           },
           "baxis": {
            "gridcolor": "white",
            "linecolor": "white",
            "ticks": ""
           },
           "bgcolor": "#E5ECF6",
           "caxis": {
            "gridcolor": "white",
            "linecolor": "white",
            "ticks": ""
           }
          },
          "title": {
           "x": 0.05
          },
          "xaxis": {
           "automargin": true,
           "gridcolor": "white",
           "linecolor": "white",
           "ticks": "",
           "title": {
            "standoff": 15
           },
           "zerolinecolor": "white",
           "zerolinewidth": 2
          },
          "yaxis": {
           "automargin": true,
           "gridcolor": "white",
           "linecolor": "white",
           "ticks": "",
           "title": {
            "standoff": 15
           },
           "zerolinecolor": "white",
           "zerolinewidth": 2
          }
         }
        }
       }
      }
     },
     "metadata": {},
     "output_type": "display_data"
    }
   ],
   "source": [
    "#Clustering\n",
    "from sklearn.cluster import KMeans\n",
    "from sklearn.preprocessing import StandardScaler\n",
    "import plotly.graph_objects as go\n",
    "scaler = StandardScaler()\n",
    "cluster_df = df_dummy_wd[['price', 'sp_total', 'height']]\n",
    "cluster_df_scaled = scaler.fit_transform(cluster_df)\n",
    "wcss = []\n",
    "\n",
    "for i in range(1, 11):\n",
    "    kmeans = KMeans(n_clusters = i, init = 'k-means++', max_iter = 300, n_init = 10, random_state = 42)\n",
    "    kmeans.fit(cluster_df_scaled)\n",
    "    wcss.append(kmeans.inertia_)\n",
    "\n",
    "fig = go.Figure()\n",
    "fig.add_trace(go.Scatter(x=list(x for x in range(1, 11)), y=wcss, name='WCSS'))\n",
    "fig.show()\n",
    "\n",
    "kmeans = KMeans(n_clusters = 4, init = 'k-means++', max_iter = 300, n_init = 10, random_state = 42)\n",
    "predicted = kmeans.fit_predict(cluster_df_scaled)\n"
   ]
  },
  {
   "cell_type": "code",
   "execution_count": 43,
   "metadata": {
    "collapsed": false
   },
   "outputs": [
    {
     "data": {
      "text/plain": [
       "Text(0.5, 0.5, 'Цена квартиры')"
      ]
     },
     "execution_count": 43,
     "metadata": {},
     "output_type": "execute_result"
    },
    {
     "data": {
      "image/png": "[encoded data removed]",
      "text/plain": [
       "<Figure size 640x480 with 1 Axes>"
      ]
     },
     "metadata": {},
     "output_type": "display_data"
    }
   ],
   "source": [
    "kmeans = KMeans(n_clusters = 4, init = 'k-means++', max_iter = 300, n_init = 10, random_state = 42)\n",
    "predicted = kmeans.fit_predict(cluster_df_scaled)\n",
    "yaxis = kvart_new2.price.to_list()\n",
    "xaxis = kvart_new.sp_total.to_list()\n",
    "zaxis = kvart_new.height.to_list()\n",
    "\n",
    "fig = plt.figure()\n",
    "ax = plt.axes(projection='3d')\n",
    "ax.scatter(xaxis, yaxis, zaxis, c=predicted)\n",
    "\n",
    "plt.xlabel('Общая площадь')\n",
    "plt.ylabel('Цена квартиры')\n"
   ]
  },
  {
   "cell_type": "code",
   "execution_count": 44,
   "metadata": {},
   "outputs": [],
   "source": [
    "df_dummy_wd['class'] = predicted"
   ]
  },
  {
   "cell_type": "code",
   "execution_count": 45,
   "metadata": {},
   "outputs": [
    {
     "data": {
      "text/html": [
       "<div>\n",
       "<style scoped>\n",
       "    .dataframe tbody tr th:only-of-type {\n",
       "        vertical-align: middle;\n",
       "    }\n",
       "\n",
       "    .dataframe tbody tr th {\n",
       "        vertical-align: top;\n",
       "    }\n",
       "\n",
       "    .dataframe thead tr th {\n",
       "        text-align: left;\n",
       "    }\n",
       "\n",
       "    .dataframe thead tr:last-of-type th {\n",
       "        text-align: right;\n",
       "    }\n",
       "</style>\n",
       "<table border=\"1\" class=\"dataframe\">\n",
       "  <thead>\n",
       "    <tr>\n",
       "      <th></th>\n",
       "      <th colspan=\"8\" halign=\"left\">price</th>\n",
       "      <th colspan=\"8\" halign=\"left\">sp_total</th>\n",
       "    </tr>\n",
       "    <tr>\n",
       "      <th></th>\n",
       "      <th>count</th>\n",
       "      <th>mean</th>\n",
       "      <th>std</th>\n",
       "      <th>min</th>\n",
       "      <th>25%</th>\n",
       "      <th>50%</th>\n",
       "      <th>75%</th>\n",
       "      <th>max</th>\n",
       "      <th>count</th>\n",
       "      <th>mean</th>\n",
       "      <th>std</th>\n",
       "      <th>min</th>\n",
       "      <th>25%</th>\n",
       "      <th>50%</th>\n",
       "      <th>75%</th>\n",
       "      <th>max</th>\n",
       "    </tr>\n",
       "    <tr>\n",
       "      <th>class</th>\n",
       "      <th></th>\n",
       "      <th></th>\n",
       "      <th></th>\n",
       "      <th></th>\n",
       "      <th></th>\n",
       "      <th></th>\n",
       "      <th></th>\n",
       "      <th></th>\n",
       "      <th></th>\n",
       "      <th></th>\n",
       "      <th></th>\n",
       "      <th></th>\n",
       "      <th></th>\n",
       "      <th></th>\n",
       "      <th></th>\n",
       "      <th></th>\n",
       "    </tr>\n",
       "  </thead>\n",
       "  <tbody>\n",
       "    <tr>\n",
       "      <th>0</th>\n",
       "      <td>50.0</td>\n",
       "      <td>3270.720000</td>\n",
       "      <td>1032.265174</td>\n",
       "      <td>1480.0</td>\n",
       "      <td>2812.50</td>\n",
       "      <td>3353.0</td>\n",
       "      <td>3572.5</td>\n",
       "      <td>6250.0</td>\n",
       "      <td>50.0</td>\n",
       "      <td>-0.137119</td>\n",
       "      <td>0.159646</td>\n",
       "      <td>-0.384038</td>\n",
       "      <td>-0.228854</td>\n",
       "      <td>-0.181446</td>\n",
       "      <td>-0.056958</td>\n",
       "      <td>0.300819</td>\n",
       "    </tr>\n",
       "    <tr>\n",
       "      <th>1</th>\n",
       "      <td>40.0</td>\n",
       "      <td>8588.700000</td>\n",
       "      <td>1732.342377</td>\n",
       "      <td>5900.0</td>\n",
       "      <td>7396.75</td>\n",
       "      <td>8550.0</td>\n",
       "      <td>9550.0</td>\n",
       "      <td>12900.0</td>\n",
       "      <td>40.0</td>\n",
       "      <td>0.444679</td>\n",
       "      <td>0.218498</td>\n",
       "      <td>0.010232</td>\n",
       "      <td>0.289222</td>\n",
       "      <td>0.385402</td>\n",
       "      <td>0.611869</td>\n",
       "      <td>0.887449</td>\n",
       "    </tr>\n",
       "    <tr>\n",
       "      <th>2</th>\n",
       "      <td>156.0</td>\n",
       "      <td>4289.185897</td>\n",
       "      <td>1065.290642</td>\n",
       "      <td>1600.0</td>\n",
       "      <td>3400.00</td>\n",
       "      <td>4199.5</td>\n",
       "      <td>5000.0</td>\n",
       "      <td>7190.0</td>\n",
       "      <td>156.0</td>\n",
       "      <td>0.155161</td>\n",
       "      <td>0.118192</td>\n",
       "      <td>-0.052524</td>\n",
       "      <td>0.074011</td>\n",
       "      <td>0.133015</td>\n",
       "      <td>0.233799</td>\n",
       "      <td>0.652797</td>\n",
       "    </tr>\n",
       "    <tr>\n",
       "      <th>3</th>\n",
       "      <td>196.0</td>\n",
       "      <td>2629.137755</td>\n",
       "      <td>745.402405</td>\n",
       "      <td>1050.0</td>\n",
       "      <td>2150.00</td>\n",
       "      <td>2525.0</td>\n",
       "      <td>3000.0</td>\n",
       "      <td>5000.0</td>\n",
       "      <td>196.0</td>\n",
       "      <td>-0.165326</td>\n",
       "      <td>0.120710</td>\n",
       "      <td>-0.480900</td>\n",
       "      <td>-0.268076</td>\n",
       "      <td>-0.154843</td>\n",
       "      <td>-0.112551</td>\n",
       "      <td>0.160300</td>\n",
       "    </tr>\n",
       "  </tbody>\n",
       "</table>\n",
       "</div>"
      ],
      "text/plain": [
       "       price                                                             \\\n",
       "       count         mean          std     min      25%     50%     75%   \n",
       "class                                                                     \n",
       "0       50.0  3270.720000  1032.265174  1480.0  2812.50  3353.0  3572.5   \n",
       "1       40.0  8588.700000  1732.342377  5900.0  7396.75  8550.0  9550.0   \n",
       "2      156.0  4289.185897  1065.290642  1600.0  3400.00  4199.5  5000.0   \n",
       "3      196.0  2629.137755   745.402405  1050.0  2150.00  2525.0  3000.0   \n",
       "\n",
       "               sp_total                                                    \\\n",
       "           max    count      mean       std       min       25%       50%   \n",
       "class                                                                       \n",
       "0       6250.0     50.0 -0.137119  0.159646 -0.384038 -0.228854 -0.181446   \n",
       "1      12900.0     40.0  0.444679  0.218498  0.010232  0.289222  0.385402   \n",
       "2       7190.0    156.0  0.155161  0.118192 -0.052524  0.074011  0.133015   \n",
       "3       5000.0    196.0 -0.165326  0.120710 -0.480900 -0.268076 -0.154843   \n",
       "\n",
       "                           \n",
       "            75%       max  \n",
       "class                      \n",
       "0     -0.056958  0.300819  \n",
       "1      0.611869  0.887449  \n",
       "2      0.233799  0.652797  \n",
       "3     -0.112551  0.160300  "
      ]
     },
     "execution_count": 45,
     "metadata": {},
     "output_type": "execute_result"
    }
   ],
   "source": [
    "df_dummy_wd.groupby('class').describe()[['price', 'sp_total']]"
   ]
  },
  {
   "cell_type": "code",
   "execution_count": 37,
   "metadata": {
    "collapsed": false
   },
   "outputs": [],
   "source": [
    "# Random forest\n",
    "from sklearn.model_selection import RandomizedSearchCV\n",
    "from sklearn.ensemble import RandomForestRegressor\n"
   ]
  },
  {
   "cell_type": "code",
   "execution_count": null,
   "metadata": {},
   "outputs": [],
   "source": [
    "\n",
    "train, test = train_test_split(df_dummy_wd, test_size=0.2)\n",
    "df_train, price_train = train.drop('price', axis=1), train['price']\n",
    "df_test, price_test = test.drop('price', axis=1), test['price']\n",
    "\n",
    "param_grid = {\n",
    "    'n_estimators': np.linspace(100, 1200, num=12).astype(int),\n",
    "    'max_depth': [None] + list(np.linspace(5, 50).astype(int)),\n",
    "    'max_features': ['auto', 'sqrt', None],\n",
    "    'max_leaf_nodes': list(np.linspace(10, 50, 500).astype(int)),\n",
    "    'min_samples_split': [2, 5, 10, 15],\n",
    "    'min_samples_leaf': [1, 2, 5, 10],\n",
    "    'bootstrap': [True, False]\n",
    "}\n",
    "estimator = RandomForestRegressor(random_state=50, oob_score=True)\n",
    "rs = RandomizedSearchCV(estimator, param_grid, n_jobs = -1, scoring='neg_mean_squared_error', n_iter=200,\n",
    "                        cv = 4,\n",
    "                        verbose = 2)\n",
    "rs.fit(df_train, price_train)"
   ]
  },
  {
   "cell_type": "code",
   "execution_count": 58,
   "metadata": {},
   "outputs": [
    {
     "data": {
      "text/plain": [
       "{'n_estimators': 700,\n",
       " 'min_samples_split': 5,\n",
       " 'min_samples_leaf': 1,\n",
       " 'max_leaf_nodes': 47,\n",
       " 'max_features': None,\n",
       " 'max_depth': 44,\n",
       " 'bootstrap': True}"
      ]
     },
     "execution_count": 58,
     "metadata": {},
     "output_type": "execute_result"
    }
   ],
   "source": [
    "rs.best_params_"
   ]
  },
  {
   "cell_type": "code",
   "execution_count": 59,
   "metadata": {},
   "outputs": [],
   "source": [
    "best_model = rs.best_estimator_\n",
    "train_predict = best_model.predict(df_train)\n",
    "\n",
    "test_predictions = best_model.predict(df_test)"
   ]
  },
  {
   "cell_type": "code",
   "execution_count": 64,
   "metadata": {},
   "outputs": [
    {
     "name": "stdout",
     "output_type": "stream",
     "text": [
      "train MAPE: 0.09716758913346059\n",
      "test MAPE: 0.11749502550125421\n",
      "test MAE: 452.21368712431104\n"
     ]
    }
   ],
   "source": [
    "print('train MAPE:', mean_absolute_percentage_error(train_predict, price_train))\n",
    "print('test MAPE:', mean_absolute_percentage_error(price_test, test_predictions))\n",
    "print('test MAE:', mean_absolute_error(price_test, test_predictions))\n",
    "compare = pd.DataFrame({'real price': price_test, 'predicted price': test_predictions})\n"
   ]
  },
  {
   "cell_type": "code",
   "execution_count": 32,
   "metadata": {},
   "outputs": [],
   "source": [
    "# Catboost\n",
    "\n",
    "from catboost import CatBoostRegressor, Pool\n",
    "\n",
    "\n",
    "cat_features = ['street']\n",
    "numeric_features = kvart_new.drop(columns=cat_features).columns.tolist()\n",
    "\n",
    "numeric_features.remove('side')\n",
    "numeric_features.remove('h_number')\n",
    "numeric_features.remove('price')\n",
    "\n",
    "X = kvart_new[np.concatenate((cat_features, numeric_features), axis=0)]\n",
    "y = kvart_new['price']\n",
    "\n",
    "X_train, X_test, y_train, y_test = train_test_split(X, y, test_size=0.2)\n"
   ]
  },
  {
   "cell_type": "code",
   "execution_count": 52,
   "metadata": {},
   "outputs": [
    {
     "name": "stderr",
     "output_type": "stream",
     "text": [
      "c:\\Users\\eliza\\AppData\\Local\\Programs\\Python\\Python311\\Lib\\site-packages\\sklearn\\model_selection\\_search.py:307: UserWarning: The total space of parameters 90 is smaller than n_iter=200. Running 90 iterations. For exhaustive searches, use GridSearchCV.\n",
      "  warnings.warn(\n"
     ]
    },
    {
     "name": "stdout",
     "output_type": "stream",
     "text": [
      "Fitting 3 folds for each of 90 candidates, totalling 270 fits\n",
      "0:\tlearn: 1874.9785123\ttotal: 15.3ms\tremaining: 6.12s\n",
      "1:\tlearn: 1839.4503989\ttotal: 33.8ms\tremaining: 6.73s\n",
      "2:\tlearn: 1805.9625404\ttotal: 51.1ms\tremaining: 6.76s\n",
      "3:\tlearn: 1778.4500395\ttotal: 70.8ms\tremaining: 7.01s\n",
      "4:\tlearn: 1747.8436680\ttotal: 91.1ms\tremaining: 7.19s\n",
      "5:\tlearn: 1722.9157946\ttotal: 103ms\tremaining: 6.77s\n",
      "6:\tlearn: 1687.6470437\ttotal: 121ms\tremaining: 6.8s\n",
      "7:\tlearn: 1663.3856479\ttotal: 138ms\tremaining: 6.79s\n",
      "8:\tlearn: 1635.8650971\ttotal: 155ms\tremaining: 6.71s\n",
      "9:\tlearn: 1614.6443780\ttotal: 170ms\tremaining: 6.64s\n",
      "10:\tlearn: 1589.3740065\ttotal: 186ms\tremaining: 6.58s\n",
      "11:\tlearn: 1567.6915120\ttotal: 202ms\tremaining: 6.52s\n",
      "12:\tlearn: 1544.7103349\ttotal: 218ms\tremaining: 6.49s\n",
      "13:\tlearn: 1518.1368795\ttotal: 235ms\tremaining: 6.49s\n",
      "14:\tlearn: 1501.6275559\ttotal: 252ms\tremaining: 6.48s\n",
      "15:\tlearn: 1486.3544363\ttotal: 270ms\tremaining: 6.47s\n",
      "16:\tlearn: 1469.3230733\ttotal: 287ms\tremaining: 6.46s\n",
      "17:\tlearn: 1448.6539956\ttotal: 305ms\tremaining: 6.47s\n",
      "18:\tlearn: 1428.3776940\ttotal: 322ms\tremaining: 6.46s\n",
      "19:\tlearn: 1412.7174281\ttotal: 339ms\tremaining: 6.45s\n",
      "20:\tlearn: 1398.2776726\ttotal: 356ms\tremaining: 6.42s\n",
      "21:\tlearn: 1381.4462374\ttotal: 372ms\tremaining: 6.39s\n",
      "22:\tlearn: 1369.3283074\ttotal: 387ms\tremaining: 6.35s\n",
      "23:\tlearn: 1359.7048292\ttotal: 405ms\tremaining: 6.35s\n",
      "24:\tlearn: 1348.5798655\ttotal: 421ms\tremaining: 6.32s\n",
      "25:\tlearn: 1337.5822060\ttotal: 439ms\tremaining: 6.31s\n",
      "26:\tlearn: 1325.6199363\ttotal: 456ms\tremaining: 6.3s\n",
      "27:\tlearn: 1314.1670046\ttotal: 475ms\tremaining: 6.32s\n",
      "28:\tlearn: 1303.2950806\ttotal: 492ms\tremaining: 6.29s\n",
      "29:\tlearn: 1293.7736983\ttotal: 509ms\tremaining: 6.27s\n",
      "30:\tlearn: 1283.9929795\ttotal: 525ms\tremaining: 6.25s\n",
      "31:\tlearn: 1275.9909745\ttotal: 542ms\tremaining: 6.24s\n",
      "32:\tlearn: 1269.1804916\ttotal: 558ms\tremaining: 6.21s\n",
      "33:\tlearn: 1259.3675647\ttotal: 575ms\tremaining: 6.19s\n",
      "34:\tlearn: 1249.5907418\ttotal: 591ms\tremaining: 6.16s\n",
      "35:\tlearn: 1244.2505170\ttotal: 607ms\tremaining: 6.13s\n",
      "36:\tlearn: 1237.1627855\ttotal: 623ms\tremaining: 6.11s\n",
      "37:\tlearn: 1229.9792378\ttotal: 639ms\tremaining: 6.09s\n",
      "38:\tlearn: 1224.5838296\ttotal: 656ms\tremaining: 6.08s\n",
      "39:\tlearn: 1216.2078558\ttotal: 674ms\tremaining: 6.07s\n",
      "40:\tlearn: 1210.9597104\ttotal: 692ms\tremaining: 6.06s\n",
      "41:\tlearn: 1205.7651963\ttotal: 708ms\tremaining: 6.04s\n",
      "42:\tlearn: 1198.8919665\ttotal: 724ms\tremaining: 6.01s\n",
      "43:\tlearn: 1194.6722659\ttotal: 740ms\tremaining: 5.99s\n",
      "44:\tlearn: 1189.4324737\ttotal: 758ms\tremaining: 5.97s\n",
      "45:\tlearn: 1182.3168657\ttotal: 774ms\tremaining: 5.96s\n",
      "46:\tlearn: 1177.6145028\ttotal: 790ms\tremaining: 5.93s\n",
      "47:\tlearn: 1172.7889835\ttotal: 807ms\tremaining: 5.92s\n",
      "48:\tlearn: 1168.2008175\ttotal: 823ms\tremaining: 5.9s\n",
      "49:\tlearn: 1162.3017126\ttotal: 840ms\tremaining: 5.88s\n",
      "50:\tlearn: 1155.2217520\ttotal: 856ms\tremaining: 5.86s\n",
      "51:\tlearn: 1152.2149162\ttotal: 873ms\tremaining: 5.84s\n",
      "52:\tlearn: 1146.5989543\ttotal: 892ms\tremaining: 5.84s\n",
      "53:\tlearn: 1143.9753522\ttotal: 911ms\tremaining: 5.84s\n",
      "54:\tlearn: 1141.8555836\ttotal: 927ms\tremaining: 5.82s\n",
      "55:\tlearn: 1138.3471699\ttotal: 944ms\tremaining: 5.8s\n",
      "56:\tlearn: 1135.0125538\ttotal: 960ms\tremaining: 5.78s\n",
      "57:\tlearn: 1131.8257735\ttotal: 978ms\tremaining: 5.77s\n",
      "58:\tlearn: 1127.1588755\ttotal: 994ms\tremaining: 5.75s\n",
      "59:\tlearn: 1121.2560451\ttotal: 1.01s\tremaining: 5.72s\n",
      "60:\tlearn: 1113.1324949\ttotal: 1.03s\tremaining: 5.71s\n",
      "61:\tlearn: 1109.6210606\ttotal: 1.04s\tremaining: 5.68s\n",
      "62:\tlearn: 1107.0335943\ttotal: 1.06s\tremaining: 5.67s\n",
      "63:\tlearn: 1103.5818092\ttotal: 1.07s\tremaining: 5.64s\n",
      "64:\tlearn: 1102.1715485\ttotal: 1.09s\tremaining: 5.63s\n",
      "65:\tlearn: 1100.1606334\ttotal: 1.11s\tremaining: 5.63s\n",
      "66:\tlearn: 1097.3898212\ttotal: 1.13s\tremaining: 5.62s\n",
      "67:\tlearn: 1093.0089255\ttotal: 1.15s\tremaining: 5.6s\n",
      "68:\tlearn: 1090.7232794\ttotal: 1.16s\tremaining: 5.58s\n",
      "69:\tlearn: 1088.8578541\ttotal: 1.18s\tremaining: 5.56s\n",
      "70:\tlearn: 1085.8940962\ttotal: 1.2s\tremaining: 5.55s\n",
      "71:\tlearn: 1083.4542531\ttotal: 1.22s\tremaining: 5.54s\n",
      "72:\tlearn: 1080.9949359\ttotal: 1.23s\tremaining: 5.52s\n",
      "73:\tlearn: 1079.2164966\ttotal: 1.25s\tremaining: 5.53s\n",
      "74:\tlearn: 1077.1848419\ttotal: 1.29s\tremaining: 5.59s\n",
      "75:\tlearn: 1074.4797441\ttotal: 1.31s\tremaining: 5.59s\n",
      "76:\tlearn: 1073.4775375\ttotal: 1.33s\tremaining: 5.58s\n",
      "77:\tlearn: 1071.9470272\ttotal: 1.35s\tremaining: 5.56s\n",
      "78:\tlearn: 1067.1826030\ttotal: 1.36s\tremaining: 5.54s\n",
      "79:\tlearn: 1062.4725142\ttotal: 1.38s\tremaining: 5.51s\n",
      "80:\tlearn: 1061.0139439\ttotal: 1.39s\tremaining: 5.49s\n",
      "81:\tlearn: 1059.0813462\ttotal: 1.41s\tremaining: 5.47s\n",
      "82:\tlearn: 1056.0803725\ttotal: 1.43s\tremaining: 5.46s\n",
      "83:\tlearn: 1053.1311646\ttotal: 1.44s\tremaining: 5.43s\n",
      "84:\tlearn: 1052.2796732\ttotal: 1.46s\tremaining: 5.41s\n",
      "85:\tlearn: 1050.0915595\ttotal: 1.48s\tremaining: 5.39s\n",
      "86:\tlearn: 1047.4617054\ttotal: 1.49s\tremaining: 5.37s\n",
      "87:\tlearn: 1043.7229802\ttotal: 1.51s\tremaining: 5.35s\n",
      "88:\tlearn: 1040.3842291\ttotal: 1.53s\tremaining: 5.34s\n",
      "89:\tlearn: 1038.7529430\ttotal: 1.55s\tremaining: 5.33s\n",
      "90:\tlearn: 1037.5525583\ttotal: 1.56s\tremaining: 5.31s\n",
      "91:\tlearn: 1034.8600179\ttotal: 1.58s\tremaining: 5.29s\n",
      "92:\tlearn: 1030.8223656\ttotal: 1.6s\tremaining: 5.28s\n",
      "93:\tlearn: 1026.6273374\ttotal: 1.61s\tremaining: 5.26s\n",
      "94:\tlearn: 1022.8104125\ttotal: 1.63s\tremaining: 5.24s\n",
      "95:\tlearn: 1021.8757366\ttotal: 1.65s\tremaining: 5.22s\n",
      "96:\tlearn: 1019.2664772\ttotal: 1.66s\tremaining: 5.2s\n",
      "97:\tlearn: 1017.6570845\ttotal: 1.68s\tremaining: 5.18s\n",
      "98:\tlearn: 1017.0171711\ttotal: 1.7s\tremaining: 5.16s\n",
      "99:\tlearn: 1015.4747248\ttotal: 1.71s\tremaining: 5.14s\n",
      "100:\tlearn: 1012.9231013\ttotal: 1.73s\tremaining: 5.12s\n",
      "101:\tlearn: 1009.5479838\ttotal: 1.75s\tremaining: 5.11s\n",
      "102:\tlearn: 1005.9684898\ttotal: 1.77s\tremaining: 5.09s\n",
      "103:\tlearn: 1004.4124871\ttotal: 1.78s\tremaining: 5.07s\n",
      "104:\tlearn: 1003.3729669\ttotal: 1.8s\tremaining: 5.05s\n",
      "105:\tlearn: 1002.8626677\ttotal: 1.81s\tremaining: 5.03s\n",
      "106:\tlearn: 1000.8121948\ttotal: 1.83s\tremaining: 5.02s\n",
      "107:\tlearn: 996.8407725\ttotal: 1.85s\tremaining: 5s\n",
      "108:\tlearn: 995.1944984\ttotal: 1.86s\tremaining: 4.98s\n",
      "109:\tlearn: 992.9980077\ttotal: 1.88s\tremaining: 4.96s\n",
      "110:\tlearn: 990.1289190\ttotal: 1.9s\tremaining: 4.94s\n",
      "111:\tlearn: 986.8848782\ttotal: 1.91s\tremaining: 4.92s\n",
      "112:\tlearn: 985.5770900\ttotal: 1.93s\tremaining: 4.9s\n",
      "113:\tlearn: 981.9024346\ttotal: 1.95s\tremaining: 4.88s\n",
      "114:\tlearn: 979.7305393\ttotal: 1.97s\tremaining: 4.87s\n",
      "115:\tlearn: 977.1509766\ttotal: 1.98s\tremaining: 4.86s\n",
      "116:\tlearn: 974.8975649\ttotal: 2s\tremaining: 4.84s\n",
      "117:\tlearn: 972.4268565\ttotal: 2.02s\tremaining: 4.82s\n",
      "118:\tlearn: 971.4978247\ttotal: 2.03s\tremaining: 4.8s\n",
      "119:\tlearn: 970.0815436\ttotal: 2.05s\tremaining: 4.79s\n",
      "120:\tlearn: 968.2107095\ttotal: 2.07s\tremaining: 4.77s\n",
      "121:\tlearn: 965.4673639\ttotal: 2.08s\tremaining: 4.75s\n",
      "122:\tlearn: 962.4681602\ttotal: 2.1s\tremaining: 4.73s\n",
      "123:\tlearn: 959.4669504\ttotal: 2.12s\tremaining: 4.71s\n",
      "124:\tlearn: 957.6160346\ttotal: 2.13s\tremaining: 4.69s\n",
      "125:\tlearn: 954.7324214\ttotal: 2.15s\tremaining: 4.68s\n",
      "126:\tlearn: 950.8731380\ttotal: 2.17s\tremaining: 4.66s\n",
      "127:\tlearn: 950.2768031\ttotal: 2.19s\tremaining: 4.65s\n",
      "128:\tlearn: 947.4766650\ttotal: 2.2s\tremaining: 4.63s\n",
      "129:\tlearn: 945.5539701\ttotal: 2.22s\tremaining: 4.61s\n",
      "130:\tlearn: 943.4763107\ttotal: 2.24s\tremaining: 4.59s\n",
      "131:\tlearn: 942.0669088\ttotal: 2.25s\tremaining: 4.57s\n",
      "132:\tlearn: 939.1712003\ttotal: 2.27s\tremaining: 4.55s\n",
      "133:\tlearn: 938.2237450\ttotal: 2.29s\tremaining: 4.54s\n",
      "134:\tlearn: 936.7406463\ttotal: 2.3s\tremaining: 4.52s\n",
      "135:\tlearn: 935.2144004\ttotal: 2.32s\tremaining: 4.5s\n",
      "136:\tlearn: 934.4522744\ttotal: 2.33s\tremaining: 4.48s\n",
      "137:\tlearn: 933.3389428\ttotal: 2.35s\tremaining: 4.46s\n",
      "138:\tlearn: 932.0833407\ttotal: 2.37s\tremaining: 4.45s\n",
      "139:\tlearn: 931.4014408\ttotal: 2.38s\tremaining: 4.43s\n",
      "140:\tlearn: 928.4279250\ttotal: 2.4s\tremaining: 4.41s\n",
      "141:\tlearn: 926.8312445\ttotal: 2.42s\tremaining: 4.4s\n",
      "142:\tlearn: 924.7144079\ttotal: 2.44s\tremaining: 4.38s\n",
      "143:\tlearn: 921.7764927\ttotal: 2.45s\tremaining: 4.36s\n",
      "144:\tlearn: 919.2658333\ttotal: 2.47s\tremaining: 4.34s\n",
      "145:\tlearn: 918.4519324\ttotal: 2.49s\tremaining: 4.33s\n",
      "146:\tlearn: 916.7817080\ttotal: 2.5s\tremaining: 4.31s\n",
      "147:\tlearn: 916.2593103\ttotal: 2.52s\tremaining: 4.29s\n",
      "148:\tlearn: 914.8729470\ttotal: 2.54s\tremaining: 4.27s\n",
      "149:\tlearn: 913.6953031\ttotal: 2.55s\tremaining: 4.25s\n",
      "150:\tlearn: 911.6084234\ttotal: 2.57s\tremaining: 4.24s\n",
      "151:\tlearn: 910.7926457\ttotal: 2.58s\tremaining: 4.22s\n",
      "152:\tlearn: 910.0330437\ttotal: 2.6s\tremaining: 4.2s\n",
      "153:\tlearn: 908.4642238\ttotal: 2.63s\tremaining: 4.19s\n",
      "154:\tlearn: 907.5443823\ttotal: 2.65s\tremaining: 4.19s\n",
      "155:\tlearn: 905.6936697\ttotal: 2.67s\tremaining: 4.17s\n",
      "156:\tlearn: 903.8976962\ttotal: 2.68s\tremaining: 4.15s\n",
      "157:\tlearn: 901.8217676\ttotal: 2.7s\tremaining: 4.13s\n",
      "158:\tlearn: 898.7829051\ttotal: 2.71s\tremaining: 4.11s\n",
      "159:\tlearn: 896.2185953\ttotal: 2.73s\tremaining: 4.1s\n",
      "160:\tlearn: 895.0785345\ttotal: 2.75s\tremaining: 4.08s\n",
      "161:\tlearn: 892.4940651\ttotal: 2.76s\tremaining: 4.06s\n",
      "162:\tlearn: 891.4287338\ttotal: 2.78s\tremaining: 4.04s\n",
      "163:\tlearn: 888.7411934\ttotal: 2.8s\tremaining: 4.03s\n",
      "164:\tlearn: 888.0186593\ttotal: 2.81s\tremaining: 4.01s\n",
      "165:\tlearn: 886.7181696\ttotal: 2.83s\tremaining: 4s\n",
      "166:\tlearn: 885.5277894\ttotal: 2.85s\tremaining: 3.98s\n",
      "167:\tlearn: 884.0933107\ttotal: 2.87s\tremaining: 3.96s\n",
      "168:\tlearn: 883.0553515\ttotal: 2.88s\tremaining: 3.94s\n",
      "169:\tlearn: 881.4354614\ttotal: 2.9s\tremaining: 3.92s\n",
      "170:\tlearn: 879.2489428\ttotal: 2.92s\tremaining: 3.91s\n",
      "171:\tlearn: 878.5788143\ttotal: 2.93s\tremaining: 3.89s\n",
      "172:\tlearn: 876.5275520\ttotal: 2.95s\tremaining: 3.87s\n",
      "173:\tlearn: 875.8923257\ttotal: 2.97s\tremaining: 3.85s\n",
      "174:\tlearn: 874.3791141\ttotal: 2.98s\tremaining: 3.84s\n",
      "175:\tlearn: 873.5554903\ttotal: 3s\tremaining: 3.82s\n",
      "176:\tlearn: 872.7431280\ttotal: 3.02s\tremaining: 3.8s\n",
      "177:\tlearn: 871.2548653\ttotal: 3.04s\tremaining: 3.79s\n",
      "178:\tlearn: 870.0641160\ttotal: 3.05s\tremaining: 3.77s\n",
      "179:\tlearn: 867.9429205\ttotal: 3.07s\tremaining: 3.75s\n",
      "180:\tlearn: 865.7503377\ttotal: 3.08s\tremaining: 3.73s\n",
      "181:\tlearn: 864.6851243\ttotal: 3.1s\tremaining: 3.71s\n",
      "182:\tlearn: 863.2732145\ttotal: 3.12s\tremaining: 3.7s\n",
      "183:\tlearn: 862.8498685\ttotal: 3.13s\tremaining: 3.68s\n",
      "184:\tlearn: 861.2315043\ttotal: 3.17s\tremaining: 3.68s\n",
      "185:\tlearn: 859.0020490\ttotal: 3.19s\tremaining: 3.67s\n",
      "186:\tlearn: 857.5670840\ttotal: 3.21s\tremaining: 3.65s\n",
      "187:\tlearn: 855.0181446\ttotal: 3.22s\tremaining: 3.63s\n",
      "188:\tlearn: 854.6265822\ttotal: 3.24s\tremaining: 3.62s\n",
      "189:\tlearn: 853.6603656\ttotal: 3.27s\tremaining: 3.61s\n",
      "190:\tlearn: 852.2556596\ttotal: 3.28s\tremaining: 3.59s\n",
      "191:\tlearn: 850.2347479\ttotal: 3.31s\tremaining: 3.58s\n",
      "192:\tlearn: 849.7264871\ttotal: 3.34s\tremaining: 3.58s\n",
      "193:\tlearn: 847.7782907\ttotal: 3.36s\tremaining: 3.56s\n",
      "194:\tlearn: 846.3725054\ttotal: 3.37s\tremaining: 3.55s\n",
      "195:\tlearn: 845.2481371\ttotal: 3.39s\tremaining: 3.53s\n",
      "196:\tlearn: 844.7539074\ttotal: 3.41s\tremaining: 3.52s\n",
      "197:\tlearn: 843.1710138\ttotal: 3.43s\tremaining: 3.5s\n",
      "198:\tlearn: 842.4952254\ttotal: 3.45s\tremaining: 3.48s\n",
      "199:\tlearn: 840.6086308\ttotal: 3.47s\tremaining: 3.47s\n",
      "200:\tlearn: 838.7862807\ttotal: 3.48s\tremaining: 3.45s\n",
      "201:\tlearn: 836.3761811\ttotal: 3.5s\tremaining: 3.43s\n",
      "202:\tlearn: 835.2699217\ttotal: 3.52s\tremaining: 3.42s\n",
      "203:\tlearn: 834.8016010\ttotal: 3.54s\tremaining: 3.4s\n",
      "204:\tlearn: 832.2787923\ttotal: 3.56s\tremaining: 3.38s\n",
      "205:\tlearn: 831.0674667\ttotal: 3.58s\tremaining: 3.37s\n",
      "206:\tlearn: 829.9704106\ttotal: 3.6s\tremaining: 3.35s\n",
      "207:\tlearn: 827.8480809\ttotal: 3.62s\tremaining: 3.34s\n",
      "208:\tlearn: 826.8377714\ttotal: 3.63s\tremaining: 3.32s\n",
      "209:\tlearn: 825.5924680\ttotal: 3.65s\tremaining: 3.3s\n",
      "210:\tlearn: 824.1837194\ttotal: 3.67s\tremaining: 3.28s\n",
      "211:\tlearn: 823.0860360\ttotal: 3.69s\tremaining: 3.27s\n",
      "212:\tlearn: 822.8427723\ttotal: 3.71s\tremaining: 3.25s\n",
      "213:\tlearn: 822.0070311\ttotal: 3.72s\tremaining: 3.24s\n",
      "214:\tlearn: 821.0084704\ttotal: 3.74s\tremaining: 3.22s\n",
      "215:\tlearn: 819.9519900\ttotal: 3.76s\tremaining: 3.2s\n",
      "216:\tlearn: 818.7211821\ttotal: 3.77s\tremaining: 3.18s\n",
      "217:\tlearn: 817.8388805\ttotal: 3.79s\tremaining: 3.16s\n",
      "218:\tlearn: 816.8302654\ttotal: 3.81s\tremaining: 3.15s\n",
      "219:\tlearn: 816.1943778\ttotal: 3.83s\tremaining: 3.13s\n",
      "220:\tlearn: 815.1268376\ttotal: 3.85s\tremaining: 3.11s\n",
      "221:\tlearn: 814.9463226\ttotal: 3.86s\tremaining: 3.1s\n",
      "222:\tlearn: 813.8118369\ttotal: 3.88s\tremaining: 3.08s\n",
      "223:\tlearn: 812.2079590\ttotal: 3.9s\tremaining: 3.06s\n",
      "224:\tlearn: 811.9842885\ttotal: 3.92s\tremaining: 3.05s\n",
      "225:\tlearn: 810.7781585\ttotal: 3.94s\tremaining: 3.03s\n",
      "226:\tlearn: 810.2030881\ttotal: 3.96s\tremaining: 3.02s\n",
      "227:\tlearn: 807.7343053\ttotal: 3.97s\tremaining: 3s\n",
      "228:\tlearn: 807.0235925\ttotal: 3.99s\tremaining: 2.98s\n",
      "229:\tlearn: 806.0920739\ttotal: 4.01s\tremaining: 2.97s\n",
      "230:\tlearn: 805.4958841\ttotal: 4.03s\tremaining: 2.95s\n",
      "231:\tlearn: 804.5216357\ttotal: 4.05s\tremaining: 2.93s\n",
      "232:\tlearn: 803.5303181\ttotal: 4.07s\tremaining: 2.91s\n",
      "233:\tlearn: 802.9513452\ttotal: 4.08s\tremaining: 2.9s\n",
      "234:\tlearn: 801.2402613\ttotal: 4.1s\tremaining: 2.88s\n",
      "235:\tlearn: 801.0165256\ttotal: 4.12s\tremaining: 2.86s\n",
      "236:\tlearn: 800.0939233\ttotal: 4.14s\tremaining: 2.85s\n",
      "237:\tlearn: 799.2369218\ttotal: 4.16s\tremaining: 2.83s\n",
      "238:\tlearn: 798.0922798\ttotal: 4.17s\tremaining: 2.81s\n",
      "239:\tlearn: 797.4905882\ttotal: 4.19s\tremaining: 2.79s\n",
      "240:\tlearn: 796.6577183\ttotal: 4.21s\tremaining: 2.78s\n",
      "241:\tlearn: 796.0814705\ttotal: 4.22s\tremaining: 2.76s\n",
      "242:\tlearn: 795.3770263\ttotal: 4.24s\tremaining: 2.74s\n",
      "243:\tlearn: 794.7817782\ttotal: 4.26s\tremaining: 2.72s\n",
      "244:\tlearn: 794.1792393\ttotal: 4.29s\tremaining: 2.71s\n",
      "245:\tlearn: 792.5635838\ttotal: 4.31s\tremaining: 2.7s\n",
      "246:\tlearn: 791.4857371\ttotal: 4.33s\tremaining: 2.68s\n",
      "247:\tlearn: 790.4755659\ttotal: 4.35s\tremaining: 2.67s\n",
      "248:\tlearn: 789.6923382\ttotal: 4.37s\tremaining: 2.65s\n",
      "249:\tlearn: 788.6429817\ttotal: 4.39s\tremaining: 2.64s\n",
      "250:\tlearn: 786.4838303\ttotal: 4.42s\tremaining: 2.62s\n",
      "251:\tlearn: 785.8234376\ttotal: 4.44s\tremaining: 2.61s\n",
      "252:\tlearn: 785.1429083\ttotal: 4.46s\tremaining: 2.59s\n",
      "253:\tlearn: 784.3528829\ttotal: 4.49s\tremaining: 2.58s\n",
      "254:\tlearn: 782.3712380\ttotal: 4.51s\tremaining: 2.56s\n",
      "255:\tlearn: 781.4786496\ttotal: 4.52s\tremaining: 2.54s\n",
      "256:\tlearn: 779.6185487\ttotal: 4.54s\tremaining: 2.53s\n",
      "257:\tlearn: 778.6747869\ttotal: 4.56s\tremaining: 2.51s\n",
      "258:\tlearn: 777.5160424\ttotal: 4.57s\tremaining: 2.49s\n",
      "259:\tlearn: 776.8650584\ttotal: 4.59s\tremaining: 2.47s\n",
      "260:\tlearn: 776.1055193\ttotal: 4.61s\tremaining: 2.45s\n",
      "261:\tlearn: 775.5057449\ttotal: 4.62s\tremaining: 2.44s\n",
      "262:\tlearn: 774.9390717\ttotal: 4.64s\tremaining: 2.42s\n",
      "263:\tlearn: 773.6532708\ttotal: 4.66s\tremaining: 2.4s\n",
      "264:\tlearn: 773.0523619\ttotal: 4.67s\tremaining: 2.38s\n",
      "265:\tlearn: 772.1957808\ttotal: 4.69s\tremaining: 2.36s\n",
      "266:\tlearn: 770.8900121\ttotal: 4.71s\tremaining: 2.35s\n",
      "267:\tlearn: 769.8932745\ttotal: 4.72s\tremaining: 2.33s\n",
      "268:\tlearn: 769.3990615\ttotal: 4.74s\tremaining: 2.31s\n",
      "269:\tlearn: 769.1811222\ttotal: 4.76s\tremaining: 2.29s\n",
      "270:\tlearn: 768.3347775\ttotal: 4.78s\tremaining: 2.28s\n",
      "271:\tlearn: 766.4609935\ttotal: 4.8s\tremaining: 2.26s\n",
      "272:\tlearn: 765.5282263\ttotal: 4.82s\tremaining: 2.24s\n",
      "273:\tlearn: 764.7272934\ttotal: 4.83s\tremaining: 2.22s\n",
      "274:\tlearn: 763.6238527\ttotal: 4.85s\tremaining: 2.2s\n",
      "275:\tlearn: 763.0733019\ttotal: 4.87s\tremaining: 2.19s\n",
      "276:\tlearn: 761.1633498\ttotal: 4.88s\tremaining: 2.17s\n",
      "277:\tlearn: 759.2547349\ttotal: 4.9s\tremaining: 2.15s\n",
      "278:\tlearn: 757.4103747\ttotal: 4.92s\tremaining: 2.13s\n",
      "279:\tlearn: 756.1379186\ttotal: 4.93s\tremaining: 2.11s\n",
      "280:\tlearn: 755.5526864\ttotal: 4.95s\tremaining: 2.1s\n",
      "281:\tlearn: 755.3404410\ttotal: 4.97s\tremaining: 2.08s\n",
      "282:\tlearn: 754.3128684\ttotal: 5s\tremaining: 2.07s\n",
      "283:\tlearn: 753.8339383\ttotal: 5.02s\tremaining: 2.05s\n",
      "284:\tlearn: 753.5728451\ttotal: 5.04s\tremaining: 2.03s\n",
      "285:\tlearn: 752.7932229\ttotal: 5.07s\tremaining: 2.02s\n",
      "286:\tlearn: 752.4055446\ttotal: 5.08s\tremaining: 2s\n",
      "287:\tlearn: 752.0917831\ttotal: 5.1s\tremaining: 1.98s\n",
      "288:\tlearn: 751.6653193\ttotal: 5.13s\tremaining: 1.97s\n",
      "289:\tlearn: 750.7114852\ttotal: 5.15s\tremaining: 1.95s\n",
      "290:\tlearn: 750.4354387\ttotal: 5.17s\tremaining: 1.94s\n",
      "291:\tlearn: 749.4285572\ttotal: 5.18s\tremaining: 1.92s\n",
      "292:\tlearn: 747.8028180\ttotal: 5.2s\tremaining: 1.9s\n",
      "293:\tlearn: 747.3382806\ttotal: 5.22s\tremaining: 1.88s\n",
      "294:\tlearn: 746.7566005\ttotal: 5.24s\tremaining: 1.86s\n",
      "295:\tlearn: 745.8342891\ttotal: 5.25s\tremaining: 1.84s\n",
      "296:\tlearn: 744.2402048\ttotal: 5.27s\tremaining: 1.83s\n",
      "297:\tlearn: 743.7229111\ttotal: 5.29s\tremaining: 1.81s\n",
      "298:\tlearn: 742.2873078\ttotal: 5.3s\tremaining: 1.79s\n",
      "299:\tlearn: 741.7556710\ttotal: 5.32s\tremaining: 1.77s\n",
      "300:\tlearn: 740.8192195\ttotal: 5.33s\tremaining: 1.75s\n",
      "301:\tlearn: 740.7635419\ttotal: 5.35s\tremaining: 1.74s\n",
      "302:\tlearn: 740.3769716\ttotal: 5.37s\tremaining: 1.72s\n",
      "303:\tlearn: 739.5379191\ttotal: 5.38s\tremaining: 1.7s\n",
      "304:\tlearn: 737.9016677\ttotal: 5.4s\tremaining: 1.68s\n",
      "305:\tlearn: 737.7520784\ttotal: 5.43s\tremaining: 1.67s\n",
      "306:\tlearn: 736.9013147\ttotal: 5.45s\tremaining: 1.65s\n",
      "307:\tlearn: 736.1106502\ttotal: 5.48s\tremaining: 1.64s\n",
      "308:\tlearn: 732.7071120\ttotal: 5.5s\tremaining: 1.62s\n",
      "309:\tlearn: 732.2793020\ttotal: 5.52s\tremaining: 1.6s\n",
      "310:\tlearn: 731.6053992\ttotal: 5.54s\tremaining: 1.58s\n",
      "311:\tlearn: 730.9329537\ttotal: 5.55s\tremaining: 1.57s\n",
      "312:\tlearn: 730.0365284\ttotal: 5.58s\tremaining: 1.55s\n",
      "313:\tlearn: 728.4611628\ttotal: 5.59s\tremaining: 1.53s\n",
      "314:\tlearn: 725.4255585\ttotal: 5.61s\tremaining: 1.51s\n",
      "315:\tlearn: 724.3697427\ttotal: 5.63s\tremaining: 1.5s\n",
      "316:\tlearn: 723.6091487\ttotal: 5.64s\tremaining: 1.48s\n",
      "317:\tlearn: 723.2061930\ttotal: 5.66s\tremaining: 1.46s\n",
      "318:\tlearn: 722.8594042\ttotal: 5.68s\tremaining: 1.44s\n",
      "319:\tlearn: 721.9803150\ttotal: 5.7s\tremaining: 1.42s\n",
      "320:\tlearn: 721.0325973\ttotal: 5.71s\tremaining: 1.41s\n",
      "321:\tlearn: 720.4504582\ttotal: 5.73s\tremaining: 1.39s\n",
      "322:\tlearn: 719.3912131\ttotal: 5.75s\tremaining: 1.37s\n",
      "323:\tlearn: 718.9845899\ttotal: 5.76s\tremaining: 1.35s\n",
      "324:\tlearn: 718.0784019\ttotal: 5.78s\tremaining: 1.33s\n",
      "325:\tlearn: 717.4510633\ttotal: 5.79s\tremaining: 1.31s\n",
      "326:\tlearn: 717.0642431\ttotal: 5.81s\tremaining: 1.3s\n",
      "327:\tlearn: 715.5684794\ttotal: 5.83s\tremaining: 1.28s\n",
      "328:\tlearn: 714.8431025\ttotal: 5.85s\tremaining: 1.26s\n",
      "329:\tlearn: 714.3346399\ttotal: 5.87s\tremaining: 1.25s\n",
      "330:\tlearn: 712.7486452\ttotal: 5.89s\tremaining: 1.23s\n",
      "331:\tlearn: 712.4926553\ttotal: 5.92s\tremaining: 1.21s\n",
      "332:\tlearn: 710.5525300\ttotal: 5.96s\tremaining: 1.2s\n",
      "333:\tlearn: 710.1110065\ttotal: 5.97s\tremaining: 1.18s\n",
      "334:\tlearn: 709.8308788\ttotal: 6s\tremaining: 1.16s\n",
      "335:\tlearn: 709.5523633\ttotal: 6.03s\tremaining: 1.15s\n",
      "336:\tlearn: 708.9122623\ttotal: 6.05s\tremaining: 1.13s\n",
      "337:\tlearn: 708.6152380\ttotal: 6.08s\tremaining: 1.11s\n",
      "338:\tlearn: 708.2603505\ttotal: 6.1s\tremaining: 1.1s\n",
      "339:\tlearn: 706.2224079\ttotal: 6.13s\tremaining: 1.08s\n",
      "340:\tlearn: 705.3836094\ttotal: 6.16s\tremaining: 1.06s\n",
      "341:\tlearn: 705.1352673\ttotal: 6.18s\tremaining: 1.05s\n",
      "342:\tlearn: 704.8030047\ttotal: 6.21s\tremaining: 1.03s\n",
      "343:\tlearn: 704.7265768\ttotal: 6.22s\tremaining: 1.01s\n",
      "344:\tlearn: 702.5413845\ttotal: 6.24s\tremaining: 995ms\n",
      "345:\tlearn: 701.7685692\ttotal: 6.27s\tremaining: 978ms\n",
      "346:\tlearn: 701.4451065\ttotal: 6.29s\tremaining: 961ms\n",
      "347:\tlearn: 699.2640798\ttotal: 6.31s\tremaining: 943ms\n",
      "348:\tlearn: 698.9072031\ttotal: 6.33s\tremaining: 925ms\n",
      "349:\tlearn: 698.5691760\ttotal: 6.34s\tremaining: 906ms\n",
      "350:\tlearn: 696.6801627\ttotal: 6.36s\tremaining: 888ms\n",
      "351:\tlearn: 695.8223068\ttotal: 6.38s\tremaining: 869ms\n",
      "352:\tlearn: 695.5990221\ttotal: 6.39s\tremaining: 851ms\n",
      "353:\tlearn: 694.6962142\ttotal: 6.41s\tremaining: 833ms\n",
      "354:\tlearn: 694.3469818\ttotal: 6.43s\tremaining: 815ms\n",
      "355:\tlearn: 694.0131490\ttotal: 6.44s\tremaining: 796ms\n",
      "356:\tlearn: 693.2788941\ttotal: 6.46s\tremaining: 778ms\n",
      "357:\tlearn: 692.2300280\ttotal: 6.48s\tremaining: 760ms\n",
      "358:\tlearn: 690.8552230\ttotal: 6.5s\tremaining: 742ms\n",
      "359:\tlearn: 690.4723976\ttotal: 6.51s\tremaining: 724ms\n",
      "360:\tlearn: 689.2235628\ttotal: 6.53s\tremaining: 706ms\n",
      "361:\tlearn: 688.6961368\ttotal: 6.55s\tremaining: 687ms\n",
      "362:\tlearn: 687.9708225\ttotal: 6.56s\tremaining: 669ms\n",
      "363:\tlearn: 687.6564402\ttotal: 6.58s\tremaining: 651ms\n",
      "364:\tlearn: 686.1727628\ttotal: 6.59s\tremaining: 632ms\n",
      "365:\tlearn: 685.8787688\ttotal: 6.61s\tremaining: 614ms\n",
      "366:\tlearn: 684.5971798\ttotal: 6.63s\tremaining: 596ms\n",
      "367:\tlearn: 683.7977480\ttotal: 6.64s\tremaining: 578ms\n",
      "368:\tlearn: 682.6614297\ttotal: 6.66s\tremaining: 560ms\n",
      "369:\tlearn: 681.3994559\ttotal: 6.68s\tremaining: 542ms\n",
      "370:\tlearn: 680.7075211\ttotal: 6.7s\tremaining: 524ms\n",
      "371:\tlearn: 680.2013316\ttotal: 6.71s\tremaining: 505ms\n",
      "372:\tlearn: 679.8420182\ttotal: 6.73s\tremaining: 487ms\n",
      "373:\tlearn: 679.4374203\ttotal: 6.75s\tremaining: 469ms\n",
      "374:\tlearn: 677.8375391\ttotal: 6.77s\tremaining: 451ms\n",
      "375:\tlearn: 676.2387402\ttotal: 6.78s\tremaining: 433ms\n",
      "376:\tlearn: 675.8021975\ttotal: 6.8s\tremaining: 415ms\n",
      "377:\tlearn: 675.1858439\ttotal: 6.82s\tremaining: 397ms\n",
      "378:\tlearn: 674.5930405\ttotal: 6.83s\tremaining: 379ms\n",
      "379:\tlearn: 674.2904548\ttotal: 6.85s\tremaining: 361ms\n",
      "380:\tlearn: 673.1089304\ttotal: 6.87s\tremaining: 343ms\n",
      "381:\tlearn: 671.2277976\ttotal: 6.88s\tremaining: 324ms\n",
      "382:\tlearn: 670.6616288\ttotal: 6.9s\tremaining: 306ms\n",
      "383:\tlearn: 669.4899793\ttotal: 6.92s\tremaining: 288ms\n",
      "384:\tlearn: 669.3002481\ttotal: 6.94s\tremaining: 270ms\n",
      "385:\tlearn: 669.1592912\ttotal: 6.95s\tremaining: 252ms\n",
      "386:\tlearn: 668.7143020\ttotal: 6.97s\tremaining: 234ms\n",
      "387:\tlearn: 668.4265201\ttotal: 6.99s\tremaining: 216ms\n",
      "388:\tlearn: 667.8765063\ttotal: 7s\tremaining: 198ms\n",
      "389:\tlearn: 666.7895375\ttotal: 7.02s\tremaining: 180ms\n",
      "390:\tlearn: 666.3836184\ttotal: 7.04s\tremaining: 162ms\n",
      "391:\tlearn: 666.1191236\ttotal: 7.05s\tremaining: 144ms\n",
      "392:\tlearn: 665.4855652\ttotal: 7.07s\tremaining: 126ms\n",
      "393:\tlearn: 664.9264733\ttotal: 7.09s\tremaining: 108ms\n",
      "394:\tlearn: 663.7435671\ttotal: 7.11s\tremaining: 90ms\n",
      "395:\tlearn: 663.1094716\ttotal: 7.13s\tremaining: 72ms\n",
      "396:\tlearn: 662.0144064\ttotal: 7.14s\tremaining: 54ms\n",
      "397:\tlearn: 661.4981273\ttotal: 7.16s\tremaining: 36ms\n",
      "398:\tlearn: 661.2363656\ttotal: 7.18s\tremaining: 18ms\n",
      "399:\tlearn: 659.8187321\ttotal: 7.19s\tremaining: 0us\n"
     ]
    },
    {
     "data": {
      "text/html": [
       "<style>#sk-container-id-1 {color: black;}#sk-container-id-1 pre{padding: 0;}#sk-container-id-1 div.sk-toggleable {background-color: white;}#sk-container-id-1 label.sk-toggleable__label {cursor: pointer;display: block;width: 100%;margin-bottom: 0;padding: 0.3em;box-sizing: border-box;text-align: center;}#sk-container-id-1 label.sk-toggleable__label-arrow:before {content: \"▸\";float: left;margin-right: 0.25em;color: #696969;}#sk-container-id-1 label.sk-toggleable__label-arrow:hover:before {color: black;}#sk-container-id-1 div.sk-estimator:hover label.sk-toggleable__label-arrow:before {color: black;}#sk-container-id-1 div.sk-toggleable__content {max-height: 0;max-width: 0;overflow: hidden;text-align: left;background-color: #f0f8ff;}#sk-container-id-1 div.sk-toggleable__content pre {margin: 0.2em;color: black;border-radius: 0.25em;background-color: #f0f8ff;}#sk-container-id-1 input.sk-toggleable__control:checked~div.sk-toggleable__content {max-height: 200px;max-width: 100%;overflow: auto;}#sk-container-id-1 input.sk-toggleable__control:checked~label.sk-toggleable__label-arrow:before {content: \"▾\";}#sk-container-id-1 div.sk-estimator input.sk-toggleable__control:checked~label.sk-toggleable__label {background-color: #d4ebff;}#sk-container-id-1 div.sk-label input.sk-toggleable__control:checked~label.sk-toggleable__label {background-color: #d4ebff;}#sk-container-id-1 input.sk-hidden--visually {border: 0;clip: rect(1px 1px 1px 1px);clip: rect(1px, 1px, 1px, 1px);height: 1px;margin: -1px;overflow: hidden;padding: 0;position: absolute;width: 1px;}#sk-container-id-1 div.sk-estimator {font-family: monospace;background-color: #f0f8ff;border: 1px dotted black;border-radius: 0.25em;box-sizing: border-box;margin-bottom: 0.5em;}#sk-container-id-1 div.sk-estimator:hover {background-color: #d4ebff;}#sk-container-id-1 div.sk-parallel-item::after {content: \"\";width: 100%;border-bottom: 1px solid gray;flex-grow: 1;}#sk-container-id-1 div.sk-label:hover label.sk-toggleable__label {background-color: #d4ebff;}#sk-container-id-1 div.sk-serial::before {content: \"\";position: absolute;border-left: 1px solid gray;box-sizing: border-box;top: 0;bottom: 0;left: 50%;z-index: 0;}#sk-container-id-1 div.sk-serial {display: flex;flex-direction: column;align-items: center;background-color: white;padding-right: 0.2em;padding-left: 0.2em;position: relative;}#sk-container-id-1 div.sk-item {position: relative;z-index: 1;}#sk-container-id-1 div.sk-parallel {display: flex;align-items: stretch;justify-content: center;background-color: white;position: relative;}#sk-container-id-1 div.sk-item::before, #sk-container-id-1 div.sk-parallel-item::before {content: \"\";position: absolute;border-left: 1px solid gray;box-sizing: border-box;top: 0;bottom: 0;left: 50%;z-index: -1;}#sk-container-id-1 div.sk-parallel-item {display: flex;flex-direction: column;z-index: 1;position: relative;background-color: white;}#sk-container-id-1 div.sk-parallel-item:first-child::after {align-self: flex-end;width: 50%;}#sk-container-id-1 div.sk-parallel-item:last-child::after {align-self: flex-start;width: 50%;}#sk-container-id-1 div.sk-parallel-item:only-child::after {width: 0;}#sk-container-id-1 div.sk-dashed-wrapped {border: 1px dashed gray;margin: 0 0.4em 0.5em 0.4em;box-sizing: border-box;padding-bottom: 0.4em;background-color: white;}#sk-container-id-1 div.sk-label label {font-family: monospace;font-weight: bold;display: inline-block;line-height: 1.2em;}#sk-container-id-1 div.sk-label-container {text-align: center;}#sk-container-id-1 div.sk-container {/* jupyter's `normalize.less` sets `[hidden] { display: none; }` but bootstrap.min.css set `[hidden] { display: none !important; }` so we also need the `!important` here to be able to override the default hidden behavior on the sphinx rendered scikit-learn.org. See: https://github.com/scikit-learn/scikit-learn/issues/21755 */display: inline-block !important;position: relative;}#sk-container-id-1 div.sk-text-repr-fallback {display: none;}</style><div id=\"sk-container-id-1\" class=\"sk-top-container\"><div class=\"sk-text-repr-fallback\"><pre>RandomizedSearchCV(cv=3,\n",
       "                   estimator=&lt;catboost.core.CatBoostRegressor object at 0x000001F80A46E110&gt;,\n",
       "                   n_iter=200, n_jobs=-1,\n",
       "                   param_distributions={&#x27;depth&#x27;: array([ 4,  5,  6,  7,  8, 10]),\n",
       "                                        &#x27;iterations&#x27;: array([100, 250, 400]),\n",
       "                                        &#x27;learning_rate&#x27;: array([0.01, 0.02, 0.03, 0.04, 0.05])},\n",
       "                   scoring=&#x27;neg_mean_squared_error&#x27;, verbose=2)</pre><b>In a Jupyter environment, please rerun this cell to show the HTML representation or trust the notebook. <br />On GitHub, the HTML representation is unable to render, please try loading this page with nbviewer.org.</b></div><div class=\"sk-container\" hidden><div class=\"sk-item sk-dashed-wrapped\"><div class=\"sk-label-container\"><div class=\"sk-label sk-toggleable\"><input class=\"sk-toggleable__control sk-hidden--visually\" id=\"sk-estimator-id-1\" type=\"checkbox\" ><label for=\"sk-estimator-id-1\" class=\"sk-toggleable__label sk-toggleable__label-arrow\">RandomizedSearchCV</label><div class=\"sk-toggleable__content\"><pre>RandomizedSearchCV(cv=3,\n",
       "                   estimator=&lt;catboost.core.CatBoostRegressor object at 0x000001F80A46E110&gt;,\n",
       "                   n_iter=200, n_jobs=-1,\n",
       "                   param_distributions={&#x27;depth&#x27;: array([ 4,  5,  6,  7,  8, 10]),\n",
       "                                        &#x27;iterations&#x27;: array([100, 250, 400]),\n",
       "                                        &#x27;learning_rate&#x27;: array([0.01, 0.02, 0.03, 0.04, 0.05])},\n",
       "                   scoring=&#x27;neg_mean_squared_error&#x27;, verbose=2)</pre></div></div></div><div class=\"sk-parallel\"><div class=\"sk-parallel-item\"><div class=\"sk-item\"><div class=\"sk-label-container\"><div class=\"sk-label sk-toggleable\"><input class=\"sk-toggleable__control sk-hidden--visually\" id=\"sk-estimator-id-2\" type=\"checkbox\" ><label for=\"sk-estimator-id-2\" class=\"sk-toggleable__label sk-toggleable__label-arrow\">estimator: CatBoostRegressor</label><div class=\"sk-toggleable__content\"><pre>&lt;catboost.core.CatBoostRegressor object at 0x000001F80A46E110&gt;</pre></div></div></div><div class=\"sk-serial\"><div class=\"sk-item\"><div class=\"sk-estimator sk-toggleable\"><input class=\"sk-toggleable__control sk-hidden--visually\" id=\"sk-estimator-id-3\" type=\"checkbox\" ><label for=\"sk-estimator-id-3\" class=\"sk-toggleable__label sk-toggleable__label-arrow\">CatBoostRegressor</label><div class=\"sk-toggleable__content\"><pre>&lt;catboost.core.CatBoostRegressor object at 0x000001F80A46E110&gt;</pre></div></div></div></div></div></div></div></div></div></div>"
      ],
      "text/plain": [
       "RandomizedSearchCV(cv=3,\n",
       "                   estimator=<catboost.core.CatBoostRegressor object at 0x000001F80A46E110>,\n",
       "                   n_iter=200, n_jobs=-1,\n",
       "                   param_distributions={'depth': array([ 4,  5,  6,  7,  8, 10]),\n",
       "                                        'iterations': array([100, 250, 400]),\n",
       "                                        'learning_rate': array([0.01, 0.02, 0.03, 0.04, 0.05])},\n",
       "                   scoring='neg_mean_squared_error', verbose=2)"
      ]
     },
     "execution_count": 52,
     "metadata": {},
     "output_type": "execute_result"
    }
   ],
   "source": [
    "# hyperparameter tuning\n",
    "\n",
    "model = CatBoostRegressor(cat_features=cat_features)\n",
    "\n",
    "parameters = {'iterations': np.linspace(100, 400, num=3).astype(int),\n",
    "              'learning_rate': np.linspace(0.01, 0.05, num=5),\n",
    "              'depth': np.linspace(4, 10, num=6).astype(int)\n",
    "              }\n",
    "\n",
    "rs = RandomizedSearchCV(model, parameters, n_jobs = -1, scoring='neg_mean_squared_error', n_iter=200,\n",
    "                        cv = 3,\n",
    "                        verbose = 2)\n",
    "rs.fit(X_train, y_train)"
   ]
  },
  {
   "cell_type": "code",
   "execution_count": 53,
   "metadata": {},
   "outputs": [
    {
     "data": {
      "text/plain": [
       "<catboost.core.CatBoostRegressor at 0x1f80b587390>"
      ]
     },
     "execution_count": 53,
     "metadata": {},
     "output_type": "execute_result"
    }
   ],
   "source": [
    "rs.best_estimator_"
   ]
  },
  {
   "cell_type": "code",
   "execution_count": 54,
   "metadata": {},
   "outputs": [],
   "source": [
    "catboost_model = rs.best_estimator_\n",
    "catboost_pred = catboost_model.predict(X_test)"
   ]
  },
  {
   "cell_type": "code",
   "execution_count": 55,
   "metadata": {},
   "outputs": [],
   "source": [
    "compare = pd.DataFrame({'catboost': catboost_pred, 'real': y_test})"
   ]
  },
  {
   "cell_type": "code",
   "execution_count": 56,
   "metadata": {},
   "outputs": [
    {
     "data": {
      "text/plain": [
       "549.6959346673939"
      ]
     },
     "execution_count": 56,
     "metadata": {},
     "output_type": "execute_result"
    }
   ],
   "source": [
    "mean_absolute_percentage_error(y_test, catboost_pred)\n",
    "mean_absolute_error(y_test, catboost_pred)"
   ]
  },
  {
   "cell_type": "code",
   "execution_count": 58,
   "metadata": {},
   "outputs": [
    {
     "data": {
      "text/plain": [
       "array([24.94011695,  2.53979544, 35.90551905, 10.96577792, 11.86737341,\n",
       "        1.86225302, 11.9191642 ])"
      ]
     },
     "execution_count": 58,
     "metadata": {},
     "output_type": "execute_result"
    }
   ],
   "source": [
    "catboost_model.feature_importances_"
   ]
  }
 ],
 "metadata": {
  "kernelspec": {
   "display_name": "Python 3",
   "language": "python",
   "name": "python3"
  },
  "language_info": {
   "codemirror_mode": {
    "name": "ipython",
    "version": 3
   },
   "file_extension": ".py",
   "mimetype": "text/x-python",
   "name": "python",
   "nbconvert_exporter": "python",
   "pygments_lexer": "ipython3",
   "version": "3.11.5"
  }
 },
 "nbformat": 4,
 "nbformat_minor": 0
}
