{
 "cells": [
  {
   "cell_type": "code",
   "execution_count": 9,
   "metadata": {},
   "outputs": [],
   "source": [
    "import pandas as pd\n",
    "from sklearn.model_selection import train_test_split\n",
    "import statsmodels.api as sm\n",
    "from sklearn.metrics import mean_squared_error, mean_absolute_error, r2_score, mean_absolute_percentage_error\n",
    "import matplotlib.pyplot as plt\n",
    "import numpy as np\n",
    "import plotly.express as px\n",
    "import torch"
   ]
  },
  {
   "cell_type": "code",
   "execution_count": 2,
   "metadata": {},
   "outputs": [],
   "source": [
    "df = pd.read_excel('Kvart_Sovet.xlsx')"
   ]
  },
  {
   "cell_type": "code",
   "execution_count": null,
   "metadata": {},
   "outputs": [],
   "source": [
    "for i in range(len(df['street'])):\n",
    "\n",
    "    if df['street'][i] == 'Академика Коптюга пр-кт' or df['street'][i] == 'Академика_Коптюга':\n",
    "        df['street'][i] = 'Академика_Коптюга_проспект'\n",
    "    elif df['street'][i] == 'Морской пр-кт':\n",
    "        df['street'][i] = 'Морской_проспект'\n",
    "    elif df['street'][i] == 'Молодeжи б-р' or df['street'][i] == 'Молодёжи б-р' or df['street'][i] == 'Молодёжи бульвар' or df['street'][i] == 'Молодежи_б-р':\n",
    "        df['street'][i] = 'Молодежи_бульвар'\n",
    "    elif df['street'][i] == 'Ученых':\n",
    "        df['street'][i] = 'Учёных'\n",
    "    elif df['street'][i] == 'Академика_Иванова':\n",
    "        df['street'][i] = 'Иванова'\n",
    "\n",
    "for i in range(len(df['street'])):\n",
    "    s = ''\n",
    "    a = df['street'][i].split(' ')\n",
    "\n",
    "    if len(a) != 1:\n",
    "        \n",
    "        for j in range(2):\n",
    "            if j == 0:\n",
    "                s += a[j] + '_'\n",
    "            else:\n",
    "                s += a[j]\n",
    "\n",
    "        df['street'][i] = s"
   ]
  },
  {
   "cell_type": "code",
   "execution_count": 5,
   "metadata": {},
   "outputs": [],
   "source": [
    "df.loc[df.sp_kitchen == '-', 'sp_kitchen'] = np.nan\n",
    "kvart_new = df[df.sp_kitchen.notna()]"
   ]
  },
  {
   "cell_type": "code",
   "execution_count": 6,
   "metadata": {},
   "outputs": [],
   "source": [
    "kvart_new = kvart_new[(kvart_new.sp_total < 120) & (kvart_new.price <= 15000)]"
   ]
  },
  {
   "cell_type": "code",
   "execution_count": 8,
   "metadata": {},
   "outputs": [],
   "source": [
    "kvart_new = kvart_new.dropna(how='all')\n",
    "kvart_new = kvart_new.drop(columns=['ID', 'city', 'district'])"
   ]
  },
  {
   "cell_type": "code",
   "execution_count": 20,
   "metadata": {},
   "outputs": [],
   "source": [
    "side_list = []\n",
    "\n",
    "for i in kvart_new['h_number']:\n",
    "    try:\n",
    "        if int(i) % 2 == 0:\n",
    "            side_list.append(1)\n",
    "        else:\n",
    "            side_list.append(0)\n",
    "            \n",
    "    except ValueError:\n",
    "        number = ''\n",
    "\n",
    "        for k in str(i):\n",
    "            if k.isdigit() and k != '/':\n",
    "                number += k\n",
    "            else:\n",
    "                break\n",
    "\n",
    "        if int(number) % 2 == 0:\n",
    "            side_list.append(1)\n",
    "        else:\n",
    "            side_list.append(0)\n",
    "\n",
    "kvart_new['side'] = side_list\n",
    "kvart_new = kvart_new.drop(['h_number'], axis=1)"
   ]
  },
  {
   "cell_type": "code",
   "execution_count": 77,
   "metadata": {},
   "outputs": [],
   "source": [
    "df_dummy_wd = pd.get_dummies(kvart_new, columns=['street', 'rooms'], dtype='float64', drop_first=True)\n",
    "regressors = df_dummy_wd.drop(columns=['price'], axis=1)\n",
    "price = df_dummy_wd['price']"
   ]
  },
  {
   "cell_type": "code",
   "execution_count": 23,
   "metadata": {},
   "outputs": [],
   "source": [
    "train_tensor = main_tensor[:300]\n",
    "test_tensor = main_tensor[300:380]\n",
    "valid_tensor = main_tensor[380:]"
   ]
  },
  {
   "cell_type": "code",
   "execution_count": 119,
   "metadata": {},
   "outputs": [],
   "source": [
    "class RegressionNet(torch.nn.Module):\n",
    "    def __init__(self, n_hidden_neurons):\n",
    "        super(RegressionNet, self).__init__()\n",
    "        self.fc1 = torch.nn.Linear(67, n_hidden_neurons)\n",
    "        self.ac1 = torch.nn.Tanh()\n",
    "        self.fc2 = torch.nn.Linear(n_hidden_neurons, 2*n_hidden_neurons)\n",
    "        self.ac2 = torch.nn.Tanh()\n",
    "        self.fc3 = torch.nn.Linear(2*n_hidden_neurons, 2)\n",
    "    \n",
    "    def forward(self, x):\n",
    "        x = self.fc1(x)\n",
    "        x = self.ac1(x)\n",
    "        x = self.fc2(x)\n",
    "        x = self.ac2(x)\n",
    "        x = self.fc3(x)\n",
    "\n",
    "        return x"
   ]
  },
  {
   "cell_type": "code",
   "execution_count": 96,
   "metadata": {},
   "outputs": [],
   "source": [
    "x_train = torch.tensor(regressors[regressors.columns.to_list()].values.astype(np.float32))[:300]\n",
    "y_train = torch.tensor(price.values.astype(np.float64))[:300]\n",
    "\n",
    "x_test = torch.tensor(regressors[regressors.columns.to_list()].values.astype(np.float32))[300:380]\n",
    "y_test = torch.tensor(price.values.astype(np.float64))[300:380]\n",
    "\n",
    "x_valid = torch.tensor(regressors[regressors.columns.to_list()].values.astype(np.float32))[380:]\n",
    "y_valid = torch.tensor(price.values.astype(np.float64))[380:]"
   ]
  },
  {
   "cell_type": "code",
   "execution_count": 120,
   "metadata": {},
   "outputs": [],
   "source": [
    "net = RegressionNet(300)"
   ]
  },
  {
   "cell_type": "code",
   "execution_count": 97,
   "metadata": {},
   "outputs": [
    {
     "data": {
      "text/plain": [
       "tensor([[ 2850.],\n",
       "        [ 3300.],\n",
       "        [ 1680.],\n",
       "        [ 2930.],\n",
       "        [ 2600.],\n",
       "        [ 1570.],\n",
       "        [ 4150.],\n",
       "        [ 6000.],\n",
       "        [ 5600.],\n",
       "        [ 2600.],\n",
       "        [ 6300.],\n",
       "        [ 4370.],\n",
       "        [ 2650.],\n",
       "        [ 2550.],\n",
       "        [ 2280.],\n",
       "        [ 2250.],\n",
       "        [ 3900.],\n",
       "        [ 2560.],\n",
       "        [ 2700.],\n",
       "        [ 1780.],\n",
       "        [ 2170.],\n",
       "        [ 2250.],\n",
       "        [ 3779.],\n",
       "        [ 2790.],\n",
       "        [ 3600.],\n",
       "        [ 5990.],\n",
       "        [ 3500.],\n",
       "        [ 1900.],\n",
       "        [ 2250.],\n",
       "        [11450.],\n",
       "        [ 5269.],\n",
       "        [ 3300.],\n",
       "        [ 3700.],\n",
       "        [ 8000.],\n",
       "        [ 4399.],\n",
       "        [ 2541.],\n",
       "        [ 3400.],\n",
       "        [ 3650.],\n",
       "        [ 2900.],\n",
       "        [ 3983.],\n",
       "        [ 4300.],\n",
       "        [ 2690.],\n",
       "        [ 2995.],\n",
       "        [ 2250.],\n",
       "        [ 2050.],\n",
       "        [ 4100.],\n",
       "        [ 4250.],\n",
       "        [ 2750.],\n",
       "        [ 6700.],\n",
       "        [ 2150.],\n",
       "        [ 5400.],\n",
       "        [ 3950.],\n",
       "        [ 4650.],\n",
       "        [ 2200.],\n",
       "        [ 5700.],\n",
       "        [ 2100.],\n",
       "        [ 2850.],\n",
       "        [ 1600.],\n",
       "        [ 3300.],\n",
       "        [ 2250.],\n",
       "        [ 1880.],\n",
       "        [ 6300.]], dtype=torch.float64)"
      ]
     },
     "execution_count": 97,
     "metadata": {},
     "output_type": "execute_result"
    }
   ],
   "source": [
    "x_train.unsqueeze_(1)\n",
    "y_train.unsqueeze_(1)\n",
    "\n",
    "x_test.unsqueeze_(1)\n",
    "y_test.unsqueeze_(1)\n",
    "\n",
    "x_valid.unsqueeze_(1)\n",
    "y_valid.unsqueeze_(1)"
   ]
  },
  {
   "cell_type": "code",
   "execution_count": 121,
   "metadata": {},
   "outputs": [
    {
     "name": "stdout",
     "output_type": "stream",
     "text": [
      "2987.7500403619583\n"
     ]
    }
   ],
   "source": [
    "optimizer = torch.optim.Adam(net.parameters(), lr=0.001)\n",
    "\n",
    "def loss(pred, target):\n",
    "    loss = (pred - target)**2\n",
    "    mean_loss = loss.mean()                             \n",
    "    return mean_loss\n",
    "\n",
    "for epoch_index in range(1000):\n",
    "    optimizer.zero_grad()\n",
    "\n",
    "    y_pred = net.forward(x_train)\n",
    "    loss_value = loss(y_pred, y_train)\n",
    "    loss_value.backward()\n",
    "\n",
    "    optimizer.step()\n",
    "\n",
    "# Проверка осуществляется вызовом кода:\n",
    "def metric(pred, target):\n",
    "    return (pred - target).abs().mean()\n",
    "\n",
    "print(metric(net.forward(x_valid), y_valid).item())"
   ]
  },
  {
   "cell_type": "code",
   "execution_count": 122,
   "metadata": {},
   "outputs": [
    {
     "ename": "ValueError",
     "evalue": "If using all scalar values, you must pass an index",
     "output_type": "error",
     "traceback": [
      "\u001b[1;31m---------------------------------------------------------------------------\u001b[0m",
      "\u001b[1;31mValueError\u001b[0m                                Traceback (most recent call last)",
      "Cell \u001b[1;32mIn[122], line 3\u001b[0m\n\u001b[0;32m      1\u001b[0m y_final_pred \u001b[38;5;241m=\u001b[39m net\u001b[38;5;241m.\u001b[39mforward(x_valid)\n\u001b[1;32m----> 3\u001b[0m compare_df \u001b[38;5;241m=\u001b[39m \u001b[43mpd\u001b[49m\u001b[38;5;241;43m.\u001b[39;49m\u001b[43mDataFrame\u001b[49m\u001b[43m(\u001b[49m\u001b[43m{\u001b[49m\u001b[38;5;124;43m'\u001b[39;49m\u001b[38;5;124;43mReal\u001b[39;49m\u001b[38;5;124;43m'\u001b[39;49m\u001b[43m:\u001b[49m\u001b[43m \u001b[49m\u001b[43my_valid\u001b[49m\u001b[43m,\u001b[49m\u001b[43m \u001b[49m\u001b[38;5;124;43m'\u001b[39;49m\u001b[38;5;124;43mpredicted\u001b[39;49m\u001b[38;5;124;43m'\u001b[39;49m\u001b[43m:\u001b[49m\u001b[43m \u001b[49m\u001b[43my_final_pred\u001b[49m\u001b[43m}\u001b[49m\u001b[43m)\u001b[49m\n",
      "File \u001b[1;32mc:\\Users\\eliza\\AppData\\Local\\Programs\\Python\\Python311\\Lib\\site-packages\\pandas\\core\\frame.py:736\u001b[0m, in \u001b[0;36mDataFrame.__init__\u001b[1;34m(self, data, index, columns, dtype, copy)\u001b[0m\n\u001b[0;32m    730\u001b[0m     mgr \u001b[38;5;241m=\u001b[39m \u001b[38;5;28mself\u001b[39m\u001b[38;5;241m.\u001b[39m_init_mgr(\n\u001b[0;32m    731\u001b[0m         data, axes\u001b[38;5;241m=\u001b[39m{\u001b[38;5;124m\"\u001b[39m\u001b[38;5;124mindex\u001b[39m\u001b[38;5;124m\"\u001b[39m: index, \u001b[38;5;124m\"\u001b[39m\u001b[38;5;124mcolumns\u001b[39m\u001b[38;5;124m\"\u001b[39m: columns}, dtype\u001b[38;5;241m=\u001b[39mdtype, copy\u001b[38;5;241m=\u001b[39mcopy\n\u001b[0;32m    732\u001b[0m     )\n\u001b[0;32m    734\u001b[0m \u001b[38;5;28;01melif\u001b[39;00m \u001b[38;5;28misinstance\u001b[39m(data, \u001b[38;5;28mdict\u001b[39m):\n\u001b[0;32m    735\u001b[0m     \u001b[38;5;66;03m# GH#38939 de facto copy defaults to False only in non-dict cases\u001b[39;00m\n\u001b[1;32m--> 736\u001b[0m     mgr \u001b[38;5;241m=\u001b[39m \u001b[43mdict_to_mgr\u001b[49m\u001b[43m(\u001b[49m\u001b[43mdata\u001b[49m\u001b[43m,\u001b[49m\u001b[43m \u001b[49m\u001b[43mindex\u001b[49m\u001b[43m,\u001b[49m\u001b[43m \u001b[49m\u001b[43mcolumns\u001b[49m\u001b[43m,\u001b[49m\u001b[43m \u001b[49m\u001b[43mdtype\u001b[49m\u001b[38;5;241;43m=\u001b[39;49m\u001b[43mdtype\u001b[49m\u001b[43m,\u001b[49m\u001b[43m \u001b[49m\u001b[43mcopy\u001b[49m\u001b[38;5;241;43m=\u001b[39;49m\u001b[43mcopy\u001b[49m\u001b[43m,\u001b[49m\u001b[43m \u001b[49m\u001b[43mtyp\u001b[49m\u001b[38;5;241;43m=\u001b[39;49m\u001b[43mmanager\u001b[49m\u001b[43m)\u001b[49m\n\u001b[0;32m    737\u001b[0m \u001b[38;5;28;01melif\u001b[39;00m \u001b[38;5;28misinstance\u001b[39m(data, ma\u001b[38;5;241m.\u001b[39mMaskedArray):\n\u001b[0;32m    738\u001b[0m     \u001b[38;5;28;01mfrom\u001b[39;00m \u001b[38;5;21;01mnumpy\u001b[39;00m\u001b[38;5;21;01m.\u001b[39;00m\u001b[38;5;21;01mma\u001b[39;00m \u001b[38;5;28;01mimport\u001b[39;00m mrecords\n",
      "File \u001b[1;32mc:\\Users\\eliza\\AppData\\Local\\Programs\\Python\\Python311\\Lib\\site-packages\\pandas\\core\\internals\\construction.py:503\u001b[0m, in \u001b[0;36mdict_to_mgr\u001b[1;34m(data, index, columns, dtype, typ, copy)\u001b[0m\n\u001b[0;32m    499\u001b[0m     \u001b[38;5;28;01melse\u001b[39;00m:\n\u001b[0;32m    500\u001b[0m         \u001b[38;5;66;03m# dtype check to exclude e.g. range objects, scalars\u001b[39;00m\n\u001b[0;32m    501\u001b[0m         arrays \u001b[38;5;241m=\u001b[39m [x\u001b[38;5;241m.\u001b[39mcopy() \u001b[38;5;28;01mif\u001b[39;00m \u001b[38;5;28mhasattr\u001b[39m(x, \u001b[38;5;124m\"\u001b[39m\u001b[38;5;124mdtype\u001b[39m\u001b[38;5;124m\"\u001b[39m) \u001b[38;5;28;01melse\u001b[39;00m x \u001b[38;5;28;01mfor\u001b[39;00m x \u001b[38;5;129;01min\u001b[39;00m arrays]\n\u001b[1;32m--> 503\u001b[0m \u001b[38;5;28;01mreturn\u001b[39;00m \u001b[43marrays_to_mgr\u001b[49m\u001b[43m(\u001b[49m\u001b[43marrays\u001b[49m\u001b[43m,\u001b[49m\u001b[43m \u001b[49m\u001b[43mcolumns\u001b[49m\u001b[43m,\u001b[49m\u001b[43m \u001b[49m\u001b[43mindex\u001b[49m\u001b[43m,\u001b[49m\u001b[43m \u001b[49m\u001b[43mdtype\u001b[49m\u001b[38;5;241;43m=\u001b[39;49m\u001b[43mdtype\u001b[49m\u001b[43m,\u001b[49m\u001b[43m \u001b[49m\u001b[43mtyp\u001b[49m\u001b[38;5;241;43m=\u001b[39;49m\u001b[43mtyp\u001b[49m\u001b[43m,\u001b[49m\u001b[43m \u001b[49m\u001b[43mconsolidate\u001b[49m\u001b[38;5;241;43m=\u001b[39;49m\u001b[43mcopy\u001b[49m\u001b[43m)\u001b[49m\n",
      "File \u001b[1;32mc:\\Users\\eliza\\AppData\\Local\\Programs\\Python\\Python311\\Lib\\site-packages\\pandas\\core\\internals\\construction.py:114\u001b[0m, in \u001b[0;36marrays_to_mgr\u001b[1;34m(arrays, columns, index, dtype, verify_integrity, typ, consolidate)\u001b[0m\n\u001b[0;32m    111\u001b[0m \u001b[38;5;28;01mif\u001b[39;00m verify_integrity:\n\u001b[0;32m    112\u001b[0m     \u001b[38;5;66;03m# figure out the index, if necessary\u001b[39;00m\n\u001b[0;32m    113\u001b[0m     \u001b[38;5;28;01mif\u001b[39;00m index \u001b[38;5;129;01mis\u001b[39;00m \u001b[38;5;28;01mNone\u001b[39;00m:\n\u001b[1;32m--> 114\u001b[0m         index \u001b[38;5;241m=\u001b[39m \u001b[43m_extract_index\u001b[49m\u001b[43m(\u001b[49m\u001b[43marrays\u001b[49m\u001b[43m)\u001b[49m\n\u001b[0;32m    115\u001b[0m     \u001b[38;5;28;01melse\u001b[39;00m:\n\u001b[0;32m    116\u001b[0m         index \u001b[38;5;241m=\u001b[39m ensure_index(index)\n",
      "File \u001b[1;32mc:\\Users\\eliza\\AppData\\Local\\Programs\\Python\\Python311\\Lib\\site-packages\\pandas\\core\\internals\\construction.py:667\u001b[0m, in \u001b[0;36m_extract_index\u001b[1;34m(data)\u001b[0m\n\u001b[0;32m    664\u001b[0m         \u001b[38;5;28;01mraise\u001b[39;00m \u001b[38;5;167;01mValueError\u001b[39;00m(\u001b[38;5;124m\"\u001b[39m\u001b[38;5;124mPer-column arrays must each be 1-dimensional\u001b[39m\u001b[38;5;124m\"\u001b[39m)\n\u001b[0;32m    666\u001b[0m \u001b[38;5;28;01mif\u001b[39;00m \u001b[38;5;129;01mnot\u001b[39;00m indexes \u001b[38;5;129;01mand\u001b[39;00m \u001b[38;5;129;01mnot\u001b[39;00m raw_lengths:\n\u001b[1;32m--> 667\u001b[0m     \u001b[38;5;28;01mraise\u001b[39;00m \u001b[38;5;167;01mValueError\u001b[39;00m(\u001b[38;5;124m\"\u001b[39m\u001b[38;5;124mIf using all scalar values, you must pass an index\u001b[39m\u001b[38;5;124m\"\u001b[39m)\n\u001b[0;32m    669\u001b[0m \u001b[38;5;28;01mif\u001b[39;00m have_series:\n\u001b[0;32m    670\u001b[0m     index \u001b[38;5;241m=\u001b[39m union_indexes(indexes)\n",
      "\u001b[1;31mValueError\u001b[0m: If using all scalar values, you must pass an index"
     ]
    }
   ],
   "source": [
    "y_final_pred = net.forward(x_valid)\n",
    "\n",
    "compare_df = pd.DataFrame({'Real': y_valid, 'predicted': y_final_pred})"
   ]
  }
 ],
 "metadata": {
  "kernelspec": {
   "display_name": "Python 3",
   "language": "python",
   "name": "python3"
  },
  "language_info": {
   "codemirror_mode": {
    "name": "ipython",
    "version": 3
   },
   "file_extension": ".py",
   "mimetype": "text/x-python",
   "name": "python",
   "nbconvert_exporter": "python",
   "pygments_lexer": "ipython3",
   "version": "3.11.5"
  }
 },
 "nbformat": 4,
 "nbformat_minor": 2
}
