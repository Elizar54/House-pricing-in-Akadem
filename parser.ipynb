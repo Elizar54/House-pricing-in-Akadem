{
 "cells": [
  {
   "cell_type": "code",
   "execution_count": 1,
   "metadata": {},
   "outputs": [],
   "source": [
    "from selenium import webdriver\n",
    "from selenium.webdriver.common.by import By\n",
    "from selenium.webdriver.common.keys import Keys\n",
    "import time\n",
    "import psycopg2"
   ]
  },
  {
   "cell_type": "code",
   "execution_count": 3,
   "metadata": {},
   "outputs": [],
   "source": [
    "URL = 'https://novosibirsk.cian.ru/cat.php?deal_type=sale&engine_version=2&offer_type=flat&region=4897&room1=1&room2=1&room3=1&room4=1&room5=1&room6=1&room7=1&room9=1'\n",
    "link_list = []\n",
    "p = 0\n",
    "\n",
    "options = webdriver.ChromeOptions()\n",
    "options.add_argument('user-agent=Mozilla/5.0 (X11; Linux x86_64) AppleWebKit/537.36 (KHTML, like Gecko) Chrome/51.0.2704.103 Safari/537.36')\n",
    "options.add_argument('--disable-blink-features=AutomationControlled')\n",
    "\n",
    "driver = webdriver.Chrome(options=options)\n",
    "driver.get(URL)\n",
    "time.sleep(0.05)\n",
    "\n",
    "while len(link_list) < 50:\n",
    "    time.sleep(0.05)\n",
    "    html = driver.find_element(By.TAG_NAME, \"html\")\n",
    "    time.sleep(0.05)\n",
    "\n",
    "    for k in range(400):\n",
    "        html.send_keys(Keys.DOWN)\n",
    "\n",
    "    offers = driver.find_elements(By.CLASS_NAME, '_93444fe79c--link--VtWj6')\n",
    "\n",
    "    for elem in offers:\n",
    "        link_list.append(elem.get_attribute('href'))\n",
    "\n",
    "    p += 1\n",
    "    next_page = f'https://novosibirsk.cian.ru/cat.php?deal_type=sale&engine_version=2&offer_type=flat&p={p+1}&region=4897&room1=1&room2=1&room3=1&room4=1&room5=1&room6=1&room7=1&room9=1'\n",
    "    driver.get(next_page)"
   ]
  },
  {
   "cell_type": "code",
   "execution_count": 4,
   "metadata": {},
   "outputs": [],
   "source": [
    "flat_list = []\n",
    "driver = webdriver.Chrome(options=options)\n",
    "id = 0\n",
    "\n",
    "for link in link_list:\n",
    "    driver.get(link)\n",
    "    time.sleep(1)\n",
    "    flat = {}\n",
    "    address_str = ''\n",
    "\n",
    "    flat['id'] = id\n",
    "\n",
    "    descript = driver.find_element(By.XPATH, '//*[@id=\"frontend-offer-card\"]/div/div[2]/div[2]/div[3]')\n",
    "    elements = descript.find_elements(By.CLASS_NAME, 'a10a3f92e9--item--Jp5Qv')\n",
    "    \n",
    "    price = driver.find_element(By.CLASS_NAME, 'a10a3f92e9--amount--ON6i1')\n",
    "\n",
    "    while price.text == '':\n",
    "        price = driver.find_element(By.CLASS_NAME, 'a10a3f92e9--amount--ON6i1')\n",
    "\n",
    "    address = driver.find_elements(By.CLASS_NAME, 'a10a3f92e9--address--SMU25')\n",
    "\n",
    "    try:\n",
    "        metro = driver.find_element(By.CLASS_NAME, 'a10a3f92e9--undergrounds--sGE99')\n",
    "    except:\n",
    "        pass\n",
    "\n",
    "    for elem in address:\n",
    "        address_str += elem.text\n",
    "\n",
    "    for item in elements:\n",
    "        item = item.text.split('\\n')\n",
    "        flat[item[0]] = item[1]\n",
    "    \n",
    "    flat['price'] = price.text\n",
    "    flat['metro'] = metro.text\n",
    "    flat['address'] = address_str\n",
    "    flat_list.append(flat)\n",
    "    id += 1"
   ]
  },
  {
   "cell_type": "code",
   "execution_count": 5,
   "metadata": {},
   "outputs": [],
   "source": [
    "# data preparation\n",
    "\n",
    "columns = set(('id', 'Общая площадь', 'Этаж', 'Год сдачи', 'Дом', 'Отделка', 'price', 'metro', 'address', 'Жилая площадь', 'Площадь кухни'))\n",
    "\n",
    "for flat in flat_list:\n",
    "    for key in columns - set(flat.keys()):\n",
    "        flat[key] = 'None' \n",
    "\n",
    "    if flat['metro'] == '':\n",
    "        flat['metro'] = 'None'\n",
    "    if 'Год постройки' in set(flat.keys()): del flat['Год постройки']"
   ]
  },
  {
   "cell_type": "code",
   "execution_count": 6,
   "metadata": {},
   "outputs": [],
   "source": [
    "flat_lst_copy = flat_list.copy()"
   ]
  },
  {
   "cell_type": "code",
   "execution_count": 9,
   "metadata": {},
   "outputs": [],
   "source": [
    "flat_list = flat_lst_copy.copy()"
   ]
  },
  {
   "cell_type": "code",
   "execution_count": 7,
   "metadata": {},
   "outputs": [],
   "source": [
    "def price_corr(price):\n",
    "    price_str = ''\n",
    "    elements = price.split()\n",
    "    for x in elements[:len(elements)-1]:\n",
    "        price_str += x \n",
    "    return int(price_str)\n",
    "\n",
    "def square_corr(total_sq):\n",
    "    if total_sq != 'None':\n",
    "        total_sq = total_sq.replace(',', '.')\n",
    "        total = total_sq.split()\n",
    "        return float(total[0])\n",
    "    else:\n",
    "        return total_sq\n",
    "\n",
    "def address_corr(address):\n",
    "    address_list = address.split()\n",
    "\n",
    "    return address_list[-1]"
   ]
  },
  {
   "cell_type": "code",
   "execution_count": 10,
   "metadata": {},
   "outputs": [
    {
     "ename": "AttributeError",
     "evalue": "'int' object has no attribute 'split'",
     "output_type": "error",
     "traceback": [
      "\u001b[1;31m---------------------------------------------------------------------------\u001b[0m",
      "\u001b[1;31mAttributeError\u001b[0m                            Traceback (most recent call last)",
      "Cell \u001b[1;32mIn[10], line 13\u001b[0m\n\u001b[0;32m     10\u001b[0m \u001b[38;5;28;01mif\u001b[39;00m flat[\u001b[38;5;124m'\u001b[39m\u001b[38;5;124mОбщая площадь\u001b[39m\u001b[38;5;124m'\u001b[39m] \u001b[38;5;241m!=\u001b[39m \u001b[38;5;124m'\u001b[39m\u001b[38;5;124mNone\u001b[39m\u001b[38;5;124m'\u001b[39m:\n\u001b[0;32m     11\u001b[0m     flat[\u001b[38;5;124m'\u001b[39m\u001b[38;5;124mОбщая площадь\u001b[39m\u001b[38;5;124m'\u001b[39m] \u001b[38;5;241m=\u001b[39m square_corr(flat[\u001b[38;5;124m'\u001b[39m\u001b[38;5;124mОбщая площадь\u001b[39m\u001b[38;5;124m'\u001b[39m])\n\u001b[1;32m---> 13\u001b[0m flat[\u001b[38;5;124m'\u001b[39m\u001b[38;5;124mprice\u001b[39m\u001b[38;5;124m'\u001b[39m] \u001b[38;5;241m=\u001b[39m \u001b[43mprice_corr\u001b[49m\u001b[43m(\u001b[49m\u001b[43mflat\u001b[49m\u001b[43m[\u001b[49m\u001b[38;5;124;43m'\u001b[39;49m\u001b[38;5;124;43mprice\u001b[39;49m\u001b[38;5;124;43m'\u001b[39;49m\u001b[43m]\u001b[49m\u001b[43m)\u001b[49m\n",
      "Cell \u001b[1;32mIn[7], line 3\u001b[0m, in \u001b[0;36mprice_corr\u001b[1;34m(price)\u001b[0m\n\u001b[0;32m      1\u001b[0m \u001b[38;5;28;01mdef\u001b[39;00m \u001b[38;5;21mprice_corr\u001b[39m(price):\n\u001b[0;32m      2\u001b[0m     price_str \u001b[38;5;241m=\u001b[39m \u001b[38;5;124m'\u001b[39m\u001b[38;5;124m'\u001b[39m\n\u001b[1;32m----> 3\u001b[0m     elements \u001b[38;5;241m=\u001b[39m \u001b[43mprice\u001b[49m\u001b[38;5;241;43m.\u001b[39;49m\u001b[43msplit\u001b[49m()\n\u001b[0;32m      4\u001b[0m     \u001b[38;5;28;01mfor\u001b[39;00m x \u001b[38;5;129;01min\u001b[39;00m elements[:\u001b[38;5;28mlen\u001b[39m(elements)\u001b[38;5;241m-\u001b[39m\u001b[38;5;241m1\u001b[39m]:\n\u001b[0;32m      5\u001b[0m         price_str \u001b[38;5;241m+\u001b[39m\u001b[38;5;241m=\u001b[39m x \n",
      "\u001b[1;31mAttributeError\u001b[0m: 'int' object has no attribute 'split'"
     ]
    }
   ],
   "source": [
    "for flat in flat_list:\n",
    "    flat['address'] = address_corr(flat['address'])\n",
    "\n",
    "    if flat['Жилая площадь'] != 'None':\n",
    "        flat['Жилая площадь'] = square_corr(flat['Жилая площадь'])\n",
    "    \n",
    "    if flat['Площадь кухни'] != 'None':\n",
    "        flat['Площадь кухни'] = square_corr(flat['Площадь кухни'])\n",
    "    \n",
    "    if flat['Общая площадь'] != 'None':\n",
    "        flat['Общая площадь'] = square_corr(flat['Общая площадь'])\n",
    "\n",
    "    flat['price'] = price_corr(flat['price'])"
   ]
  },
  {
   "cell_type": "code",
   "execution_count": 23,
   "metadata": {},
   "outputs": [],
   "source": [
    "\n",
    "conn = psycopg2.connect(host='localhost', database='flats', user='postgres', password='2109')\n",
    "cur = conn.cursor()\n"
   ]
  },
  {
   "cell_type": "code",
   "execution_count": 11,
   "metadata": {},
   "outputs": [
    {
     "name": "stdout",
     "output_type": "stream",
     "text": [
      "Collecting airflow\n",
      "  Downloading airflow-0.6.tar.gz (1.2 kB)\n",
      "  Installing build dependencies: started\n",
      "  Installing build dependencies: finished with status 'done'\n",
      "  Getting requirements to build wheel: started\n",
      "  Getting requirements to build wheel: finished with status 'error'\n",
      "Note: you may need to restart the kernel to use updated packages.\n"
     ]
    },
    {
     "name": "stderr",
     "output_type": "stream",
     "text": [
      "  error: subprocess-exited-with-error\n",
      "  \n",
      "  × Getting requirements to build wheel did not run successfully.\n",
      "  │ exit code: 1\n",
      "  ╰─> [26 lines of output]\n",
      "      running egg_info\n",
      "      writing airflow.egg-info\\PKG-INFO\n",
      "      writing dependency_links to airflow.egg-info\\dependency_links.txt\n",
      "      writing top-level names to airflow.egg-info\\top_level.txt\n",
      "      reading manifest file 'airflow.egg-info\\SOURCES.txt'\n",
      "      writing manifest file 'airflow.egg-info\\SOURCES.txt'\n",
      "      Traceback (most recent call last):\n",
      "        File \"c:\\Users\\eliza\\AppData\\Local\\Programs\\Python\\Python311\\Lib\\site-packages\\pip\\_vendor\\pyproject_hooks\\_in_process\\_in_process.py\", line 353, in <module>\n",
      "          main()\n",
      "        File \"c:\\Users\\eliza\\AppData\\Local\\Programs\\Python\\Python311\\Lib\\site-packages\\pip\\_vendor\\pyproject_hooks\\_in_process\\_in_process.py\", line 335, in main\n",
      "          json_out['return_val'] = hook(**hook_input['kwargs'])\n",
      "                                   ^^^^^^^^^^^^^^^^^^^^^^^^^^^^\n",
      "        File \"c:\\Users\\eliza\\AppData\\Local\\Programs\\Python\\Python311\\Lib\\site-packages\\pip\\_vendor\\pyproject_hooks\\_in_process\\_in_process.py\", line 118, in get_requires_for_build_wheel\n",
      "          return hook(config_settings)\n",
      "                 ^^^^^^^^^^^^^^^^^^^^^\n",
      "        File \"C:\\Users\\eliza\\AppData\\Local\\Temp\\pip-build-env-mdhurfce\\overlay\\Lib\\site-packages\\setuptools\\build_meta.py\", line 325, in get_requires_for_build_wheel\n",
      "          return self._get_build_requires(config_settings, requirements=['wheel'])\n",
      "                 ^^^^^^^^^^^^^^^^^^^^^^^^^^^^^^^^^^^^^^^^^^^^^^^^^^^^^^^^^^^^^^^^^\n",
      "        File \"C:\\Users\\eliza\\AppData\\Local\\Temp\\pip-build-env-mdhurfce\\overlay\\Lib\\site-packages\\setuptools\\build_meta.py\", line 295, in _get_build_requires\n",
      "          self.run_setup()\n",
      "        File \"C:\\Users\\eliza\\AppData\\Local\\Temp\\pip-build-env-mdhurfce\\overlay\\Lib\\site-packages\\setuptools\\build_meta.py\", line 480, in run_setup\n",
      "          super().run_setup(setup_script=setup_script)\n",
      "        File \"C:\\Users\\eliza\\AppData\\Local\\Temp\\pip-build-env-mdhurfce\\overlay\\Lib\\site-packages\\setuptools\\build_meta.py\", line 311, in run_setup\n",
      "          exec(code, locals())\n",
      "        File \"<string>\", line 32, in <module>\n",
      "      RuntimeError: Please install package apache-airflow instead of airflow\n",
      "      [end of output]\n",
      "  \n",
      "  note: This error originates from a subprocess, and is likely not a problem with pip.\n",
      "error: subprocess-exited-with-error\n",
      "\n",
      "× Getting requirements to build wheel did not run successfully.\n",
      "│ exit code: 1\n",
      "╰─> See above for output.\n",
      "\n",
      "note: This error originates from a subprocess, and is likely not a problem with pip.\n",
      "\n",
      "[notice] A new release of pip is available: 23.2.1 -> 24.0\n",
      "[notice] To update, run: python.exe -m pip install --upgrade pip\n"
     ]
    }
   ],
   "source": [
    "pip install airflow"
   ]
  },
  {
   "cell_type": "code",
   "execution_count": 55,
   "metadata": {},
   "outputs": [],
   "source": [
    "\n",
    "with conn.cursor() as curs:\n",
    "    for item in flat_list:\n",
    "        tuple_insert = tuple((item['id'], item['Общая площадь'], item['Этаж'], item['Год сдачи'], item['Дом'], item['Отделка'],\\\n",
    "                              item['price'], item['metro'], item['address'], item['Площадь кухни'], item['Жилая площадь']))\n",
    "        curs.execute(\"INSERT INTO flats (id, total_square, floor, year, rented, decor, price, metro, address, living_sq, kitchen_sq) VALUES (%s, %s, %s, \\\n",
    "                    %s, %s, %s, %s, %s, %s, %s, %s)\", tuple_insert)\n",
    "        conn.commit()\n"
   ]
  }
 ],
 "metadata": {
  "kernelspec": {
   "display_name": "Python 3",
   "language": "python",
   "name": "python3"
  },
  "language_info": {
   "codemirror_mode": {
    "name": "ipython",
    "version": 3
   },
   "file_extension": ".py",
   "mimetype": "text/x-python",
   "name": "python",
   "nbconvert_exporter": "python",
   "pygments_lexer": "ipython3",
   "version": "3.11.5"
  }
 },
 "nbformat": 4,
 "nbformat_minor": 2
}
