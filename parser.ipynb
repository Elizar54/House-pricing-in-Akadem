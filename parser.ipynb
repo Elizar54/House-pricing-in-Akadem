{
 "cells": [
  {
   "cell_type": "code",
   "execution_count": 26,
   "metadata": {},
   "outputs": [],
   "source": [
    "from selenium import webdriver\n",
    "from selenium.webdriver.common.by import By\n",
    "from selenium.webdriver.common.keys import Keys\n",
    "import time\n",
    "import psycopg2\n",
    "from natasha import AddressExtractor\n",
    "import pymorphy2\n",
    "from natasha import AddressExtractor"
   ]
  },
  {
   "cell_type": "code",
   "execution_count": null,
   "metadata": {},
   "outputs": [],
   "source": [
    "URL = 'https://novosibirsk.cian.ru/cat.php?deal_type=sale&engine_version=2&offer_type=flat&region=4897&room1=1&room2=1&room3=1&room4=1&room5=1&room6=1&room7=1&room9=1'\n",
    "link_list = []\n",
    "p = 0\n",
    "\n",
    "options = webdriver.ChromeOptions()\n",
    "options.add_argument('user-agent=Mozilla/5.0 (X11; Linux x86_64) AppleWebKit/537.36 (KHTML, like Gecko) Chrome/51.0.2704.103 Safari/537.36')\n",
    "options.add_argument('--disable-blink-features=AutomationControlled')\n",
    "options.add_argument('--headless')\n",
    "\n",
    "driver = webdriver.Chrome(service=ChromeService(ChromeDriverManager().install()), options=set_chrome_options())\n",
    "driver.get(URL)\n",
    "time.sleep(0.05)"
   ]
  },
  {
   "cell_type": "code",
   "execution_count": null,
   "metadata": {},
   "outputs": [],
   "source": [
    "while len(link_list) < 100:\n",
    "    print(0)\n",
    "    time.sleep(0.05)\n",
    "    time.sleep(0.05)\n",
    "\n",
    "    offers = driver.find_elements(By.CLASS_NAME, '_93444fe79c--link--VtWj6')\n",
    "\n",
    "    for elem in offers:\n",
    "        link_list.append(elem.get_attribute('href'))\n",
    "\n",
    "    p += 1\n",
    "    next_page = f'https://novosibirsk.cian.ru/cat.php?deal_type=sale&engine_version=2&offer_type=flat&p={p+1}&region=4897&room1=1&room2=1&room3=1&room4=1&room5=1&room6=1&room7=1&room9=1'\n",
    "    driver.get(next_page)"
   ]
  },
  {
   "cell_type": "code",
   "execution_count": 79,
   "metadata": {},
   "outputs": [],
   "source": [
    "flat_list = []\n",
    "driver = webdriver.Chrome(options=options)\n",
    "id = 0\n",
    "\n",
    "for link in link_list:\n",
    "    driver.get(link)\n",
    "    time.sleep(0.5)\n",
    "    flat = {}\n",
    "    address_str = ''\n",
    "\n",
    "    flat['id'] = id\n",
    "\n",
    "    descript = driver.find_element(By.XPATH, '//*[@id=\"frontend-offer-card\"]/div/div[2]/div[2]/div[3]')\n",
    "    elements = descript.find_elements(By.CLASS_NAME, 'a10a3f92e9--item--Jp5Qv')\n",
    "    \n",
    "    price = driver.find_element(By.CLASS_NAME, 'a10a3f92e9--amount--ON6i1')\n",
    "\n",
    "    while price.text == '':\n",
    "        price = driver.find_element(By.CLASS_NAME, 'a10a3f92e9--amount--ON6i1')\n",
    "\n",
    "    address = driver.find_elements(By.CLASS_NAME, 'a10a3f92e9--address--SMU25')\n",
    "\n",
    "    try:\n",
    "        metro = driver.find_element(By.CLASS_NAME, 'a10a3f92e9--undergrounds--sGE99')\n",
    "    except:\n",
    "        pass\n",
    "\n",
    "    for elem in address:\n",
    "        address_str += elem.text + ' '\n",
    "\n",
    "    for item in elements:\n",
    "        item = item.text.split('\\n')\n",
    "        flat[item[0]] = item[1]\n",
    "    \n",
    "    flat['price'] = price.text\n",
    "    flat['metro'] = metro.text\n",
    "    flat['address'] = address_str\n",
    "    flat_list.append(flat)\n",
    "    id += 1"
   ]
  },
  {
   "cell_type": "code",
   "execution_count": 80,
   "metadata": {},
   "outputs": [],
   "source": [
    "# data preparation\n",
    "\n",
    "columns = set(('id', 'Общая площадь', 'Этаж', 'Год сдачи', 'Дом', 'Отделка', 'price', 'metro', 'address', 'Жилая площадь', 'Площадь кухни'))\n",
    "\n",
    "for flat in flat_list:\n",
    "    for key in columns - set(flat.keys()):\n",
    "        flat[key] = 'None' \n",
    "\n",
    "    if flat['metro'] == '':\n",
    "        flat['metro'] = 'None'\n",
    "    if 'Год постройки' in set(flat.keys()): del flat['Год постройки']"
   ]
  },
  {
   "cell_type": "code",
   "execution_count": 18,
   "metadata": {},
   "outputs": [],
   "source": [
    "flat_lst_copy = flat_list.copy()"
   ]
  },
  {
   "cell_type": "code",
   "execution_count": 75,
   "metadata": {},
   "outputs": [],
   "source": [
    "flat_list = flat_lst_copy"
   ]
  },
  {
   "cell_type": "code",
   "execution_count": 77,
   "metadata": {},
   "outputs": [],
   "source": [
    "def price_corr(price):\n",
    "    price_str = ''\n",
    "    elements = price.split()\n",
    "    for x in elements[:len(elements)-1]:\n",
    "        price_str += x \n",
    "    return int(price_str)\n",
    "\n",
    "def square_corr(total_sq):\n",
    "    if total_sq != 'None':\n",
    "        total_sq = total_sq.replace(',', '.')\n",
    "        total = total_sq.split()\n",
    "        return float(total[0])\n",
    "    else:\n",
    "        return total_sq\n",
    "\n",
    "def addres_corr(address):\n",
    "    extractor = AddressExtractor()\n",
    "\n",
    "    matches = extractor(address)\n",
    "\n",
    "    for match in matches:\n",
    "        addres_lst = match.fact.parts[0].name.split()\n",
    "        if 'Красный' in set(addres_lst):\n",
    "            return 'Красный проспект'\n",
    "        elif 'н' in set(addres_lst) or 'Берег' in set(addres_lst):\n",
    "            return addres_lst[-1]\n",
    "        elif 'жилой' in addres_lst:\n",
    "            return 'жилой'\n",
    "        \n",
    "        return match.fact.parts[0].name\n",
    "\n"
   ]
  },
  {
   "cell_type": "code",
   "execution_count": 81,
   "metadata": {},
   "outputs": [],
   "source": [
    "for flat in flat_list:\n",
    "    flat['address'] = addres_corr(flat['address'])\n",
    "\n",
    "    if flat['Жилая площадь'] != 'None':\n",
    "        flat['Жилая площадь'] = square_corr(flat['Жилая площадь'])\n",
    "    \n",
    "    if flat['Площадь кухни'] != 'None':\n",
    "        flat['Площадь кухни'] = square_corr(flat['Площадь кухни'])\n",
    "    \n",
    "    if flat['Общая площадь'] != 'None':\n",
    "        flat['Общая площадь'] = square_corr(flat['Общая площадь'])\n",
    "\n",
    "    flat['price'] = price_corr(flat['price'])"
   ]
  },
  {
   "cell_type": "code",
   "execution_count": 82,
   "metadata": {},
   "outputs": [],
   "source": [
    "\n",
    "conn = psycopg2.connect(host='localhost', database='flats', user='postgres', password='2109')\n",
    "cur = conn.cursor()\n"
   ]
  },
  {
   "cell_type": "code",
   "execution_count": 83,
   "metadata": {},
   "outputs": [],
   "source": [
    "\n",
    "with conn.cursor() as curs:\n",
    "    for item in flat_list:\n",
    "        tuple_insert = tuple((item['id'], item['Общая площадь'], item['Этаж'], item['Год сдачи'], item['Дом'], item['Отделка'],\\\n",
    "                              item['price'], item['metro'], item['address'], item['Площадь кухни'], item['Жилая площадь']))\n",
    "        curs.execute(\"INSERT INTO flats (id, total_square, floor, year, rented, decor, price, metro, address, living_sq, kitchen_sq) VALUES (%s, %s, %s, \\\n",
    "                    %s, %s, %s, %s, %s, %s, %s, %s)\", tuple_insert)\n",
    "        conn.commit()\n"
   ]
  }
 ],
 "metadata": {
  "kernelspec": {
   "display_name": "Python 3",
   "language": "python",
   "name": "python3"
  },
  "language_info": {
   "codemirror_mode": {
    "name": "ipython",
    "version": 3
   },
   "file_extension": ".py",
   "mimetype": "text/x-python",
   "name": "python",
   "nbconvert_exporter": "python",
   "pygments_lexer": "ipython3",
   "version": "3.11.5"
  }
 },
 "nbformat": 4,
 "nbformat_minor": 2
}
