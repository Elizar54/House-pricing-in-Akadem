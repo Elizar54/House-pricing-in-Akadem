{
 "cells": [
  {
   "cell_type": "code",
   "execution_count": 31,
   "metadata": {},
   "outputs": [],
   "source": [
    "import pandas as pd\n",
    "import numpy as np\n",
    "import requests\n",
    "import re\n",
    "from time import sleep\n",
    "from selenium import webdriver\n",
    "from selenium.webdriver.chrome.service import Service\n",
    "from webdriver_manager.chrome import ChromeDriverManager\n",
    "from selenium.webdriver.common.by import By\n",
    "from selenium.webdriver.common.keys import Keys\n",
    "from bs4 import BeautifulSoup\n",
    "import json\n",
    "import time"
   ]
  },
  {
   "cell_type": "code",
   "execution_count": 34,
   "metadata": {},
   "outputs": [],
   "source": [
    "URL = 'https://novosibirsk.cian.ru/cat.php?deal_type=sale&engine_version=2&offer_type=flat&region=4897&room1=1&room2=1&room3=1&room4=1&room5=1&room6=1&room7=1&room9=1'\n",
    "link_list = []\n",
    "\n",
    "options = webdriver.ChromeOptions()\n",
    "options.add_argument('user-agent=Mozilla/5.0 (X11; Linux x86_64) AppleWebKit/537.36 (KHTML, like Gecko) Chrome/51.0.2704.103 Safari/537.36')\n",
    "options.add_argument('--disable-blink-features=AutomationControlled')\n",
    "\n",
    "driver = webdriver.Chrome(options=options)\n",
    "driver.get(URL)\n",
    "time.sleep(0.05)\n",
    "\n",
    "for i in range(1, 11):\n",
    "    time.sleep(0.05)\n",
    "    html = driver.find_element(By.TAG_NAME, \"html\")\n",
    "    time.sleep(0.05)\n",
    "\n",
    "    for k in range(400):\n",
    "        html.send_keys(Keys.DOWN)\n",
    "\n",
    "    offers = driver.find_elements(By.CLASS_NAME, '_93444fe79c--link--VtWj6')\n",
    "\n",
    "    for elem in offers:\n",
    "        link_list.append(elem.get_attribute('href'))\n",
    "    \n",
    "    next_page = f'https://novosibirsk.cian.ru/cat.php?deal_type=sale&engine_version=2&offer_type=flat&p={i+1}&region=4897&room1=1&room2=1&room3=1&room4=1&room5=1&room6=1&room7=1&room9=1'\n",
    "    driver.get(next_page)"
   ]
  },
  {
   "cell_type": "code",
   "execution_count": 47,
   "metadata": {},
   "outputs": [],
   "source": [
    "flat_list = []\n",
    "driver = webdriver.Chrome(options=options)\n",
    "\n",
    "for link in link_list[:10]:\n",
    "    driver.get(link)\n",
    "    flat = {}\n",
    "    address_str = ''\n",
    "\n",
    "    descript = driver.find_element(By.XPATH, '//*[@id=\"frontend-offer-card\"]/div/div[2]/div[2]/div[3]')\n",
    "    elements = descript.find_elements(By.CLASS_NAME, 'a10a3f92e9--item--Jp5Qv')\n",
    "    price = driver.find_element(By.CLASS_NAME, 'a10a3f92e9--amount--ON6i1')\n",
    "    address = driver.find_elements(By.CLASS_NAME, 'a10a3f92e9--address--SMU25')\n",
    "\n",
    "    try:\n",
    "        metro = driver.find_element(By.CLASS_NAME, 'a10a3f92e9--undergrounds--sGE99')\n",
    "    except:\n",
    "        pass\n",
    "\n",
    "    for elem in address:\n",
    "        address_str += elem.text\n",
    "\n",
    "    for item in elements:\n",
    "        item = item.text.split('\\n')\n",
    "        flat[item[0]] = item[1]\n",
    "\n",
    "    flat['price'] = price.text\n",
    "    flat['metro'] = metro.text\n",
    "    flat['address'] = address_str\n",
    "    flat_list.append(flat)"
   ]
  }
 ],
 "metadata": {
  "kernelspec": {
   "display_name": "Python 3",
   "language": "python",
   "name": "python3"
  },
  "language_info": {
   "codemirror_mode": {
    "name": "ipython",
    "version": 3
   },
   "file_extension": ".py",
   "mimetype": "text/x-python",
   "name": "python",
   "nbconvert_exporter": "python",
   "pygments_lexer": "ipython3",
   "version": "3.11.5"
  }
 },
 "nbformat": 4,
 "nbformat_minor": 2
}
