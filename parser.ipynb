{
 "cells": [
  {
   "cell_type": "code",
   "execution_count": 1,
   "metadata": {},
   "outputs": [],
   "source": [
    "import pandas as pd\n",
    "import numpy as np\n",
    "import requests\n",
    "import re"
   ]
  },
  {
   "cell_type": "code",
   "execution_count": 14,
   "metadata": {},
   "outputs": [],
   "source": [
    "links = []\n",
    "\n",
    "for i in range(12):\n",
    "    if i == 0:\n",
    "        response = requests.get('https://novosibirsk.cian.ru/cat.php?deal_type=sale&engine_version=2&location%5B0%5D=201245&offer_type=flat&room1=1&room2=1&room3=1&room4=1&room5=1&room6=1&room7=1&room9=1')\n",
    "    else:\n",
    "        link = f'https://novosibirsk.cian.ru/cat.php?deal_type=sale&engine_version=2&location%5B0%5D=201245&offer_type=flat&p={i}&room1=1&room2=1&room3=1&room4=1&room5=1&room6=1&room7=1&room9=1'\n",
    "        response = requests.get(link)\n",
    "    html_main = response.text \n",
    "    links += re.findall(r'https://novosibirsk.cian.ru/sale/flat/[0-9]{9}', html_main)"
   ]
  },
  {
   "cell_type": "code",
   "execution_count": 15,
   "metadata": {},
   "outputs": [],
   "source": [
    "links = set(links)"
   ]
  }
 ],
 "metadata": {
  "kernelspec": {
   "display_name": "Python 3",
   "language": "python",
   "name": "python3"
  },
  "language_info": {
   "codemirror_mode": {
    "name": "ipython",
    "version": 3
   },
   "file_extension": ".py",
   "mimetype": "text/x-python",
   "name": "python",
   "nbconvert_exporter": "python",
   "pygments_lexer": "ipython3",
   "version": "3.11.5"
  }
 },
 "nbformat": 4,
 "nbformat_minor": 2
}
